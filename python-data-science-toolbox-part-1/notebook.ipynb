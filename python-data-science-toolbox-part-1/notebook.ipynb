{
 "cells": [
  {
   "cell_type": "markdown",
   "metadata": {},
   "source": [
    "**Course Description**\n",
    "\n",
    "It's time to push forward and develop your Python chops even further. There are tons of fantastic functions in Python and its library ecosystem. However, as a data scientist, you'll constantly need to write your own functions to solve problems that are dictated by your data. You will learn the art of function writing in this first Python Data Science Toolbox course. You'll come out of this course being able to write your very own custom functions, complete with multiple parameters and multiple return values, along with default arguments and variable-length arguments. You'll gain insight into scoping in Python and be able to write lambda functions and handle errors in your function writing practice. And you'll wrap up each chapter by using your new skills to write functions that analyze Twitter DataFrames.\n",
    "\n",
    "# Writing your own functions\n",
    "\n",
    "In this chapter, you'll learn how to write simple functions, as well as functions that accept multiple arguments and return multiple values. You'll also have the opportunity to apply these new skills to questions commonly encountered by data scientists.\n",
    "\n",
    "## User-defined functions\n",
    "\n",
    "### Strings in Python\n",
    "\n",
    "In the video, you learned of another standard Python datatype,\n",
    "**strings**. Recall that these represent textual data. To assign the\n",
    "string `'DataCamp'` to a variable `company`, you execute:\n",
    "\n",
    "    company = 'DataCamp'\n",
    "\n",
    "You've also learned to use the operations `+` and `*` with strings.\n",
    "Unlike with numeric types such as ints and floats, the `+` operator\n",
    "*concatenates* strings together, while the `*` concatenates multiple\n",
    "copies of a string together. In this exercise, you will use the `+` and\n",
    "`*` operations on strings to answer the question below. Execute the\n",
    "following code in the shell:\n",
    "\n",
    "    object1 = \"data\" + \"analysis\" + \"visualization\"\n",
    "    object2 = 1 * 3\n",
    "    object3 = \"1\" * 3\n",
    "\n",
    "What are the values in `object1`, `object2`, and `object3`,\n",
    "respectively?\n",
    "\n",
    "- [ ] `object1` contains `\"data + analysis + visualization\"`, `object2`\n",
    "    contains `\"1*3\"`, `object3` contains `13`.\n",
    "- [ ] `object1` contains `\"data+analysis+visualization\"`, `object2`\n",
    "    contains `3`, `object3` contains `\"13\"`.\n",
    "- [x] `object1` contains `\"dataanalysisvisualization\"`, `object2` contains\n",
    "    `3`, `object3` contains `\"111\"`.\n",
    "\n",
    "### Recapping built-in functions\n",
    "\n",
    "In the video, Hugo briefly examined the return behavior of the built-in\n",
    "functions `print()` and `str()`. Here, you will use both functions and\n",
    "examine their return values. A variable `x` has been preloaded for this\n",
    "exercise. Run the code below in the console. Pay close attention to the\n",
    "results to answer the question that follows.\n",
    "\n",
    "-   Assign `str(x)` to a variable `y1`: `y1 = str(x)`\n",
    "-   Assign `print(x)` to a variable `y2`: `y2 = print(x)`\n",
    "-   Check the types of the variables `x`, `y1`, and `y2`.\n",
    "\n",
    "What are the types of `x`, `y1`, and `y2`?\n",
    "\n",
    "- [ ] They are all `str` types.\n",
    "- [ ] `x` is a `float`, `y1` is an `float`, and `y2` is a `str`.\n",
    "- [x] `x` is a `float`, `y1` is a `str`, and `y2` is a `NoneType`.\n",
    "- [ ] They are all `NoneType` types.\n",
    "\n",
    "### Write a simple function\n",
    "\n",
    "In the last video, Hugo described the basics of how to define a\n",
    "function. You will now write your own function!\n",
    "\n",
    "Define a function, `shout()`, which simply prints out a string with\n",
    "three exclamation marks `'!!!'` at the end. The code for the `square()`\n",
    "function that we wrote earlier is found below. You can use it as a\n",
    "pattern to define `shout()`.\n",
    "\n",
    "    def square():\n",
    "        new_value = 4 ** 2\n",
    "        return new_value\n",
    "\n",
    "Note that the function body is indented 4 spaces already for you.\n",
    "Function bodies need to be indented by a consistent number of spaces and\n",
    "the choice of 4 is common.\n",
    "\n",
    "*This course touches on a lot of concepts you may have forgotten, so if\n",
    "you ever need a quick refresher, download the [Python for Data Science\n",
    "Cheat\n",
    "Sheet](https://datacamp-community-prod.s3.amazonaws.com/0eff0330-e87d-4c34-88d5-73e80cb955f2)\n",
    "and keep it handy!*\n",
    "\n",
    "-   Complete the function header by adding the appropriate function\n",
    "    name, `shout`.\n",
    "-   In the function body, **concatenate** the string,\n",
    "    `'congratulations'` with another string, `'!!!'`. Assign the result\n",
    "    to `shout_word`.\n",
    "-   Print the value of `shout_word`.\n",
    "-   Call the `shout` function.\n"
   ]
  },
  {
   "cell_type": "code",
   "execution_count": 1,
   "metadata": {
    "vscode": {
     "languageId": "r"
    }
   },
   "outputs": [
    {
     "name": "stdout",
     "output_type": "stream",
     "text": [
      "congratulations!!!\n"
     ]
    }
   ],
   "source": [
    "# Define the function shout\n",
    "def shout():\n",
    "    \"\"\"Print a string with three exclamation marks\"\"\"\n",
    "    # Concatenate the strings: shout_word\n",
    "    shout_word = 'congratulations' + '!!!'\n",
    "\n",
    "    # Print shout_word\n",
    "    print(shout_word)\n",
    "\n",
    "# Call shout\n",
    "shout()\n"
   ]
  },
  {
   "cell_type": "markdown",
   "metadata": {},
   "source": [
    "### Single-parameter functions\n",
    "\n",
    "Congratulations! You have successfully defined *and* called your own\n",
    "function! That's pretty cool.\n",
    "\n",
    "In the previous exercise, you defined and called the function `shout()`,\n",
    "which printed out a string concatenated with `'!!!'`. You will now\n",
    "update `shout()` by adding a *parameter* so that it can accept and\n",
    "process any string *argument* passed to it. Also note that\n",
    "`shout(word)`, the part of the *header* that specifies the function name\n",
    "and parameter(s), is known as the *signature* of the function. You may\n",
    "encounter this term in the wild!\n",
    "\n",
    "-   Complete the function header by adding the parameter name, `word`.\n",
    "-   Assign the result of concatenating `word` with `'!!!'` to\n",
    "    `shout_word`.\n",
    "-   Print the value of `shout_word`.\n",
    "-   Call the `shout()` function, passing to it the string,\n",
    "    `'congratulations'`.\n"
   ]
  },
  {
   "cell_type": "code",
   "execution_count": 2,
   "metadata": {
    "vscode": {
     "languageId": "r"
    }
   },
   "outputs": [
    {
     "name": "stdout",
     "output_type": "stream",
     "text": [
      "congratulations!!!\n"
     ]
    }
   ],
   "source": [
    "# Define shout with the parameter, word\n",
    "def shout(word):\n",
    "    \"\"\"Print a string with three exclamation marks\"\"\"\n",
    "    # Concatenate the strings: shout_word\n",
    "    shout_word = word + '!!!'\n",
    "\n",
    "    # Print shout_word\n",
    "    print(shout_word)\n",
    "\n",
    "# Call shout with the string 'congratulations'\n",
    "shout('congratulations')\n"
   ]
  },
  {
   "cell_type": "markdown",
   "metadata": {},
   "source": [
    "### Functions that return single values\n",
    "\n",
    "You're getting very good at this! Try your hand at another modification\n",
    "to the `shout()` function so that it now *returns* a single value\n",
    "instead of printing within the function. Recall that the `return`\n",
    "keyword lets you return values from functions. Parts of the function\n",
    "`shout()`, which you wrote earlier, are shown. Returning values is\n",
    "generally more desirable than printing them out because, as you saw\n",
    "earlier, a `print()` call assigned to a variable has type `NoneType`.\n",
    "\n",
    "-   In the function body, concatenate the string in `word` with `'!!!'`\n",
    "    and assign to `shout_word`.\n",
    "-   Replace the `print()` statement with the appropriate `return`\n",
    "    statement.\n",
    "-   Call the `shout()` function, passing to it the string,\n",
    "    `'congratulations'`, and assigning the call to the variable, `yell`.\n",
    "-   To check if `yell` contains the value returned by `shout()`, print\n",
    "    the value of `yell`.\n"
   ]
  },
  {
   "cell_type": "code",
   "execution_count": 3,
   "metadata": {
    "vscode": {
     "languageId": "r"
    }
   },
   "outputs": [
    {
     "name": "stdout",
     "output_type": "stream",
     "text": [
      "congratulations!!!\n"
     ]
    }
   ],
   "source": [
    "# Define shout with the parameter, word\n",
    "def shout(word):\n",
    "    \"\"\"Return a string with three exclamation marks\"\"\"\n",
    "    # Concatenate the strings: shout_word\n",
    "    shout_word = word + '!!!'\n",
    "\n",
    "    # Replace print with return\n",
    "    return shout_word\n",
    "\n",
    "# Pass 'congratulations' to shout: yell\n",
    "yell = shout('congratulations')\n",
    "\n",
    "# Print yell\n",
    "print(yell)\n"
   ]
  },
  {
   "cell_type": "markdown",
   "metadata": {},
   "source": [
    "## Multiple parameters and return values\n",
    "\n",
    "### Functions with multiple parameters\n",
    "\n",
    "Hugo discussed the use of multiple parameters in defining functions in\n",
    "the last lecture. You are now going to use what you've learned to modify\n",
    "the `shout()` function further. Here, you will modify `shout()` to\n",
    "accept two arguments. Parts of the function `shout()`, which you wrote\n",
    "earlier, are shown.\n",
    "\n",
    "-   Modify the function header such that it accepts two parameters,\n",
    "    `word1` and `word2`, in that order.\n",
    "-   Concatenate each of `word1` and `word2` with `'!!!'` and assign to\n",
    "    `shout1` and `shout2`, respectively.\n",
    "-   Concatenate `shout1` and `shout2` together, in that order, and\n",
    "    assign to `new_shout`.\n",
    "-   Pass the strings `'congratulations'` and `'you'`, in that order, to\n",
    "    a call to `shout()`. Assign the return value to `yell`.\n"
   ]
  },
  {
   "cell_type": "code",
   "execution_count": 4,
   "metadata": {
    "vscode": {
     "languageId": "r"
    }
   },
   "outputs": [
    {
     "name": "stdout",
     "output_type": "stream",
     "text": [
      "congratulations!!!you!!!\n"
     ]
    }
   ],
   "source": [
    "# Define shout with parameters word1 and word2\n",
    "def shout(word1, word2):\n",
    "    \"\"\"Concatenate strings with three exclamation marks\"\"\"\n",
    "    # Concatenate word1 with '!!!': shout1\n",
    "    shout1 = word1 + '!!!'\n",
    "    \n",
    "    # Concatenate word2 with '!!!': shout2\n",
    "    shout2 = word2 + '!!!'\n",
    "    \n",
    "    # Concatenate shout1 with shout2: new_shout\n",
    "    new_shout = shout1 + shout2\n",
    "\n",
    "    # Return new_shout\n",
    "    return new_shout\n",
    "\n",
    "# Pass 'congratulations' and 'you' to shout: yell\n",
    "yell = shout('congratulations', 'you')\n",
    "\n",
    "# Print yell\n",
    "print(yell)\n"
   ]
  },
  {
   "cell_type": "markdown",
   "metadata": {},
   "source": [
    "### A brief introduction to tuples\n",
    "\n",
    "Alongside learning about functions, you've also learned about tuples!\n",
    "Here, you will practice what you've learned about tuples: how to\n",
    "construct, unpack, and access tuple elements. Recall how Hugo unpacked\n",
    "the tuple `even_nums` in the video:\n",
    "\n",
    "`a, b, c = even_nums`\n",
    "\n",
    "A three-element tuple named `nums` has been preloaded for this exercise.\n",
    "Before completing the script, perform the following:\n",
    "\n",
    "-   Print out the value of `nums` in the IPython shell. Note the\n",
    "    elements in the tuple.\n",
    "-   In the IPython shell, try to change the first element of `nums` to\n",
    "    the value *2* by doing an assignment: `nums[0] = 2`. What happens?\n",
    "\n",
    "<!-- -->\n",
    "\n",
    "-   Unpack `nums` to the variables `num1`, `num2`, and `num3`.\n",
    "-   Construct a new tuple, `even_nums` composed of the same elements in\n",
    "    `nums`, but with the 1st element replaced with the value, *2*.\n"
   ]
  },
  {
   "cell_type": "code",
   "execution_count": 5,
   "metadata": {
    "vscode": {
     "languageId": "r"
    }
   },
   "outputs": [],
   "source": [
    "# edited/added\n",
    "nums = (3,4,6)\n",
    "\n",
    "# Unpack nums into num1, num2, and num3\n",
    "num1, num2, num3 = nums\n",
    "\n",
    "# Construct even_nums\n",
    "even_nums = (2, num2, num3)\n"
   ]
  },
  {
   "cell_type": "markdown",
   "metadata": {},
   "source": [
    "### Functions that return multiple values\n",
    "\n",
    "In the previous exercise, you constructed tuples, assigned tuples to\n",
    "variables, and unpacked tuples. Here you will return multiple values\n",
    "from a function using tuples. Let's now update our `shout()` function to\n",
    "return multiple values. Instead of returning just one string, we will\n",
    "return two strings with the string `!!!` concatenated to each.\n",
    "\n",
    "Note that the return statement `return x, y` has the same result as\n",
    "`return (x, y)`: the former actually packs `x` and `y` into a tuple\n",
    "under the hood!\n",
    "\n",
    "-   Modify the function header such that the function name is now\n",
    "    `shout_all`, and it accepts two parameters, `word1` and `word2`, in\n",
    "    that order.\n",
    "-   Concatenate the string `'!!!'` to each of `word1` and `word2` and\n",
    "    assign to `shout1` and `shout2`, respectively.\n",
    "-   Construct a tuple `shout_words`, composed of `shout1` and `shout2`.\n",
    "-   Call `shout_all()` with the strings `'congratulations'` and `'you'`\n",
    "    and assign the result to `yell1` and `yell2` (remember,\n",
    "    `shout_all()` returns 2 variables!).\n"
   ]
  },
  {
   "cell_type": "code",
   "execution_count": 6,
   "metadata": {
    "vscode": {
     "languageId": "r"
    }
   },
   "outputs": [
    {
     "name": "stdout",
     "output_type": "stream",
     "text": [
      "congratulations!!!\n",
      "you!!!\n"
     ]
    }
   ],
   "source": [
    "# Define shout_all with parameters word1 and word2\n",
    "def shout_all(word1, word2):\n",
    "    \"\"\"Return a tuple of strings\"\"\"\n",
    "    # Concatenate word1 with '!!!': shout1\n",
    "    shout1 = word1 + '!!!'\n",
    "    \n",
    "    # Concatenate word2 with '!!!': shout2\n",
    "    shout2 = word2 + '!!!'\n",
    "    \n",
    "    # Construct a tuple with shout1 and shout2: shout_words\n",
    "    shout_words = (shout1, shout2)\n",
    "\n",
    "    # Return shout_words\n",
    "    return shout_words\n",
    "\n",
    "# Pass 'congratulations' and 'you' to shout_all(): yell1, yell2\n",
    "yell1, yell2 = shout_all('congratulations', 'you')\n",
    "\n",
    "# Print yell1 and yell2\n",
    "print(yell1)\n",
    "print(yell2)\n"
   ]
  },
  {
   "cell_type": "markdown",
   "metadata": {},
   "source": [
    "## Bringing it all together\n",
    "\n",
    "### Bringing it all together (1)\n",
    "\n",
    "You've got your first taste of writing your own functions in the\n",
    "previous exercises. You've learned how to add parameters to your own\n",
    "function definitions, return a value or multiple values with tuples, and\n",
    "how to call the functions you've defined.\n",
    "\n",
    "In this and the following exercise, you will bring together all these\n",
    "concepts and apply them to a simple data science problem. You will load\n",
    "a dataset and develop functionalities to extract simple insights from\n",
    "the data.\n",
    "\n",
    "For this exercise, your goal is to recall how to load a dataset into a\n",
    "DataFrame. The dataset contains Twitter data and you will iterate over\n",
    "entries in a column to build a dictionary in which the keys are the\n",
    "names of languages and the values are the number of tweets in the given\n",
    "language. The file `tweets.csv` is available in your current directory.\n",
    "\n",
    "*Be aware that this is real data from Twitter and as such there is\n",
    "always a risk that it may contain profanity or other offensive content\n",
    "(in this exercise, and any following exercises that also use real\n",
    "Twitter data).*\n",
    "\n",
    "-   Import the pandas package with the alias `pd`.\n",
    "-   Import the file `'tweets.csv'` using the pandas function\n",
    "    `read_csv()`. Assign the resulting DataFrame to `df`.\n",
    "-   Complete the `for` loop by iterating over `col`, the `'lang'` column\n",
    "    in the DataFrame `df`.\n",
    "-   Complete the bodies of the `if-else` statements in the for loop:\n",
    "    **if** the key is in the dictionary `langs_count`, add `1` to the\n",
    "    value corresponding to this key in the dictionary, **else** add the\n",
    "    key to `langs_count` and set the corresponding value to `1`. Use the\n",
    "    loop variable `entry` in your code.\n"
   ]
  },
  {
   "cell_type": "code",
   "execution_count": 7,
   "metadata": {
    "vscode": {
     "languageId": "r"
    }
   },
   "outputs": [
    {
     "name": "stdout",
     "output_type": "stream",
     "text": [
      "{'en': 97, 'et': 1, 'und': 2}\n"
     ]
    }
   ],
   "source": [
    "# Import pandas\n",
    "import pandas as pd\n",
    "\n",
    "# Import Twitter data as DataFrame: df\n",
    "df = pd.read_csv('tweets.csv')\n",
    "\n",
    "# Initialize an empty dictionary: langs_count\n",
    "langs_count = {}\n",
    "\n",
    "# Extract column from DataFrame: col\n",
    "col = df['lang']\n",
    "\n",
    "# Iterate over lang column in DataFrame\n",
    "for entry in col:\n",
    "\n",
    "    # If the language is in langs_count, add 1\n",
    "    if entry in langs_count.keys():\n",
    "        langs_count[entry] += 1\n",
    "    # Else add the language to langs_count, set the value to 1\n",
    "    else:\n",
    "        langs_count[entry] = 1\n",
    "\n",
    "# Print the populated dictionary\n",
    "print(langs_count)\n"
   ]
  },
  {
   "cell_type": "markdown",
   "metadata": {},
   "source": [
    "### Bringing it all together (2)\n",
    "\n",
    "Great job! You've now defined the functionality for iterating over\n",
    "entries in a column and building a dictionary with keys the names of\n",
    "languages and values the number of tweets in the given language.\n",
    "\n",
    "In this exercise, you will define a function with the functionality you\n",
    "developed in the previous exercise, return the resulting dictionary from\n",
    "within the function, and call the function with the appropriate\n",
    "arguments.\n",
    "\n",
    "For your convenience, the pandas package has been imported as `pd` and\n",
    "the `'tweets.csv'` file has been imported into the `tweets_df` variable.\n",
    "\n",
    "-   Define the function `count_entries()`, which has two parameters. The\n",
    "    first parameter is `df` for the DataFrame and the second is\n",
    "    `col_name` for the column name.\n",
    "-   Complete the bodies of the `if-else` statements in the `for` loop:\n",
    "    **if** the key is in the dictionary `langs_count`, add `1` to its\n",
    "    current value, **else** add the key to `langs_count` and set its\n",
    "    value to `1`. Use the loop variable `entry` in your code.\n",
    "-   Return the `langs_count` dictionary from inside the\n",
    "    `count_entries()` function.\n",
    "-   Call the `count_entries()` function by passing to it `tweets_df` and\n",
    "    the name of the column, `'lang'`. Assign the result of the call to\n",
    "    the variable `result`.\n"
   ]
  },
  {
   "cell_type": "code",
   "execution_count": 8,
   "metadata": {
    "vscode": {
     "languageId": "r"
    }
   },
   "outputs": [
    {
     "name": "stdout",
     "output_type": "stream",
     "text": [
      "{'en': 97, 'et': 1, 'und': 2}\n"
     ]
    }
   ],
   "source": [
    "# edited/added\n",
    "tweets_df = pd.read_csv('tweets.csv')\n",
    "\n",
    "\n",
    "# Define count_entries()\n",
    "def count_entries(df, col_name):\n",
    "    \"\"\"Return a dictionary with counts of \n",
    "    occurrences as value for each key.\"\"\"\n",
    "\n",
    "    # Initialize an empty dictionary: langs_count\n",
    "    langs_count = {}\n",
    "    \n",
    "    # Extract column from DataFrame: col\n",
    "    col = df[col_name]\n",
    "\n",
    "    # Iterate over lang column in DataFrame\n",
    "    for entry in col:\n",
    "\n",
    "        # If the language is in langs_count, add 1\n",
    "        if entry in langs_count.keys():\n",
    "            langs_count[entry] += 1\n",
    "        # Else add the language to langs_count, set the value to 1\n",
    "        else:\n",
    "            langs_count[entry] = 1\n",
    "\n",
    "    # Return the langs_count dictionary\n",
    "    return langs_count\n",
    "\n",
    "# Call count_entries(): result\n",
    "result = count_entries(tweets_df, 'lang')\n",
    "\n",
    "# Print the result\n",
    "print(result)\n"
   ]
  },
  {
   "cell_type": "markdown",
   "metadata": {},
   "source": [
    "## Congratulations!\n",
    "\n",
    "### Congratulations!\n",
    "\n",
    "Congratulations, you're now a bonafide Python function writer. On top of that, you have just written your very first Data Sciencey function.\n",
    "\n",
    "### Next chapters:\n",
    "\n",
    "At this point, although you can write basic functions, you've really just touched the surface of function writing capabilities. In the following Chapters, you'll learn how to write functions that have default arguments so that when you call them, you don't always have to specify all the parameters; you'll learn how to write functions that can accept an arbitrary number of parameters and how to nest functions within one another; on top of this, you'll learn how to handle errors when writing functions, which will make your functions as robust as they need to be. Moreover, you'll see the importance of such techniques in Data Science by writing functions that are pertinent to the Data Science sphere like the Twitter DataFrame analysis that you just performed.\n",
    "\n",
    "### Let's practice!\n",
    "\n",
    "I am pumped for this and can't wait to see you in the next chapter!\n",
    "\n",
    "# Default arguments, variable-length arguments and scope\n",
    "\n",
    "In this chapter, you'll learn to write functions with default arguments so that the user doesn't always need to specify them, and variable-length arguments so they can pass an arbitrary number of arguments on to your functions. You'll also learn about the essential concept of scope.\n",
    "\n",
    "## Scope and user-defined functions\n",
    "\n",
    "### Pop quiz on understanding scope\n",
    "\n",
    "In this exercise, you will practice what you've learned about scope in\n",
    "functions. The variable `num` has been predefined as `5`, alongside the\n",
    "following function definitions:\n",
    "\n",
    "    def func1():\n",
    "        num = 3\n",
    "        print(num)\n",
    "\n",
    "    def func2():\n",
    "        global num\n",
    "        double_num = num * 2\n",
    "        num = 6\n",
    "        print(double_num)\n",
    "\n",
    "Try calling `func1()` and `func2()` in the shell, then answer the\n",
    "following questions:\n",
    "\n",
    "-   What are the values printed out when you call `func1()` and\n",
    "    `func2()`?\n",
    "-   What is the value of `num` in the global scope after calling\n",
    "    `func1()` and `func2()`?\n",
    "\n",
    "- [ ] `func1()` prints out `3`, `func2()` prints out `6`, and the value of\n",
    "    `num` in the global scope is `3`.\n",
    "- [ ] `func1()` prints out `3`, `func2()` prints out `3`, and the value of\n",
    "    `num` in the global scope is `3`.\n",
    "- [ ] `func1()` prints out `3`, `func2()` prints out `10`, and the value\n",
    "    of `num` in the global scope is `10`.\n",
    "- [x] `func1()` prints out `3`, `func2()` prints out `10`, and the value\n",
    "    of `num` in the global scope is `6`.\n",
    "\n",
    "### The keyword global\n",
    "\n",
    "Let's work more on your mastery of scope. In this exercise, you will use\n",
    "the keyword `global` within a function to alter the value of a variable\n",
    "defined in the global scope.\n",
    "\n",
    "-   Use the keyword `global` to alter the object `team` in the global\n",
    "    scope.\n",
    "-   Change the value of `team` in the global scope to the string\n",
    "    `\"justice league\"`. Assign the result to `team`.\n",
    "-   Hit the Submit button to see how executing your newly defined\n",
    "    function `change_team()` changes the value of the name `team`!\n"
   ]
  },
  {
   "cell_type": "code",
   "execution_count": 9,
   "metadata": {
    "vscode": {
     "languageId": "r"
    }
   },
   "outputs": [
    {
     "name": "stdout",
     "output_type": "stream",
     "text": [
      "teen titans\n",
      "justice league\n"
     ]
    }
   ],
   "source": [
    "# Create a string: team\n",
    "team = \"teen titans\"\n",
    "\n",
    "# Define change_team()\n",
    "def change_team():\n",
    "    \"\"\"Change the value of the global variable team.\"\"\"\n",
    "\n",
    "    # Use team in global scope\n",
    "    global team\n",
    "\n",
    "    # Change the value of team in global: team\n",
    "    team = \"justice league\"\n",
    "\n",
    "# Print team\n",
    "print(team)\n",
    "\n",
    "# Call change_team()\n",
    "change_team()\n",
    "\n",
    "# Print team\n",
    "print(team)\n"
   ]
  },
  {
   "cell_type": "markdown",
   "metadata": {},
   "source": [
    "### Python's built-in scope\n",
    "\n",
    "Here you're going to check out Python's built-in scope, which is really\n",
    "just a built-in module called `builtins`. However, to query `builtins`,\n",
    "you'll need to `import builtins` 'because the name builtins is not\n",
    "itself built in…No, I’m serious!' ([*Learning Python*, 5th\n",
    "edition](http://shop.oreilly.com/product/0636920028154.do), Mark Lutz).\n",
    "After executing `import builtins` in the IPython Shell, execute\n",
    "`dir(builtins)` to print a list of all the names in the module\n",
    "`builtins`. Have a look and you'll see a bunch of names that you'll\n",
    "recognize! Which of the following names is NOT in the module builtins?\n",
    "\n",
    "- [ ] 'sum'\n",
    "- [ ] 'range'\n",
    "- [x] 'array'\n",
    "- [ ] 'tuple'\n",
    "\n",
    "## Nested functions\n",
    "\n",
    "### Nested Functions I\n",
    "\n",
    "You've learned in the last video about nesting functions within\n",
    "functions. One reason why you'd like to do this is to avoid writing out\n",
    "the same computations within functions repeatedly. There's nothing new\n",
    "about defining nested functions: you simply define it as you would a\n",
    "regular function with `def` and embed it inside another function!\n",
    "\n",
    "In this exercise, inside a function `three_shouts()`, you will define a\n",
    "nested function `inner()` that concatenates a string object with `!!!`.\n",
    "`three_shouts()` then returns a tuple of three elements, each a string\n",
    "concatenated with `!!!` using `inner()`. Go for it!\n",
    "\n",
    "-   Complete the function header of the nested function with the\n",
    "    function name `inner()` and a single parameter `word`.\n",
    "-   Complete the return value: each element of the tuple should be a\n",
    "    call to `inner()`, passing in the parameters from `three_shouts()`\n",
    "    as arguments to each call.\n"
   ]
  },
  {
   "cell_type": "code",
   "execution_count": 10,
   "metadata": {
    "vscode": {
     "languageId": "r"
    }
   },
   "outputs": [
    {
     "name": "stdout",
     "output_type": "stream",
     "text": [
      "('a!!!', 'b!!!', 'c!!!')\n"
     ]
    }
   ],
   "source": [
    "# Define three_shouts\n",
    "def three_shouts(word1, word2, word3):\n",
    "    \"\"\"Returns a tuple of strings\n",
    "    concatenated with '!!!'.\"\"\"\n",
    "\n",
    "    # Define inner\n",
    "    def inner(word):\n",
    "        \"\"\"Returns a string concatenated with '!!!'.\"\"\"\n",
    "        return word + '!!!'\n",
    "\n",
    "    # Return a tuple of strings\n",
    "    return (inner(word1), inner(word2), inner(word3))\n",
    "\n",
    "# Call three_shouts() and print\n",
    "print(three_shouts('a', 'b', 'c'))\n"
   ]
  },
  {
   "cell_type": "markdown",
   "metadata": {},
   "source": [
    "### Nested Functions II\n",
    "\n",
    "Great job, you've just nested a function within another function. One\n",
    "other pretty cool reason for nesting functions is the idea of a\n",
    "**closure**. This means that the nested or inner function remembers the\n",
    "state of its enclosing scope when called. Thus, anything defined locally\n",
    "in the enclosing scope is available to the inner function even when the\n",
    "outer function has finished execution.\n",
    "\n",
    "Let's move forward then! In this exercise, you will complete the\n",
    "definition of the inner function `inner_echo()` and then call `echo()` a\n",
    "couple of times, each with a different argument. Complete the exercise\n",
    "and see what the output will be!\n",
    "\n",
    "-   Complete the function header of the inner function with the function\n",
    "    name `inner_echo()` and a single parameter `word1`.\n",
    "-   Complete the function `echo()` so that it returns `inner_echo`.\n",
    "-   We have called `echo()`, passing 2 as an argument, and assigned the\n",
    "    resulting function to `twice`. Your job is to call `echo()`, passing\n",
    "    3 as an argument. Assign the resulting function to `thrice`.\n",
    "-   Hit Submit to call `twice()` and `thrice()` and print the results.\n"
   ]
  },
  {
   "cell_type": "code",
   "execution_count": 11,
   "metadata": {
    "vscode": {
     "languageId": "r"
    }
   },
   "outputs": [
    {
     "name": "stdout",
     "output_type": "stream",
     "text": [
      "hellohello hellohellohello\n"
     ]
    }
   ],
   "source": [
    "# Define echo\n",
    "def echo(n):\n",
    "    \"\"\"Return the inner_echo function.\"\"\"\n",
    "\n",
    "    # Define inner_echo\n",
    "    def inner_echo(word1):\n",
    "        \"\"\"Concatenate n copies of word1.\"\"\"\n",
    "        echo_word = word1 * n\n",
    "        return echo_word\n",
    "\n",
    "    # Return inner_echo\n",
    "    return inner_echo\n",
    "\n",
    "# Call echo: twice\n",
    "twice = echo(2)\n",
    "\n",
    "# Call echo: thrice\n",
    "thrice = echo(3)\n",
    "\n",
    "# Call twice() and thrice() then print\n",
    "print(twice('hello'), thrice('hello'))\n"
   ]
  },
  {
   "cell_type": "markdown",
   "metadata": {},
   "source": [
    "### The keyword nonlocal and nested functions\n",
    "\n",
    "Let's once again work further on your mastery of scope! In this\n",
    "exercise, you will use the keyword `nonlocal` within a nested function\n",
    "to alter the value of a variable defined in the enclosing scope.\n",
    "\n",
    "-   Assign to `echo_word` the string `word`, concatenated with itself.\n",
    "-   Use the keyword `nonlocal` to alter the value of `echo_word` in the\n",
    "    enclosing scope.\n",
    "-   Alter `echo_word` to `echo_word` concatenated with '!!!'.\n",
    "-   Call the function `echo_shout()`, passing it a single argument\n",
    "    'hello'.\n"
   ]
  },
  {
   "cell_type": "code",
   "execution_count": 12,
   "metadata": {
    "vscode": {
     "languageId": "r"
    }
   },
   "outputs": [
    {
     "name": "stdout",
     "output_type": "stream",
     "text": [
      "hellohello\n",
      "hellohello!!!\n"
     ]
    }
   ],
   "source": [
    "# Define echo_shout()\n",
    "def echo_shout(word):\n",
    "    \"\"\"Change the value of a nonlocal variable\"\"\"\n",
    "    \n",
    "    # Concatenate word with itself: echo_word\n",
    "    echo_word = word*2\n",
    "    \n",
    "    # Print echo_word\n",
    "    print(echo_word)\n",
    "    \n",
    "    # Define inner function shout()\n",
    "    def shout():\n",
    "        \"\"\"Alter a variable in the enclosing scope\"\"\"\n",
    "        \n",
    "        # Use echo_word in nonlocal scope\n",
    "        nonlocal echo_word\n",
    "        \n",
    "        # Change echo_word to echo_word concatenated with '!!!'\n",
    "        echo_word = echo_word + '!!!'\n",
    "    \n",
    "    # Call function shout()\n",
    "    shout()\n",
    "    \n",
    "    # Print echo_word\n",
    "    print(echo_word)\n",
    "\n",
    "# Call function echo_shout() with argument 'hello'\n",
    "echo_shout('hello')\n"
   ]
  },
  {
   "cell_type": "markdown",
   "metadata": {},
   "source": [
    "## Default and flexible arguments\n",
    "\n",
    "### Functions with one default argument\n",
    "\n",
    "In the previous chapter, you've learned to define functions with more\n",
    "than one parameter and then calling those functions by passing the\n",
    "required number of arguments. In the last video, Hugo built on this idea\n",
    "by showing you how to define functions with default arguments. You will\n",
    "practice that skill in this exercise by writing a function that uses a\n",
    "default argument and then calling the function a couple of times.\n",
    "\n",
    "-   Complete the function header with the function name `shout_echo`. It\n",
    "    accepts an argument `word1` and a default argument `echo` with\n",
    "    default value `1`, in that order.\n",
    "-   Use the `*` operator to concatenate `echo` copies of `word1`. Assign\n",
    "    the result to `echo_word`.\n",
    "-   Call `shout_echo()` with just the string, `\"Hey\"`. Assign the result\n",
    "    to `no_echo`.\n",
    "-   Call `shout_echo()` with the string `\"Hey\"` and the value `5` for\n",
    "    the default argument, `echo`. Assign the result to `with_echo`.\n"
   ]
  },
  {
   "cell_type": "code",
   "execution_count": 13,
   "metadata": {
    "vscode": {
     "languageId": "r"
    }
   },
   "outputs": [
    {
     "name": "stdout",
     "output_type": "stream",
     "text": [
      "Hey!!!\n",
      "HeyHeyHeyHeyHey!!!\n"
     ]
    }
   ],
   "source": [
    "# Define shout_echo\n",
    "def shout_echo(word1, echo=1):\n",
    "    \"\"\"Concatenate echo copies of word1 and three\n",
    "     exclamation marks at the end of the string.\"\"\"\n",
    "\n",
    "    # Concatenate echo copies of word1 using *: echo_word\n",
    "    echo_word = word1 * echo\n",
    "\n",
    "    # Concatenate '!!!' to echo_word: shout_word\n",
    "    shout_word = echo_word + '!!!'\n",
    "\n",
    "    # Return shout_word\n",
    "    return shout_word\n",
    "\n",
    "# Call shout_echo() with \"Hey\": no_echo\n",
    "no_echo = shout_echo(\"Hey\")\n",
    "\n",
    "# Call shout_echo() with \"Hey\" and echo=5: with_echo\n",
    "with_echo = shout_echo(\"Hey\", echo=5)\n",
    "\n",
    "# Print no_echo and with_echo\n",
    "print(no_echo)\n",
    "print(with_echo)\n"
   ]
  },
  {
   "cell_type": "markdown",
   "metadata": {},
   "source": [
    "### Functions with multiple default arguments\n",
    "\n",
    "You've now defined a function that uses a default argument - don't stop\n",
    "there just yet! You will now try your hand at defining a function with\n",
    "more than one default argument and then calling this function in various\n",
    "ways.\n",
    "\n",
    "After defining the function, you will call it by supplying values to\n",
    "*all* the default arguments of the function. Additionally, you will call\n",
    "the function by not passing a value to one of the default arguments -\n",
    "see how that changes the output of your function!\n",
    "\n",
    "-   Complete the function header with the function name `shout_echo`. It\n",
    "    accepts an argument `word1`, a default argument `echo` with default\n",
    "    value `1` and a default argument `intense` with default value\n",
    "    `False`, in that order.\n",
    "-   In the body of the `if` statement, make the string object\n",
    "    `echo_word` upper case by applying the method `.upper()` on it.\n",
    "-   Call `shout_echo()` with the string, `\"Hey\"`, the value `5` for\n",
    "    `echo` and the value `True` for `intense`. Assign the result to\n",
    "    `with_big_echo`.\n",
    "-   Call `shout_echo()` with the string `\"Hey\"` and the value `True` for\n",
    "    `intense`. Assign the result to `big_no_echo`.\n"
   ]
  },
  {
   "cell_type": "code",
   "execution_count": 14,
   "metadata": {
    "vscode": {
     "languageId": "r"
    }
   },
   "outputs": [
    {
     "name": "stdout",
     "output_type": "stream",
     "text": [
      "HEYHEYHEYHEYHEY!!!\n",
      "HEY!!!\n"
     ]
    }
   ],
   "source": [
    "# Define shout_echo\n",
    "def shout_echo(word1, echo=1, intense=False):\n",
    "    \"\"\"Concatenate echo copies of word1 and three\n",
    "    exclamation marks at the end of the string.\"\"\"\n",
    "\n",
    "    # Concatenate echo copies of word1 using *: echo_word\n",
    "    echo_word = word1 * echo\n",
    "\n",
    "    # Make echo_word uppercase if intense is True\n",
    "    if intense is True:\n",
    "        # Make uppercase and concatenate '!!!': echo_word_new\n",
    "        echo_word_new = echo_word.upper() + '!!!'\n",
    "    else:\n",
    "        # Concatenate '!!!' to echo_word: echo_word_new\n",
    "        echo_word_new = echo_word + '!!!'\n",
    "\n",
    "    # Return echo_word_new\n",
    "    return echo_word_new\n",
    "\n",
    "# Call shout_echo() with \"Hey\", echo=5 and intense=True: with_big_echo\n",
    "with_big_echo = shout_echo(\"Hey\", echo=5, intense=True)\n",
    "\n",
    "# Call shout_echo() with \"Hey\" and intense=True: big_no_echo\n",
    "big_no_echo = shout_echo(\"Hey\", intense=True)\n",
    "\n",
    "# Print with_big_echo and big_no_echo\n",
    "print(with_big_echo)\n",
    "print(big_no_echo)\n"
   ]
  },
  {
   "cell_type": "markdown",
   "metadata": {},
   "source": [
    "### Functions with variable-length arguments (\\*args)\n",
    "\n",
    "Flexible arguments enable you to pass a variable number of arguments to\n",
    "a function. In this exercise, you will practice defining a function that\n",
    "accepts a variable number of string arguments.\n",
    "\n",
    "The function you will define is `gibberish()` which can accept a\n",
    "variable number of string values. Its return value is a single string\n",
    "composed of all the string arguments concatenated together in the order\n",
    "they were passed to the function call. You will call the function with a\n",
    "single string argument and see how the output changes with another call\n",
    "using more than one string argument. Recall from the previous video\n",
    "that, within the function definition, `args` is a tuple.\n",
    "\n",
    "-   Complete the function header with the function name `gibberish`. It\n",
    "    accepts a single flexible argument `*args`.\n",
    "-   Initialize a variable `hodgepodge` to an empty string.\n",
    "-   Return the variable `hodgepodge` at the end of the function body.\n",
    "-   Call `gibberish()` with the single string, `\"luke\"`. Assign the\n",
    "    result to `one_word`.\n",
    "-   Hit the Submit button to call `gibberish()` with multiple arguments\n",
    "    and to print the value to the Shell.\n"
   ]
  },
  {
   "cell_type": "code",
   "execution_count": 15,
   "metadata": {
    "vscode": {
     "languageId": "r"
    }
   },
   "outputs": [
    {
     "name": "stdout",
     "output_type": "stream",
     "text": [
      "luke\n",
      "lukeleiahanobidarth\n"
     ]
    }
   ],
   "source": [
    "# Define gibberish\n",
    "def gibberish(*args):\n",
    "    \"\"\"Concatenate strings in *args together.\"\"\"\n",
    "\n",
    "    # Initialize an empty string: hodgepodge\n",
    "    hodgepodge = ''\n",
    "\n",
    "    # Concatenate the strings in args\n",
    "    for word in args:\n",
    "        hodgepodge += word\n",
    "\n",
    "    # Return hodgepodge\n",
    "    return hodgepodge\n",
    "\n",
    "# Call gibberish() with one string: one_word\n",
    "one_word = gibberish(\"luke\")\n",
    "\n",
    "# Call gibberish() with five strings: many_words\n",
    "many_words = gibberish(\"luke\", \"leia\", \"han\", \"obi\", \"darth\")\n",
    "\n",
    "# Print one_word and many_words\n",
    "print(one_word)\n",
    "print(many_words)\n"
   ]
  },
  {
   "cell_type": "markdown",
   "metadata": {},
   "source": [
    "### Functions with variable-length keyword arguments (\\*\\*kwargs)\n",
    "\n",
    "Let's push further on what you've learned about flexible arguments -\n",
    "you've used `*args`, you're now going to use `**kwargs`! What makes\n",
    "`**kwargs` different is that it allows you to pass a variable number of\n",
    "*keyword arguments* to functions. Recall from the previous video that,\n",
    "within the function definition, `kwargs` is a dictionary.\n",
    "\n",
    "To understand this idea better, you're going to use `**kwargs` in this\n",
    "exercise to define a function that accepts a variable number of keyword\n",
    "arguments. The function simulates a simple status report system that\n",
    "prints out the status of a character in a movie.\n",
    "\n",
    "-   Complete the function header with the function name `report_status`.\n",
    "    It accepts a single flexible argument `**kwargs`.\n",
    "-   Iterate over the key-value pairs of `kwargs` to print out the keys\n",
    "    and values, separated by a colon ':'.\n",
    "-   In the first call to `report_status()`, pass the following\n",
    "    keyword-value pairs: `name=\"luke\"`, `affiliation=\"jedi\"` and\n",
    "    `status=\"missing\"`.\n",
    "-   In the second call to `report_status()`, pass the following\n",
    "    keyword-value pairs: `name=\"anakin\"`, `affiliation=\"sith lord\"` and\n",
    "    `status=\"deceased\"`.\n"
   ]
  },
  {
   "cell_type": "code",
   "execution_count": 16,
   "metadata": {
    "vscode": {
     "languageId": "r"
    }
   },
   "outputs": [
    {
     "name": "stdout",
     "output_type": "stream",
     "text": [
      "\n",
      "BEGIN: REPORT\n",
      "\n",
      "name: luke\n",
      "affiliation: jedi\n",
      "status: missing\n",
      "\n",
      "END REPORT\n",
      "\n",
      "BEGIN: REPORT\n",
      "\n",
      "name: anakin\n",
      "affiliation: sith lord\n",
      "status: deceased\n",
      "\n",
      "END REPORT\n"
     ]
    }
   ],
   "source": [
    "# Define report_status\n",
    "def report_status(**kwargs):\n",
    "    \"\"\"Print out the status of a movie character.\"\"\"\n",
    "\n",
    "    print(\"\\nBEGIN: REPORT\\n\")\n",
    "\n",
    "    # Iterate over the key-value pairs of kwargs\n",
    "    for key, value in kwargs.items():\n",
    "        # Print out the keys and values, separated by a colon ':'\n",
    "        print(key + \": \" + value)\n",
    "\n",
    "    print(\"\\nEND REPORT\")\n",
    "\n",
    "# First call to report_status()\n",
    "report_status(name=\"luke\", affiliation=\"jedi\", status=\"missing\")\n",
    "\n",
    "# Second call to report_status()\n",
    "report_status(name=\"anakin\", affiliation=\"sith lord\", status=\"deceased\")\n"
   ]
  },
  {
   "cell_type": "markdown",
   "metadata": {},
   "source": [
    "## Bringing it all together\n",
    "\n",
    "### Bringing it all together (1)\n",
    "\n",
    "Recall the *Bringing it all together* exercise in the previous chapter\n",
    "where you did a simple Twitter analysis by developing a function that\n",
    "counts how many tweets are in certain languages. The output of your\n",
    "function was a dictionary that had the language as the *keys* and the\n",
    "counts of tweets in that language as the *value*.\n",
    "\n",
    "In this exercise, we will generalize the Twitter language analysis that\n",
    "you did in the previous chapter. You will do that by including a\n",
    "**default argument** that takes a column name.\n",
    "\n",
    "For your convenience, `pandas` has been imported as `pd` and the\n",
    "`'tweets.csv'` file has been imported into the DataFrame `tweets_df`.\n",
    "Parts of the code from your previous work are also provided.\n",
    "\n",
    "-   Complete the function header by supplying the parameter for a\n",
    "    DataFrame `df` and the parameter `col_name` with a default value of\n",
    "    `'lang'` for the DataFrame column name.\n",
    "-   Call `count_entries()` by passing the `tweets_df` DataFrame and the\n",
    "    column name `'lang'`. Assign the result to `result1`. Note that\n",
    "    since `'lang'` is the default value of the `col_name` parameter, you\n",
    "    don't have to specify it here.\n",
    "-   Call `count_entries()` by passing the `tweets_df` DataFrame and the\n",
    "    column name `'source'`. Assign the result to `result2`.\n"
   ]
  },
  {
   "cell_type": "code",
   "execution_count": 17,
   "metadata": {
    "vscode": {
     "languageId": "r"
    }
   },
   "outputs": [
    {
     "name": "stdout",
     "output_type": "stream",
     "text": [
      "{'en': 97, 'et': 1, 'und': 2}\n",
      "{'<a href=\"http://twitter.com\" rel=\"nofollow\">Twitter Web Client</a>': 24, '<a href=\"http://www.facebook.com/twitter\" rel=\"nofollow\">Facebook</a>': 1, '<a href=\"http://twitter.com/download/android\" rel=\"nofollow\">Twitter for Android</a>': 26, '<a href=\"http://twitter.com/download/iphone\" rel=\"nofollow\">Twitter for iPhone</a>': 33, '<a href=\"http://www.twitter.com\" rel=\"nofollow\">Twitter for BlackBerry</a>': 2, '<a href=\"http://www.google.com/\" rel=\"nofollow\">Google</a>': 2, '<a href=\"http://twitter.com/#!/download/ipad\" rel=\"nofollow\">Twitter for iPad</a>': 6, '<a href=\"http://linkis.com\" rel=\"nofollow\">Linkis.com</a>': 2, '<a href=\"http://rutracker.org/forum/viewforum.php?f=93\" rel=\"nofollow\">newzlasz</a>': 2, '<a href=\"http://ifttt.com\" rel=\"nofollow\">IFTTT</a>': 1, '<a href=\"http://www.myplume.com/\" rel=\"nofollow\">Plume\\xa0for\\xa0Android</a>': 1}\n"
     ]
    }
   ],
   "source": [
    "# Define count_entries()\n",
    "def count_entries(df, col_name='lang'):\n",
    "    \"\"\"Return a dictionary with counts of\n",
    "    occurrences as value for each key.\"\"\"\n",
    "\n",
    "    # Initialize an empty dictionary: cols_count\n",
    "    cols_count = {}\n",
    "    \n",
    "    # Extract column from DataFrame: col\n",
    "    col = df[col_name]\n",
    "\n",
    "    # Iterate over the column in DataFrame\n",
    "    for entry in col:\n",
    "\n",
    "        # If entry is in cols_count, add 1\n",
    "        if entry in cols_count.keys():\n",
    "            cols_count[entry] += 1\n",
    "\n",
    "        # Else add the entry to cols_count, set the value to 1\n",
    "        else:\n",
    "            cols_count[entry] = 1\n",
    "\n",
    "    # Return the cols_count dictionary\n",
    "    return cols_count\n",
    "\n",
    "# Call count_entries(): result1\n",
    "result1 = count_entries(tweets_df, col_name='lang')\n",
    "\n",
    "# Call count_entries(): result2\n",
    "result2 = count_entries(tweets_df, col_name='source')\n",
    "\n",
    "# Print result1 and result2\n",
    "print(result1)\n",
    "print(result2)\n"
   ]
  },
  {
   "cell_type": "markdown",
   "metadata": {},
   "source": [
    "### Bringing it all together (2)\n",
    "\n",
    "Wow, you've just generalized your Twitter language analysis that you did\n",
    "in the previous chapter to include a default argument for the column\n",
    "name. You're now going to generalize this function one step further by\n",
    "allowing the user to pass it a flexible argument, that is, in this case,\n",
    "as many column names as the user would like!\n",
    "\n",
    "Once again, for your convenience, `pandas` has been imported as `pd` and\n",
    "the `'tweets.csv'` file has been imported into the DataFrame\n",
    "`tweets_df`. Parts of the code from your previous work are also\n",
    "provided.\n",
    "\n",
    "-   Complete the function header by supplying the parameter for the\n",
    "    DataFrame `df` and the flexible argument `*args`.\n",
    "-   Complete the `for` loop within the function definition so that the\n",
    "    loop occurs over the tuple `args`.\n",
    "-   Call `count_entries()` by passing the `tweets_df` DataFrame and the\n",
    "    column name `'lang'`. Assign the result to `result1`.\n",
    "-   Call `count_entries()` by passing the `tweets_df` DataFrame and the\n",
    "    column names `'lang'` and `'source'`. Assign the result to\n",
    "    `result2`.\n"
   ]
  },
  {
   "cell_type": "code",
   "execution_count": 18,
   "metadata": {
    "vscode": {
     "languageId": "r"
    }
   },
   "outputs": [
    {
     "name": "stdout",
     "output_type": "stream",
     "text": [
      "{'en': 97, 'et': 1, 'und': 2}\n",
      "{'en': 97, 'et': 1, 'und': 2, '<a href=\"http://twitter.com\" rel=\"nofollow\">Twitter Web Client</a>': 24, '<a href=\"http://www.facebook.com/twitter\" rel=\"nofollow\">Facebook</a>': 1, '<a href=\"http://twitter.com/download/android\" rel=\"nofollow\">Twitter for Android</a>': 26, '<a href=\"http://twitter.com/download/iphone\" rel=\"nofollow\">Twitter for iPhone</a>': 33, '<a href=\"http://www.twitter.com\" rel=\"nofollow\">Twitter for BlackBerry</a>': 2, '<a href=\"http://www.google.com/\" rel=\"nofollow\">Google</a>': 2, '<a href=\"http://twitter.com/#!/download/ipad\" rel=\"nofollow\">Twitter for iPad</a>': 6, '<a href=\"http://linkis.com\" rel=\"nofollow\">Linkis.com</a>': 2, '<a href=\"http://rutracker.org/forum/viewforum.php?f=93\" rel=\"nofollow\">newzlasz</a>': 2, '<a href=\"http://ifttt.com\" rel=\"nofollow\">IFTTT</a>': 1, '<a href=\"http://www.myplume.com/\" rel=\"nofollow\">Plume\\xa0for\\xa0Android</a>': 1}\n"
     ]
    }
   ],
   "source": [
    "# Define count_entries()\n",
    "def count_entries(df, *args):\n",
    "    \"\"\"Return a dictionary with counts of\n",
    "    occurrences as value for each key.\"\"\"\n",
    "    \n",
    "    #Initialize an empty dictionary: cols_count\n",
    "    cols_count = {}\n",
    "    \n",
    "    # Iterate over column names in args\n",
    "    for col_name in args:\n",
    "    \n",
    "        # Extract column from DataFrame: col\n",
    "        col = df[col_name]\n",
    "    \n",
    "        # Iterate over the column in DataFrame\n",
    "        for entry in col:\n",
    "    \n",
    "            # If entry is in cols_count, add 1\n",
    "            if entry in cols_count.keys():\n",
    "                cols_count[entry] += 1\n",
    "    \n",
    "            # Else add the entry to cols_count, set the value to 1\n",
    "            else:\n",
    "                cols_count[entry] = 1\n",
    "\n",
    "    # Return the cols_count dictionary\n",
    "    return cols_count\n",
    "\n",
    "# Call count_entries(): result1\n",
    "result1 = count_entries(tweets_df, 'lang')\n",
    "\n",
    "# Call count_entries(): result2\n",
    "result2 = count_entries(tweets_df, 'lang', 'source')\n",
    "\n",
    "# Print result1 and result2\n",
    "print(result1)\n",
    "print(result2)\n"
   ]
  },
  {
   "cell_type": "markdown",
   "metadata": {},
   "source": [
    "# Lambda functions and error-handling\n",
    "\n",
    "Learn about lambda functions, which allow you to write functions quickly and on the fly. You'll also practice handling errors in your functions, which is an essential skill. Then, apply your new skills to answer data science questions.\n",
    "\n",
    "## Lambda functions\n",
    "\n",
    "### Pop quiz on lambda functions\n",
    "\n",
    "In this exercise, you will practice writing a simple lambda function and\n",
    "calling this function. Recall what you know about lambda functions and\n",
    "answer the following questions:\n",
    "\n",
    "-   How would you write a lambda function `add_bangs` that adds three\n",
    "    exclamation points `'!!!'` to the end of a string `a`?\n",
    "-   How would you call `add_bangs` with the argument `'hello'`?\n",
    "\n",
    "You may use the IPython shell to test your code.\n",
    "\n",
    "- [ ] The lambda function definition is: `add_bangs = (a + '!!!')`, and\n",
    "    the function call is: `add_bangs('hello')`.\n",
    "- [x] The lambda function definition is:\n",
    "    `add_bangs = (lambda a: a + '!!!')`, and the function call is:\n",
    "    `add_bangs('hello')`.\n",
    "- [ ] The lambda function definition is:\n",
    "    `(lambda a: a + '!!!') = add_bangs`, and the function call is:\n",
    "    `add_bangs('hello')`.\n",
    "\n",
    "### Writing a lambda function you already know\n",
    "\n",
    "Some function definitions are simple enough that they can be converted\n",
    "to a lambda function. By doing this, you write less lines of code, which\n",
    "is pretty awesome and will come in handy, especially when you're writing\n",
    "and maintaining big programs. In this exercise, you will use what you\n",
    "know about lambda functions to convert a function that does a simple\n",
    "task into a lambda function. Take a look at this function definition:\n",
    "\n",
    "    def echo_word(word1, echo):\n",
    "        \"\"\"Concatenate echo copies of word1.\"\"\"\n",
    "        words = word1 * echo\n",
    "        return words\n",
    "\n",
    "The function `echo_word` takes 2 parameters: a string value, `word1` and\n",
    "an integer value, `echo`. It returns a string that is a concatenation of\n",
    "`echo` copies of `word1`. Your task is to convert this simple function\n",
    "into a lambda function.\n",
    "\n",
    "-   Define the lambda function `echo_word` using the variables `word1`\n",
    "    and `echo`. Replicate what the original function definition for\n",
    "    `echo_word()` does above.\n",
    "-   Call `echo_word()` with the string argument `'hey'` and the value\n",
    "    `5`, in that order. Assign the call to `result`.\n"
   ]
  },
  {
   "cell_type": "code",
   "execution_count": 19,
   "metadata": {
    "vscode": {
     "languageId": "r"
    }
   },
   "outputs": [
    {
     "name": "stdout",
     "output_type": "stream",
     "text": [
      "heyheyheyheyhey\n"
     ]
    }
   ],
   "source": [
    "# Define echo_word as a lambda function: echo_word\n",
    "echo_word = (lambda word1, echo: word1 * echo)\n",
    "\n",
    "# Call echo_word: result\n",
    "result = echo_word('hey', 5)\n",
    "\n",
    "# Print result\n",
    "print(result)\n"
   ]
  },
  {
   "cell_type": "markdown",
   "metadata": {},
   "source": [
    "### Map() and lambda functions\n",
    "\n",
    "So far, you've used lambda functions to write short, simple functions as\n",
    "well as to redefine functions with simple functionality. The best use\n",
    "case for lambda functions, however, are for when you want these simple\n",
    "functionalities to be anonymously embedded within larger expressions.\n",
    "What that means is that the functionality is not stored in the\n",
    "environment, unlike a function defined with `def`. To understand this\n",
    "idea better, you will use a lambda function in the context of the\n",
    "`map()` function.\n",
    "\n",
    "Recall from the video that `map()` applies a function over an object,\n",
    "such as a list. Here, you can use lambda functions to define the\n",
    "function that `map()` will use to process the object. For example:\n",
    "\n",
    "    nums = [2, 4, 6, 8, 10]\n",
    "\n",
    "    result = map(lambda a: a ** 2, nums)\n",
    "\n",
    "You can see here that a lambda function, which raises a value `a` to the\n",
    "power of 2, is passed to `map()` alongside a list of numbers, `nums`.\n",
    "The *map object* that results from the call to `map()` is stored in\n",
    "`result`. You will now practice the use of lambda functions with\n",
    "`map()`. For this exercise, you will map the functionality of the\n",
    "`add_bangs()` function you defined in previous exercises over a list of\n",
    "strings.\n",
    "\n",
    "-   In the `map()` call, pass a lambda function that concatenates the\n",
    "    string `'!!!'` to a string `item`; also pass the list of strings,\n",
    "    `spells`. Assign the resulting map object to `shout_spells`.\n",
    "-   Convert `shout_spells` to a list and print out the list.\n"
   ]
  },
  {
   "cell_type": "code",
   "execution_count": 20,
   "metadata": {
    "vscode": {
     "languageId": "r"
    }
   },
   "outputs": [
    {
     "name": "stdout",
     "output_type": "stream",
     "text": [
      "['protego!!!', 'accio!!!', 'expecto patronum!!!', 'legilimens!!!']\n"
     ]
    }
   ],
   "source": [
    "# Create a list of strings: spells\n",
    "spells = ['protego', 'accio', 'expecto patronum', 'legilimens']\n",
    "\n",
    "# Use map() to apply a lambda function over spells: shout_spells\n",
    "shout_spells = map(lambda item: item + '!!!', spells)\n",
    "\n",
    "# Convert shout_spells to a list: shout_spells_list\n",
    "shout_spells_list = list(shout_spells)\n",
    "\n",
    "# Print the result\n",
    "print(shout_spells_list)\n"
   ]
  },
  {
   "cell_type": "markdown",
   "metadata": {},
   "source": [
    "### Filter() and lambda functions\n",
    "\n",
    "In the previous exercise, you used lambda functions to anonymously embed\n",
    "an operation within `map()`. You will practice this again in this\n",
    "exercise by using a lambda function with `filter()`, which may be new to\n",
    "you! The function `filter()` offers a way to filter out elements from a\n",
    "list that don't satisfy certain criteria.\n",
    "\n",
    "Your goal in this exercise is to use `filter()` to create, from an input\n",
    "list of strings, a new list that contains only strings that have more\n",
    "than 6 characters.\n",
    "\n",
    "-   In the `filter()` call, pass a lambda function and the list of\n",
    "    strings, `fellowship`. The lambda function should check if the\n",
    "    number of characters in a string `member` is greater than 6; use the\n",
    "    `len()` function to do this. Assign the resulting filter object to\n",
    "    `result`.\n",
    "-   Convert `result` to a list and print out the list.\n"
   ]
  },
  {
   "cell_type": "code",
   "execution_count": 21,
   "metadata": {
    "vscode": {
     "languageId": "r"
    }
   },
   "outputs": [
    {
     "name": "stdout",
     "output_type": "stream",
     "text": [
      "['samwise', 'aragorn', 'boromir', 'legolas', 'gandalf']\n"
     ]
    }
   ],
   "source": [
    "# Create a list of strings: fellowship\n",
    "fellowship = ['frodo', 'samwise', 'merry', 'pippin', 'aragorn', 'boromir', 'legolas', 'gimli', 'gandalf']\n",
    "\n",
    "# Use filter() to apply a lambda function over fellowship: result\n",
    "result = filter(lambda member: len(member) > 6, fellowship)\n",
    "\n",
    "# Convert result to a list: result_list\n",
    "result_list = list(result)\n",
    "\n",
    "# Print result_list\n",
    "print(result_list)\n"
   ]
  },
  {
   "cell_type": "markdown",
   "metadata": {},
   "source": [
    "### Reduce() and lambda functions\n",
    "\n",
    "You're getting very good at using lambda functions! Here's one more\n",
    "function to add to your repertoire of skills. The `reduce()` function is\n",
    "useful for performing some computation on a list and, unlike `map()` and\n",
    "`filter()`, returns a single value as a result. To use `reduce()`, you\n",
    "must import it from the `functools` module.\n",
    "\n",
    "Remember `gibberish()` from a few exercises back?\n",
    "\n",
    "    # Define gibberish\n",
    "    def gibberish(*args):\n",
    "        \"\"\"Concatenate strings in *args together.\"\"\"\n",
    "        hodgepodge = ''\n",
    "        for word in args:\n",
    "            hodgepodge += word\n",
    "        return hodgepodge\n",
    "\n",
    "`gibberish()` simply takes a list of strings as an argument and returns,\n",
    "as a single-value result, the concatenation of all of these strings. In\n",
    "this exercise, you will replicate this functionality by using `reduce()`\n",
    "and a lambda function that concatenates strings together.\n",
    "\n",
    "-   Import the `reduce` function from the `functools` module.\n",
    "-   In the `reduce()` call, pass a lambda function that takes two string\n",
    "    arguments `item1` and `item2` and concatenates them; also pass the\n",
    "    list of strings, `stark`. Assign the result to `result`. The first\n",
    "    argument to `reduce()` should be the lambda function and the second\n",
    "    argument is the list `stark`.\n"
   ]
  },
  {
   "cell_type": "code",
   "execution_count": 22,
   "metadata": {
    "vscode": {
     "languageId": "r"
    }
   },
   "outputs": [
    {
     "name": "stdout",
     "output_type": "stream",
     "text": [
      "robbsansaaryabrandonrickon\n"
     ]
    }
   ],
   "source": [
    "# Import reduce from functools\n",
    "from functools import reduce\n",
    "\n",
    "# Create a list of strings: stark\n",
    "stark = ['robb', 'sansa', 'arya', 'brandon', 'rickon']\n",
    "\n",
    "# Use reduce() to apply a lambda function over stark: result\n",
    "result = reduce(lambda item1, item2: item1 + item2, stark)\n",
    "\n",
    "# Print the result\n",
    "print(result)\n"
   ]
  },
  {
   "cell_type": "markdown",
   "metadata": {},
   "source": [
    "## Introduction to error handling\n",
    "\n",
    "### Pop quiz about errors\n",
    "\n",
    "In the video, Hugo talked about how errors happen when functions are\n",
    "supplied arguments that they are unable to work with. In this exercise,\n",
    "you will identify which function call raises an error and what type of\n",
    "error is raised.\n",
    "\n",
    "Take a look at the following function calls to `len()`:\n",
    "\n",
    "    len('There is a beast in every man and it stirs when you put a sword in his hand.')\n",
    "\n",
    "    len(['robb', 'sansa', 'arya', 'eddard', 'jon'])\n",
    "\n",
    "    len(525600)\n",
    "\n",
    "    len(('jaime', 'cersei', 'tywin', 'tyrion', 'joffrey'))\n",
    "\n",
    "Which of the function calls raises an error and what type of error is\n",
    "raised?\n",
    "\n",
    "- [ ] The call\n",
    "    `len('There is a beast in every man and it stirs when you put a sword in his hand.')`\n",
    "    raises a `TypeError`.\n",
    "- [ ] The call `len(['robb', 'sansa', 'arya', 'eddard', 'jon'])` raises an\n",
    "    `IndexError`.\n",
    "- [x] The call `len(525600)` raises a `TypeError`.\n",
    "- [ ] The call `len(('jaime', 'cersei', 'tywin', 'tyrion', 'joffrey'))`\n",
    "    raises a `NameError`.\n",
    "\n",
    "### Error handling with try-except\n",
    "\n",
    "A good practice in writing your own functions is also anticipating the\n",
    "ways in which other people (or yourself, if you accidentally misuse your\n",
    "own function) might use the function you defined.\n",
    "\n",
    "As in the previous exercise, you saw that the `len()` function is able\n",
    "to handle input arguments such as strings, lists, and tuples, but not\n",
    "int type ones and raises an appropriate error and error message when it\n",
    "encounters invalid input arguments. One way of doing this is through\n",
    "exception handling with the `try-except` block.\n",
    "\n",
    "In this exercise, you will define a function as well as use a\n",
    "`try-except` block for handling cases when incorrect input arguments are\n",
    "passed to the function.\n",
    "\n",
    "Recall the `shout_echo()` function you defined in previous exercises;\n",
    "parts of the function definition are provided in the sample code. Your\n",
    "goal is to complete the exception handling code in the function\n",
    "definition and provide an appropriate error message when raising an\n",
    "error.\n",
    "\n",
    "-   Initialize the variables `echo_word` and `shout_words` to empty\n",
    "    strings.\n",
    "-   Add the keywords `try` and `except` in the appropriate locations for\n",
    "    the exception handling block.\n",
    "-   Use the `*` operator to concatenate `echo` copies of `word1`. Assign\n",
    "    the result to `echo_word`.\n",
    "-   Concatenate the string `'!!!'` to `echo_word`. Assign the result to\n",
    "    `shout_words`.\n"
   ]
  },
  {
   "cell_type": "code",
   "execution_count": 23,
   "metadata": {
    "vscode": {
     "languageId": "r"
    }
   },
   "outputs": [
    {
     "name": "stdout",
     "output_type": "stream",
     "text": [
      "word1 must be a string and echo must be an integer.\n"
     ]
    },
    {
     "data": {
      "text/plain": [
       "''"
      ]
     },
     "execution_count": 23,
     "metadata": {},
     "output_type": "execute_result"
    }
   ],
   "source": [
    "# Define shout_echo\n",
    "def shout_echo(word1, echo=1):\n",
    "    \"\"\"Concatenate echo copies of word1 and three\n",
    "    exclamation marks at the end of the string.\"\"\"\n",
    "\n",
    "    # Initialize empty strings: echo_word, shout_words\n",
    "    echo_word = ''\n",
    "    shout_words = ''\n",
    "\n",
    "    # Add exception handling with try-except\n",
    "    try:\n",
    "        # Concatenate echo copies of word1 using *: echo_word\n",
    "        echo_word = word1 * echo\n",
    "\n",
    "        # Concatenate '!!!' to echo_word: shout_words\n",
    "        shout_words = echo_word + '!!!'\n",
    "    except:\n",
    "        # Print error message\n",
    "        print(\"word1 must be a string and echo must be an integer.\")\n",
    "\n",
    "    # Return shout_words\n",
    "    return shout_words\n",
    "\n",
    "# Call shout_echo\n",
    "shout_echo(\"particle\", echo=\"accelerator\")\n"
   ]
  },
  {
   "cell_type": "markdown",
   "metadata": {},
   "source": [
    "### Error handling by raising an error\n",
    "\n",
    "Another way to raise an error is by using `raise`. In this exercise, you\n",
    "will add a `raise` statement to the `shout_echo()` function you defined\n",
    "before to raise an error message when the value supplied by the user to\n",
    "the `echo` argument is less than 0.\n",
    "\n",
    "The call to `shout_echo()` uses valid argument values. To test and see\n",
    "how the `raise` statement works, simply change the value for the `echo`\n",
    "argument to a *negative* value. Don't forget to change it back to valid\n",
    "values to move on to the next exercise!\n",
    "\n",
    "-   Complete the `if` statement by checking if the value of `echo` is\n",
    "    *less than* 0.\n",
    "-   In the body of the `if` statement, add a `raise` statement that\n",
    "    raises a `ValueError` with message\n",
    "    `'echo must be greater than or equal to 0'` when the value supplied\n",
    "    by the user to `echo` is less than 0.\n"
   ]
  },
  {
   "cell_type": "code",
   "execution_count": 24,
   "metadata": {
    "vscode": {
     "languageId": "r"
    }
   },
   "outputs": [
    {
     "data": {
      "text/plain": [
       "'particleparticleparticleparticleparticle!!!'"
      ]
     },
     "execution_count": 24,
     "metadata": {},
     "output_type": "execute_result"
    }
   ],
   "source": [
    "# Define shout_echo\n",
    "def shout_echo(word1, echo=1):\n",
    "    \"\"\"Concatenate echo copies of word1 and three\n",
    "    exclamation marks at the end of the string.\"\"\"\n",
    "\n",
    "    # Raise an error with raise\n",
    "    if echo < 0:\n",
    "        raise ValueError('echo must be greater than or equal to 0')\n",
    "\n",
    "    # Concatenate echo copies of word1 using *: echo_word\n",
    "    echo_word = word1 * echo\n",
    "\n",
    "    # Concatenate '!!!' to echo_word: shout_word\n",
    "    shout_word = echo_word + '!!!'\n",
    "\n",
    "    # Return shout_word\n",
    "    return shout_word\n",
    "\n",
    "# Call shout_echo\n",
    "shout_echo(\"particle\", echo=5)\n"
   ]
  },
  {
   "cell_type": "markdown",
   "metadata": {},
   "source": [
    "## Bringing it all together\n",
    "\n",
    "### Bringing it all together (1)\n",
    "\n",
    "This is awesome! You have now learned how to write anonymous functions\n",
    "using `lambda`, how to pass lambda functions as arguments to other\n",
    "functions such as `map()`, `filter()`, and `reduce()`, as well as how to\n",
    "write errors and output custom error messages within your functions. You\n",
    "will now put together these learnings to good use by working with a\n",
    "Twitter dataset. Before practicing your new error handling skills; in\n",
    "this exercise, you will write a lambda function and use `filter()` to\n",
    "select retweets, that is, tweets that begin with the string `'RT'`.\n",
    "\n",
    "To help you accomplish this, the Twitter data has been imported into the\n",
    "DataFrame, `tweets_df`. Go for it!\n",
    "\n",
    "-   In the `filter()` call, pass a lambda function and the sequence of\n",
    "    tweets as strings, `tweets_df['text']`. The lambda function should\n",
    "    check if the first 2 characters in a tweet `x` are 'RT'. Assign the\n",
    "    resulting filter object to `result`. To get the first 2 characters\n",
    "    in a tweet `x`, use `x[0:2]`. To check equality, use a Boolean\n",
    "    filter with `==`.\n",
    "-   Convert `result` to a list and print out the list.\n"
   ]
  },
  {
   "cell_type": "code",
   "execution_count": 25,
   "metadata": {
    "vscode": {
     "languageId": "r"
    }
   },
   "outputs": [
    {
     "name": "stdout",
     "output_type": "stream",
     "text": [
      "RT @bpolitics: .@krollbondrating's Christopher Whalen says Clinton is the weakest Dem candidate in 50 years https://t.co/pLk7rvoRSn https:/…\n",
      "RT @HeidiAlpine: @dmartosko Cruz video found.....racing from the scene.... #cruzsexscandal https://t.co/zuAPZfQDk3\n",
      "RT @AlanLohner: The anti-American D.C. elites despise Trump for his America-first foreign policy. Trump threatens their gravy train. https:…\n",
      "RT @BIackPplTweets: Young Donald trump meets his neighbor  https://t.co/RFlu17Z1eE\n",
      "RT @trumpresearch: @WaitingInBagdad @thehill Trump supporters have selective amnisia.\n",
      "RT @HouseCracka: 29,000+ PEOPLE WATCHING TRUMP LIVE ON ONE STREAM!!!\n",
      "\n",
      "https://t.co/7QCFz9ehNe\n",
      "RT @urfavandtrump: RT for Brendon Urie\n",
      "Fav for Donald Trump https://t.co/PZ5vS94lOg\n",
      "RT @trapgrampa: This is how I see #Trump every time he speaks. https://t.co/fYSiHNS0nT\n",
      "RT @trumpresearch: @WaitingInBagdad @thehill Trump supporters have selective amnisia.\n",
      "RT @Pjw20161951: NO KIDDING: #SleazyDonald just attacked Scott Walker for NOT RAISING TAXES in WI! #LyinTrump\n",
      "#NeverTrump  #CruzCrew  https…\n",
      "RT @urfavandtrump: RT for Brendon Urie\n",
      "Fav for Donald Trump https://t.co/PZ5vS94lOg\n",
      "RT @ggreenwald: The media spent all day claiming @SusanSarandon said she might vote for Trump. A total fabrication, but whatever... https:/…\n",
      "RT @Pjw20161951: NO KIDDING: #SleazyDonald just attacked Scott Walker for NOT RAISING TAXES in WI! #LyinTrump\n",
      "#NeverTrump  #CruzCrew  https…\n",
      "RT @trapgrampa: This is how I see #Trump every time he speaks. https://t.co/fYSiHNS0nT\n",
      "RT @mitchellvii: So let me get this straight.  Any reporter can assault Mr Trump at any time and Corey can do nothing?  Michelle is clearly…\n",
      "RT @paulbenedict7: How #Trump Sacks RINO Strongholds by Hitting Positions Held by Dems and GOP https://t.co/D7ulnAJhis   #tcot #PJNET https…\n",
      "RT @DRUDGE_REPORT: VIDEO:  Trump emotional moment with Former Miss Wisconsin who has terminal illness... https://t.co/qt06aG9inT\n",
      "RT @ggreenwald: The media spent all day claiming @SusanSarandon said she might vote for Trump. A total fabrication, but whatever... https:/…\n",
      "RT @DennisApgar: Thank God I seen Trump at first stop in Wisconsin media doesn't know how great he is, advice watch live streaming https://…\n",
      "RT @paulbenedict7: How #Trump Sacks RINO Strongholds by Hitting Positions Held by Dems and GOP https://t.co/D7ulnAJhis   #tcot #PJNET https…\n",
      "RT @DRUDGE_REPORT: VIDEO:  Trump emotional moment with Former Miss Wisconsin who has terminal illness... https://t.co/qt06aG9inT\n",
      "RT @DennisApgar: Thank God I seen Trump at first stop in Wisconsin media doesn't know how great he is, advice watch live streaming https://…\n",
      "RT @mitchellvii: So let me get this straight.  Any reporter can assault Mr Trump at any time and Corey can do nothing?  Michelle is clearly…\n",
      "RT @sciam: Trump's idiosyncratic patterns of speech are why people tend either to love or hate him https://t.co/QXwquVgs3c https://t.co/P9N…\n",
      "RT @Norsu2: Nightmare WI poll for Ted Cruz has Kasich surging: Trump 29, Kasich 27, Cruz 25. https://t.co/lJsgbLYY1P #NeverTrump\n",
      "RT @thehill: WATCH: Protester pepper-sprayed point blank at Trump rally https://t.co/B5f65Al9ld https://t.co/skAfByXuQc\n",
      "RT @sciam: Trump's idiosyncratic patterns of speech are why people tend either to love or hate him https://t.co/QXwquVgs3c https://t.co/P9N…\n",
      "RT @ggreenwald: The media spent all day claiming @SusanSarandon said she might vote for Trump. A total fabrication, but whatever... https:/…\n",
      "RT @DebbieStout5: Wow! Last I checked it was just 12 points &amp; that wasn't more than a day ago. Oh boy Trump ppl might want to rethink🤔 http…\n",
      "RT @tyleroakley: i'm a messy bitch, but at least i'm not voting for trump\n",
      "RT @vandives: Trump supporters r tired of justice NOT being served. There's no justice anymore. Hardworking Americans get screwed. That's n…\n",
      "RT @AP: BREAKING: Trump vows to stand by campaign manager charged with battery, says he does not discard people.\n",
      "RT @AP: BREAKING: Trump vows to stand by campaign manager charged with battery, says he does not discard people.\n",
      "RT @urfavandtrump: RT for Jerrie (Little Mix)\n",
      "Fav for Donald Trump https://t.co/nEVxElW6iG\n",
      "RT @urfavandtrump: RT for Jerrie (Little Mix)\n",
      "Fav for Donald Trump https://t.co/nEVxElW6iG\n",
      "RT @NoahCRothman: When Walker was fighting for reforms, Trump was defending unions and collective bargaining privileges https://t.co/e1UWNN…\n",
      "RT @RedheadAndRight: Report: Secret Service Says Michelle Fields Touched Trump https://t.co/c5c2sD8VO2\n",
      "\n",
      "This is the only article you will n…\n",
      "RT @AIIAmericanGirI: VIDEO=&gt; Anti-Trump Protester SLUGS Elderly Trump Supporter in the Face\n",
      "https://t.co/GeEryMDuDY\n",
      "RT @NoahCRothman: When Walker was fighting for reforms, Trump was defending unions and collective bargaining privileges https://t.co/e1UWNN…\n",
      "RT @JusticeRanger1: @realDonaldTrump @Pudingtane @DanScavino @GOP @infowars @EricTrump \n",
      "URGENT PUBLIC TRUMP ALERT:\n",
      "COVERT KILL MEANS https:…\n",
      "RT @AIIAmericanGirI: VIDEO=&gt; Anti-Trump Protester SLUGS Elderly Trump Supporter in the Face\n",
      "https://t.co/GeEryMDuDY\n",
      "RT @RedheadAndRight: Report: Secret Service Says Michelle Fields Touched Trump https://t.co/c5c2sD8VO2\n",
      "\n",
      "This is the only article you will n…\n",
      "RT @JusticeRanger1: @realDonaldTrump @Pudingtane @DanScavino @GOP @infowars @EricTrump \n",
      "URGENT PUBLIC TRUMP ALERT:\n",
      "COVERT KILL MEANS https:…\n",
      "RT @Schneider_CM: Trump says nobody had ever heard of executive orders before Obama started signing them. Never heard of the Emancipation P…\n",
      "RT @RonBasler1: @DavidWhitDennis @realDonaldTrump @tedcruz \n",
      "\n",
      "CRUZ SCREWS HOOKERS\n",
      "\n",
      "CRUZ / CLINTON\n",
      "RT @DonaldsAngel: Former Ms. WI just said that she is terminally ill but because of Trump pageant, her 7 yr. old son has his college educat…\n",
      "RT @Schneider_CM: Trump says nobody had ever heard of executive orders before Obama started signing them. Never heard of the Emancipation P…\n",
      "RT @DonaldsAngel: Former Ms. WI just said that she is terminally ill but because of Trump pageant, her 7 yr. old son has his college educat…\n",
      "RT @Dodarey: @DR8801 @SykesCharlie Charlie, let's see you get a straight \"yes\" or \"no\" answer from Cruz a/b being unfaithful to his wife @T…\n",
      "RT @RonBasler1: @DavidWhitDennis @realDonaldTrump @tedcruz \n",
      "\n",
      "CRUZ SCREWS HOOKERS\n",
      "\n",
      "CRUZ / CLINTON\n",
      "RT @RockCliffOne: Remember when the idea of a diabolical moron holding the world hostage was an idea for a funny movie? #Trump #GOP https:/…\n",
      "RT @HillaryClinton: \"Every day, another Republican bemoans the rise of Donald Trump... but [he] didn’t come out of nowhere.\" —Hillary\n",
      "https…\n",
      "RT @Dodarey: @DR8801 @SykesCharlie Charlie, let's see you get a straight \"yes\" or \"no\" answer from Cruz a/b being unfaithful to his wife @T…\n",
      "RT @HillaryClinton: \"Every day, another Republican bemoans the rise of Donald Trump... but [he] didn’t come out of nowhere.\" —Hillary\n",
      "https…\n",
      "RT @RockCliffOne: Remember when the idea of a diabolical moron holding the world hostage was an idea for a funny movie? #Trump #GOP https:/…\n",
      "RT @immigrant4trump: @immigrant4trump msm, cable news attacking trump all day, from 8am to 10pm today, then the reruns come on, repeating t…\n",
      "RT @immigrant4trump: @immigrant4trump msm, cable news attacking trump all day, from 8am to 10pm today, then the reruns come on, repeating t…\n",
      "RT @GlendaJazzey: Donald Trump’s Campaign Financing Dodge, @rrotunda https://t.co/L8flI4lswG via @VerdictJustia\n",
      "RT @TUSK81: LOUDER FOR THE PEOPLE IN THE BACK https://t.co/hlPVyNLXzx\n",
      "RT @loopzoop: Well...put it back https://t.co/8Yb7BDT5VM\n",
      "RT @claytoncubitt: Stop asking Bernie supporters if they’ll vote for Hillary against Trump. We got a plan to beat Trump already. Called Ber…\n",
      "RT @akaMaude13: Seriously can't make this up. What a joke. #NeverTrump  https://t.co/JkTx6mdRgC\n"
     ]
    }
   ],
   "source": [
    "# Select retweets from the Twitter DataFrame: result\n",
    "result = filter(lambda x: x[0:2] == 'RT', tweets_df['text'])\n",
    "\n",
    "# Create list from filter object result: res_list\n",
    "res_list = list(result)\n",
    "\n",
    "# Print all retweets in res_list\n",
    "for tweet in res_list:\n",
    "    print(tweet)\n"
   ]
  },
  {
   "cell_type": "markdown",
   "metadata": {},
   "source": [
    "### Bringing it all together (2)\n",
    "\n",
    "Sometimes, we make mistakes when calling functions - even ones *you*\n",
    "made yourself. But don't fret! In this exercise, you will improve on\n",
    "your previous work with the `count_entries()` function in the last\n",
    "chapter by adding a `try-except` block to it. This will allow your\n",
    "function to provide a helpful message when the user calls your\n",
    "`count_entries()` function but provides a column name that isn't in the\n",
    "DataFrame.\n",
    "\n",
    "Once again, for your convenience, `pandas` has been imported as `pd` and\n",
    "the `'tweets.csv'` file has been imported into the DataFrame\n",
    "`tweets_df`. Parts of the code from your previous work are also\n",
    "provided.\n",
    "\n",
    "-   Add a `try` block so that when the function is called with the\n",
    "    correct arguments, it processes the DataFrame and returns a\n",
    "    dictionary of results.\n",
    "-   Add an `except` block so that when the function is called\n",
    "    incorrectly, it displays the following error message:\n",
    "    `'The DataFrame does not have a ' + col_name + ' column.'`.\n"
   ]
  },
  {
   "cell_type": "code",
   "execution_count": 26,
   "metadata": {
    "vscode": {
     "languageId": "r"
    }
   },
   "outputs": [
    {
     "name": "stdout",
     "output_type": "stream",
     "text": [
      "{'en': 97, 'et': 1, 'und': 2}\n"
     ]
    }
   ],
   "source": [
    "# Define count_entries()\n",
    "def count_entries(df, col_name='lang'):\n",
    "    \"\"\"Return a dictionary with counts of\n",
    "    occurrences as value for each key.\"\"\"\n",
    "\n",
    "    # Initialize an empty dictionary: cols_count\n",
    "    cols_count = {}\n",
    "\n",
    "    # Add try block\n",
    "    try: \n",
    "        # Extract column from DataFrame: col\n",
    "        col = df[col_name]\n",
    "        \n",
    "        # Iterate over the column in DataFrame\n",
    "        for entry in col:\n",
    "    \n",
    "            # If entry is in cols_count, add 1\n",
    "            if entry in cols_count.keys():\n",
    "                cols_count[entry] += 1\n",
    "            # Else add the entry to cols_count, set the value to 1\n",
    "            else:\n",
    "                cols_count[entry] = 1\n",
    "    \n",
    "        # Return the cols_count dictionary\n",
    "        return cols_count\n",
    "\n",
    "    # Add except block\n",
    "    except:\n",
    "        print('The DataFrame does not have a ' + col_name + ' column.')\n",
    "\n",
    "# Call count_entries(): result1\n",
    "result1 = count_entries(tweets_df, 'lang')\n",
    "\n",
    "# Print result1\n",
    "print(result1)\n"
   ]
  },
  {
   "cell_type": "markdown",
   "metadata": {},
   "source": [
    "### Bringing it all together (3)\n",
    "\n",
    "In the previous exercise, you built on your function `count_entries()`\n",
    "to add a `try-except` block. This was so that users would get helpful\n",
    "messages when calling your `count_entries()` function and providing a\n",
    "column name that isn't in the DataFrame. In this exercise, you'll\n",
    "instead raise a `ValueError` in the case that the user provides a column\n",
    "name that isn't in the DataFrame.\n",
    "\n",
    "Once again, for your convenience, `pandas` has been imported as `pd` and\n",
    "the `'tweets.csv'` file has been imported into the DataFrame\n",
    "`tweets_df`. Parts of the code from your previous work are also\n",
    "provided.\n",
    "\n",
    "-   If `col_name` is *not* a column in the DataFrame `df`, raise a\n",
    "    `ValueError 'The DataFrame does not have a ' + col_name + ' column.'`.\n",
    "-   Call your new function `count_entries()` to analyze the `'lang'`\n",
    "    column of `tweets_df`. Store the result in `result1`.\n",
    "-   Print `result1`. This has been done for you, so hit 'Submit Answer'\n",
    "    to check out the result. In the next exercise, you'll see that it\n",
    "    raises the necessary `ValueErrors`.\n"
   ]
  },
  {
   "cell_type": "code",
   "execution_count": 27,
   "metadata": {
    "vscode": {
     "languageId": "r"
    }
   },
   "outputs": [
    {
     "name": "stdout",
     "output_type": "stream",
     "text": [
      "{'en': 97, 'et': 1, 'und': 2}\n"
     ]
    }
   ],
   "source": [
    "# Define count_entries()\n",
    "def count_entries(df, col_name='lang'):\n",
    "    \"\"\"Return a dictionary with counts of\n",
    "    occurrences as value for each key.\"\"\"\n",
    "    \n",
    "    # Raise a ValueError if col_name is NOT in DataFrame\n",
    "    if col_name not in df.columns:\n",
    "        raise ValueError('The DataFrame does not have a ' + col_name + ' column.')\n",
    "\n",
    "    # Initialize an empty dictionary: cols_count\n",
    "    cols_count = {}\n",
    "    \n",
    "    # Extract column from DataFrame: col\n",
    "    col = df[col_name]\n",
    "    \n",
    "    # Iterate over the column in DataFrame\n",
    "    for entry in col:\n",
    "\n",
    "        # If entry is in cols_count, add 1\n",
    "        if entry in cols_count.keys():\n",
    "            cols_count[entry] += 1\n",
    "            # Else add the entry to cols_count, set the value to 1\n",
    "        else:\n",
    "            cols_count[entry] = 1\n",
    "        \n",
    "        # Return the cols_count dictionary\n",
    "    return cols_count\n",
    "\n",
    "# Call count_entries(): result1\n",
    "result1 = count_entries(tweets_df, 'lang')\n",
    "\n",
    "# Print result1\n",
    "print(result1)\n"
   ]
  },
  {
   "cell_type": "markdown",
   "metadata": {},
   "source": [
    "### Bringing it all together: testing your error handling skills\n",
    "\n",
    "You have just written error handling into your `count_entries()`\n",
    "function so that, when the user passes the function a column (as 2nd\n",
    "argument) NOT contained in the DataFrame (1st argument), a `ValueError`\n",
    "is thrown. You're now going to play with this function: it is loaded\n",
    "into pre-exercise code, as is the DataFrame `tweets_df`. Try calling\n",
    "`count_entries(tweets_df, 'lang')` to confirm that the function behaves\n",
    "as it should. Then call `count_entries(tweets_df, 'lang1')`: what is the\n",
    "last line of the output?\n",
    "\n",
    "- [ ] 'ValueError: The DataFrame does not have the requested column.'\n",
    "- [x] 'ValueError: The DataFrame does not have a lang1 column.'\n",
    "- [ ] 'TypeError: The DataFrame does not have the requested column.'\n",
    "\n",
    "## Congratulations!\n",
    "\n",
    "### Congratulations!\n",
    "\n",
    "Well done. You're now well on your way to being a Pythonista Data Science ninja.\n",
    "\n",
    "### What you’ve learned:\n",
    "\n",
    "You're now able to write functions in Python that accept single and multiple arguments and can return as many values as you please. You're also adept at using default and flexible arguments and keyword arguments. You've gained insight into scoping in Python, can write lambda functions and handle errors in your very own function writing practice. You've also gained invaluable practice in using all of these techniques to write functions that are useful in a Data Science context. You have come a long way in your developing practice as a budding Pythonista Data Scientist.\n",
    "\n",
    "### There’s more to learn!\n",
    "\n",
    "There are more basic skills that you will need to learn in Python to be valuable as a working Data Scientist and many of these we'll cover in the sequel to this course so if you're finding yourself still thirsty for more Pythonista Data Science chops, I'd head over there right now. There you'll learn all about list comprehensions, which allow you to wrangle data in lists to create other lists, a tool utilized by all Data Scientists working in Python. You'll also learn about iterators, which you have already seen in the context of for loops without having necessarily known it. Iterators are everywhere in PythonLand and, to put it simply, allow you to rapidly iterate Data Science protocols and procedures over sets of objects; these are a couple of the cool functionalities in PythonLand you'll encounter in the sequel to this course, which will conclude with an entire chapter devoted to a case study in which you'll apply time and time again techniques learnt in both of these courses.\n",
    "\n",
    "### Let's practice!\n",
    "\n",
    "I'm looking forward to seeing you there and congratulations once again!\n"
   ]
  }
 ],
 "metadata": {
  "anaconda-cloud": "",
  "kernelspec": {
   "display_name": "Python 3 (ipykernel)",
   "language": "python",
   "name": "python3"
  },
  "language_info": {
   "codemirror_mode": {
    "name": "ipython",
    "version": 3
   },
   "file_extension": ".py",
   "mimetype": "text/x-python",
   "name": "python",
   "nbconvert_exporter": "python",
   "pygments_lexer": "ipython3",
   "version": "3.11.2"
  }
 },
 "nbformat": 4,
 "nbformat_minor": 4
}
