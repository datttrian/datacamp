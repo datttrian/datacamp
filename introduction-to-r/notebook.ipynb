{
 "cells": [
  {
   "attachments": {},
   "cell_type": "markdown",
   "metadata": {},
   "source": [
    "**Course Description**\n",
    "\n",
    "*Learn R Programming*\n",
    "\n",
    "R programming language is a useful tool for data scientists, analysts, and statisticians, especially those working in academic settings. R's ability to handle complex analyses such as machine learning, financial modeling, and more makes it a valuable asset for a wide range of data-related tasks.\n",
    "\n",
    "This introduction to R course covers the basics of this open source language, including vectors, factors, lists, and data frames. You’ll gain useful coding skills and be ready to start your own data analysis in R.\n",
    "\n",
    "*Gain an Introduction to R*\n",
    "\n",
    "You’ll get started with basic operations, like using the console as a calculator and understanding basic data types in R. Once you’ve had a chance to practice, you’ll move on to creating vectors and try out your new R skills on a data set based on betting in Las Vegas.\n",
    "\n",
    "Next, you’ll learn how to work with matrices in R, learning how to create them, and perform calculations with them. You’ll also examine how R uses factors to store categorical data. Finally, you’ll explore how to work with R data frames and lists.\n",
    "\n",
    "*Master the R Basics for Data Analysis*\n",
    "\n",
    "By the time you’ve completed our Introduction to R course, you’ll be able to use R for your own data analysis. These sought-after skills can help you progress in your career and set you up for further learning. This course is part of several tracks, including Data Analyst with R, Data Scientist with R, and R Programming, all of which can help you develop your knowledge.\n",
    "\n",
    "# Intro to basics\n",
    "\n",
    "Take your first steps with R. In this chapter, you will learn how to use the console as a calculator and how to assign variables. You will also get to know the basic data types in R. Let's get started.\n",
    "\n",
    "## How it works\n",
    "\n",
    "In the editor on the right you should type R code to solve the\n",
    "exercises. When you hit the 'Submit Answer' button, every line of code\n",
    "is interpreted and executed by R and you get a message whether or not\n",
    "your code was correct. The output of your R code is shown in the console\n",
    "in the lower right corner.\n",
    "\n",
    "R makes use of the `#` sign to add comments, so that you and others can\n",
    "understand what the R code is about. Just like Twitter! Comments are not\n",
    "run as R code, so they will not influence your result. For example,\n",
    "*Calculate 3 + 4* in the editor on the right is a comment.\n",
    "\n",
    "You can also execute R commands straight in the console. This is a good\n",
    "way to experiment with R code, as your submission is not checked for\n",
    "correctness.\n",
    "\n",
    "-   In the editor on the right there is already some sample code. Can\n",
    "    you see which lines are actual R code and which are comments?\n",
    "-   Add a line of code that calculates the sum of 6 and 12, and hit the\n",
    "    'Submit Answer' button.\n"
   ]
  },
  {
   "cell_type": "code",
   "execution_count": 1,
   "metadata": {
    "vscode": {
     "languageId": "r"
    }
   },
   "outputs": [
    {
     "data": {
      "text/html": [
       "7"
      ],
      "text/latex": [
       "7"
      ],
      "text/markdown": [
       "7"
      ],
      "text/plain": [
       "[1] 7"
      ]
     },
     "metadata": {},
     "output_type": "display_data"
    },
    {
     "data": {
      "text/html": [
       "18"
      ],
      "text/latex": [
       "18"
      ],
      "text/markdown": [
       "18"
      ],
      "text/plain": [
       "[1] 18"
      ]
     },
     "metadata": {},
     "output_type": "display_data"
    }
   ],
   "source": [
    "# Calculate 3 + 4\n",
    "3 + 4\n",
    "\n",
    "# Calculate 6 + 12\n",
    "6 + 12\n"
   ]
  },
  {
   "cell_type": "markdown",
   "metadata": {},
   "source": [
    "## Arithmetic with R\n",
    "\n",
    "In its most basic form, R can be used as a simple calculator. Consider\n",
    "the following arithmetic operators:\n",
    "\n",
    "-   Addition: `+`\n",
    "-   Subtraction: `-`\n",
    "-   Multiplication: `*`\n",
    "-   Division: `/`\n",
    "-   Exponentiation: `^`\n",
    "-   Modulo: `%%`\n",
    "\n",
    "The last two might need some explaining:\n",
    "\n",
    "-   The `^` operator raises the number to its left to the power of the\n",
    "    number to its right: for example `3^2` is 9.\n",
    "-   The modulo returns the remainder of the division of the number to\n",
    "    the left by the number on its right, for example 5 modulo 3 or\n",
    "    `5 %% 3` is 2.\n",
    "\n",
    "With this knowledge, follow the instructions to complete the exercise.\n",
    "\n",
    "-   Type `2^5` in the editor to calculate 2 to the power 5.\n",
    "-   Type `28 %% 6` to calculate 28 modulo 6.\n",
    "-   Submit the answer and have a look at the R output in the console.\n",
    "-   Note how the `#` symbol is used to add comments on the R code.\n"
   ]
  },
  {
   "cell_type": "code",
   "execution_count": 2,
   "metadata": {
    "tags": [],
    "vscode": {
     "languageId": "r"
    }
   },
   "outputs": [
    {
     "data": {
      "text/html": [
       "10"
      ],
      "text/latex": [
       "10"
      ],
      "text/markdown": [
       "10"
      ],
      "text/plain": [
       "[1] 10"
      ]
     },
     "metadata": {},
     "output_type": "display_data"
    },
    {
     "data": {
      "text/html": [
       "0"
      ],
      "text/latex": [
       "0"
      ],
      "text/markdown": [
       "0"
      ],
      "text/plain": [
       "[1] 0"
      ]
     },
     "metadata": {},
     "output_type": "display_data"
    },
    {
     "data": {
      "text/html": [
       "15"
      ],
      "text/latex": [
       "15"
      ],
      "text/markdown": [
       "15"
      ],
      "text/plain": [
       "[1] 15"
      ]
     },
     "metadata": {},
     "output_type": "display_data"
    },
    {
     "data": {
      "text/html": [
       "5"
      ],
      "text/latex": [
       "5"
      ],
      "text/markdown": [
       "5"
      ],
      "text/plain": [
       "[1] 5"
      ]
     },
     "metadata": {},
     "output_type": "display_data"
    },
    {
     "data": {
      "text/html": [
       "32"
      ],
      "text/latex": [
       "32"
      ],
      "text/markdown": [
       "32"
      ],
      "text/plain": [
       "[1] 32"
      ]
     },
     "metadata": {},
     "output_type": "display_data"
    },
    {
     "data": {
      "text/html": [
       "4"
      ],
      "text/latex": [
       "4"
      ],
      "text/markdown": [
       "4"
      ],
      "text/plain": [
       "[1] 4"
      ]
     },
     "metadata": {},
     "output_type": "display_data"
    }
   ],
   "source": [
    "# An addition\n",
    "5 + 5\n",
    "\n",
    "# A subtraction\n",
    "5 - 5 \n",
    "\n",
    "# A multiplication\n",
    "3 * 5\n",
    "\n",
    " # A division\n",
    "(5 + 5) / 2 \n",
    "\n",
    "# Exponentiation\n",
    "2 ^ 5\n",
    "\n",
    "# Modulo\n",
    "28 %% 6\n"
   ]
  },
  {
   "cell_type": "markdown",
   "metadata": {},
   "source": [
    "## Variable assignment\n",
    "\n",
    "A basic concept in (statistical) programming is called a **variable**.\n",
    "\n",
    "A variable allows you to store a value (e.g. 4) or an object (e.g. a\n",
    "function description) in R. You can then later use this variable's name\n",
    "to easily access the value or the object that is stored within this\n",
    "variable.\n",
    "\n",
    "You can assign a value 4 to a variable `my_var` with the command\n",
    "\n",
    "    my_var <- 4\n",
    "\n",
    "Over to you: complete the code in the editor such that it assigns the\n",
    "value 42 to the variable `x` in the editor. Submit the answer. Notice\n",
    "that when you ask R to print `x`, the value 42 appears.\n"
   ]
  },
  {
   "cell_type": "code",
   "execution_count": 3,
   "metadata": {
    "vscode": {
     "languageId": "r"
    }
   },
   "outputs": [
    {
     "data": {
      "text/html": [
       "42"
      ],
      "text/latex": [
       "42"
      ],
      "text/markdown": [
       "42"
      ],
      "text/plain": [
       "[1] 42"
      ]
     },
     "metadata": {},
     "output_type": "display_data"
    }
   ],
   "source": [
    "# Assign the value 42 to x\n",
    "x <- 42\n",
    "\n",
    "# Print out the value of the variable x\n",
    "x\n"
   ]
  },
  {
   "cell_type": "markdown",
   "metadata": {},
   "source": [
    "## Variable assignment (2)\n",
    "\n",
    "Suppose you have a fruit basket with five apples. As a data analyst in\n",
    "training, you want to store the number of apples in a variable with the\n",
    "name `my_apples`.\n",
    "\n",
    "-   Type the following code in the editor: `my_apples <- 5`. This will\n",
    "    assign the value 5 to `my_apples`.\n",
    "-   Type: `my_apples` below the second comment. This will print out the\n",
    "    value of `my_apples`.\n",
    "-   Submit your answer, and look at the output: you see that the number\n",
    "    5 is printed. So R now links the variable `my_apples` to the value\n",
    "    5.\n"
   ]
  },
  {
   "cell_type": "code",
   "execution_count": 4,
   "metadata": {
    "vscode": {
     "languageId": "r"
    }
   },
   "outputs": [
    {
     "data": {
      "text/html": [
       "5"
      ],
      "text/latex": [
       "5"
      ],
      "text/markdown": [
       "5"
      ],
      "text/plain": [
       "[1] 5"
      ]
     },
     "metadata": {},
     "output_type": "display_data"
    }
   ],
   "source": [
    "# Assign the value 5 to the variable my_apples\n",
    "my_apples <- 5\n",
    "\n",
    "# Print out the value of the variable my_apples\n",
    "my_apples\n"
   ]
  },
  {
   "cell_type": "markdown",
   "metadata": {},
   "source": [
    "## Variable assignment (3)\n",
    "\n",
    "Every tasty fruit basket needs oranges, so you decide to add six\n",
    "oranges. As a data analyst, your reflex is to immediately create the\n",
    "variable `my_oranges` and assign the value 6 to it. Next, you want to\n",
    "calculate how many pieces of fruit you have in total. Since you have\n",
    "given meaningful names to these values, you can now code this in a clear\n",
    "way:\n",
    "\n",
    "    my_apples + my_oranges\n",
    "\n",
    "-   Assign to `my_oranges` the value 6.\n",
    "-   Add the variables `my_apples` and `my_oranges` and have R simply\n",
    "    print the result.\n",
    "-   Assign the result of adding `my_apples` and `my_oranges` to a new\n",
    "    variable `my_fruit`.\n"
   ]
  },
  {
   "cell_type": "code",
   "execution_count": 5,
   "metadata": {
    "vscode": {
     "languageId": "r"
    }
   },
   "outputs": [
    {
     "data": {
      "text/html": [
       "11"
      ],
      "text/latex": [
       "11"
      ],
      "text/markdown": [
       "11"
      ],
      "text/plain": [
       "[1] 11"
      ]
     },
     "metadata": {},
     "output_type": "display_data"
    }
   ],
   "source": [
    "# Assign a value to the variables my_apples and my_oranges\n",
    "my_apples  <- 5\n",
    "my_oranges <- 6\n",
    "\n",
    "# Add these two variables together\n",
    "my_apples + my_oranges\n",
    "\n",
    "# Create the variable my_fruit\n",
    "my_fruit <- my_apples + my_oranges\n"
   ]
  },
  {
   "cell_type": "markdown",
   "metadata": {},
   "source": [
    "## Apples and oranges\n",
    "\n",
    "Common knowledge tells you not to add apples and oranges. But hey, that\n",
    "is what you just did, no :-)? The `my_apples` and `my_oranges` variables\n",
    "both contained a number in the previous exercise. The `+` operator works\n",
    "with numeric variables in R. If you really tried to add \"apples\" and\n",
    "\"oranges\", and assigned a text value to the variable `my_oranges` (see\n",
    "the editor), you would be trying to assign the addition of a numeric and\n",
    "a character variable to the variable `my_fruit`. This is not possible.\n",
    "\n",
    "-   Submit the answer and read the error message. Make sure to\n",
    "    understand why this did not work.\n",
    "-   Adjust the code so that R knows you have 6 oranges and thus a fruit\n",
    "    basket with 11 pieces of fruit.\n"
   ]
  },
  {
   "cell_type": "code",
   "execution_count": 6,
   "metadata": {
    "vscode": {
     "languageId": "r"
    }
   },
   "outputs": [
    {
     "data": {
      "text/html": [
       "11"
      ],
      "text/latex": [
       "11"
      ],
      "text/markdown": [
       "11"
      ],
      "text/plain": [
       "[1] 11"
      ]
     },
     "metadata": {},
     "output_type": "display_data"
    }
   ],
   "source": [
    "# Assign a value to the variable my_apples\n",
    "my_apples <- 5  \n",
    "\n",
    "# Fix the assignment of my_oranges\n",
    "my_oranges <- 6\n",
    "\n",
    "# Create the variable my_fruit and print it out\n",
    "my_fruit <- my_apples + my_oranges \n",
    "my_fruit\n"
   ]
  },
  {
   "cell_type": "markdown",
   "metadata": {},
   "source": [
    "## Basic data types in R\n",
    "\n",
    "R works with numerous data types. Some of the most basic types to get\n",
    "started are:\n",
    "\n",
    "-   Decimal values like `4.5` are called **numerics**.\n",
    "-   Whole numbers like `4` are called **integers**. Integers are also\n",
    "    numerics.\n",
    "-   Boolean values (`TRUE` or `FALSE`) are called **logical**.\n",
    "-   Text (or string) values are called **characters**.\n",
    "\n",
    "Note how the quotation marks in the editor indicate that `\"some text\"`\n",
    "is a string.\n",
    "\n",
    "Change the value of the:\n",
    "\n",
    "-   `my_numeric` variable to `42`.\n",
    "-   `my_character` variable to `\"universe\"`. Note that the quotation\n",
    "    marks indicate that `\"universe\"` is a character.\n",
    "-   `my_logical` variable to `FALSE`.\n",
    "\n",
    "Note that R is case sensitive!\n"
   ]
  },
  {
   "cell_type": "code",
   "execution_count": 7,
   "metadata": {
    "vscode": {
     "languageId": "r"
    }
   },
   "outputs": [],
   "source": [
    "# Change my_numeric to be 42\n",
    "my_numeric <- 42\n",
    "\n",
    "# Change my_character to be \"universe\"\n",
    "my_character <- \"universe\"\n",
    "\n",
    "# Change my_logical to be FALSE\n",
    "my_logical <- FALSE\n"
   ]
  },
  {
   "cell_type": "markdown",
   "metadata": {},
   "source": [
    "## What's that data type?\n",
    "\n",
    "Do you remember that when you added `5 + \"six\"`, you got an error due to\n",
    "a mismatch in data types? You can avoid such embarrassing situations by\n",
    "checking the data type of a variable beforehand. You can do this with\n",
    "the `class()` function, as the code in the editor shows.\n",
    "\n",
    "Complete the code in the editor and also print out the classes of\n",
    "`my_character` and `my_logical`.\n"
   ]
  },
  {
   "cell_type": "code",
   "execution_count": 8,
   "metadata": {
    "vscode": {
     "languageId": "r"
    }
   },
   "outputs": [
    {
     "data": {
      "text/html": [
       "'numeric'"
      ],
      "text/latex": [
       "'numeric'"
      ],
      "text/markdown": [
       "'numeric'"
      ],
      "text/plain": [
       "[1] \"numeric\""
      ]
     },
     "metadata": {},
     "output_type": "display_data"
    },
    {
     "data": {
      "text/html": [
       "'character'"
      ],
      "text/latex": [
       "'character'"
      ],
      "text/markdown": [
       "'character'"
      ],
      "text/plain": [
       "[1] \"character\""
      ]
     },
     "metadata": {},
     "output_type": "display_data"
    },
    {
     "data": {
      "text/html": [
       "'logical'"
      ],
      "text/latex": [
       "'logical'"
      ],
      "text/markdown": [
       "'logical'"
      ],
      "text/plain": [
       "[1] \"logical\""
      ]
     },
     "metadata": {},
     "output_type": "display_data"
    }
   ],
   "source": [
    "# Declare variables of different types:\n",
    "my_numeric <- 42\n",
    "my_character <- \"universe\"\n",
    "my_logical <- FALSE\n",
    "\n",
    "# Check class of my_numeric\n",
    "class(my_numeric)\n",
    "\n",
    "# Check class of my_character\n",
    "class(my_character)\n",
    "\n",
    "# Check class of my_logical\n",
    "class(my_logical)\n"
   ]
  },
  {
   "cell_type": "markdown",
   "metadata": {},
   "source": [
    "# Vectors\n",
    "\n",
    "We take you on a trip to Vegas, where you will learn how to analyze your gambling results using vectors in R. After completing this chapter, you will be able to create vectors in R, name them, select elements from them, and compare different vectors.\n",
    "\n",
    "## Create a vector\n",
    "\n",
    "Feeling lucky? You better, because this chapter takes you on a trip to\n",
    "the City of Sins, also known as *Statisticians Paradise*!\n",
    "\n",
    "Thanks to R and your new data-analytical skills, you will learn how to\n",
    "uplift your performance at the tables and fire off your career as a\n",
    "professional gambler. This chapter will show how you can easily keep\n",
    "track of your betting progress and how you can do some simple analyses\n",
    "on past actions. Next stop, Vegas Baby… VEGAS!!\n",
    "\n",
    "-   Do you still remember what you have learned in the first chapter?\n",
    "    Assign the value `\"Go!\"` to the variable `vegas`. Remember: R is\n",
    "    case sensitive!\n"
   ]
  },
  {
   "cell_type": "code",
   "execution_count": 9,
   "metadata": {
    "vscode": {
     "languageId": "r"
    }
   },
   "outputs": [],
   "source": [
    "# Define the variable vegas\n",
    "vegas <- \"Go!\"\n"
   ]
  },
  {
   "cell_type": "markdown",
   "metadata": {},
   "source": [
    "## Create a vector (2)\n",
    "\n",
    "Let us focus first!\n",
    "\n",
    "On your way from rags to riches, you will make extensive use of vectors.\n",
    "Vectors are one-dimension arrays that can hold numeric data, character\n",
    "data, or logical data. In other words, a vector is a simple tool to\n",
    "store data. For example, you can store your daily gains and losses in\n",
    "the casinos.\n",
    "\n",
    "In R, you create a vector with the combine function\n",
    "[`c()`](http://www.rdocumentation.org/packages/base/functions/c). You\n",
    "place the vector elements separated by a comma between the parentheses.\n",
    "For example:\n",
    "\n",
    "    numeric_vector <- c(1, 2, 3)\n",
    "    character_vector <- c(\"a\", \"b\", \"c\")\n",
    "\n",
    "Once you have created these vectors in R, you can use them to do\n",
    "calculations.\n",
    "\n",
    "Complete the code such that `boolean_vector` contains the three\n",
    "elements: `TRUE`, `FALSE` and `TRUE` (in that order).\n"
   ]
  },
  {
   "cell_type": "code",
   "execution_count": 10,
   "metadata": {
    "vscode": {
     "languageId": "r"
    }
   },
   "outputs": [],
   "source": [
    "numeric_vector <- c(1, 10, 49)\n",
    "character_vector <- c(\"a\", \"b\", \"c\")\n",
    "\n",
    "# Complete the code for boolean_vector\n",
    "boolean_vector <- c(TRUE, FALSE, TRUE)\n"
   ]
  },
  {
   "cell_type": "markdown",
   "metadata": {},
   "source": [
    "## Create a vector (3)\n",
    "\n",
    "After one week in Las Vegas and still zero Ferraris in your garage, you\n",
    "decide that it is time to start using your data analytical superpowers.\n",
    "\n",
    "Before doing a first analysis, you decide to first collect all the\n",
    "winnings and losses for the last week:\n",
    "\n",
    "For `poker_vector`:\n",
    "\n",
    "-   On Monday you won $140\n",
    "-   Tuesday you lost $50\n",
    "-   Wednesday you won $20\n",
    "-   Thursday you lost $120\n",
    "-   Friday you won $240\n",
    "\n",
    "For `roulette_vector`:\n",
    "\n",
    "-   On Monday you lost $24\n",
    "-   Tuesday you lost $50\n",
    "-   Wednesday you won $100\n",
    "-   Thursday you lost $350\n",
    "-   Friday you won $10\n",
    "\n",
    "You only played poker and roulette, since there was a delegation of\n",
    "mediums that occupied the craps tables. To be able to use this data in\n",
    "R, you decide to create the variables `poker_vector` and\n",
    "`roulette_vector`.\n",
    "\n",
    "Assign the winnings/losses for roulette to the variable\n",
    "`roulette_vector`. You lost $24, then lost $50, won $100, lost $350, and\n",
    "won $10.\n"
   ]
  },
  {
   "cell_type": "code",
   "execution_count": 11,
   "metadata": {
    "vscode": {
     "languageId": "r"
    }
   },
   "outputs": [],
   "source": [
    "# Poker winnings from Monday to Friday\n",
    "poker_vector <- c(140, -50, 20, -120, 240)\n",
    "\n",
    "# Roulette winnings from Monday to Friday\n",
    "roulette_vector <- c(-24, -50, 100, -350, 10)\n"
   ]
  },
  {
   "cell_type": "markdown",
   "metadata": {},
   "source": [
    "## Naming a vector\n",
    "\n",
    "As a data analyst, it is important to have a clear view on the data that\n",
    "you are using. Understanding what each element refers to is therefore\n",
    "essential.\n",
    "\n",
    "In the previous exercise, we created a vector with your winnings over\n",
    "the week. Each vector element refers to a day of the week but it is hard\n",
    "to tell which element belongs to which day. It would be nice if you\n",
    "could show that in the vector itself.\n",
    "\n",
    "You can give a name to the elements of a vector with the `names()`\n",
    "function. Have a look at this example:\n",
    "\n",
    "    some_vector <- c(\"John Doe\", \"poker player\")\n",
    "    names(some_vector) <- c(\"Name\", \"Profession\")\n",
    "\n",
    "This code first creates a vector `some_vector` and then gives the two\n",
    "elements a name. The first element is assigned the name `Name`, while\n",
    "the second element is labeled `Profession`. Printing the contents to the\n",
    "console yields following output:\n",
    "\n",
    "              Name     Profession \n",
    "        \"John Doe\" \"poker player\" \n",
    "\n",
    "-   The code in the editor names the elements in `poker_vector` with the\n",
    "    days of the week. Add code to do the same thing for\n",
    "    `roulette_vector`.\n"
   ]
  },
  {
   "cell_type": "code",
   "execution_count": 12,
   "metadata": {
    "vscode": {
     "languageId": "r"
    }
   },
   "outputs": [],
   "source": [
    "# Poker winnings from Monday to Friday\n",
    "poker_vector <- c(140, -50, 20, -120, 240)\n",
    "\n",
    "# Roulette winnings from Monday to Friday\n",
    "roulette_vector <- c(-24, -50, 100, -350, 10)\n",
    "\n",
    "# Assign days as names of poker_vector\n",
    "names(poker_vector) <- c(\"Monday\", \"Tuesday\", \"Wednesday\", \"Thursday\", \"Friday\")\n",
    "\n",
    "# Assign days as names of roulette_vector\n",
    "names(roulette_vector) <- c(\"Monday\", \"Tuesday\", \"Wednesday\", \"Thursday\", \"Friday\")\n"
   ]
  },
  {
   "cell_type": "markdown",
   "metadata": {},
   "source": [
    "## Naming a vector (2)\n",
    "\n",
    "If you want to become a good statistician, you have to become lazy. (If\n",
    "you are already lazy, chances are high you are one of those exceptional,\n",
    "natural-born statistical talents.)\n",
    "\n",
    "In the previous exercises you probably experienced that it is boring and\n",
    "frustrating to type and retype information such as the days of the week.\n",
    "However, when you look at it from a higher perspective, there is a more\n",
    "efficient way to do this, namely, to assign the days of the week vector\n",
    "to a **variable**!\n",
    "\n",
    "Just like you did with your poker and roulette returns, you can also\n",
    "create a variable that contains the days of the week. This way you can\n",
    "use and re-use it.\n",
    "\n",
    "-   A variable `days_vector` that contains the days of the week has\n",
    "    already been created for you.\n",
    "-   Use `days_vector` to set the names of `poker_vector` and\n",
    "    `roulette_vector`.\n"
   ]
  },
  {
   "cell_type": "code",
   "execution_count": 13,
   "metadata": {
    "vscode": {
     "languageId": "r"
    }
   },
   "outputs": [],
   "source": [
    "# Poker winnings from Monday to Friday\n",
    "poker_vector <- c(140, -50, 20, -120, 240)\n",
    "\n",
    "# Roulette winnings from Monday to Friday\n",
    "roulette_vector <- c(-24, -50, 100, -350, 10)\n",
    "\n",
    "# The variable days_vector\n",
    "days_vector <- c(\"Monday\", \"Tuesday\", \"Wednesday\", \"Thursday\", \"Friday\")\n",
    "\n",
    "# Assign the names of the day to roulette_vector and poker_vector\n",
    "names(poker_vector) <- days_vector\n",
    "names(roulette_vector) <- days_vector\n"
   ]
  },
  {
   "cell_type": "markdown",
   "metadata": {},
   "source": [
    "## Calculating total winnings\n",
    "\n",
    "Now that you have the poker and roulette winnings nicely as named\n",
    "vectors, you can start doing some data analytical magic.\n",
    "\n",
    "You want to find out the following type of information:\n",
    "\n",
    "-   How much has been your overall profit or loss per day of the week?\n",
    "-   Have you lost money over the week in total?\n",
    "-   Are you winning/losing money on poker or on roulette?\n",
    "\n",
    "To get the answers, you have to do arithmetic calculations on vectors.\n",
    "\n",
    "It is important to know that if you sum two vectors in R, it takes the\n",
    "element-wise sum. For example, the following three statements are\n",
    "completely equivalent:\n",
    "\n",
    "    c(1, 2, 3) + c(4, 5, 6)\n",
    "    c(1 + 4, 2 + 5, 3 + 6)\n",
    "    c(5, 7, 9)\n",
    "\n",
    "You can also do the calculations with variables that represent vectors:\n",
    "\n",
    "    a <- c(1, 2, 3) \n",
    "    b <- c(4, 5, 6)\n",
    "    c <- a + b\n",
    "\n",
    "-   Take the sum of the variables `A_vector` and `B_vector` and assign\n",
    "    it to `total_vector`.\n",
    "-   Inspect the result by printing out `total_vector`.\n"
   ]
  },
  {
   "cell_type": "code",
   "execution_count": 14,
   "metadata": {
    "vscode": {
     "languageId": "r"
    }
   },
   "outputs": [
    {
     "data": {
      "text/html": [
       "<style>\n",
       ".list-inline {list-style: none; margin:0; padding: 0}\n",
       ".list-inline>li {display: inline-block}\n",
       ".list-inline>li:not(:last-child)::after {content: \"\\00b7\"; padding: 0 .5ex}\n",
       "</style>\n",
       "<ol class=list-inline><li>5</li><li>7</li><li>9</li></ol>\n"
      ],
      "text/latex": [
       "\\begin{enumerate*}\n",
       "\\item 5\n",
       "\\item 7\n",
       "\\item 9\n",
       "\\end{enumerate*}\n"
      ],
      "text/markdown": [
       "1. 5\n",
       "2. 7\n",
       "3. 9\n",
       "\n",
       "\n"
      ],
      "text/plain": [
       "[1] 5 7 9"
      ]
     },
     "metadata": {},
     "output_type": "display_data"
    }
   ],
   "source": [
    "A_vector <- c(1, 2, 3)\n",
    "B_vector <- c(4, 5, 6)\n",
    "\n",
    "# Take the sum of A_vector and B_vector\n",
    "total_vector <- A_vector + B_vector\n",
    "\n",
    "# Print out total_vector\n",
    "total_vector\n"
   ]
  },
  {
   "cell_type": "markdown",
   "metadata": {},
   "source": [
    "## Calculating total winnings (2)\n",
    "\n",
    "Now you understand how R does arithmetic with vectors, it is time to get\n",
    "those Ferraris in your garage! First, you need to understand what the\n",
    "overall profit or loss per day of the week was. The total daily profit\n",
    "is the sum of the profit/loss you realized on poker per day, and the\n",
    "profit/loss you realized on roulette per day.\n",
    "\n",
    "In R, this is just the sum of `roulette_vector` and `poker_vector`.\n",
    "\n",
    "Assign to the variable `total_daily` how much you won or lost on each\n",
    "day in total (poker and roulette combined).\n"
   ]
  },
  {
   "cell_type": "code",
   "execution_count": 15,
   "metadata": {
    "vscode": {
     "languageId": "r"
    }
   },
   "outputs": [],
   "source": [
    "# Poker and roulette winnings from Monday to Friday:\n",
    "poker_vector <- c(140, -50, 20, -120, 240)\n",
    "roulette_vector <- c(-24, -50, 100, -350, 10)\n",
    "days_vector <- c(\"Monday\", \"Tuesday\", \"Wednesday\", \"Thursday\", \"Friday\")\n",
    "names(poker_vector) <- days_vector\n",
    "names(roulette_vector) <- days_vector\n",
    "\n",
    "# Assign to total_daily how much you won/lost on each day\n",
    "total_daily <- poker_vector + roulette_vector\n"
   ]
  },
  {
   "cell_type": "markdown",
   "metadata": {},
   "source": [
    "## Calculating total winnings (3)\n",
    "\n",
    "Based on the previous analysis, it looks like you had a mix of good and\n",
    "bad days. This is not what your ego expected, and you wonder if there\n",
    "may be a very tiny chance you have lost money over the week in total?\n",
    "\n",
    "A function that helps you to answer this question is\n",
    "[`sum()`](http://www.rdocumentation.org/packages/base/functions/sum). It\n",
    "calculates the sum of all elements of a vector. For example, to\n",
    "calculate the total amount of money you have lost/won with poker you do:\n",
    "\n",
    "    total_poker <- sum(poker_vector)\n",
    "\n",
    "-   Calculate the total amount of money that you have won/lost with\n",
    "    roulette and assign to the variable `total_roulette`.\n",
    "-   Now that you have the totals for roulette and poker, you can easily\n",
    "    calculate `total_week` (which is the sum of all gains and losses of\n",
    "    the week).\n",
    "-   Print out `total_week`.\n"
   ]
  },
  {
   "cell_type": "code",
   "execution_count": 16,
   "metadata": {
    "vscode": {
     "languageId": "r"
    }
   },
   "outputs": [
    {
     "data": {
      "text/html": [
       "-84"
      ],
      "text/latex": [
       "-84"
      ],
      "text/markdown": [
       "-84"
      ],
      "text/plain": [
       "[1] -84"
      ]
     },
     "metadata": {},
     "output_type": "display_data"
    }
   ],
   "source": [
    "# Poker and roulette winnings from Monday to Friday:\n",
    "poker_vector <- c(140, -50, 20, -120, 240)\n",
    "roulette_vector <- c(-24, -50, 100, -350, 10)\n",
    "days_vector <- c(\"Monday\", \"Tuesday\", \"Wednesday\", \"Thursday\", \"Friday\")\n",
    "names(poker_vector) <- days_vector\n",
    "names(roulette_vector) <- days_vector\n",
    "\n",
    "# Total winnings with poker\n",
    "total_poker <- sum(poker_vector)\n",
    "\n",
    "# Total winnings with roulette\n",
    "total_roulette <-  sum(roulette_vector)\n",
    "\n",
    "# Total winnings overall\n",
    "total_week <- total_roulette + total_poker\n",
    "\n",
    "# Print out total_week\n",
    "total_week\n"
   ]
  },
  {
   "cell_type": "markdown",
   "metadata": {},
   "source": [
    "## Comparing total winnings\n",
    "\n",
    "Oops, it seems like you are losing money. Time to rethink and adapt your\n",
    "strategy! This will require some deeper analysis…\n",
    "\n",
    "After a short brainstorm in your hotel's jacuzzi, you realize that a\n",
    "possible explanation might be that your skills in roulette are not as\n",
    "well developed as your skills in poker. So maybe your total gains in\n",
    "poker are higher (or `>` ) than in roulette.\n",
    "\n",
    "-   Calculate `total_poker` and `total_roulette` as in the previous\n",
    "    exercise. Use the `sum()` function twice.\n",
    "-   Check if your total gains in poker are higher than for roulette by\n",
    "    using a comparison. Simply print out the result of this comparison.\n",
    "    What do you conclude, should you focus on roulette or on poker?\n"
   ]
  },
  {
   "cell_type": "code",
   "execution_count": 17,
   "metadata": {
    "vscode": {
     "languageId": "r"
    }
   },
   "outputs": [
    {
     "data": {
      "text/html": [
       "TRUE"
      ],
      "text/latex": [
       "TRUE"
      ],
      "text/markdown": [
       "TRUE"
      ],
      "text/plain": [
       "[1] TRUE"
      ]
     },
     "metadata": {},
     "output_type": "display_data"
    }
   ],
   "source": [
    "# Poker and roulette winnings from Monday to Friday:\n",
    "poker_vector <- c(140, -50, 20, -120, 240)\n",
    "roulette_vector <- c(-24, -50, 100, -350, 10)\n",
    "days_vector <- c(\"Monday\", \"Tuesday\", \"Wednesday\", \"Thursday\", \"Friday\")\n",
    "names(poker_vector) <- days_vector\n",
    "names(roulette_vector) <- days_vector\n",
    "\n",
    "# Calculate total gains for poker and roulette\n",
    "total_poker <- sum(poker_vector)\n",
    "total_roulette <- sum(roulette_vector)\n",
    "\n",
    "# Check if you realized higher total gains in poker than in roulette\n",
    "total_poker > total_roulette\n"
   ]
  },
  {
   "cell_type": "markdown",
   "metadata": {},
   "source": [
    "## Vector selection: the good times\n",
    "\n",
    "Your hunch seemed to be right. It appears that the poker game is more\n",
    "your cup of tea than roulette.\n",
    "\n",
    "Another possible route for investigation is your performance at the\n",
    "beginning of the working week compared to the end of it. You did have a\n",
    "couple of Margarita cocktails at the end of the week…\n",
    "\n",
    "To answer that question, you only want to focus on a selection of the\n",
    "`total_vector`. In other words, our goal is to select specific elements\n",
    "of the vector. To select elements of a vector (and later matrices, data\n",
    "frames, …), you can use square brackets. Between the square brackets,\n",
    "you indicate what elements to select. For example, to select the first\n",
    "element of the vector, you type `poker_vector[1]`. To select the second\n",
    "element of the vector, you type `poker_vector[2]`, etc. Notice that the\n",
    "first element in a vector has index 1, not 0 as in many other\n",
    "programming languages.\n",
    "\n",
    "Assign the poker results of Wednesday to the variable `poker_wednesday`.\n"
   ]
  },
  {
   "cell_type": "code",
   "execution_count": 18,
   "metadata": {
    "vscode": {
     "languageId": "r"
    }
   },
   "outputs": [],
   "source": [
    "# Poker and roulette winnings from Monday to Friday:\n",
    "poker_vector <- c(140, -50, 20, -120, 240)\n",
    "roulette_vector <- c(-24, -50, 100, -350, 10)\n",
    "days_vector <- c(\"Monday\", \"Tuesday\", \"Wednesday\", \"Thursday\", \"Friday\")\n",
    "names(poker_vector) <- days_vector\n",
    "names(roulette_vector) <- days_vector\n",
    "\n",
    "# Define a new variable based on a selection\n",
    "poker_wednesday <- poker_vector[3]\n"
   ]
  },
  {
   "cell_type": "markdown",
   "metadata": {},
   "source": [
    "## Vector selection: the good times (2)\n",
    "\n",
    "How about analyzing your midweek results?\n",
    "\n",
    "To select multiple elements from a vector, you can add square brackets\n",
    "at the end of it. You can indicate between the brackets what elements\n",
    "should be selected. For example: suppose you want to select the first\n",
    "and the fifth day of the week: use the vector `c(1, 5)` between the\n",
    "square brackets. For example, the code below selects the first and fifth\n",
    "element of `poker_vector`:\n",
    "\n",
    "    poker_vector[c(1, 5)]\n",
    "\n",
    "Assign the poker results of Tuesday, Wednesday and Thursday to the\n",
    "variable `poker_midweek`.\n"
   ]
  },
  {
   "cell_type": "code",
   "execution_count": 19,
   "metadata": {
    "vscode": {
     "languageId": "r"
    }
   },
   "outputs": [],
   "source": [
    "# Poker and roulette winnings from Monday to Friday:\n",
    "poker_vector <- c(140, -50, 20, -120, 240)\n",
    "roulette_vector <- c(-24, -50, 100, -350, 10)\n",
    "days_vector <- c(\"Monday\", \"Tuesday\", \"Wednesday\", \"Thursday\", \"Friday\")\n",
    "names(poker_vector) <- days_vector\n",
    "names(roulette_vector) <- days_vector\n",
    "\n",
    "# Define a new variable based on a selection\n",
    "poker_midweek <- poker_vector[c(2, 3, 4)]\n"
   ]
  },
  {
   "cell_type": "markdown",
   "metadata": {},
   "source": [
    "## Vector selection: the good times (3)\n",
    "\n",
    "Selecting multiple elements of `poker_vector` with `c(2, 3, 4)` is not\n",
    "very convenient. Many statisticians are lazy people by nature, so they\n",
    "created an easier way to do this: `c(2, 3, 4)` can be abbreviated\n",
    "to`2:4`, which generates a vector with all natural numbers from 2 up to\n",
    "4.\n",
    "\n",
    "So, another way to find the mid-week results is `poker_vector[2:4]`.\n",
    "Notice how the vector `2:4` is placed between the square brackets to\n",
    "select element 2 up to 4.\n",
    "\n",
    "Assign to `roulette_selection_vector` the roulette results from Tuesday\n",
    "up to Friday; make use of `:` if it makes things easier for you.\n"
   ]
  },
  {
   "cell_type": "code",
   "execution_count": 20,
   "metadata": {
    "vscode": {
     "languageId": "r"
    }
   },
   "outputs": [],
   "source": [
    "# Poker and roulette winnings from Monday to Friday:\n",
    "poker_vector <- c(140, -50, 20, -120, 240)\n",
    "roulette_vector <- c(-24, -50, 100, -350, 10)\n",
    "days_vector <- c(\"Monday\", \"Tuesday\", \"Wednesday\", \"Thursday\", \"Friday\")\n",
    "names(poker_vector) <- days_vector\n",
    "names(roulette_vector) <- days_vector\n",
    "\n",
    "# Define a new variable based on a selection\n",
    "roulette_selection_vector <- roulette_vector[2:5]\n"
   ]
  },
  {
   "cell_type": "markdown",
   "metadata": {},
   "source": [
    "## Vector selection: the good times (4)\n",
    "\n",
    "Another way to tackle the previous exercise is by using the names of the\n",
    "vector elements (Monday, Tuesday, …) instead of their numeric positions.\n",
    "For example,\n",
    "\n",
    "    poker_vector[\"Monday\"]\n",
    "\n",
    "will select the first element of `poker_vector` since `\"Monday\"` is the\n",
    "name of that first element.\n",
    "\n",
    "Just like you did in the previous exercise with numerics, you can also\n",
    "use the element names to select multiple elements, for example:\n",
    "\n",
    "    poker_vector[c(\"Monday\",\"Tuesday\")]\n",
    "\n",
    "-   Select the first three elements in `poker_vector` by using their\n",
    "    names: `\"Monday\"`, `\"Tuesday\"` and `\"Wednesday\"`. Assign the result\n",
    "    of the selection to `poker_start`.\n",
    "-   Calculate the average of the values in `poker_start` with the\n",
    "    [`mean()`](http://www.rdocumentation.org/packages/base/functions/mean)\n",
    "    function. Simply print out the result so you can inspect it.\n"
   ]
  },
  {
   "cell_type": "code",
   "execution_count": 21,
   "metadata": {
    "vscode": {
     "languageId": "r"
    }
   },
   "outputs": [
    {
     "data": {
      "text/html": [
       "36.6666666666667"
      ],
      "text/latex": [
       "36.6666666666667"
      ],
      "text/markdown": [
       "36.6666666666667"
      ],
      "text/plain": [
       "[1] 36.66667"
      ]
     },
     "metadata": {},
     "output_type": "display_data"
    }
   ],
   "source": [
    "# Poker and roulette winnings from Monday to Friday:\n",
    "poker_vector <- c(140, -50, 20, -120, 240)\n",
    "roulette_vector <- c(-24, -50, 100, -350, 10)\n",
    "days_vector <- c(\"Monday\", \"Tuesday\", \"Wednesday\", \"Thursday\", \"Friday\")\n",
    "names(poker_vector) <- days_vector\n",
    "names(roulette_vector) <- days_vector\n",
    "\n",
    "# Select poker results for Monday, Tuesday and Wednesday\n",
    "poker_start <- poker_vector[c(\"Monday\", \"Tuesday\", \"Wednesday\")]\n",
    "  \n",
    "# Calculate the average of the elements in poker_start\n",
    "mean(poker_start)\n"
   ]
  },
  {
   "cell_type": "markdown",
   "metadata": {},
   "source": [
    "## Selection by comparison - Step 1\n",
    "\n",
    "By making use of comparison operators, we can approach the previous\n",
    "question in a more proactive way.\n",
    "\n",
    "The (logical) comparison operators known to R are:\n",
    "\n",
    "-   `<` for less than\n",
    "-   `>` for greater than\n",
    "-   `<=` for less than or equal to\n",
    "-   `>=` for greater than or equal to\n",
    "-   `==` for equal to each other\n",
    "-   `!=` not equal to each other\n",
    "\n",
    "As seen in the previous chapter, stating `6 > 5` returns `TRUE`. The\n",
    "nice thing about R is that you can use these comparison operators also\n",
    "on vectors. For example:\n",
    "\n",
    "    c(4, 5, 6) > 5\n",
    "    [1] FALSE FALSE TRUE\n",
    "\n",
    "This command tests for every element of the vector if the condition\n",
    "stated by the comparison operator is `TRUE` or `FALSE`.\n",
    "\n",
    "-   Check which elements in `poker_vector` are positive (i.e. \\> 0) and\n",
    "    assign this to `selection_vector`.\n",
    "-   Print out `selection_vector` so you can inspect it. The printout\n",
    "    tells you whether you won (`TRUE`) or lost (`FALSE`) any money for\n",
    "    each day.\n"
   ]
  },
  {
   "cell_type": "code",
   "execution_count": 22,
   "metadata": {
    "vscode": {
     "languageId": "r"
    }
   },
   "outputs": [
    {
     "data": {
      "text/html": [
       "<style>\n",
       ".dl-inline {width: auto; margin:0; padding: 0}\n",
       ".dl-inline>dt, .dl-inline>dd {float: none; width: auto; display: inline-block}\n",
       ".dl-inline>dt::after {content: \":\\0020\"; padding-right: .5ex}\n",
       ".dl-inline>dt:not(:first-of-type) {padding-left: .5ex}\n",
       "</style><dl class=dl-inline><dt>Monday</dt><dd>TRUE</dd><dt>Tuesday</dt><dd>FALSE</dd><dt>Wednesday</dt><dd>TRUE</dd><dt>Thursday</dt><dd>FALSE</dd><dt>Friday</dt><dd>TRUE</dd></dl>\n"
      ],
      "text/latex": [
       "\\begin{description*}\n",
       "\\item[Monday] TRUE\n",
       "\\item[Tuesday] FALSE\n",
       "\\item[Wednesday] TRUE\n",
       "\\item[Thursday] FALSE\n",
       "\\item[Friday] TRUE\n",
       "\\end{description*}\n"
      ],
      "text/markdown": [
       "Monday\n",
       ":   TRUETuesday\n",
       ":   FALSEWednesday\n",
       ":   TRUEThursday\n",
       ":   FALSEFriday\n",
       ":   TRUE\n",
       "\n"
      ],
      "text/plain": [
       "   Monday   Tuesday Wednesday  Thursday    Friday \n",
       "     TRUE     FALSE      TRUE     FALSE      TRUE "
      ]
     },
     "metadata": {},
     "output_type": "display_data"
    }
   ],
   "source": [
    "# Poker and roulette winnings from Monday to Friday:\n",
    "poker_vector <- c(140, -50, 20, -120, 240)\n",
    "roulette_vector <- c(-24, -50, 100, -350, 10)\n",
    "days_vector <- c(\"Monday\", \"Tuesday\", \"Wednesday\", \"Thursday\", \"Friday\")\n",
    "names(poker_vector) <- days_vector\n",
    "names(roulette_vector) <- days_vector\n",
    "\n",
    "# Which days did you make money on poker?\n",
    "selection_vector <- poker_vector > 0\n",
    "  \n",
    "# Print out selection_vector\n",
    "selection_vector\n"
   ]
  },
  {
   "cell_type": "markdown",
   "metadata": {},
   "source": [
    "## Selection by comparison - Step 2\n",
    "\n",
    "Working with comparisons will make your data analytical life easier.\n",
    "Instead of selecting a subset of days to investigate yourself (like\n",
    "before), you can simply ask R to return only those days where you\n",
    "realized a positive return for poker.\n",
    "\n",
    "In the previous exercises you used\n",
    "`selection_vector <- poker_vector > 0` to find the days on which you had\n",
    "a positive poker return. Now, you would like to know not only the days\n",
    "on which you won, but also how much you won on those days.\n",
    "\n",
    "You can select the desired elements, by putting `selection_vector`\n",
    "between the square brackets that follow `poker_vector`:\n",
    "\n",
    "    poker_vector[selection_vector]\n",
    "\n",
    "R knows what to do when you pass a logical vector in square brackets: it\n",
    "will only select the elements that correspond to `TRUE` in\n",
    "`selection_vector`.\n",
    "\n",
    "Use `selection_vector` in square brackets to assign the amounts that you\n",
    "won on the profitable days to the variable `poker_winning_days`.\n"
   ]
  },
  {
   "cell_type": "code",
   "execution_count": 23,
   "metadata": {
    "vscode": {
     "languageId": "r"
    }
   },
   "outputs": [],
   "source": [
    "# Poker and roulette winnings from Monday to Friday:\n",
    "poker_vector <- c(140, -50, 20, -120, 240)\n",
    "roulette_vector <- c(-24, -50, 100, -350, 10)\n",
    "days_vector <- c(\"Monday\", \"Tuesday\", \"Wednesday\", \"Thursday\", \"Friday\")\n",
    "names(poker_vector) <- days_vector\n",
    "names(roulette_vector) <- days_vector\n",
    "\n",
    "# Which days did you make money on poker?\n",
    "selection_vector <- poker_vector > 0\n",
    "\n",
    "# Select from poker_vector these days\n",
    "poker_winning_days <- poker_vector[selection_vector]\n"
   ]
  },
  {
   "cell_type": "markdown",
   "metadata": {},
   "source": [
    "## Advanced selection\n",
    "\n",
    "Just like you did for poker, you also want to know those days where you\n",
    "realized a positive return for roulette.\n",
    "\n",
    "-   Create the variable `selection_vector`, this time to see if you made\n",
    "    profit with roulette for different days.\n",
    "-   Assign the amounts that you made on the days that you ended\n",
    "    positively for roulette to the variable `roulette_winning_days`.\n",
    "    This vector thus contains the positive winnings of\n",
    "    `roulette_vector`.\n"
   ]
  },
  {
   "cell_type": "code",
   "execution_count": 24,
   "metadata": {
    "vscode": {
     "languageId": "r"
    }
   },
   "outputs": [],
   "source": [
    "# Poker and roulette winnings from Monday to Friday:\n",
    "poker_vector <- c(140, -50, 20, -120, 240)\n",
    "roulette_vector <- c(-24, -50, 100, -350, 10)\n",
    "days_vector <- c(\"Monday\", \"Tuesday\", \"Wednesday\", \"Thursday\", \"Friday\")\n",
    "names(poker_vector) <- days_vector\n",
    "names(roulette_vector) <- days_vector\n",
    "\n",
    "# Which days did you make money on roulette?\n",
    "selection_vector <- roulette_vector > 0\n",
    "\n",
    "# Select from roulette_vector these days\n",
    "roulette_winning_days <- roulette_vector[selection_vector]\n"
   ]
  },
  {
   "cell_type": "markdown",
   "metadata": {},
   "source": [
    "# Matrices\n",
    "\n",
    "In this chapter, you will learn how to work with matrices in R. By the end of the chapter, you will be able to create matrices and understand how to do basic computations with them. You will analyze the box office numbers of the Star Wars movies and learn how to use matrices in R. May the force be with you!\n",
    "\n",
    "## What's a matrix?\n",
    "\n",
    "In R, a matrix is a collection of elements of the same data type\n",
    "(numeric, character, or logical) arranged into a fixed number of rows\n",
    "and columns. Since you are only working with rows and columns, a matrix\n",
    "is called two-dimensional.\n",
    "\n",
    "You can construct a matrix in R with the\n",
    "[`matrix()`](http://www.rdocumentation.org/packages/base/functions/matrix)\n",
    "function. Consider the following example:\n",
    "\n",
    "    matrix(1:9, byrow = TRUE, nrow = 3)\n",
    "\n",
    "In the\n",
    "[`matrix()`](http://www.rdocumentation.org/packages/base/functions/matrix)\n",
    "function:\n",
    "\n",
    "-   The first argument is the collection of elements that R will arrange\n",
    "    into the rows and columns of the matrix. Here, we use `1:9` which is\n",
    "    a shortcut for `c(1, 2, 3, 4, 5, 6, 7, 8, 9)`.\n",
    "-   The argument `byrow` indicates that the matrix is filled by the\n",
    "    rows. If we want the matrix to be filled by the columns, we just\n",
    "    place `byrow = FALSE`.\n",
    "-   The third argument `nrow` indicates that the matrix should have\n",
    "    three rows.\n",
    "\n",
    "Construct a matrix with 3 rows containing the numbers 1 up to 9, filled\n",
    "row-wise.\n"
   ]
  },
  {
   "cell_type": "code",
   "execution_count": 25,
   "metadata": {
    "vscode": {
     "languageId": "r"
    }
   },
   "outputs": [
    {
     "data": {
      "text/html": [
       "<table class=\"dataframe\">\n",
       "<caption>A matrix: 3 × 3 of type int</caption>\n",
       "<tbody>\n",
       "\t<tr><td>1</td><td>2</td><td>3</td></tr>\n",
       "\t<tr><td>4</td><td>5</td><td>6</td></tr>\n",
       "\t<tr><td>7</td><td>8</td><td>9</td></tr>\n",
       "</tbody>\n",
       "</table>\n"
      ],
      "text/latex": [
       "A matrix: 3 × 3 of type int\n",
       "\\begin{tabular}{lll}\n",
       "\t 1 & 2 & 3\\\\\n",
       "\t 4 & 5 & 6\\\\\n",
       "\t 7 & 8 & 9\\\\\n",
       "\\end{tabular}\n"
      ],
      "text/markdown": [
       "\n",
       "A matrix: 3 × 3 of type int\n",
       "\n",
       "| 1 | 2 | 3 |\n",
       "| 4 | 5 | 6 |\n",
       "| 7 | 8 | 9 |\n",
       "\n"
      ],
      "text/plain": [
       "     [,1] [,2] [,3]\n",
       "[1,] 1    2    3   \n",
       "[2,] 4    5    6   \n",
       "[3,] 7    8    9   "
      ]
     },
     "metadata": {},
     "output_type": "display_data"
    }
   ],
   "source": [
    "# Construct a matrix with 3 rows that contain the numbers 1 up to 9\n",
    "matrix(1:9, byrow = TRUE, nrow = 3)\n"
   ]
  },
  {
   "cell_type": "markdown",
   "metadata": {},
   "source": [
    "## Analyze matrices, you shall\n",
    "\n",
    "It is now time to get your hands dirty. In the following exercises you\n",
    "will analyze the box office numbers of the Star Wars franchise. May the\n",
    "force be with you!\n",
    "\n",
    "In the editor, three vectors are defined. Each one represents the box\n",
    "office numbers from the first three Star Wars movies. The first element\n",
    "of each vector indicates the US box office revenue, the second element\n",
    "refers to the Non-US box office (source: Wikipedia).\n",
    "\n",
    "In this exercise, you'll combine all these figures into a single vector.\n",
    "Next, you'll build a matrix from this vector.\n",
    "\n",
    "-   Use `c(new_hope, empire_strikes, return_jedi)` to combine the three\n",
    "    vectors into one vector. Call this vector `box_office`.\n",
    "-   Construct a matrix with 3 rows, where each row represents a movie.\n",
    "    Use the `matrix()` function to do this. The first argument is the\n",
    "    vector `box_office`, containing all box office figures. Next, you'll\n",
    "    have to specify `nrow = 3` and `byrow = TRUE`. Name the resulting\n",
    "    matrix `star_wars_matrix`.\n"
   ]
  },
  {
   "cell_type": "code",
   "execution_count": 26,
   "metadata": {
    "vscode": {
     "languageId": "r"
    }
   },
   "outputs": [],
   "source": [
    "# Box office Star Wars (in millions!)\n",
    "new_hope <- c(460.998, 314.4)\n",
    "empire_strikes <- c(290.475, 247.900)\n",
    "return_jedi <- c(309.306, 165.8)\n",
    "\n",
    "# Create box_office\n",
    "box_office <- c(new_hope, empire_strikes, return_jedi)\n",
    "\n",
    "# Construct star_wars_matrix\n",
    "star_wars_matrix <- matrix(box_office, nrow = 3, byrow = TRUE) \n"
   ]
  },
  {
   "cell_type": "markdown",
   "metadata": {},
   "source": [
    "## Naming a matrix\n",
    "\n",
    "To help you remember what is stored in `star_wars_matrix`, you would\n",
    "like to add the names of the movies for the rows. Not only does this\n",
    "help you to read the data, but it is also useful to select certain\n",
    "elements from the matrix.\n",
    "\n",
    "Similar to vectors, you can add names for the rows and the columns of a\n",
    "matrix\n",
    "\n",
    "    rownames(my_matrix) <- row_names_vector\n",
    "    colnames(my_matrix) <- col_names_vector\n",
    "\n",
    "We went ahead and prepared two vectors for you: `region`, and `titles`.\n",
    "You will need these vectors to name the columns and rows of\n",
    "`star_wars_matrix`, respectively.\n",
    "\n",
    "-   Use `colnames()` to name the columns of `star_wars_matrix` with the\n",
    "    `region` vector.\n",
    "-   Use `rownames()` to name the rows of `star_wars_matrix` with the\n",
    "    `titles` vector.\n",
    "-   Print out `star_wars_matrix` to see the result of your work.\n"
   ]
  },
  {
   "cell_type": "code",
   "execution_count": 27,
   "metadata": {
    "vscode": {
     "languageId": "r"
    }
   },
   "outputs": [
    {
     "data": {
      "text/html": [
       "<table class=\"dataframe\">\n",
       "<caption>A matrix: 3 × 2 of type dbl</caption>\n",
       "<thead>\n",
       "\t<tr><th></th><th scope=col>US</th><th scope=col>non-US</th></tr>\n",
       "</thead>\n",
       "<tbody>\n",
       "\t<tr><th scope=row>A New Hope</th><td>460.998</td><td>314.4</td></tr>\n",
       "\t<tr><th scope=row>The Empire Strikes Back</th><td>290.475</td><td>247.9</td></tr>\n",
       "\t<tr><th scope=row>Return of the Jedi</th><td>309.306</td><td>165.8</td></tr>\n",
       "</tbody>\n",
       "</table>\n"
      ],
      "text/latex": [
       "A matrix: 3 × 2 of type dbl\n",
       "\\begin{tabular}{r|ll}\n",
       "  & US & non-US\\\\\n",
       "\\hline\n",
       "\tA New Hope & 460.998 & 314.4\\\\\n",
       "\tThe Empire Strikes Back & 290.475 & 247.9\\\\\n",
       "\tReturn of the Jedi & 309.306 & 165.8\\\\\n",
       "\\end{tabular}\n"
      ],
      "text/markdown": [
       "\n",
       "A matrix: 3 × 2 of type dbl\n",
       "\n",
       "| <!--/--> | US | non-US |\n",
       "|---|---|---|\n",
       "| A New Hope | 460.998 | 314.4 |\n",
       "| The Empire Strikes Back | 290.475 | 247.9 |\n",
       "| Return of the Jedi | 309.306 | 165.8 |\n",
       "\n"
      ],
      "text/plain": [
       "                        US      non-US\n",
       "A New Hope              460.998 314.4 \n",
       "The Empire Strikes Back 290.475 247.9 \n",
       "Return of the Jedi      309.306 165.8 "
      ]
     },
     "metadata": {},
     "output_type": "display_data"
    }
   ],
   "source": [
    "# Box office Star Wars (in millions!)\n",
    "new_hope <- c(460.998, 314.4)\n",
    "empire_strikes <- c(290.475, 247.900)\n",
    "return_jedi <- c(309.306, 165.8)\n",
    "\n",
    "# Construct matrix\n",
    "star_wars_matrix <- matrix(c(new_hope, empire_strikes, return_jedi), nrow = 3, byrow = TRUE)\n",
    "\n",
    "# Vectors region and titles, used for naming\n",
    "region <- c(\"US\", \"non-US\")\n",
    "titles <- c(\"A New Hope\", \"The Empire Strikes Back\", \"Return of the Jedi\")\n",
    "\n",
    "# Name the columns with region\n",
    "colnames(star_wars_matrix) <- region\n",
    "\n",
    "# Name the rows with titles\n",
    "rownames(star_wars_matrix) <- titles\n",
    "\n",
    "# Print out star_wars_matrix\n",
    "star_wars_matrix\n"
   ]
  },
  {
   "cell_type": "markdown",
   "metadata": {},
   "source": [
    "## Calculating the worldwide box office\n",
    "\n",
    "The single most important thing for a movie in order to become an\n",
    "instant legend in Tinseltown is its worldwide box office figures.\n",
    "\n",
    "To calculate the total box office revenue for the three Star Wars\n",
    "movies, you have to take the sum of the US revenue column and the non-US\n",
    "revenue column.\n",
    "\n",
    "In R, the function\n",
    "[`rowSums()`](http://www.rdocumentation.org/packages/base/functions/colSums)\n",
    "conveniently calculates the totals for each row of a matrix. This\n",
    "function creates a new vector:\n",
    "\n",
    "    rowSums(my_matrix)\n",
    "\n",
    "Calculate the worldwide box office figures for the three movies and put\n",
    "these in the vector named `worldwide_vector`.\n"
   ]
  },
  {
   "cell_type": "code",
   "execution_count": 28,
   "metadata": {
    "vscode": {
     "languageId": "r"
    }
   },
   "outputs": [],
   "source": [
    "# Construct star_wars_matrix\n",
    "box_office <- c(460.998, 314.4, 290.475, 247.900, 309.306, 165.8)\n",
    "region <- c(\"US\", \"non-US\")\n",
    "titles <- c(\"A New Hope\", \n",
    "            \"The Empire Strikes Back\", \n",
    "            \"Return of the Jedi\")\n",
    "               \n",
    "star_wars_matrix <- matrix(box_office, \n",
    "                      nrow = 3, byrow = TRUE,\n",
    "                      dimnames = list(titles, region))\n",
    "\n",
    "# Calculate worldwide box office figures\n",
    "worldwide_vector <- rowSums(star_wars_matrix)\n"
   ]
  },
  {
   "cell_type": "markdown",
   "metadata": {},
   "source": [
    "## Adding a column for the Worldwide box office\n",
    "\n",
    "In the previous exercise you calculated the vector that contained the\n",
    "worldwide box office receipt for each of the three Star Wars movies.\n",
    "However, this vector is not yet part of `star_wars_matrix`.\n",
    "\n",
    "You can add a column or multiple columns to a matrix with the\n",
    "[`cbind()`](http://www.rdocumentation.org/packages/base/functions/cbind)\n",
    "function, which merges matrices and/or vectors together by column. For\n",
    "example:\n",
    "\n",
    "    big_matrix <- cbind(matrix1, matrix2, vector1 ...)\n",
    "\n",
    "Add `worldwide_vector` as a new column to the `star_wars_matrix` and\n",
    "assign the result to `all_wars_matrix`. Use the\n",
    "[`cbind()`](http://www.rdocumentation.org/packages/base/functions/cbind)\n",
    "function.\n"
   ]
  },
  {
   "cell_type": "code",
   "execution_count": 29,
   "metadata": {
    "vscode": {
     "languageId": "r"
    }
   },
   "outputs": [],
   "source": [
    "# Construct star_wars_matrix\n",
    "box_office <- c(460.998, 314.4, 290.475, 247.900, 309.306, 165.8)\n",
    "region <- c(\"US\", \"non-US\")\n",
    "titles <- c(\"A New Hope\", \n",
    "            \"The Empire Strikes Back\", \n",
    "            \"Return of the Jedi\")\n",
    "               \n",
    "star_wars_matrix <- matrix(box_office, \n",
    "                      nrow = 3, byrow = TRUE,\n",
    "                      dimnames = list(titles, region))\n",
    "\n",
    "# The worldwide box office figures\n",
    "worldwide_vector <- rowSums(star_wars_matrix)\n",
    "\n",
    "# Bind the new variable worldwide_vector as a column to star_wars_matrix\n",
    "all_wars_matrix <- cbind(star_wars_matrix, worldwide_vector)\n"
   ]
  },
  {
   "cell_type": "markdown",
   "metadata": {},
   "source": [
    "## Adding a row\n",
    "\n",
    "Just like every action has a reaction, every\n",
    "[`cbind()`](http://www.rdocumentation.org/packages/base/functions/cbind)\n",
    "has an\n",
    "[`rbind()`](http://www.rdocumentation.org/packages/base/functions/cbind).\n",
    "(We admit, we are pretty bad with metaphors.)\n",
    "\n",
    "Your R workspace, where all variables you defined 'live' ([check out\n",
    "what a workspace\n",
    "is](http://www.statmethods.net/interface/workspace.html)), has already\n",
    "been initialized and contains two matrices:\n",
    "\n",
    "-   `star_wars_matrix` that we have used all along, with data on the\n",
    "    original trilogy,\n",
    "-   `star_wars_matrix2`, with similar data for the prequels trilogy.\n",
    "\n",
    "Explore these matrices in the console if you want to have a closer look.\n",
    "If you want to check out the contents of the workspace, you can type\n",
    "`ls()` in the console.\n",
    "\n",
    "Use `rbind()` to paste together `star_wars_matrix` and\n",
    "`star_wars_matrix2`, in this order. Assign the resulting matrix to\n",
    "`all_wars_matrix`.\n"
   ]
  },
  {
   "cell_type": "code",
   "execution_count": 30,
   "metadata": {
    "vscode": {
     "languageId": "r"
    }
   },
   "outputs": [
    {
     "data": {
      "text/html": [
       "<table class=\"dataframe\">\n",
       "<caption>A matrix: 3 × 2 of type dbl</caption>\n",
       "<thead>\n",
       "\t<tr><th></th><th scope=col>US</th><th scope=col>non-US</th></tr>\n",
       "</thead>\n",
       "<tbody>\n",
       "\t<tr><th scope=row>A New Hope</th><td>460.998</td><td>314.4</td></tr>\n",
       "\t<tr><th scope=row>The Empire Strikes Back</th><td>290.475</td><td>247.9</td></tr>\n",
       "\t<tr><th scope=row>Return of the Jedi</th><td>309.306</td><td>165.8</td></tr>\n",
       "</tbody>\n",
       "</table>\n"
      ],
      "text/latex": [
       "A matrix: 3 × 2 of type dbl\n",
       "\\begin{tabular}{r|ll}\n",
       "  & US & non-US\\\\\n",
       "\\hline\n",
       "\tA New Hope & 460.998 & 314.4\\\\\n",
       "\tThe Empire Strikes Back & 290.475 & 247.9\\\\\n",
       "\tReturn of the Jedi & 309.306 & 165.8\\\\\n",
       "\\end{tabular}\n"
      ],
      "text/markdown": [
       "\n",
       "A matrix: 3 × 2 of type dbl\n",
       "\n",
       "| <!--/--> | US | non-US |\n",
       "|---|---|---|\n",
       "| A New Hope | 460.998 | 314.4 |\n",
       "| The Empire Strikes Back | 290.475 | 247.9 |\n",
       "| Return of the Jedi | 309.306 | 165.8 |\n",
       "\n"
      ],
      "text/plain": [
       "                        US      non-US\n",
       "A New Hope              460.998 314.4 \n",
       "The Empire Strikes Back 290.475 247.9 \n",
       "Return of the Jedi      309.306 165.8 "
      ]
     },
     "metadata": {},
     "output_type": "display_data"
    },
    {
     "data": {
      "text/html": [
       "<table class=\"dataframe\">\n",
       "<caption>A matrix: 3 × 2 of type dbl</caption>\n",
       "<thead>\n",
       "\t<tr><th></th><th scope=col>US</th><th scope=col>non-US</th></tr>\n",
       "</thead>\n",
       "<tbody>\n",
       "\t<tr><th scope=row>The Phantom Menace</th><td>474.5</td><td>552.5</td></tr>\n",
       "\t<tr><th scope=row>Attack of the Clones</th><td>310.7</td><td>338.7</td></tr>\n",
       "\t<tr><th scope=row>Revenge of the Sith</th><td>380.3</td><td>468.5</td></tr>\n",
       "</tbody>\n",
       "</table>\n"
      ],
      "text/latex": [
       "A matrix: 3 × 2 of type dbl\n",
       "\\begin{tabular}{r|ll}\n",
       "  & US & non-US\\\\\n",
       "\\hline\n",
       "\tThe Phantom Menace & 474.5 & 552.5\\\\\n",
       "\tAttack of the Clones & 310.7 & 338.7\\\\\n",
       "\tRevenge of the Sith & 380.3 & 468.5\\\\\n",
       "\\end{tabular}\n"
      ],
      "text/markdown": [
       "\n",
       "A matrix: 3 × 2 of type dbl\n",
       "\n",
       "| <!--/--> | US | non-US |\n",
       "|---|---|---|\n",
       "| The Phantom Menace | 474.5 | 552.5 |\n",
       "| Attack of the Clones | 310.7 | 338.7 |\n",
       "| Revenge of the Sith | 380.3 | 468.5 |\n",
       "\n"
      ],
      "text/plain": [
       "                     US    non-US\n",
       "The Phantom Menace   474.5 552.5 \n",
       "Attack of the Clones 310.7 338.7 \n",
       "Revenge of the Sith  380.3 468.5 "
      ]
     },
     "metadata": {},
     "output_type": "display_data"
    }
   ],
   "source": [
    "# edited/added\n",
    "box_office2 <- c(474.5, 552.5, 310.7, 338.7, 380.3, 468.5)\n",
    "region2 <- c(\"US\", \"non-US\")\n",
    "titles2 <- c(\"The Phantom Menace\", \n",
    "            \"Attack of the Clones\", \n",
    "            \"Revenge of the Sith\")\n",
    "star_wars_matrix2 <- matrix(box_office2, \n",
    "                      nrow = 3, byrow = TRUE,\n",
    "                      dimnames = list(titles2, region2))\n",
    "\n",
    "# star_wars_matrix and star_wars_matrix2 are available in your workspace\n",
    "star_wars_matrix  \n",
    "star_wars_matrix2 \n",
    "\n",
    "# Combine both Star Wars trilogies in one matrix\n",
    "all_wars_matrix <- rbind(star_wars_matrix, star_wars_matrix2)\n"
   ]
  },
  {
   "cell_type": "markdown",
   "metadata": {},
   "source": [
    "## The total box office revenue for the entire saga\n",
    "\n",
    "Just like\n",
    "[`cbind()`](http://www.rdocumentation.org/packages/base/functions/cbind)\n",
    "has\n",
    "[`rbind()`](http://www.rdocumentation.org/packages/base/functions/cbind),\n",
    "[`colSums()`](http://www.rdocumentation.org/packages/base/functions/colSums)\n",
    "has\n",
    "[`rowSums()`](http://www.rdocumentation.org/packages/base/functions/colSums).\n",
    "Your R workspace already contains the `all_wars_matrix` that you\n",
    "constructed in the previous exercise; type `all_wars_matrix` to have\n",
    "another look. Let's now calculate the total box office revenue for the\n",
    "entire saga.\n",
    "\n",
    "-   Calculate the total revenue for the US and the non-US region and\n",
    "    assign `total_revenue_vector`. You can use the\n",
    "    [`colSums()`](http://www.rdocumentation.org/packages/base/functions/colSums)\n",
    "    function.\n",
    "-   Print out `total_revenue_vector` to have a look at the results.\n"
   ]
  },
  {
   "cell_type": "code",
   "execution_count": 31,
   "metadata": {
    "vscode": {
     "languageId": "r"
    }
   },
   "outputs": [
    {
     "data": {
      "text/html": [
       "<table class=\"dataframe\">\n",
       "<caption>A matrix: 6 × 2 of type dbl</caption>\n",
       "<thead>\n",
       "\t<tr><th></th><th scope=col>US</th><th scope=col>non-US</th></tr>\n",
       "</thead>\n",
       "<tbody>\n",
       "\t<tr><th scope=row>A New Hope</th><td>460.998</td><td>314.4</td></tr>\n",
       "\t<tr><th scope=row>The Empire Strikes Back</th><td>290.475</td><td>247.9</td></tr>\n",
       "\t<tr><th scope=row>Return of the Jedi</th><td>309.306</td><td>165.8</td></tr>\n",
       "\t<tr><th scope=row>The Phantom Menace</th><td>474.500</td><td>552.5</td></tr>\n",
       "\t<tr><th scope=row>Attack of the Clones</th><td>310.700</td><td>338.7</td></tr>\n",
       "\t<tr><th scope=row>Revenge of the Sith</th><td>380.300</td><td>468.5</td></tr>\n",
       "</tbody>\n",
       "</table>\n"
      ],
      "text/latex": [
       "A matrix: 6 × 2 of type dbl\n",
       "\\begin{tabular}{r|ll}\n",
       "  & US & non-US\\\\\n",
       "\\hline\n",
       "\tA New Hope & 460.998 & 314.4\\\\\n",
       "\tThe Empire Strikes Back & 290.475 & 247.9\\\\\n",
       "\tReturn of the Jedi & 309.306 & 165.8\\\\\n",
       "\tThe Phantom Menace & 474.500 & 552.5\\\\\n",
       "\tAttack of the Clones & 310.700 & 338.7\\\\\n",
       "\tRevenge of the Sith & 380.300 & 468.5\\\\\n",
       "\\end{tabular}\n"
      ],
      "text/markdown": [
       "\n",
       "A matrix: 6 × 2 of type dbl\n",
       "\n",
       "| <!--/--> | US | non-US |\n",
       "|---|---|---|\n",
       "| A New Hope | 460.998 | 314.4 |\n",
       "| The Empire Strikes Back | 290.475 | 247.9 |\n",
       "| Return of the Jedi | 309.306 | 165.8 |\n",
       "| The Phantom Menace | 474.500 | 552.5 |\n",
       "| Attack of the Clones | 310.700 | 338.7 |\n",
       "| Revenge of the Sith | 380.300 | 468.5 |\n",
       "\n"
      ],
      "text/plain": [
       "                        US      non-US\n",
       "A New Hope              460.998 314.4 \n",
       "The Empire Strikes Back 290.475 247.9 \n",
       "Return of the Jedi      309.306 165.8 \n",
       "The Phantom Menace      474.500 552.5 \n",
       "Attack of the Clones    310.700 338.7 \n",
       "Revenge of the Sith     380.300 468.5 "
      ]
     },
     "metadata": {},
     "output_type": "display_data"
    },
    {
     "data": {
      "text/html": [
       "<style>\n",
       ".dl-inline {width: auto; margin:0; padding: 0}\n",
       ".dl-inline>dt, .dl-inline>dd {float: none; width: auto; display: inline-block}\n",
       ".dl-inline>dt::after {content: \":\\0020\"; padding-right: .5ex}\n",
       ".dl-inline>dt:not(:first-of-type) {padding-left: .5ex}\n",
       "</style><dl class=dl-inline><dt>US</dt><dd>2226.279</dd><dt>non-US</dt><dd>2087.8</dd></dl>\n"
      ],
      "text/latex": [
       "\\begin{description*}\n",
       "\\item[US] 2226.279\n",
       "\\item[non-US] 2087.8\n",
       "\\end{description*}\n"
      ],
      "text/markdown": [
       "US\n",
       ":   2226.279non-US\n",
       ":   2087.8\n",
       "\n"
      ],
      "text/plain": [
       "      US   non-US \n",
       "2226.279 2087.800 "
      ]
     },
     "metadata": {},
     "output_type": "display_data"
    }
   ],
   "source": [
    "# all_wars_matrix is available in your workspace\n",
    "all_wars_matrix\n",
    "\n",
    "# Total revenue for US and non-US\n",
    "total_revenue_vector <- colSums(all_wars_matrix)\n",
    "\n",
    "# Print out total_revenue_vector\n",
    "total_revenue_vector\n"
   ]
  },
  {
   "cell_type": "markdown",
   "metadata": {},
   "source": [
    "## Selection of matrix elements\n",
    "\n",
    "Similar to vectors, you can use the square brackets `[ ]` to select one\n",
    "or multiple elements from a matrix. Whereas vectors have one dimension,\n",
    "matrices have two dimensions. You should therefore use a comma to\n",
    "separate the rows you want to select from the columns. For example:\n",
    "\n",
    "-   `my_matrix[1,2]` selects the element at the first row and second\n",
    "    column.\n",
    "-   `my_matrix[1:3,2:4]` results in a matrix with the data on the rows\n",
    "    1, 2, 3 and columns 2, 3, 4.\n",
    "\n",
    "If you want to select all elements of a row or a column, no number is\n",
    "needed before or after the comma, respectively:\n",
    "\n",
    "-   `my_matrix[,1]` selects all elements of the first column.\n",
    "-   `my_matrix[1,]` selects all elements of the first row.\n",
    "\n",
    "Back to Star Wars with this newly acquired knowledge! As in the previous\n",
    "exercise, `all_wars_matrix` is already available in your workspace.\n",
    "\n",
    "-   Select the non-US revenue for all movies (the entire second column\n",
    "    of `all_wars_matrix`), store the result as `non_us_all`.\n",
    "-   Use `mean()` on `non_us_all` to calculate the average non-US revenue\n",
    "    for all movies. Simply print out the result.\n",
    "-   This time, select the non-US revenue for the first two movies in\n",
    "    `all_wars_matrix`. Store the result as `non_us_some`.\n",
    "-   Use `mean()` again to print out the average of the values in\n",
    "    `non_us_some`.\n"
   ]
  },
  {
   "cell_type": "code",
   "execution_count": 32,
   "metadata": {
    "vscode": {
     "languageId": "r"
    }
   },
   "outputs": [
    {
     "data": {
      "text/html": [
       "<table class=\"dataframe\">\n",
       "<caption>A matrix: 6 × 2 of type dbl</caption>\n",
       "<thead>\n",
       "\t<tr><th></th><th scope=col>US</th><th scope=col>non-US</th></tr>\n",
       "</thead>\n",
       "<tbody>\n",
       "\t<tr><th scope=row>A New Hope</th><td>460.998</td><td>314.4</td></tr>\n",
       "\t<tr><th scope=row>The Empire Strikes Back</th><td>290.475</td><td>247.9</td></tr>\n",
       "\t<tr><th scope=row>Return of the Jedi</th><td>309.306</td><td>165.8</td></tr>\n",
       "\t<tr><th scope=row>The Phantom Menace</th><td>474.500</td><td>552.5</td></tr>\n",
       "\t<tr><th scope=row>Attack of the Clones</th><td>310.700</td><td>338.7</td></tr>\n",
       "\t<tr><th scope=row>Revenge of the Sith</th><td>380.300</td><td>468.5</td></tr>\n",
       "</tbody>\n",
       "</table>\n"
      ],
      "text/latex": [
       "A matrix: 6 × 2 of type dbl\n",
       "\\begin{tabular}{r|ll}\n",
       "  & US & non-US\\\\\n",
       "\\hline\n",
       "\tA New Hope & 460.998 & 314.4\\\\\n",
       "\tThe Empire Strikes Back & 290.475 & 247.9\\\\\n",
       "\tReturn of the Jedi & 309.306 & 165.8\\\\\n",
       "\tThe Phantom Menace & 474.500 & 552.5\\\\\n",
       "\tAttack of the Clones & 310.700 & 338.7\\\\\n",
       "\tRevenge of the Sith & 380.300 & 468.5\\\\\n",
       "\\end{tabular}\n"
      ],
      "text/markdown": [
       "\n",
       "A matrix: 6 × 2 of type dbl\n",
       "\n",
       "| <!--/--> | US | non-US |\n",
       "|---|---|---|\n",
       "| A New Hope | 460.998 | 314.4 |\n",
       "| The Empire Strikes Back | 290.475 | 247.9 |\n",
       "| Return of the Jedi | 309.306 | 165.8 |\n",
       "| The Phantom Menace | 474.500 | 552.5 |\n",
       "| Attack of the Clones | 310.700 | 338.7 |\n",
       "| Revenge of the Sith | 380.300 | 468.5 |\n",
       "\n"
      ],
      "text/plain": [
       "                        US      non-US\n",
       "A New Hope              460.998 314.4 \n",
       "The Empire Strikes Back 290.475 247.9 \n",
       "Return of the Jedi      309.306 165.8 \n",
       "The Phantom Menace      474.500 552.5 \n",
       "Attack of the Clones    310.700 338.7 \n",
       "Revenge of the Sith     380.300 468.5 "
      ]
     },
     "metadata": {},
     "output_type": "display_data"
    },
    {
     "data": {
      "text/html": [
       "347.966666666667"
      ],
      "text/latex": [
       "347.966666666667"
      ],
      "text/markdown": [
       "347.966666666667"
      ],
      "text/plain": [
       "[1] 347.9667"
      ]
     },
     "metadata": {},
     "output_type": "display_data"
    },
    {
     "data": {
      "text/html": [
       "281.15"
      ],
      "text/latex": [
       "281.15"
      ],
      "text/markdown": [
       "281.15"
      ],
      "text/plain": [
       "[1] 281.15"
      ]
     },
     "metadata": {},
     "output_type": "display_data"
    }
   ],
   "source": [
    "# all_wars_matrix is available in your workspace\n",
    "all_wars_matrix\n",
    "\n",
    "# Select the non-US revenue for all movies\n",
    "non_us_all <- all_wars_matrix[,2]\n",
    "  \n",
    "# Average non-US revenue\n",
    "mean(non_us_all)\n",
    "  \n",
    "# Select the non-US revenue for first two movies\n",
    "non_us_some <- all_wars_matrix[1:2,2]\n",
    "  \n",
    "# Average non-US revenue for first two movies\n",
    "mean(non_us_some)\n"
   ]
  },
  {
   "cell_type": "markdown",
   "metadata": {},
   "source": [
    "## A little arithmetic with matrices\n",
    "\n",
    "Similar to what you have learned with vectors, the standard operators\n",
    "like `+`, `-`, `/`, `*`, etc. work in an element-wise way on matrices in\n",
    "R.\n",
    "\n",
    "For example, `2 * my_matrix` multiplies each element of `my_matrix` by\n",
    "two.\n",
    "\n",
    "As a newly-hired data analyst for Lucasfilm, it is your job to find out\n",
    "how many visitors went to each movie for each geographical area. You\n",
    "already have the total revenue figures in `all_wars_matrix`. Assume that\n",
    "the price of a ticket was 5 dollars. Simply dividing the box office\n",
    "numbers by this ticket price gives you the number of visitors.\n",
    "\n",
    "-   Divide `all_wars_matrix` by 5, giving you the number of visitors in\n",
    "    millions. Assign the resulting matrix to `visitors`.\n",
    "-   Print out `visitors` so you can have a look.\n"
   ]
  },
  {
   "cell_type": "code",
   "execution_count": 33,
   "metadata": {
    "vscode": {
     "languageId": "r"
    }
   },
   "outputs": [
    {
     "data": {
      "text/html": [
       "<table class=\"dataframe\">\n",
       "<caption>A matrix: 6 × 2 of type dbl</caption>\n",
       "<thead>\n",
       "\t<tr><th></th><th scope=col>US</th><th scope=col>non-US</th></tr>\n",
       "</thead>\n",
       "<tbody>\n",
       "\t<tr><th scope=row>A New Hope</th><td>460.998</td><td>314.4</td></tr>\n",
       "\t<tr><th scope=row>The Empire Strikes Back</th><td>290.475</td><td>247.9</td></tr>\n",
       "\t<tr><th scope=row>Return of the Jedi</th><td>309.306</td><td>165.8</td></tr>\n",
       "\t<tr><th scope=row>The Phantom Menace</th><td>474.500</td><td>552.5</td></tr>\n",
       "\t<tr><th scope=row>Attack of the Clones</th><td>310.700</td><td>338.7</td></tr>\n",
       "\t<tr><th scope=row>Revenge of the Sith</th><td>380.300</td><td>468.5</td></tr>\n",
       "</tbody>\n",
       "</table>\n"
      ],
      "text/latex": [
       "A matrix: 6 × 2 of type dbl\n",
       "\\begin{tabular}{r|ll}\n",
       "  & US & non-US\\\\\n",
       "\\hline\n",
       "\tA New Hope & 460.998 & 314.4\\\\\n",
       "\tThe Empire Strikes Back & 290.475 & 247.9\\\\\n",
       "\tReturn of the Jedi & 309.306 & 165.8\\\\\n",
       "\tThe Phantom Menace & 474.500 & 552.5\\\\\n",
       "\tAttack of the Clones & 310.700 & 338.7\\\\\n",
       "\tRevenge of the Sith & 380.300 & 468.5\\\\\n",
       "\\end{tabular}\n"
      ],
      "text/markdown": [
       "\n",
       "A matrix: 6 × 2 of type dbl\n",
       "\n",
       "| <!--/--> | US | non-US |\n",
       "|---|---|---|\n",
       "| A New Hope | 460.998 | 314.4 |\n",
       "| The Empire Strikes Back | 290.475 | 247.9 |\n",
       "| Return of the Jedi | 309.306 | 165.8 |\n",
       "| The Phantom Menace | 474.500 | 552.5 |\n",
       "| Attack of the Clones | 310.700 | 338.7 |\n",
       "| Revenge of the Sith | 380.300 | 468.5 |\n",
       "\n"
      ],
      "text/plain": [
       "                        US      non-US\n",
       "A New Hope              460.998 314.4 \n",
       "The Empire Strikes Back 290.475 247.9 \n",
       "Return of the Jedi      309.306 165.8 \n",
       "The Phantom Menace      474.500 552.5 \n",
       "Attack of the Clones    310.700 338.7 \n",
       "Revenge of the Sith     380.300 468.5 "
      ]
     },
     "metadata": {},
     "output_type": "display_data"
    },
    {
     "data": {
      "text/html": [
       "<table class=\"dataframe\">\n",
       "<caption>A matrix: 6 × 2 of type dbl</caption>\n",
       "<thead>\n",
       "\t<tr><th></th><th scope=col>US</th><th scope=col>non-US</th></tr>\n",
       "</thead>\n",
       "<tbody>\n",
       "\t<tr><th scope=row>A New Hope</th><td>92.1996</td><td> 62.88</td></tr>\n",
       "\t<tr><th scope=row>The Empire Strikes Back</th><td>58.0950</td><td> 49.58</td></tr>\n",
       "\t<tr><th scope=row>Return of the Jedi</th><td>61.8612</td><td> 33.16</td></tr>\n",
       "\t<tr><th scope=row>The Phantom Menace</th><td>94.9000</td><td>110.50</td></tr>\n",
       "\t<tr><th scope=row>Attack of the Clones</th><td>62.1400</td><td> 67.74</td></tr>\n",
       "\t<tr><th scope=row>Revenge of the Sith</th><td>76.0600</td><td> 93.70</td></tr>\n",
       "</tbody>\n",
       "</table>\n"
      ],
      "text/latex": [
       "A matrix: 6 × 2 of type dbl\n",
       "\\begin{tabular}{r|ll}\n",
       "  & US & non-US\\\\\n",
       "\\hline\n",
       "\tA New Hope & 92.1996 &  62.88\\\\\n",
       "\tThe Empire Strikes Back & 58.0950 &  49.58\\\\\n",
       "\tReturn of the Jedi & 61.8612 &  33.16\\\\\n",
       "\tThe Phantom Menace & 94.9000 & 110.50\\\\\n",
       "\tAttack of the Clones & 62.1400 &  67.74\\\\\n",
       "\tRevenge of the Sith & 76.0600 &  93.70\\\\\n",
       "\\end{tabular}\n"
      ],
      "text/markdown": [
       "\n",
       "A matrix: 6 × 2 of type dbl\n",
       "\n",
       "| <!--/--> | US | non-US |\n",
       "|---|---|---|\n",
       "| A New Hope | 92.1996 |  62.88 |\n",
       "| The Empire Strikes Back | 58.0950 |  49.58 |\n",
       "| Return of the Jedi | 61.8612 |  33.16 |\n",
       "| The Phantom Menace | 94.9000 | 110.50 |\n",
       "| Attack of the Clones | 62.1400 |  67.74 |\n",
       "| Revenge of the Sith | 76.0600 |  93.70 |\n",
       "\n"
      ],
      "text/plain": [
       "                        US      non-US\n",
       "A New Hope              92.1996  62.88\n",
       "The Empire Strikes Back 58.0950  49.58\n",
       "Return of the Jedi      61.8612  33.16\n",
       "The Phantom Menace      94.9000 110.50\n",
       "Attack of the Clones    62.1400  67.74\n",
       "Revenge of the Sith     76.0600  93.70"
      ]
     },
     "metadata": {},
     "output_type": "display_data"
    }
   ],
   "source": [
    "# all_wars_matrix is available in your workspace\n",
    "all_wars_matrix\n",
    "\n",
    "# Estimate the visitors\n",
    "visitors <- all_wars_matrix / 5\n",
    "\n",
    "# Print the estimate to the console\n",
    "visitors\n"
   ]
  },
  {
   "cell_type": "markdown",
   "metadata": {},
   "source": [
    "## A little arithmetic with matrices (2)\n",
    "\n",
    "Just like `2 * my_matrix` multiplied every element of `my_matrix` by\n",
    "two, `my_matrix1 * my_matrix2` creates a matrix where each element is\n",
    "the product of the corresponding elements in `my_matrix1` and\n",
    "`my_matrix2`.\n",
    "\n",
    "After looking at the result of the previous exercise, big boss Lucas\n",
    "points out that the ticket prices went up over time. He asks to redo the\n",
    "analysis based on the prices you can find in `ticket_prices_matrix`\n",
    "(source: imagination).\n",
    "\n",
    "*Those who are familiar with matrices should note that this is not the\n",
    "standard matrix multiplication for which you should use `%*%` in R.*\n",
    "\n",
    "-   Divide `all_wars_matrix` by `ticket_prices_matrix` to get the\n",
    "    estimated number of US and non-US visitors for the six movies.\n",
    "    Assign the result to `visitors`.\n",
    "-   From the `visitors` matrix, select the entire first column,\n",
    "    representing the number of visitors in the US. Store this selection\n",
    "    as `us_visitors`.\n",
    "-   Calculate the average number of US visitors; print out the result.\n"
   ]
  },
  {
   "cell_type": "code",
   "execution_count": 34,
   "metadata": {
    "vscode": {
     "languageId": "r"
    }
   },
   "outputs": [
    {
     "data": {
      "text/html": [
       "<table class=\"dataframe\">\n",
       "<caption>A matrix: 6 × 2 of type dbl</caption>\n",
       "<thead>\n",
       "\t<tr><th></th><th scope=col>US</th><th scope=col>non-US</th></tr>\n",
       "</thead>\n",
       "<tbody>\n",
       "\t<tr><th scope=row>A New Hope</th><td>460.998</td><td>314.4</td></tr>\n",
       "\t<tr><th scope=row>The Empire Strikes Back</th><td>290.475</td><td>247.9</td></tr>\n",
       "\t<tr><th scope=row>Return of the Jedi</th><td>309.306</td><td>165.8</td></tr>\n",
       "\t<tr><th scope=row>The Phantom Menace</th><td>474.500</td><td>552.5</td></tr>\n",
       "\t<tr><th scope=row>Attack of the Clones</th><td>310.700</td><td>338.7</td></tr>\n",
       "\t<tr><th scope=row>Revenge of the Sith</th><td>380.300</td><td>468.5</td></tr>\n",
       "</tbody>\n",
       "</table>\n"
      ],
      "text/latex": [
       "A matrix: 6 × 2 of type dbl\n",
       "\\begin{tabular}{r|ll}\n",
       "  & US & non-US\\\\\n",
       "\\hline\n",
       "\tA New Hope & 460.998 & 314.4\\\\\n",
       "\tThe Empire Strikes Back & 290.475 & 247.9\\\\\n",
       "\tReturn of the Jedi & 309.306 & 165.8\\\\\n",
       "\tThe Phantom Menace & 474.500 & 552.5\\\\\n",
       "\tAttack of the Clones & 310.700 & 338.7\\\\\n",
       "\tRevenge of the Sith & 380.300 & 468.5\\\\\n",
       "\\end{tabular}\n"
      ],
      "text/markdown": [
       "\n",
       "A matrix: 6 × 2 of type dbl\n",
       "\n",
       "| <!--/--> | US | non-US |\n",
       "|---|---|---|\n",
       "| A New Hope | 460.998 | 314.4 |\n",
       "| The Empire Strikes Back | 290.475 | 247.9 |\n",
       "| Return of the Jedi | 309.306 | 165.8 |\n",
       "| The Phantom Menace | 474.500 | 552.5 |\n",
       "| Attack of the Clones | 310.700 | 338.7 |\n",
       "| Revenge of the Sith | 380.300 | 468.5 |\n",
       "\n"
      ],
      "text/plain": [
       "                        US      non-US\n",
       "A New Hope              460.998 314.4 \n",
       "The Empire Strikes Back 290.475 247.9 \n",
       "Return of the Jedi      309.306 165.8 \n",
       "The Phantom Menace      474.500 552.5 \n",
       "Attack of the Clones    310.700 338.7 \n",
       "Revenge of the Sith     380.300 468.5 "
      ]
     },
     "metadata": {},
     "output_type": "display_data"
    },
    {
     "data": {
      "text/html": [
       "<table class=\"dataframe\">\n",
       "<caption>A matrix: 6 × 2 of type dbl</caption>\n",
       "<thead>\n",
       "\t<tr><th></th><th scope=col>US</th><th scope=col>non-US</th></tr>\n",
       "</thead>\n",
       "<tbody>\n",
       "\t<tr><th scope=row>The Phantom Menace</th><td>5.0</td><td>5.0</td></tr>\n",
       "\t<tr><th scope=row>Attack of the Clones</th><td>6.0</td><td>6.0</td></tr>\n",
       "\t<tr><th scope=row>Revenge of the Sith</th><td>7.0</td><td>7.0</td></tr>\n",
       "\t<tr><th scope=row>The Phantom Menace</th><td>4.0</td><td>4.0</td></tr>\n",
       "\t<tr><th scope=row>Attack of the Clones</th><td>4.5</td><td>4.5</td></tr>\n",
       "\t<tr><th scope=row>Revenge of the Sith</th><td>4.9</td><td>4.9</td></tr>\n",
       "</tbody>\n",
       "</table>\n"
      ],
      "text/latex": [
       "A matrix: 6 × 2 of type dbl\n",
       "\\begin{tabular}{r|ll}\n",
       "  & US & non-US\\\\\n",
       "\\hline\n",
       "\tThe Phantom Menace & 5.0 & 5.0\\\\\n",
       "\tAttack of the Clones & 6.0 & 6.0\\\\\n",
       "\tRevenge of the Sith & 7.0 & 7.0\\\\\n",
       "\tThe Phantom Menace & 4.0 & 4.0\\\\\n",
       "\tAttack of the Clones & 4.5 & 4.5\\\\\n",
       "\tRevenge of the Sith & 4.9 & 4.9\\\\\n",
       "\\end{tabular}\n"
      ],
      "text/markdown": [
       "\n",
       "A matrix: 6 × 2 of type dbl\n",
       "\n",
       "| <!--/--> | US | non-US |\n",
       "|---|---|---|\n",
       "| The Phantom Menace | 5.0 | 5.0 |\n",
       "| Attack of the Clones | 6.0 | 6.0 |\n",
       "| Revenge of the Sith | 7.0 | 7.0 |\n",
       "| The Phantom Menace | 4.0 | 4.0 |\n",
       "| Attack of the Clones | 4.5 | 4.5 |\n",
       "| Revenge of the Sith | 4.9 | 4.9 |\n",
       "\n"
      ],
      "text/plain": [
       "                     US  non-US\n",
       "The Phantom Menace   5.0 5.0   \n",
       "Attack of the Clones 6.0 6.0   \n",
       "Revenge of the Sith  7.0 7.0   \n",
       "The Phantom Menace   4.0 4.0   \n",
       "Attack of the Clones 4.5 4.5   \n",
       "Revenge of the Sith  4.9 4.9   "
      ]
     },
     "metadata": {},
     "output_type": "display_data"
    },
    {
     "data": {
      "text/html": [
       "75.0133934618292"
      ],
      "text/latex": [
       "75.0133934618292"
      ],
      "text/markdown": [
       "75.0133934618292"
      ],
      "text/plain": [
       "[1] 75.01339"
      ]
     },
     "metadata": {},
     "output_type": "display_data"
    }
   ],
   "source": [
    "# edited/added\n",
    "ticket_prices1 <- c(5, 5, 6, 6, 7, 7)\n",
    "region1 <- c(\"US\", \"non-US\")\n",
    "titles1 <- c(\"The Phantom Menace\", \n",
    "            \"Attack of the Clones\", \n",
    "            \"Revenge of the Sith\")\n",
    "region2 <- c(\"US\", \"non-US\")\n",
    "titles2 <- c(\"The Phantom Menace\", \n",
    "            \"Attack of the Clones\", \n",
    "            \"Revenge of the Sith\")\n",
    "ticket_prices2 <- c(4, 4, 4.5, 4.5, 4.9, 4.9)\n",
    "ticket_prices_matrix1 <- matrix(ticket_prices1, \n",
    "                      nrow = 3, byrow = TRUE,\n",
    "                      dimnames = list(titles1, region1))\n",
    "ticket_prices_matrix2 <- matrix(ticket_prices2, \n",
    "                      nrow = 3, byrow = TRUE,\n",
    "                      dimnames = list(titles2, region2))\n",
    "ticket_prices_matrix <- rbind(ticket_prices_matrix1, ticket_prices_matrix2)\n",
    "\n",
    "# all_wars_matrix and ticket_prices_matrix are available in your workspace\n",
    "all_wars_matrix\n",
    "ticket_prices_matrix\n",
    "\n",
    "# Estimated number of visitors\n",
    "visitors <- all_wars_matrix / ticket_prices_matrix\n",
    "\n",
    "# US visitors\n",
    "us_visitors <- visitors[ ,1]\n",
    "\n",
    "# Average number of US visitors\n",
    "mean(us_visitors)\n"
   ]
  },
  {
   "cell_type": "markdown",
   "metadata": {},
   "source": [
    "# Factors\n",
    "\n",
    "Data often falls into a limited number of categories. For example, human hair color can be categorized as black, brown, blond, red, grey, or white—and perhaps a few more options for people who color their hair. In R, categorical data is stored in factors. Factors are very important in data analysis, so start learning how to create, subset, and compare them now.\n",
    "\n",
    "## What's a factor and why would you use it?\n",
    "\n",
    "In this chapter you dive into the wonderful world of **factors**.\n",
    "\n",
    "The term factor refers to a statistical data type used to store\n",
    "categorical variables. The difference between a categorical variable and\n",
    "a continuous variable is that a categorical variable can belong to a\n",
    "**limited number of categories**. A continuous variable, on the other\n",
    "hand, can correspond to an infinite number of values.\n",
    "\n",
    "It is important that R knows whether it is dealing with a continuous or\n",
    "a categorical variable, as the statistical models you will develop in\n",
    "the future treat both types differently. (You will see later why this is\n",
    "the case.)\n",
    "\n",
    "A good example of a categorical variable is sex. In many circumstances\n",
    "you can limit the sex categories to \"Male\" or \"Female\". (Sometimes you\n",
    "may need different categories. For example, you may need to consider\n",
    "chromosomal variation, hermaphroditic animals, or different cultural\n",
    "norms, but you will always have a finite number of categories.)\n",
    "\n",
    "Assign to variable `theory` the value `\"factors\"`.\n"
   ]
  },
  {
   "cell_type": "code",
   "execution_count": 35,
   "metadata": {
    "vscode": {
     "languageId": "r"
    }
   },
   "outputs": [],
   "source": [
    "# Assign to the variable theory what this chapter is about!\n",
    "theory <- \"factors\"\n"
   ]
  },
  {
   "cell_type": "markdown",
   "metadata": {},
   "source": [
    "## What's a factor and why would you use it? (2)\n",
    "\n",
    "To create factors in R, you make use of the function\n",
    "[`factor()`](http://www.rdocumentation.org/packages/base/functions/factor).\n",
    "First thing that you have to do is create a vector that contains all the\n",
    "observations that belong to a limited number of categories. For example,\n",
    "`sex_vector` contains the sex of 5 different individuals:\n",
    "\n",
    "    sex_vector <- c(\"Male\",\"Female\",\"Female\",\"Male\",\"Male\")\n",
    "\n",
    "It is clear that there are two categories, or in R-terms **'factor\n",
    "levels'**, at work here: \"Male\" and \"Female\".\n",
    "\n",
    "The function\n",
    "[`factor()`](http://www.rdocumentation.org/packages/base/functions/factor)\n",
    "will encode the vector as a factor:\n",
    "\n",
    "    factor_sex_vector <- factor(sex_vector)\n",
    "\n",
    "-   Convert the character vector `sex_vector` to a factor with\n",
    "    `factor()` and assign the result to `factor_sex_vector`\n",
    "-   Print out `factor_sex_vector` and assert that R prints out the\n",
    "    factor levels below the actual values.\n"
   ]
  },
  {
   "cell_type": "code",
   "execution_count": 36,
   "metadata": {
    "vscode": {
     "languageId": "r"
    }
   },
   "outputs": [
    {
     "data": {
      "text/html": [
       "<style>\n",
       ".list-inline {list-style: none; margin:0; padding: 0}\n",
       ".list-inline>li {display: inline-block}\n",
       ".list-inline>li:not(:last-child)::after {content: \"\\00b7\"; padding: 0 .5ex}\n",
       "</style>\n",
       "<ol class=list-inline><li>Male</li><li>Female</li><li>Female</li><li>Male</li><li>Male</li></ol>\n",
       "\n",
       "<details>\n",
       "\t<summary style=display:list-item;cursor:pointer>\n",
       "\t\t<strong>Levels</strong>:\n",
       "\t</summary>\n",
       "\t<style>\n",
       "\t.list-inline {list-style: none; margin:0; padding: 0}\n",
       "\t.list-inline>li {display: inline-block}\n",
       "\t.list-inline>li:not(:last-child)::after {content: \"\\00b7\"; padding: 0 .5ex}\n",
       "\t</style>\n",
       "\t<ol class=list-inline><li>'Female'</li><li>'Male'</li></ol>\n",
       "</details>"
      ],
      "text/latex": [
       "\\begin{enumerate*}\n",
       "\\item Male\n",
       "\\item Female\n",
       "\\item Female\n",
       "\\item Male\n",
       "\\item Male\n",
       "\\end{enumerate*}\n",
       "\n",
       "\\emph{Levels}: \\begin{enumerate*}\n",
       "\\item 'Female'\n",
       "\\item 'Male'\n",
       "\\end{enumerate*}\n"
      ],
      "text/markdown": [
       "1. Male\n",
       "2. Female\n",
       "3. Female\n",
       "4. Male\n",
       "5. Male\n",
       "\n",
       "\n",
       "\n",
       "**Levels**: 1. 'Female'\n",
       "2. 'Male'\n",
       "\n",
       "\n"
      ],
      "text/plain": [
       "[1] Male   Female Female Male   Male  \n",
       "Levels: Female Male"
      ]
     },
     "metadata": {},
     "output_type": "display_data"
    }
   ],
   "source": [
    "# Sex vector\n",
    "sex_vector <- c(\"Male\", \"Female\", \"Female\", \"Male\", \"Male\")\n",
    "\n",
    "# Convert sex_vector to a factor\n",
    "factor_sex_vector <- factor(sex_vector)\n",
    "\n",
    "# Print out factor_sex_vector\n",
    "factor_sex_vector\n"
   ]
  },
  {
   "cell_type": "markdown",
   "metadata": {},
   "source": [
    "## What's a factor and why would you use it? (3)\n",
    "\n",
    "There are two types of categorical variables: a **nominal categorical\n",
    "variable** and an **ordinal categorical variable**.\n",
    "\n",
    "A nominal variable is a categorical variable without an implied order.\n",
    "This means that it is impossible to say that 'one is worth more than the\n",
    "other'. For example, think of the categorical variable `animals_vector`\n",
    "with the categories `\"Elephant\"`, `\"Giraffe\"`, `\"Donkey\"` and `\"Horse\"`.\n",
    "Here, it is impossible to say that one stands above or below the other.\n",
    "(Note that some of you might disagree ;-) ).\n",
    "\n",
    "In contrast, ordinal variables do have a natural ordering. Consider for\n",
    "example the categorical variable `temperature_vector` with the\n",
    "categories: `\"Low\"`, `\"Medium\"` and `\"High\"`. Here it is obvious that\n",
    "`\"Medium\"` stands above `\"Low\"`, and `\"High\"` stands above `\"Medium\"`.\n",
    "\n",
    "Submit the answer to check how R constructs and prints nominal and\n",
    "ordinal variables. Do not worry if you do not understand all the code\n",
    "just yet, we will get to that.\n"
   ]
  },
  {
   "cell_type": "code",
   "execution_count": 37,
   "metadata": {
    "vscode": {
     "languageId": "r"
    }
   },
   "outputs": [
    {
     "data": {
      "text/html": [
       "<style>\n",
       ".list-inline {list-style: none; margin:0; padding: 0}\n",
       ".list-inline>li {display: inline-block}\n",
       ".list-inline>li:not(:last-child)::after {content: \"\\00b7\"; padding: 0 .5ex}\n",
       "</style>\n",
       "<ol class=list-inline><li>Elephant</li><li>Giraffe</li><li>Donkey</li><li>Horse</li></ol>\n",
       "\n",
       "<details>\n",
       "\t<summary style=display:list-item;cursor:pointer>\n",
       "\t\t<strong>Levels</strong>:\n",
       "\t</summary>\n",
       "\t<style>\n",
       "\t.list-inline {list-style: none; margin:0; padding: 0}\n",
       "\t.list-inline>li {display: inline-block}\n",
       "\t.list-inline>li:not(:last-child)::after {content: \"\\00b7\"; padding: 0 .5ex}\n",
       "\t</style>\n",
       "\t<ol class=list-inline><li>'Donkey'</li><li>'Elephant'</li><li>'Giraffe'</li><li>'Horse'</li></ol>\n",
       "</details>"
      ],
      "text/latex": [
       "\\begin{enumerate*}\n",
       "\\item Elephant\n",
       "\\item Giraffe\n",
       "\\item Donkey\n",
       "\\item Horse\n",
       "\\end{enumerate*}\n",
       "\n",
       "\\emph{Levels}: \\begin{enumerate*}\n",
       "\\item 'Donkey'\n",
       "\\item 'Elephant'\n",
       "\\item 'Giraffe'\n",
       "\\item 'Horse'\n",
       "\\end{enumerate*}\n"
      ],
      "text/markdown": [
       "1. Elephant\n",
       "2. Giraffe\n",
       "3. Donkey\n",
       "4. Horse\n",
       "\n",
       "\n",
       "\n",
       "**Levels**: 1. 'Donkey'\n",
       "2. 'Elephant'\n",
       "3. 'Giraffe'\n",
       "4. 'Horse'\n",
       "\n",
       "\n"
      ],
      "text/plain": [
       "[1] Elephant Giraffe  Donkey   Horse   \n",
       "Levels: Donkey Elephant Giraffe Horse"
      ]
     },
     "metadata": {},
     "output_type": "display_data"
    },
    {
     "data": {
      "text/html": [
       "<style>\n",
       ".list-inline {list-style: none; margin:0; padding: 0}\n",
       ".list-inline>li {display: inline-block}\n",
       ".list-inline>li:not(:last-child)::after {content: \"\\00b7\"; padding: 0 .5ex}\n",
       "</style>\n",
       "<ol class=list-inline><li>High</li><li>Low</li><li>High</li><li>Low</li><li>Medium</li></ol>\n",
       "\n",
       "<details>\n",
       "\t<summary style=display:list-item;cursor:pointer>\n",
       "\t\t<strong>Levels</strong>:\n",
       "\t</summary>\n",
       "\t<style>\n",
       "\t.list-inline {list-style: none; margin:0; padding: 0}\n",
       "\t.list-inline>li {display: inline-block}\n",
       "\t.list-inline>li:not(:last-child)::after {content: \"\\00b7\"; padding: 0 .5ex}\n",
       "\t</style>\n",
       "\t<ol class=list-inline><li>'Low'</li><li>'Medium'</li><li>'High'</li></ol>\n",
       "</details>"
      ],
      "text/latex": [
       "\\begin{enumerate*}\n",
       "\\item High\n",
       "\\item Low\n",
       "\\item High\n",
       "\\item Low\n",
       "\\item Medium\n",
       "\\end{enumerate*}\n",
       "\n",
       "\\emph{Levels}: \\begin{enumerate*}\n",
       "\\item 'Low'\n",
       "\\item 'Medium'\n",
       "\\item 'High'\n",
       "\\end{enumerate*}\n"
      ],
      "text/markdown": [
       "1. High\n",
       "2. Low\n",
       "3. High\n",
       "4. Low\n",
       "5. Medium\n",
       "\n",
       "\n",
       "\n",
       "**Levels**: 1. 'Low'\n",
       "2. 'Medium'\n",
       "3. 'High'\n",
       "\n",
       "\n"
      ],
      "text/plain": [
       "[1] High   Low    High   Low    Medium\n",
       "Levels: Low < Medium < High"
      ]
     },
     "metadata": {},
     "output_type": "display_data"
    }
   ],
   "source": [
    "# Animals\n",
    "animals_vector <- c(\"Elephant\", \"Giraffe\", \"Donkey\", \"Horse\")\n",
    "factor_animals_vector <- factor(animals_vector)\n",
    "factor_animals_vector\n",
    "\n",
    "# Temperature\n",
    "temperature_vector <- c(\"High\", \"Low\", \"High\",\"Low\", \"Medium\")\n",
    "factor_temperature_vector <- factor(temperature_vector, order = TRUE, levels = c(\"Low\", \"Medium\", \"High\"))\n",
    "factor_temperature_vector\n"
   ]
  },
  {
   "cell_type": "markdown",
   "metadata": {},
   "source": [
    "## Factor levels\n",
    "\n",
    "When you first get a dataset, you will often notice that it contains\n",
    "factors with specific factor levels. However, sometimes you will want to\n",
    "change the names of these levels for clarity or other reasons. R allows\n",
    "you to do this with the function\n",
    "[`levels()`](http://www.rdocumentation.org/packages/base/functions/levels):\n",
    "\n",
    "    levels(factor_vector) <- c(\"name1\", \"name2\",...)\n",
    "\n",
    "A good illustration is the raw data that is provided to you by a survey.\n",
    "A common question for every questionnaire is the sex of the respondent.\n",
    "Here, for simplicity, just two categories were recorded, `\"M\"` and\n",
    "`\"F\"`. (You usually need more categories for survey data; either way,\n",
    "you use a factor to store the categorical data.)\n",
    "\n",
    "    survey_vector <- c(\"M\", \"F\", \"F\", \"M\", \"M\")\n",
    "\n",
    "Recording the sex with the abbreviations `\"M\"` and `\"F\"` can be\n",
    "convenient if you are collecting data with pen and paper, but it can\n",
    "introduce confusion when analyzing the data. At that point, you will\n",
    "often want to change the factor levels to `\"Male\"` and `\"Female\"`\n",
    "instead of `\"M\"` and `\"F\"` for clarity.\n",
    "\n",
    "**Watch out:** the order with which you assign the levels is important.\n",
    "If you type `levels(factor_survey_vector)`, you'll see that it outputs\n",
    "`[1] \"F\" \"M\"`. If you don't specify the levels of the factor when\n",
    "creating the vector, `R` will automatically assign them alphabetically.\n",
    "To correctly map `\"F\"` to `\"Female\"` and `\"M\"` to `\"Male\"`, the levels\n",
    "should be set to `c(\"Female\", \"Male\")`, in this order.\n",
    "\n",
    "-   Check out the code that builds a factor vector from `survey_vector`.\n",
    "    You should use `factor_survey_vector` in the next instruction.\n",
    "-   Change the factor levels of `factor_survey_vector` to\n",
    "    `c(\"Female\", \"Male\")`. Mind the order of the vector elements here.\n"
   ]
  },
  {
   "cell_type": "code",
   "execution_count": 38,
   "metadata": {
    "vscode": {
     "languageId": "r"
    }
   },
   "outputs": [
    {
     "data": {
      "text/html": [
       "<style>\n",
       ".list-inline {list-style: none; margin:0; padding: 0}\n",
       ".list-inline>li {display: inline-block}\n",
       ".list-inline>li:not(:last-child)::after {content: \"\\00b7\"; padding: 0 .5ex}\n",
       "</style>\n",
       "<ol class=list-inline><li>Male</li><li>Female</li><li>Female</li><li>Male</li><li>Male</li></ol>\n",
       "\n",
       "<details>\n",
       "\t<summary style=display:list-item;cursor:pointer>\n",
       "\t\t<strong>Levels</strong>:\n",
       "\t</summary>\n",
       "\t<style>\n",
       "\t.list-inline {list-style: none; margin:0; padding: 0}\n",
       "\t.list-inline>li {display: inline-block}\n",
       "\t.list-inline>li:not(:last-child)::after {content: \"\\00b7\"; padding: 0 .5ex}\n",
       "\t</style>\n",
       "\t<ol class=list-inline><li>'Female'</li><li>'Male'</li></ol>\n",
       "</details>"
      ],
      "text/latex": [
       "\\begin{enumerate*}\n",
       "\\item Male\n",
       "\\item Female\n",
       "\\item Female\n",
       "\\item Male\n",
       "\\item Male\n",
       "\\end{enumerate*}\n",
       "\n",
       "\\emph{Levels}: \\begin{enumerate*}\n",
       "\\item 'Female'\n",
       "\\item 'Male'\n",
       "\\end{enumerate*}\n"
      ],
      "text/markdown": [
       "1. Male\n",
       "2. Female\n",
       "3. Female\n",
       "4. Male\n",
       "5. Male\n",
       "\n",
       "\n",
       "\n",
       "**Levels**: 1. 'Female'\n",
       "2. 'Male'\n",
       "\n",
       "\n"
      ],
      "text/plain": [
       "[1] Male   Female Female Male   Male  \n",
       "Levels: Female Male"
      ]
     },
     "metadata": {},
     "output_type": "display_data"
    }
   ],
   "source": [
    "# Code to build factor_survey_vector\n",
    "survey_vector <- c(\"M\", \"F\", \"F\", \"M\", \"M\")\n",
    "factor_survey_vector <- factor(survey_vector)\n",
    "\n",
    "# Specify the levels of factor_survey_vector\n",
    "levels(factor_survey_vector) <- c(\"Female\", \"Male\")\n",
    "\n",
    "factor_survey_vector\n"
   ]
  },
  {
   "cell_type": "markdown",
   "metadata": {},
   "source": [
    "## Summarizing a factor\n",
    "\n",
    "After finishing this course, one of your favorite functions in R will be\n",
    "[`summary()`](http://www.rdocumentation.org/packages/base/functions/summary).\n",
    "This will give you a quick overview of the contents of a variable:\n",
    "\n",
    "    summary(my_var)\n",
    "\n",
    "Going back to our survey, you would like to know how many `\"Male\"`\n",
    "responses you have in your study, and how many `\"Female\"` responses. The\n",
    "[`summary()`](http://www.rdocumentation.org/packages/base/functions/summary)\n",
    "function gives you the answer to this question.\n",
    "\n",
    "Ask a\n",
    "[`summary()`](http://www.rdocumentation.org/packages/base/functions/summary)\n",
    "of the `survey_vector` and `factor_survey_vector`. Interpret the results\n",
    "of both vectors. Are they both equally useful in this case?\n"
   ]
  },
  {
   "cell_type": "code",
   "execution_count": 39,
   "metadata": {
    "vscode": {
     "languageId": "r"
    }
   },
   "outputs": [
    {
     "data": {
      "text/html": [
       "<style>\n",
       ".list-inline {list-style: none; margin:0; padding: 0}\n",
       ".list-inline>li {display: inline-block}\n",
       ".list-inline>li:not(:last-child)::after {content: \"\\00b7\"; padding: 0 .5ex}\n",
       "</style>\n",
       "<ol class=list-inline><li>Male</li><li>Female</li><li>Female</li><li>Male</li><li>Male</li></ol>\n",
       "\n",
       "<details>\n",
       "\t<summary style=display:list-item;cursor:pointer>\n",
       "\t\t<strong>Levels</strong>:\n",
       "\t</summary>\n",
       "\t<style>\n",
       "\t.list-inline {list-style: none; margin:0; padding: 0}\n",
       "\t.list-inline>li {display: inline-block}\n",
       "\t.list-inline>li:not(:last-child)::after {content: \"\\00b7\"; padding: 0 .5ex}\n",
       "\t</style>\n",
       "\t<ol class=list-inline><li>'Female'</li><li>'Male'</li></ol>\n",
       "</details>"
      ],
      "text/latex": [
       "\\begin{enumerate*}\n",
       "\\item Male\n",
       "\\item Female\n",
       "\\item Female\n",
       "\\item Male\n",
       "\\item Male\n",
       "\\end{enumerate*}\n",
       "\n",
       "\\emph{Levels}: \\begin{enumerate*}\n",
       "\\item 'Female'\n",
       "\\item 'Male'\n",
       "\\end{enumerate*}\n"
      ],
      "text/markdown": [
       "1. Male\n",
       "2. Female\n",
       "3. Female\n",
       "4. Male\n",
       "5. Male\n",
       "\n",
       "\n",
       "\n",
       "**Levels**: 1. 'Female'\n",
       "2. 'Male'\n",
       "\n",
       "\n"
      ],
      "text/plain": [
       "[1] Male   Female Female Male   Male  \n",
       "Levels: Female Male"
      ]
     },
     "metadata": {},
     "output_type": "display_data"
    },
    {
     "data": {
      "text/plain": [
       "   Length     Class      Mode \n",
       "        5 character character "
      ]
     },
     "metadata": {},
     "output_type": "display_data"
    },
    {
     "data": {
      "text/html": [
       "<style>\n",
       ".dl-inline {width: auto; margin:0; padding: 0}\n",
       ".dl-inline>dt, .dl-inline>dd {float: none; width: auto; display: inline-block}\n",
       ".dl-inline>dt::after {content: \":\\0020\"; padding-right: .5ex}\n",
       ".dl-inline>dt:not(:first-of-type) {padding-left: .5ex}\n",
       "</style><dl class=dl-inline><dt>Female</dt><dd>2</dd><dt>Male</dt><dd>3</dd></dl>\n"
      ],
      "text/latex": [
       "\\begin{description*}\n",
       "\\item[Female] 2\n",
       "\\item[Male] 3\n",
       "\\end{description*}\n"
      ],
      "text/markdown": [
       "Female\n",
       ":   2Male\n",
       ":   3\n",
       "\n"
      ],
      "text/plain": [
       "Female   Male \n",
       "     2      3 "
      ]
     },
     "metadata": {},
     "output_type": "display_data"
    }
   ],
   "source": [
    "# Build factor_survey_vector with clean levels\n",
    "survey_vector <- c(\"M\", \"F\", \"F\", \"M\", \"M\")\n",
    "factor_survey_vector <- factor(survey_vector)\n",
    "levels(factor_survey_vector) <- c(\"Female\", \"Male\")\n",
    "factor_survey_vector\n",
    "\n",
    "# Generate summary for survey_vector\n",
    "summary(survey_vector)\n",
    "\n",
    "# Generate summary for factor_survey_vector\n",
    "summary(factor_survey_vector)\n"
   ]
  },
  {
   "cell_type": "markdown",
   "metadata": {},
   "source": [
    "## Battle of the sexes\n",
    "\n",
    "You might wonder what happens when you try to compare elements of a\n",
    "factor. In `factor_survey_vector` you have a factor with two levels:\n",
    "`\"Male\"` and `\"Female\"`. But how does R value these relative to each\n",
    "other?\n",
    "\n",
    "Read the code in the editor and submit the answer to test if `male` is\n",
    "greater than (`>`) `female`.\n"
   ]
  },
  {
   "cell_type": "code",
   "execution_count": 40,
   "metadata": {
    "vscode": {
     "languageId": "r"
    }
   },
   "outputs": [
    {
     "name": "stderr",
     "output_type": "stream",
     "text": [
      "Warning message in Ops.factor(male, female):\n",
      "“‘>’ not meaningful for factors”\n"
     ]
    },
    {
     "data": {
      "text/html": [
       "&lt;NA&gt;"
      ],
      "text/latex": [
       "<NA>"
      ],
      "text/markdown": [
       "&lt;NA&gt;"
      ],
      "text/plain": [
       "[1] NA"
      ]
     },
     "metadata": {},
     "output_type": "display_data"
    }
   ],
   "source": [
    "# Build factor_survey_vector with clean levels\n",
    "survey_vector <- c(\"M\", \"F\", \"F\", \"M\", \"M\")\n",
    "factor_survey_vector <- factor(survey_vector)\n",
    "levels(factor_survey_vector) <- c(\"Female\", \"Male\")\n",
    "\n",
    "# Male\n",
    "male <- factor_survey_vector[1]\n",
    "\n",
    "# Female\n",
    "female <- factor_survey_vector[2]\n",
    "\n",
    "# Battle of the sexes: Male 'larger' than female?\n",
    "male > female\n"
   ]
  },
  {
   "cell_type": "markdown",
   "metadata": {},
   "source": [
    "## Ordered factors\n",
    "\n",
    "Since `\"Male\"` and `\"Female\"` are unordered (or nominal) factor levels,\n",
    "R returns a warning message, telling you that the greater than operator\n",
    "is not meaningful. As seen before, R attaches an equal value to the\n",
    "levels for such factors.\n",
    "\n",
    "But this is not always the case! Sometimes you will also deal with\n",
    "factors that do have a natural ordering between its categories. If this\n",
    "is the case, we have to make sure that we pass this information to R…\n",
    "\n",
    "Let us say that you are leading a research team of five data analysts\n",
    "and that you want to evaluate their performance. To do this, you track\n",
    "their speed, evaluate each analyst as `\"slow\"`, `\"medium\"` or `\"fast\"`,\n",
    "and save the results in `speed_vector`.\n",
    "\n",
    "As a first step, assign `speed_vector` a vector with 5 entries, one for\n",
    "each analyst. Each entry should be either `\"slow\"`, `\"medium\"`, or\n",
    "`\"fast\"`. Use the list below:\n",
    "\n",
    "-   Analyst 1 is medium,\n",
    "-   Analyst 2 is slow,\n",
    "-   Analyst 3 is slow,\n",
    "-   Analyst 4 is medium and\n",
    "-   Analyst 5 is fast.\n",
    "\n",
    "No need to specify these are factors yet.\n"
   ]
  },
  {
   "cell_type": "code",
   "execution_count": 41,
   "metadata": {
    "vscode": {
     "languageId": "r"
    }
   },
   "outputs": [],
   "source": [
    "# Create speed_vector\n",
    "speed_vector <- c(\"medium\", \"slow\", \"slow\", \"medium\", \"fast\")\n"
   ]
  },
  {
   "cell_type": "markdown",
   "metadata": {},
   "source": [
    "## Ordered factors (2)\n",
    "\n",
    "`speed_vector` should be converted to an ordinal factor since its\n",
    "categories have a natural ordering. By default, the function\n",
    "[`factor()`](http://www.rdocumentation.org/packages/base/functions/factor)\n",
    "transforms `speed_vector` into an unordered factor. To create an ordered\n",
    "factor, you have to add two additional arguments: `ordered` and\n",
    "`levels`.\n",
    "\n",
    "    factor(some_vector,\n",
    "           ordered = TRUE,\n",
    "           levels = c(\"lev1\", \"lev2\" ...))\n",
    "\n",
    "By setting the argument `ordered` to `TRUE` in the function\n",
    "[`factor()`](http://www.rdocumentation.org/packages/base/functions/factor),\n",
    "you indicate that the factor is ordered. With the argument `levels` you\n",
    "give the values of the factor in the correct order.\n",
    "\n",
    "From `speed_vector`, create an ordered factor vector:\n",
    "`factor_speed_vector`. Set `ordered` to `TRUE`, and set `levels` to\n",
    "`c(\"slow\", \"medium\", \"fast\")`.\n"
   ]
  },
  {
   "cell_type": "code",
   "execution_count": 42,
   "metadata": {
    "vscode": {
     "languageId": "r"
    }
   },
   "outputs": [
    {
     "data": {
      "text/html": [
       "<style>\n",
       ".list-inline {list-style: none; margin:0; padding: 0}\n",
       ".list-inline>li {display: inline-block}\n",
       ".list-inline>li:not(:last-child)::after {content: \"\\00b7\"; padding: 0 .5ex}\n",
       "</style>\n",
       "<ol class=list-inline><li>medium</li><li>slow</li><li>slow</li><li>medium</li><li>fast</li></ol>\n",
       "\n",
       "<details>\n",
       "\t<summary style=display:list-item;cursor:pointer>\n",
       "\t\t<strong>Levels</strong>:\n",
       "\t</summary>\n",
       "\t<style>\n",
       "\t.list-inline {list-style: none; margin:0; padding: 0}\n",
       "\t.list-inline>li {display: inline-block}\n",
       "\t.list-inline>li:not(:last-child)::after {content: \"\\00b7\"; padding: 0 .5ex}\n",
       "\t</style>\n",
       "\t<ol class=list-inline><li>'slow'</li><li>'medium'</li><li>'fast'</li></ol>\n",
       "</details>"
      ],
      "text/latex": [
       "\\begin{enumerate*}\n",
       "\\item medium\n",
       "\\item slow\n",
       "\\item slow\n",
       "\\item medium\n",
       "\\item fast\n",
       "\\end{enumerate*}\n",
       "\n",
       "\\emph{Levels}: \\begin{enumerate*}\n",
       "\\item 'slow'\n",
       "\\item 'medium'\n",
       "\\item 'fast'\n",
       "\\end{enumerate*}\n"
      ],
      "text/markdown": [
       "1. medium\n",
       "2. slow\n",
       "3. slow\n",
       "4. medium\n",
       "5. fast\n",
       "\n",
       "\n",
       "\n",
       "**Levels**: 1. 'slow'\n",
       "2. 'medium'\n",
       "3. 'fast'\n",
       "\n",
       "\n"
      ],
      "text/plain": [
       "[1] medium slow   slow   medium fast  \n",
       "Levels: slow < medium < fast"
      ]
     },
     "metadata": {},
     "output_type": "display_data"
    },
    {
     "data": {
      "text/html": [
       "<style>\n",
       ".dl-inline {width: auto; margin:0; padding: 0}\n",
       ".dl-inline>dt, .dl-inline>dd {float: none; width: auto; display: inline-block}\n",
       ".dl-inline>dt::after {content: \":\\0020\"; padding-right: .5ex}\n",
       ".dl-inline>dt:not(:first-of-type) {padding-left: .5ex}\n",
       "</style><dl class=dl-inline><dt>slow</dt><dd>2</dd><dt>medium</dt><dd>2</dd><dt>fast</dt><dd>1</dd></dl>\n"
      ],
      "text/latex": [
       "\\begin{description*}\n",
       "\\item[slow] 2\n",
       "\\item[medium] 2\n",
       "\\item[fast] 1\n",
       "\\end{description*}\n"
      ],
      "text/markdown": [
       "slow\n",
       ":   2medium\n",
       ":   2fast\n",
       ":   1\n",
       "\n"
      ],
      "text/plain": [
       "  slow medium   fast \n",
       "     2      2      1 "
      ]
     },
     "metadata": {},
     "output_type": "display_data"
    }
   ],
   "source": [
    "# Create speed_vector\n",
    "speed_vector <- c(\"medium\", \"slow\", \"slow\", \"medium\", \"fast\")\n",
    "\n",
    "# Convert speed_vector to ordered factor vector\n",
    "factor_speed_vector <- factor(speed_vector, ordered = TRUE, levels = c(\"slow\", \"medium\", \"fast\"))\n",
    "\n",
    "# Print factor_speed_vector\n",
    "factor_speed_vector\n",
    "summary(factor_speed_vector)\n"
   ]
  },
  {
   "cell_type": "markdown",
   "metadata": {},
   "source": [
    "## Comparing ordered factors\n",
    "\n",
    "Having a bad day at work, 'data analyst number two' enters your office\n",
    "and starts complaining that 'data analyst number five' is slowing down\n",
    "the entire project. Since you know that 'data analyst number two' has\n",
    "the reputation of being a smarty-pants, you first decide to check if his\n",
    "statement is true.\n",
    "\n",
    "The fact that `factor_speed_vector` is now ordered enables us to compare\n",
    "different elements (the data analysts in this case). You can simply do\n",
    "this by using the well-known operators.\n",
    "\n",
    "-   Use `[2]` to select from `factor_speed_vector` the factor value for\n",
    "    the second data analyst. Store it as `da2`.\n",
    "-   Use `[5]` to select the `factor_speed_vector` factor value for the\n",
    "    fifth data analyst. Store it as `da5`.\n",
    "-   Check if `da2` is greater than `da5`; simply print out the result.\n",
    "    Remember that you can use the `>` operator to check whether one\n",
    "    element is larger than the other.\n"
   ]
  },
  {
   "cell_type": "code",
   "execution_count": 43,
   "metadata": {
    "vscode": {
     "languageId": "r"
    }
   },
   "outputs": [
    {
     "data": {
      "text/html": [
       "FALSE"
      ],
      "text/latex": [
       "FALSE"
      ],
      "text/markdown": [
       "FALSE"
      ],
      "text/plain": [
       "[1] FALSE"
      ]
     },
     "metadata": {},
     "output_type": "display_data"
    }
   ],
   "source": [
    "# Create factor_speed_vector\n",
    "speed_vector <- c(\"medium\", \"slow\", \"slow\", \"medium\", \"fast\")\n",
    "factor_speed_vector <- factor(speed_vector, ordered = TRUE, levels = c(\"slow\", \"medium\", \"fast\"))\n",
    "\n",
    "# Factor value for second data analyst\n",
    "da2 <- factor_speed_vector[2]\n",
    "\n",
    "# Factor value for fifth data analyst\n",
    "da5 <- factor_speed_vector[5]\n",
    "\n",
    "# Is data analyst 2 faster data analyst 5?\n",
    "da2 > da5\n"
   ]
  },
  {
   "cell_type": "markdown",
   "metadata": {},
   "source": [
    "# Data frames\n",
    "\n",
    "Most datasets you will be working with will be stored as data frames. By the end of this chapter, you will be able to create a data frame, select interesting parts of a data frame, and order a data frame according to certain variables.\n",
    "\n",
    "## What's a data frame?\n",
    "\n",
    "You may remember from the chapter about matrices that all the elements\n",
    "that you put in a matrix should be of the same type. Back then, your\n",
    "dataset on Star Wars only contained numeric elements.\n",
    "\n",
    "When doing a market research survey, however, you often have questions\n",
    "such as:\n",
    "\n",
    "-   'Are you married?' or 'yes/no' questions (`logical`)\n",
    "-   'How old are you?' (`numeric`)\n",
    "-   'What is your opinion on this product?' or other 'open-ended'\n",
    "    questions (`character`)\n",
    "-   …\n",
    "\n",
    "The output, namely the respondents' answers to the questions formulated\n",
    "above, is a dataset of different data types. You will often find\n",
    "yourself working with datasets that contain different data types instead\n",
    "of only one.\n",
    "\n",
    "A data frame has the variables of a dataset as columns and the\n",
    "observations as rows. This will be a familiar concept for those coming\n",
    "from different statistical software packages such as SAS or SPSS.\n",
    "\n",
    "Submit the answer. The data from the built-in example data frame\n",
    "[`mtcars`](http://www.rdocumentation.org/packages/datasets/functions/mtcars)\n",
    "will be printed to the console.\n"
   ]
  },
  {
   "cell_type": "code",
   "execution_count": 44,
   "metadata": {
    "vscode": {
     "languageId": "r"
    }
   },
   "outputs": [
    {
     "data": {
      "text/html": [
       "<table class=\"dataframe\">\n",
       "<caption>A data.frame: 32 × 11</caption>\n",
       "<thead>\n",
       "\t<tr><th></th><th scope=col>mpg</th><th scope=col>cyl</th><th scope=col>disp</th><th scope=col>hp</th><th scope=col>drat</th><th scope=col>wt</th><th scope=col>qsec</th><th scope=col>vs</th><th scope=col>am</th><th scope=col>gear</th><th scope=col>carb</th></tr>\n",
       "\t<tr><th></th><th scope=col>&lt;dbl&gt;</th><th scope=col>&lt;dbl&gt;</th><th scope=col>&lt;dbl&gt;</th><th scope=col>&lt;dbl&gt;</th><th scope=col>&lt;dbl&gt;</th><th scope=col>&lt;dbl&gt;</th><th scope=col>&lt;dbl&gt;</th><th scope=col>&lt;dbl&gt;</th><th scope=col>&lt;dbl&gt;</th><th scope=col>&lt;dbl&gt;</th><th scope=col>&lt;dbl&gt;</th></tr>\n",
       "</thead>\n",
       "<tbody>\n",
       "\t<tr><th scope=row>Mazda RX4</th><td>21.0</td><td>6</td><td>160.0</td><td>110</td><td>3.90</td><td>2.620</td><td>16.46</td><td>0</td><td>1</td><td>4</td><td>4</td></tr>\n",
       "\t<tr><th scope=row>Mazda RX4 Wag</th><td>21.0</td><td>6</td><td>160.0</td><td>110</td><td>3.90</td><td>2.875</td><td>17.02</td><td>0</td><td>1</td><td>4</td><td>4</td></tr>\n",
       "\t<tr><th scope=row>Datsun 710</th><td>22.8</td><td>4</td><td>108.0</td><td> 93</td><td>3.85</td><td>2.320</td><td>18.61</td><td>1</td><td>1</td><td>4</td><td>1</td></tr>\n",
       "\t<tr><th scope=row>Hornet 4 Drive</th><td>21.4</td><td>6</td><td>258.0</td><td>110</td><td>3.08</td><td>3.215</td><td>19.44</td><td>1</td><td>0</td><td>3</td><td>1</td></tr>\n",
       "\t<tr><th scope=row>Hornet Sportabout</th><td>18.7</td><td>8</td><td>360.0</td><td>175</td><td>3.15</td><td>3.440</td><td>17.02</td><td>0</td><td>0</td><td>3</td><td>2</td></tr>\n",
       "\t<tr><th scope=row>Valiant</th><td>18.1</td><td>6</td><td>225.0</td><td>105</td><td>2.76</td><td>3.460</td><td>20.22</td><td>1</td><td>0</td><td>3</td><td>1</td></tr>\n",
       "\t<tr><th scope=row>Duster 360</th><td>14.3</td><td>8</td><td>360.0</td><td>245</td><td>3.21</td><td>3.570</td><td>15.84</td><td>0</td><td>0</td><td>3</td><td>4</td></tr>\n",
       "\t<tr><th scope=row>Merc 240D</th><td>24.4</td><td>4</td><td>146.7</td><td> 62</td><td>3.69</td><td>3.190</td><td>20.00</td><td>1</td><td>0</td><td>4</td><td>2</td></tr>\n",
       "\t<tr><th scope=row>Merc 230</th><td>22.8</td><td>4</td><td>140.8</td><td> 95</td><td>3.92</td><td>3.150</td><td>22.90</td><td>1</td><td>0</td><td>4</td><td>2</td></tr>\n",
       "\t<tr><th scope=row>Merc 280</th><td>19.2</td><td>6</td><td>167.6</td><td>123</td><td>3.92</td><td>3.440</td><td>18.30</td><td>1</td><td>0</td><td>4</td><td>4</td></tr>\n",
       "\t<tr><th scope=row>Merc 280C</th><td>17.8</td><td>6</td><td>167.6</td><td>123</td><td>3.92</td><td>3.440</td><td>18.90</td><td>1</td><td>0</td><td>4</td><td>4</td></tr>\n",
       "\t<tr><th scope=row>Merc 450SE</th><td>16.4</td><td>8</td><td>275.8</td><td>180</td><td>3.07</td><td>4.070</td><td>17.40</td><td>0</td><td>0</td><td>3</td><td>3</td></tr>\n",
       "\t<tr><th scope=row>Merc 450SL</th><td>17.3</td><td>8</td><td>275.8</td><td>180</td><td>3.07</td><td>3.730</td><td>17.60</td><td>0</td><td>0</td><td>3</td><td>3</td></tr>\n",
       "\t<tr><th scope=row>Merc 450SLC</th><td>15.2</td><td>8</td><td>275.8</td><td>180</td><td>3.07</td><td>3.780</td><td>18.00</td><td>0</td><td>0</td><td>3</td><td>3</td></tr>\n",
       "\t<tr><th scope=row>Cadillac Fleetwood</th><td>10.4</td><td>8</td><td>472.0</td><td>205</td><td>2.93</td><td>5.250</td><td>17.98</td><td>0</td><td>0</td><td>3</td><td>4</td></tr>\n",
       "\t<tr><th scope=row>Lincoln Continental</th><td>10.4</td><td>8</td><td>460.0</td><td>215</td><td>3.00</td><td>5.424</td><td>17.82</td><td>0</td><td>0</td><td>3</td><td>4</td></tr>\n",
       "\t<tr><th scope=row>Chrysler Imperial</th><td>14.7</td><td>8</td><td>440.0</td><td>230</td><td>3.23</td><td>5.345</td><td>17.42</td><td>0</td><td>0</td><td>3</td><td>4</td></tr>\n",
       "\t<tr><th scope=row>Fiat 128</th><td>32.4</td><td>4</td><td> 78.7</td><td> 66</td><td>4.08</td><td>2.200</td><td>19.47</td><td>1</td><td>1</td><td>4</td><td>1</td></tr>\n",
       "\t<tr><th scope=row>Honda Civic</th><td>30.4</td><td>4</td><td> 75.7</td><td> 52</td><td>4.93</td><td>1.615</td><td>18.52</td><td>1</td><td>1</td><td>4</td><td>2</td></tr>\n",
       "\t<tr><th scope=row>Toyota Corolla</th><td>33.9</td><td>4</td><td> 71.1</td><td> 65</td><td>4.22</td><td>1.835</td><td>19.90</td><td>1</td><td>1</td><td>4</td><td>1</td></tr>\n",
       "\t<tr><th scope=row>Toyota Corona</th><td>21.5</td><td>4</td><td>120.1</td><td> 97</td><td>3.70</td><td>2.465</td><td>20.01</td><td>1</td><td>0</td><td>3</td><td>1</td></tr>\n",
       "\t<tr><th scope=row>Dodge Challenger</th><td>15.5</td><td>8</td><td>318.0</td><td>150</td><td>2.76</td><td>3.520</td><td>16.87</td><td>0</td><td>0</td><td>3</td><td>2</td></tr>\n",
       "\t<tr><th scope=row>AMC Javelin</th><td>15.2</td><td>8</td><td>304.0</td><td>150</td><td>3.15</td><td>3.435</td><td>17.30</td><td>0</td><td>0</td><td>3</td><td>2</td></tr>\n",
       "\t<tr><th scope=row>Camaro Z28</th><td>13.3</td><td>8</td><td>350.0</td><td>245</td><td>3.73</td><td>3.840</td><td>15.41</td><td>0</td><td>0</td><td>3</td><td>4</td></tr>\n",
       "\t<tr><th scope=row>Pontiac Firebird</th><td>19.2</td><td>8</td><td>400.0</td><td>175</td><td>3.08</td><td>3.845</td><td>17.05</td><td>0</td><td>0</td><td>3</td><td>2</td></tr>\n",
       "\t<tr><th scope=row>Fiat X1-9</th><td>27.3</td><td>4</td><td> 79.0</td><td> 66</td><td>4.08</td><td>1.935</td><td>18.90</td><td>1</td><td>1</td><td>4</td><td>1</td></tr>\n",
       "\t<tr><th scope=row>Porsche 914-2</th><td>26.0</td><td>4</td><td>120.3</td><td> 91</td><td>4.43</td><td>2.140</td><td>16.70</td><td>0</td><td>1</td><td>5</td><td>2</td></tr>\n",
       "\t<tr><th scope=row>Lotus Europa</th><td>30.4</td><td>4</td><td> 95.1</td><td>113</td><td>3.77</td><td>1.513</td><td>16.90</td><td>1</td><td>1</td><td>5</td><td>2</td></tr>\n",
       "\t<tr><th scope=row>Ford Pantera L</th><td>15.8</td><td>8</td><td>351.0</td><td>264</td><td>4.22</td><td>3.170</td><td>14.50</td><td>0</td><td>1</td><td>5</td><td>4</td></tr>\n",
       "\t<tr><th scope=row>Ferrari Dino</th><td>19.7</td><td>6</td><td>145.0</td><td>175</td><td>3.62</td><td>2.770</td><td>15.50</td><td>0</td><td>1</td><td>5</td><td>6</td></tr>\n",
       "\t<tr><th scope=row>Maserati Bora</th><td>15.0</td><td>8</td><td>301.0</td><td>335</td><td>3.54</td><td>3.570</td><td>14.60</td><td>0</td><td>1</td><td>5</td><td>8</td></tr>\n",
       "\t<tr><th scope=row>Volvo 142E</th><td>21.4</td><td>4</td><td>121.0</td><td>109</td><td>4.11</td><td>2.780</td><td>18.60</td><td>1</td><td>1</td><td>4</td><td>2</td></tr>\n",
       "</tbody>\n",
       "</table>\n"
      ],
      "text/latex": [
       "A data.frame: 32 × 11\n",
       "\\begin{tabular}{r|lllllllllll}\n",
       "  & mpg & cyl & disp & hp & drat & wt & qsec & vs & am & gear & carb\\\\\n",
       "  & <dbl> & <dbl> & <dbl> & <dbl> & <dbl> & <dbl> & <dbl> & <dbl> & <dbl> & <dbl> & <dbl>\\\\\n",
       "\\hline\n",
       "\tMazda RX4 & 21.0 & 6 & 160.0 & 110 & 3.90 & 2.620 & 16.46 & 0 & 1 & 4 & 4\\\\\n",
       "\tMazda RX4 Wag & 21.0 & 6 & 160.0 & 110 & 3.90 & 2.875 & 17.02 & 0 & 1 & 4 & 4\\\\\n",
       "\tDatsun 710 & 22.8 & 4 & 108.0 &  93 & 3.85 & 2.320 & 18.61 & 1 & 1 & 4 & 1\\\\\n",
       "\tHornet 4 Drive & 21.4 & 6 & 258.0 & 110 & 3.08 & 3.215 & 19.44 & 1 & 0 & 3 & 1\\\\\n",
       "\tHornet Sportabout & 18.7 & 8 & 360.0 & 175 & 3.15 & 3.440 & 17.02 & 0 & 0 & 3 & 2\\\\\n",
       "\tValiant & 18.1 & 6 & 225.0 & 105 & 2.76 & 3.460 & 20.22 & 1 & 0 & 3 & 1\\\\\n",
       "\tDuster 360 & 14.3 & 8 & 360.0 & 245 & 3.21 & 3.570 & 15.84 & 0 & 0 & 3 & 4\\\\\n",
       "\tMerc 240D & 24.4 & 4 & 146.7 &  62 & 3.69 & 3.190 & 20.00 & 1 & 0 & 4 & 2\\\\\n",
       "\tMerc 230 & 22.8 & 4 & 140.8 &  95 & 3.92 & 3.150 & 22.90 & 1 & 0 & 4 & 2\\\\\n",
       "\tMerc 280 & 19.2 & 6 & 167.6 & 123 & 3.92 & 3.440 & 18.30 & 1 & 0 & 4 & 4\\\\\n",
       "\tMerc 280C & 17.8 & 6 & 167.6 & 123 & 3.92 & 3.440 & 18.90 & 1 & 0 & 4 & 4\\\\\n",
       "\tMerc 450SE & 16.4 & 8 & 275.8 & 180 & 3.07 & 4.070 & 17.40 & 0 & 0 & 3 & 3\\\\\n",
       "\tMerc 450SL & 17.3 & 8 & 275.8 & 180 & 3.07 & 3.730 & 17.60 & 0 & 0 & 3 & 3\\\\\n",
       "\tMerc 450SLC & 15.2 & 8 & 275.8 & 180 & 3.07 & 3.780 & 18.00 & 0 & 0 & 3 & 3\\\\\n",
       "\tCadillac Fleetwood & 10.4 & 8 & 472.0 & 205 & 2.93 & 5.250 & 17.98 & 0 & 0 & 3 & 4\\\\\n",
       "\tLincoln Continental & 10.4 & 8 & 460.0 & 215 & 3.00 & 5.424 & 17.82 & 0 & 0 & 3 & 4\\\\\n",
       "\tChrysler Imperial & 14.7 & 8 & 440.0 & 230 & 3.23 & 5.345 & 17.42 & 0 & 0 & 3 & 4\\\\\n",
       "\tFiat 128 & 32.4 & 4 &  78.7 &  66 & 4.08 & 2.200 & 19.47 & 1 & 1 & 4 & 1\\\\\n",
       "\tHonda Civic & 30.4 & 4 &  75.7 &  52 & 4.93 & 1.615 & 18.52 & 1 & 1 & 4 & 2\\\\\n",
       "\tToyota Corolla & 33.9 & 4 &  71.1 &  65 & 4.22 & 1.835 & 19.90 & 1 & 1 & 4 & 1\\\\\n",
       "\tToyota Corona & 21.5 & 4 & 120.1 &  97 & 3.70 & 2.465 & 20.01 & 1 & 0 & 3 & 1\\\\\n",
       "\tDodge Challenger & 15.5 & 8 & 318.0 & 150 & 2.76 & 3.520 & 16.87 & 0 & 0 & 3 & 2\\\\\n",
       "\tAMC Javelin & 15.2 & 8 & 304.0 & 150 & 3.15 & 3.435 & 17.30 & 0 & 0 & 3 & 2\\\\\n",
       "\tCamaro Z28 & 13.3 & 8 & 350.0 & 245 & 3.73 & 3.840 & 15.41 & 0 & 0 & 3 & 4\\\\\n",
       "\tPontiac Firebird & 19.2 & 8 & 400.0 & 175 & 3.08 & 3.845 & 17.05 & 0 & 0 & 3 & 2\\\\\n",
       "\tFiat X1-9 & 27.3 & 4 &  79.0 &  66 & 4.08 & 1.935 & 18.90 & 1 & 1 & 4 & 1\\\\\n",
       "\tPorsche 914-2 & 26.0 & 4 & 120.3 &  91 & 4.43 & 2.140 & 16.70 & 0 & 1 & 5 & 2\\\\\n",
       "\tLotus Europa & 30.4 & 4 &  95.1 & 113 & 3.77 & 1.513 & 16.90 & 1 & 1 & 5 & 2\\\\\n",
       "\tFord Pantera L & 15.8 & 8 & 351.0 & 264 & 4.22 & 3.170 & 14.50 & 0 & 1 & 5 & 4\\\\\n",
       "\tFerrari Dino & 19.7 & 6 & 145.0 & 175 & 3.62 & 2.770 & 15.50 & 0 & 1 & 5 & 6\\\\\n",
       "\tMaserati Bora & 15.0 & 8 & 301.0 & 335 & 3.54 & 3.570 & 14.60 & 0 & 1 & 5 & 8\\\\\n",
       "\tVolvo 142E & 21.4 & 4 & 121.0 & 109 & 4.11 & 2.780 & 18.60 & 1 & 1 & 4 & 2\\\\\n",
       "\\end{tabular}\n"
      ],
      "text/markdown": [
       "\n",
       "A data.frame: 32 × 11\n",
       "\n",
       "| <!--/--> | mpg &lt;dbl&gt; | cyl &lt;dbl&gt; | disp &lt;dbl&gt; | hp &lt;dbl&gt; | drat &lt;dbl&gt; | wt &lt;dbl&gt; | qsec &lt;dbl&gt; | vs &lt;dbl&gt; | am &lt;dbl&gt; | gear &lt;dbl&gt; | carb &lt;dbl&gt; |\n",
       "|---|---|---|---|---|---|---|---|---|---|---|---|\n",
       "| Mazda RX4 | 21.0 | 6 | 160.0 | 110 | 3.90 | 2.620 | 16.46 | 0 | 1 | 4 | 4 |\n",
       "| Mazda RX4 Wag | 21.0 | 6 | 160.0 | 110 | 3.90 | 2.875 | 17.02 | 0 | 1 | 4 | 4 |\n",
       "| Datsun 710 | 22.8 | 4 | 108.0 |  93 | 3.85 | 2.320 | 18.61 | 1 | 1 | 4 | 1 |\n",
       "| Hornet 4 Drive | 21.4 | 6 | 258.0 | 110 | 3.08 | 3.215 | 19.44 | 1 | 0 | 3 | 1 |\n",
       "| Hornet Sportabout | 18.7 | 8 | 360.0 | 175 | 3.15 | 3.440 | 17.02 | 0 | 0 | 3 | 2 |\n",
       "| Valiant | 18.1 | 6 | 225.0 | 105 | 2.76 | 3.460 | 20.22 | 1 | 0 | 3 | 1 |\n",
       "| Duster 360 | 14.3 | 8 | 360.0 | 245 | 3.21 | 3.570 | 15.84 | 0 | 0 | 3 | 4 |\n",
       "| Merc 240D | 24.4 | 4 | 146.7 |  62 | 3.69 | 3.190 | 20.00 | 1 | 0 | 4 | 2 |\n",
       "| Merc 230 | 22.8 | 4 | 140.8 |  95 | 3.92 | 3.150 | 22.90 | 1 | 0 | 4 | 2 |\n",
       "| Merc 280 | 19.2 | 6 | 167.6 | 123 | 3.92 | 3.440 | 18.30 | 1 | 0 | 4 | 4 |\n",
       "| Merc 280C | 17.8 | 6 | 167.6 | 123 | 3.92 | 3.440 | 18.90 | 1 | 0 | 4 | 4 |\n",
       "| Merc 450SE | 16.4 | 8 | 275.8 | 180 | 3.07 | 4.070 | 17.40 | 0 | 0 | 3 | 3 |\n",
       "| Merc 450SL | 17.3 | 8 | 275.8 | 180 | 3.07 | 3.730 | 17.60 | 0 | 0 | 3 | 3 |\n",
       "| Merc 450SLC | 15.2 | 8 | 275.8 | 180 | 3.07 | 3.780 | 18.00 | 0 | 0 | 3 | 3 |\n",
       "| Cadillac Fleetwood | 10.4 | 8 | 472.0 | 205 | 2.93 | 5.250 | 17.98 | 0 | 0 | 3 | 4 |\n",
       "| Lincoln Continental | 10.4 | 8 | 460.0 | 215 | 3.00 | 5.424 | 17.82 | 0 | 0 | 3 | 4 |\n",
       "| Chrysler Imperial | 14.7 | 8 | 440.0 | 230 | 3.23 | 5.345 | 17.42 | 0 | 0 | 3 | 4 |\n",
       "| Fiat 128 | 32.4 | 4 |  78.7 |  66 | 4.08 | 2.200 | 19.47 | 1 | 1 | 4 | 1 |\n",
       "| Honda Civic | 30.4 | 4 |  75.7 |  52 | 4.93 | 1.615 | 18.52 | 1 | 1 | 4 | 2 |\n",
       "| Toyota Corolla | 33.9 | 4 |  71.1 |  65 | 4.22 | 1.835 | 19.90 | 1 | 1 | 4 | 1 |\n",
       "| Toyota Corona | 21.5 | 4 | 120.1 |  97 | 3.70 | 2.465 | 20.01 | 1 | 0 | 3 | 1 |\n",
       "| Dodge Challenger | 15.5 | 8 | 318.0 | 150 | 2.76 | 3.520 | 16.87 | 0 | 0 | 3 | 2 |\n",
       "| AMC Javelin | 15.2 | 8 | 304.0 | 150 | 3.15 | 3.435 | 17.30 | 0 | 0 | 3 | 2 |\n",
       "| Camaro Z28 | 13.3 | 8 | 350.0 | 245 | 3.73 | 3.840 | 15.41 | 0 | 0 | 3 | 4 |\n",
       "| Pontiac Firebird | 19.2 | 8 | 400.0 | 175 | 3.08 | 3.845 | 17.05 | 0 | 0 | 3 | 2 |\n",
       "| Fiat X1-9 | 27.3 | 4 |  79.0 |  66 | 4.08 | 1.935 | 18.90 | 1 | 1 | 4 | 1 |\n",
       "| Porsche 914-2 | 26.0 | 4 | 120.3 |  91 | 4.43 | 2.140 | 16.70 | 0 | 1 | 5 | 2 |\n",
       "| Lotus Europa | 30.4 | 4 |  95.1 | 113 | 3.77 | 1.513 | 16.90 | 1 | 1 | 5 | 2 |\n",
       "| Ford Pantera L | 15.8 | 8 | 351.0 | 264 | 4.22 | 3.170 | 14.50 | 0 | 1 | 5 | 4 |\n",
       "| Ferrari Dino | 19.7 | 6 | 145.0 | 175 | 3.62 | 2.770 | 15.50 | 0 | 1 | 5 | 6 |\n",
       "| Maserati Bora | 15.0 | 8 | 301.0 | 335 | 3.54 | 3.570 | 14.60 | 0 | 1 | 5 | 8 |\n",
       "| Volvo 142E | 21.4 | 4 | 121.0 | 109 | 4.11 | 2.780 | 18.60 | 1 | 1 | 4 | 2 |\n",
       "\n"
      ],
      "text/plain": [
       "                    mpg  cyl disp  hp  drat wt    qsec  vs am gear carb\n",
       "Mazda RX4           21.0 6   160.0 110 3.90 2.620 16.46 0  1  4    4   \n",
       "Mazda RX4 Wag       21.0 6   160.0 110 3.90 2.875 17.02 0  1  4    4   \n",
       "Datsun 710          22.8 4   108.0  93 3.85 2.320 18.61 1  1  4    1   \n",
       "Hornet 4 Drive      21.4 6   258.0 110 3.08 3.215 19.44 1  0  3    1   \n",
       "Hornet Sportabout   18.7 8   360.0 175 3.15 3.440 17.02 0  0  3    2   \n",
       "Valiant             18.1 6   225.0 105 2.76 3.460 20.22 1  0  3    1   \n",
       "Duster 360          14.3 8   360.0 245 3.21 3.570 15.84 0  0  3    4   \n",
       "Merc 240D           24.4 4   146.7  62 3.69 3.190 20.00 1  0  4    2   \n",
       "Merc 230            22.8 4   140.8  95 3.92 3.150 22.90 1  0  4    2   \n",
       "Merc 280            19.2 6   167.6 123 3.92 3.440 18.30 1  0  4    4   \n",
       "Merc 280C           17.8 6   167.6 123 3.92 3.440 18.90 1  0  4    4   \n",
       "Merc 450SE          16.4 8   275.8 180 3.07 4.070 17.40 0  0  3    3   \n",
       "Merc 450SL          17.3 8   275.8 180 3.07 3.730 17.60 0  0  3    3   \n",
       "Merc 450SLC         15.2 8   275.8 180 3.07 3.780 18.00 0  0  3    3   \n",
       "Cadillac Fleetwood  10.4 8   472.0 205 2.93 5.250 17.98 0  0  3    4   \n",
       "Lincoln Continental 10.4 8   460.0 215 3.00 5.424 17.82 0  0  3    4   \n",
       "Chrysler Imperial   14.7 8   440.0 230 3.23 5.345 17.42 0  0  3    4   \n",
       "Fiat 128            32.4 4    78.7  66 4.08 2.200 19.47 1  1  4    1   \n",
       "Honda Civic         30.4 4    75.7  52 4.93 1.615 18.52 1  1  4    2   \n",
       "Toyota Corolla      33.9 4    71.1  65 4.22 1.835 19.90 1  1  4    1   \n",
       "Toyota Corona       21.5 4   120.1  97 3.70 2.465 20.01 1  0  3    1   \n",
       "Dodge Challenger    15.5 8   318.0 150 2.76 3.520 16.87 0  0  3    2   \n",
       "AMC Javelin         15.2 8   304.0 150 3.15 3.435 17.30 0  0  3    2   \n",
       "Camaro Z28          13.3 8   350.0 245 3.73 3.840 15.41 0  0  3    4   \n",
       "Pontiac Firebird    19.2 8   400.0 175 3.08 3.845 17.05 0  0  3    2   \n",
       "Fiat X1-9           27.3 4    79.0  66 4.08 1.935 18.90 1  1  4    1   \n",
       "Porsche 914-2       26.0 4   120.3  91 4.43 2.140 16.70 0  1  5    2   \n",
       "Lotus Europa        30.4 4    95.1 113 3.77 1.513 16.90 1  1  5    2   \n",
       "Ford Pantera L      15.8 8   351.0 264 4.22 3.170 14.50 0  1  5    4   \n",
       "Ferrari Dino        19.7 6   145.0 175 3.62 2.770 15.50 0  1  5    6   \n",
       "Maserati Bora       15.0 8   301.0 335 3.54 3.570 14.60 0  1  5    8   \n",
       "Volvo 142E          21.4 4   121.0 109 4.11 2.780 18.60 1  1  4    2   "
      ]
     },
     "metadata": {},
     "output_type": "display_data"
    }
   ],
   "source": [
    "# Print out built-in R data frame\n",
    "mtcars \n"
   ]
  },
  {
   "cell_type": "markdown",
   "metadata": {},
   "source": [
    "## Quick, have a look at your dataset\n",
    "\n",
    "Wow, that is a lot of cars!\n",
    "\n",
    "Working with large datasets is not uncommon in data analysis. When you\n",
    "work with (extremely) large datasets and data frames, your first task as\n",
    "a data analyst is to develop a clear understanding of its structure and\n",
    "main elements. Therefore, it is often useful to show only a small part\n",
    "of the entire dataset.\n",
    "\n",
    "So how to do this in R? Well, the function\n",
    "[`head()`](http://www.rdocumentation.org/packages/utils/functions/head)\n",
    "enables you to show the first observations of a data frame. Similarly,\n",
    "the function\n",
    "[`tail()`](http://www.rdocumentation.org/packages/utils/functions/head)\n",
    "prints out the last observations in your dataset.\n",
    "\n",
    "Both\n",
    "[`head()`](http://www.rdocumentation.org/packages/utils/functions/head)\n",
    "and\n",
    "[`tail()`](http://www.rdocumentation.org/packages/utils/functions/head)\n",
    "print a top line called the 'header', which contains the names of the\n",
    "different variables in your dataset.\n",
    "\n",
    "Call\n",
    "[`head()`](http://www.rdocumentation.org/packages/utils/functions/head)\n",
    "on the\n",
    "[`mtcars`](http://www.rdocumentation.org/packages/datasets/functions/mtcars)\n",
    "dataset to have a look at the header and the first observations.\n"
   ]
  },
  {
   "cell_type": "code",
   "execution_count": 45,
   "metadata": {
    "vscode": {
     "languageId": "r"
    }
   },
   "outputs": [
    {
     "data": {
      "text/html": [
       "<table class=\"dataframe\">\n",
       "<caption>A data.frame: 6 × 11</caption>\n",
       "<thead>\n",
       "\t<tr><th></th><th scope=col>mpg</th><th scope=col>cyl</th><th scope=col>disp</th><th scope=col>hp</th><th scope=col>drat</th><th scope=col>wt</th><th scope=col>qsec</th><th scope=col>vs</th><th scope=col>am</th><th scope=col>gear</th><th scope=col>carb</th></tr>\n",
       "\t<tr><th></th><th scope=col>&lt;dbl&gt;</th><th scope=col>&lt;dbl&gt;</th><th scope=col>&lt;dbl&gt;</th><th scope=col>&lt;dbl&gt;</th><th scope=col>&lt;dbl&gt;</th><th scope=col>&lt;dbl&gt;</th><th scope=col>&lt;dbl&gt;</th><th scope=col>&lt;dbl&gt;</th><th scope=col>&lt;dbl&gt;</th><th scope=col>&lt;dbl&gt;</th><th scope=col>&lt;dbl&gt;</th></tr>\n",
       "</thead>\n",
       "<tbody>\n",
       "\t<tr><th scope=row>Mazda RX4</th><td>21.0</td><td>6</td><td>160</td><td>110</td><td>3.90</td><td>2.620</td><td>16.46</td><td>0</td><td>1</td><td>4</td><td>4</td></tr>\n",
       "\t<tr><th scope=row>Mazda RX4 Wag</th><td>21.0</td><td>6</td><td>160</td><td>110</td><td>3.90</td><td>2.875</td><td>17.02</td><td>0</td><td>1</td><td>4</td><td>4</td></tr>\n",
       "\t<tr><th scope=row>Datsun 710</th><td>22.8</td><td>4</td><td>108</td><td> 93</td><td>3.85</td><td>2.320</td><td>18.61</td><td>1</td><td>1</td><td>4</td><td>1</td></tr>\n",
       "\t<tr><th scope=row>Hornet 4 Drive</th><td>21.4</td><td>6</td><td>258</td><td>110</td><td>3.08</td><td>3.215</td><td>19.44</td><td>1</td><td>0</td><td>3</td><td>1</td></tr>\n",
       "\t<tr><th scope=row>Hornet Sportabout</th><td>18.7</td><td>8</td><td>360</td><td>175</td><td>3.15</td><td>3.440</td><td>17.02</td><td>0</td><td>0</td><td>3</td><td>2</td></tr>\n",
       "\t<tr><th scope=row>Valiant</th><td>18.1</td><td>6</td><td>225</td><td>105</td><td>2.76</td><td>3.460</td><td>20.22</td><td>1</td><td>0</td><td>3</td><td>1</td></tr>\n",
       "</tbody>\n",
       "</table>\n"
      ],
      "text/latex": [
       "A data.frame: 6 × 11\n",
       "\\begin{tabular}{r|lllllllllll}\n",
       "  & mpg & cyl & disp & hp & drat & wt & qsec & vs & am & gear & carb\\\\\n",
       "  & <dbl> & <dbl> & <dbl> & <dbl> & <dbl> & <dbl> & <dbl> & <dbl> & <dbl> & <dbl> & <dbl>\\\\\n",
       "\\hline\n",
       "\tMazda RX4 & 21.0 & 6 & 160 & 110 & 3.90 & 2.620 & 16.46 & 0 & 1 & 4 & 4\\\\\n",
       "\tMazda RX4 Wag & 21.0 & 6 & 160 & 110 & 3.90 & 2.875 & 17.02 & 0 & 1 & 4 & 4\\\\\n",
       "\tDatsun 710 & 22.8 & 4 & 108 &  93 & 3.85 & 2.320 & 18.61 & 1 & 1 & 4 & 1\\\\\n",
       "\tHornet 4 Drive & 21.4 & 6 & 258 & 110 & 3.08 & 3.215 & 19.44 & 1 & 0 & 3 & 1\\\\\n",
       "\tHornet Sportabout & 18.7 & 8 & 360 & 175 & 3.15 & 3.440 & 17.02 & 0 & 0 & 3 & 2\\\\\n",
       "\tValiant & 18.1 & 6 & 225 & 105 & 2.76 & 3.460 & 20.22 & 1 & 0 & 3 & 1\\\\\n",
       "\\end{tabular}\n"
      ],
      "text/markdown": [
       "\n",
       "A data.frame: 6 × 11\n",
       "\n",
       "| <!--/--> | mpg &lt;dbl&gt; | cyl &lt;dbl&gt; | disp &lt;dbl&gt; | hp &lt;dbl&gt; | drat &lt;dbl&gt; | wt &lt;dbl&gt; | qsec &lt;dbl&gt; | vs &lt;dbl&gt; | am &lt;dbl&gt; | gear &lt;dbl&gt; | carb &lt;dbl&gt; |\n",
       "|---|---|---|---|---|---|---|---|---|---|---|---|\n",
       "| Mazda RX4 | 21.0 | 6 | 160 | 110 | 3.90 | 2.620 | 16.46 | 0 | 1 | 4 | 4 |\n",
       "| Mazda RX4 Wag | 21.0 | 6 | 160 | 110 | 3.90 | 2.875 | 17.02 | 0 | 1 | 4 | 4 |\n",
       "| Datsun 710 | 22.8 | 4 | 108 |  93 | 3.85 | 2.320 | 18.61 | 1 | 1 | 4 | 1 |\n",
       "| Hornet 4 Drive | 21.4 | 6 | 258 | 110 | 3.08 | 3.215 | 19.44 | 1 | 0 | 3 | 1 |\n",
       "| Hornet Sportabout | 18.7 | 8 | 360 | 175 | 3.15 | 3.440 | 17.02 | 0 | 0 | 3 | 2 |\n",
       "| Valiant | 18.1 | 6 | 225 | 105 | 2.76 | 3.460 | 20.22 | 1 | 0 | 3 | 1 |\n",
       "\n"
      ],
      "text/plain": [
       "                  mpg  cyl disp hp  drat wt    qsec  vs am gear carb\n",
       "Mazda RX4         21.0 6   160  110 3.90 2.620 16.46 0  1  4    4   \n",
       "Mazda RX4 Wag     21.0 6   160  110 3.90 2.875 17.02 0  1  4    4   \n",
       "Datsun 710        22.8 4   108   93 3.85 2.320 18.61 1  1  4    1   \n",
       "Hornet 4 Drive    21.4 6   258  110 3.08 3.215 19.44 1  0  3    1   \n",
       "Hornet Sportabout 18.7 8   360  175 3.15 3.440 17.02 0  0  3    2   \n",
       "Valiant           18.1 6   225  105 2.76 3.460 20.22 1  0  3    1   "
      ]
     },
     "metadata": {},
     "output_type": "display_data"
    }
   ],
   "source": [
    "# Call head() on mtcars\n",
    "head(mtcars)\n"
   ]
  },
  {
   "cell_type": "markdown",
   "metadata": {},
   "source": [
    "## Have a look at the structure\n",
    "\n",
    "Another method that is often used to get a rapid overview of your data\n",
    "is the function\n",
    "[`str()`](http://www.rdocumentation.org/packages/utils/functions/str).\n",
    "The function\n",
    "[`str()`](http://www.rdocumentation.org/packages/utils/functions/str)\n",
    "shows you the structure of your dataset. For a data frame it tells you:\n",
    "\n",
    "-   The total number of observations (e.g. 32 car types)\n",
    "-   The total number of variables (e.g. 11 car features)\n",
    "-   A full list of the variables names (e.g. `mpg`, `cyl` … )\n",
    "-   The data type of each variable (e.g. `num`)\n",
    "-   The first observations\n",
    "\n",
    "Applying the\n",
    "[`str()`](http://www.rdocumentation.org/packages/utils/functions/str)\n",
    "function will often be the first thing that you do when receiving a new\n",
    "dataset or data frame. It is a great way to get more insight in your\n",
    "dataset before diving into the real analysis.\n",
    "\n",
    "Investigate the structure of\n",
    "[`mtcars`](http://www.rdocumentation.org/packages/datasets/functions/mtcars).\n",
    "Make sure that you see the same numbers, variables and data types as\n",
    "mentioned above.\n"
   ]
  },
  {
   "cell_type": "code",
   "execution_count": 46,
   "metadata": {
    "vscode": {
     "languageId": "r"
    }
   },
   "outputs": [
    {
     "name": "stdout",
     "output_type": "stream",
     "text": [
      "'data.frame':\t32 obs. of  11 variables:\n",
      " $ mpg : num  21 21 22.8 21.4 18.7 18.1 14.3 24.4 22.8 19.2 ...\n",
      " $ cyl : num  6 6 4 6 8 6 8 4 4 6 ...\n",
      " $ disp: num  160 160 108 258 360 ...\n",
      " $ hp  : num  110 110 93 110 175 105 245 62 95 123 ...\n",
      " $ drat: num  3.9 3.9 3.85 3.08 3.15 2.76 3.21 3.69 3.92 3.92 ...\n",
      " $ wt  : num  2.62 2.88 2.32 3.21 3.44 ...\n",
      " $ qsec: num  16.5 17 18.6 19.4 17 ...\n",
      " $ vs  : num  0 0 1 1 0 1 0 1 1 1 ...\n",
      " $ am  : num  1 1 1 0 0 0 0 0 0 0 ...\n",
      " $ gear: num  4 4 4 3 3 3 3 4 4 4 ...\n",
      " $ carb: num  4 4 1 1 2 1 4 2 2 4 ...\n"
     ]
    }
   ],
   "source": [
    "# Investigate the structure of mtcars\n",
    "str(mtcars)\n"
   ]
  },
  {
   "cell_type": "markdown",
   "metadata": {},
   "source": [
    "## Creating a data frame\n",
    "\n",
    "Since using built-in datasets is not even half the fun of creating your\n",
    "own datasets, the rest of this chapter is based on your personally\n",
    "developed dataset. Put your jet pack on because it is time for some\n",
    "space exploration!\n",
    "\n",
    "As a first goal, you want to construct a data frame that describes the\n",
    "main characteristics of eight planets in our solar system. According to\n",
    "your good friend Buzz, the main features of a planet are:\n",
    "\n",
    "-   The type of planet (Terrestrial or Gas Giant).\n",
    "-   The planet's diameter relative to the diameter of the Earth.\n",
    "-   The planet's rotation across the sun relative to that of the Earth.\n",
    "-   If the planet has rings or not (TRUE or FALSE).\n",
    "\n",
    "After doing some high-quality research on\n",
    "[Wikipedia](https://en.wikipedia.org/wiki/Planet), you feel confident\n",
    "enough to create the necessary vectors: `name`, `type`, `diameter`,\n",
    "`rotation` and `rings`; these vectors have already been coded up in the\n",
    "editor. The first element in each of these vectors correspond to the\n",
    "first observation.\n",
    "\n",
    "You construct a data frame with the\n",
    "[`data.frame()`](https://www.rdocumentation.org/packages/base/versions/3.6.2/topics/data.frame)\n",
    "function. As arguments, you pass the vectors from before: they will\n",
    "become the different columns of your data frame. Because every column\n",
    "has the same length, the vectors you pass should also have the same\n",
    "length. But don't forget that it is possible (and likely) that they\n",
    "contain different types of data.\n",
    "\n",
    "Use the function\n",
    "[`data.frame()`](https://www.rdocumentation.org/packages/base/versions/3.6.2/topics/data.frame)\n",
    "to construct a data frame. Pass the vectors `name`, `type`, `diameter`,\n",
    "`rotation` and `rings` as arguments to `data.frame()`, in this order.\n",
    "Call the resulting data frame `planets_df`.\n"
   ]
  },
  {
   "cell_type": "code",
   "execution_count": 47,
   "metadata": {
    "vscode": {
     "languageId": "r"
    }
   },
   "outputs": [],
   "source": [
    "# Definition of vectors\n",
    "name <- c(\"Mercury\", \"Venus\", \"Earth\", \n",
    "          \"Mars\", \"Jupiter\", \"Saturn\", \n",
    "          \"Uranus\", \"Neptune\")\n",
    "type <- c(\"Terrestrial planet\", \n",
    "          \"Terrestrial planet\", \n",
    "          \"Terrestrial planet\", \n",
    "          \"Terrestrial planet\", \"Gas giant\", \n",
    "          \"Gas giant\", \"Gas giant\", \"Gas giant\")\n",
    "diameter <- c(0.382, 0.949, 1, 0.532, \n",
    "              11.209, 9.449, 4.007, 3.883)\n",
    "rotation <- c(58.64, -243.02, 1, 1.03,\n",
    "              0.41, 0.43, -0.72, 0.67)\n",
    "rings <- c(FALSE, FALSE, FALSE, FALSE, TRUE, TRUE, TRUE, TRUE)\n",
    "\n",
    "# Create a data frame from the vectors\n",
    "planets_df <- data.frame(name, type, diameter, rotation, rings)\n"
   ]
  },
  {
   "cell_type": "markdown",
   "metadata": {},
   "source": [
    "## Creating a data frame (2)\n",
    "\n",
    "The `planets_df` data frame should have 8 observations and 5 variables.\n",
    "It has been made available in the workspace, so you can directly use it.\n",
    "\n",
    "Use\n",
    "[`str()`](http://www.rdocumentation.org/packages/utils/functions/str) to\n",
    "investigate the structure of the new `planets_df` variable.\n"
   ]
  },
  {
   "cell_type": "code",
   "execution_count": 48,
   "metadata": {
    "vscode": {
     "languageId": "r"
    }
   },
   "outputs": [
    {
     "name": "stdout",
     "output_type": "stream",
     "text": [
      "'data.frame':\t8 obs. of  5 variables:\n",
      " $ name    : chr  \"Mercury\" \"Venus\" \"Earth\" \"Mars\" ...\n",
      " $ type    : chr  \"Terrestrial planet\" \"Terrestrial planet\" \"Terrestrial planet\" \"Terrestrial planet\" ...\n",
      " $ diameter: num  0.382 0.949 1 0.532 11.209 ...\n",
      " $ rotation: num  58.64 -243.02 1 1.03 0.41 ...\n",
      " $ rings   : logi  FALSE FALSE FALSE FALSE TRUE TRUE ...\n"
     ]
    }
   ],
   "source": [
    "# Check the structure of planets_df\n",
    "str(planets_df)\n"
   ]
  },
  {
   "cell_type": "markdown",
   "metadata": {},
   "source": [
    "## Selection of data frame elements\n",
    "\n",
    "Similar to vectors and matrices, you select elements from a data frame\n",
    "with the help of square brackets `[ ]`. By using a comma, you can\n",
    "indicate what to select from the rows and the columns respectively. For\n",
    "example:\n",
    "\n",
    "-   `my_df[1,2]` selects the value at the first row and second column in\n",
    "    `my_df`.\n",
    "-   `my_df[1:3,2:4]` selects rows 1, 2, 3 and columns 2, 3, 4 in\n",
    "    `my_df`.\n",
    "\n",
    "Sometimes you want to select all elements of a row or column. For\n",
    "example, `my_df[1, ]` selects all elements of the first row. Let us now\n",
    "apply this technique on `planets_df`!\n",
    "\n",
    "-   From `planets_df`, select the diameter of Mercury: this is the value\n",
    "    at the first row and the third column. Simply print out the result.\n",
    "-   From `planets_df`, select all data on Mars (the fourth row). Simply\n",
    "    print out the result.\n"
   ]
  },
  {
   "cell_type": "code",
   "execution_count": 49,
   "metadata": {
    "vscode": {
     "languageId": "r"
    }
   },
   "outputs": [
    {
     "data": {
      "text/html": [
       "0.382"
      ],
      "text/latex": [
       "0.382"
      ],
      "text/markdown": [
       "0.382"
      ],
      "text/plain": [
       "[1] 0.382"
      ]
     },
     "metadata": {},
     "output_type": "display_data"
    },
    {
     "data": {
      "text/html": [
       "<table class=\"dataframe\">\n",
       "<caption>A data.frame: 1 × 5</caption>\n",
       "<thead>\n",
       "\t<tr><th></th><th scope=col>name</th><th scope=col>type</th><th scope=col>diameter</th><th scope=col>rotation</th><th scope=col>rings</th></tr>\n",
       "\t<tr><th></th><th scope=col>&lt;chr&gt;</th><th scope=col>&lt;chr&gt;</th><th scope=col>&lt;dbl&gt;</th><th scope=col>&lt;dbl&gt;</th><th scope=col>&lt;lgl&gt;</th></tr>\n",
       "</thead>\n",
       "<tbody>\n",
       "\t<tr><th scope=row>4</th><td>Mars</td><td>Terrestrial planet</td><td>0.532</td><td>1.03</td><td>FALSE</td></tr>\n",
       "</tbody>\n",
       "</table>\n"
      ],
      "text/latex": [
       "A data.frame: 1 × 5\n",
       "\\begin{tabular}{r|lllll}\n",
       "  & name & type & diameter & rotation & rings\\\\\n",
       "  & <chr> & <chr> & <dbl> & <dbl> & <lgl>\\\\\n",
       "\\hline\n",
       "\t4 & Mars & Terrestrial planet & 0.532 & 1.03 & FALSE\\\\\n",
       "\\end{tabular}\n"
      ],
      "text/markdown": [
       "\n",
       "A data.frame: 1 × 5\n",
       "\n",
       "| <!--/--> | name &lt;chr&gt; | type &lt;chr&gt; | diameter &lt;dbl&gt; | rotation &lt;dbl&gt; | rings &lt;lgl&gt; |\n",
       "|---|---|---|---|---|---|\n",
       "| 4 | Mars | Terrestrial planet | 0.532 | 1.03 | FALSE |\n",
       "\n"
      ],
      "text/plain": [
       "  name type               diameter rotation rings\n",
       "4 Mars Terrestrial planet 0.532    1.03     FALSE"
      ]
     },
     "metadata": {},
     "output_type": "display_data"
    }
   ],
   "source": [
    "# The planets_df data frame from the previous exercise is pre-loaded\n",
    "\n",
    "# Print out diameter of Mercury (row 1, column 3)\n",
    "planets_df[1,3]\n",
    "\n",
    "# Print out data for Mars (entire fourth row)\n",
    "planets_df[4, ]\n"
   ]
  },
  {
   "cell_type": "markdown",
   "metadata": {},
   "source": [
    "## Selection of data frame elements (2)\n",
    "\n",
    "Instead of using numerics to select elements of a data frame, you can\n",
    "also use the variable names to select columns of a data frame.\n",
    "\n",
    "Suppose you want to select the first three elements of the `type`\n",
    "column. One way to do this is\n",
    "\n",
    "    planets_df[1:3,2]\n",
    "\n",
    "A possible disadvantage of this approach is that you have to know (or\n",
    "look up) the column number of `type`, which gets hard if you have a lot\n",
    "of variables. It is often easier to just make use of the variable name:\n",
    "\n",
    "    planets_df[1:3,\"type\"]\n",
    "\n",
    "Select and print out the first 5 values in the `\"diameter\"` column of\n",
    "`planets_df`.\n"
   ]
  },
  {
   "cell_type": "code",
   "execution_count": 50,
   "metadata": {
    "vscode": {
     "languageId": "r"
    }
   },
   "outputs": [
    {
     "data": {
      "text/html": [
       "<style>\n",
       ".list-inline {list-style: none; margin:0; padding: 0}\n",
       ".list-inline>li {display: inline-block}\n",
       ".list-inline>li:not(:last-child)::after {content: \"\\00b7\"; padding: 0 .5ex}\n",
       "</style>\n",
       "<ol class=list-inline><li>0.382</li><li>0.949</li><li>1</li><li>0.532</li><li>11.209</li></ol>\n"
      ],
      "text/latex": [
       "\\begin{enumerate*}\n",
       "\\item 0.382\n",
       "\\item 0.949\n",
       "\\item 1\n",
       "\\item 0.532\n",
       "\\item 11.209\n",
       "\\end{enumerate*}\n"
      ],
      "text/markdown": [
       "1. 0.382\n",
       "2. 0.949\n",
       "3. 1\n",
       "4. 0.532\n",
       "5. 11.209\n",
       "\n",
       "\n"
      ],
      "text/plain": [
       "[1]  0.382  0.949  1.000  0.532 11.209"
      ]
     },
     "metadata": {},
     "output_type": "display_data"
    }
   ],
   "source": [
    "# The planets_df data frame from the previous exercise is pre-loaded\n",
    "\n",
    "# Select first 5 values of diameter column\n",
    "planets_df[1:5, \"diameter\"]\n"
   ]
  },
  {
   "cell_type": "markdown",
   "metadata": {},
   "source": [
    "## Only planets with rings\n",
    "\n",
    "You will often want to select an entire column, namely one specific\n",
    "variable from a data frame. If you want to select all elements of the\n",
    "variable `diameter`, for example, both of these will do the trick:\n",
    "\n",
    "    planets_df[,3]\n",
    "    planets_df[,\"diameter\"]\n",
    "\n",
    "However, there is a short-cut. If your columns have names, you can use\n",
    "the `$` sign:\n",
    "\n",
    "    planets_df$diameter\n",
    "\n",
    "-   Use the `$` sign to select the `rings` variable from `planets_df`.\n",
    "    Store the vector that results as `rings_vector`.\n",
    "-   Print out `rings_vector` to see if you got it right.\n"
   ]
  },
  {
   "cell_type": "code",
   "execution_count": 51,
   "metadata": {
    "vscode": {
     "languageId": "r"
    }
   },
   "outputs": [
    {
     "data": {
      "text/html": [
       "<style>\n",
       ".list-inline {list-style: none; margin:0; padding: 0}\n",
       ".list-inline>li {display: inline-block}\n",
       ".list-inline>li:not(:last-child)::after {content: \"\\00b7\"; padding: 0 .5ex}\n",
       "</style>\n",
       "<ol class=list-inline><li>FALSE</li><li>FALSE</li><li>FALSE</li><li>FALSE</li><li>TRUE</li><li>TRUE</li><li>TRUE</li><li>TRUE</li></ol>\n"
      ],
      "text/latex": [
       "\\begin{enumerate*}\n",
       "\\item FALSE\n",
       "\\item FALSE\n",
       "\\item FALSE\n",
       "\\item FALSE\n",
       "\\item TRUE\n",
       "\\item TRUE\n",
       "\\item TRUE\n",
       "\\item TRUE\n",
       "\\end{enumerate*}\n"
      ],
      "text/markdown": [
       "1. FALSE\n",
       "2. FALSE\n",
       "3. FALSE\n",
       "4. FALSE\n",
       "5. TRUE\n",
       "6. TRUE\n",
       "7. TRUE\n",
       "8. TRUE\n",
       "\n",
       "\n"
      ],
      "text/plain": [
       "[1] FALSE FALSE FALSE FALSE  TRUE  TRUE  TRUE  TRUE"
      ]
     },
     "metadata": {},
     "output_type": "display_data"
    }
   ],
   "source": [
    "# planets_df is pre-loaded in your workspace\n",
    "\n",
    "# Select the rings variable from planets_df\n",
    "rings_vector <- planets_df$rings\n",
    "\n",
    "# Print out rings_vector\n",
    "rings_vector\n"
   ]
  },
  {
   "cell_type": "markdown",
   "metadata": {},
   "source": [
    "## Only planets with rings (2)\n",
    "\n",
    "You probably remember from high school that some planets in our solar\n",
    "system have rings and others do not. Unfortunately you can not recall\n",
    "their names. Could R help you out?\n",
    "\n",
    "If you type `rings_vector` in the console, you get:\n",
    "\n",
    "    [1] FALSE FALSE FALSE FALSE  TRUE  TRUE  TRUE  TRUE\n",
    "\n",
    "This means that the first four observations (or planets) do not have a\n",
    "ring (`FALSE`), but the other four do (`TRUE`). However, you do not get\n",
    "a nice overview of the names of these planets, their diameter, etc.\n",
    "Let's try to use `rings_vector` to select the data for the four planets\n",
    "with rings.\n",
    "\n",
    "The code in the editor selects the `name` column of all planets that\n",
    "have rings. Adapt the code so that instead of only the `name` column,\n",
    "*all* columns for planets that have rings are selected.\n"
   ]
  },
  {
   "cell_type": "code",
   "execution_count": 52,
   "metadata": {
    "vscode": {
     "languageId": "r"
    }
   },
   "outputs": [
    {
     "data": {
      "text/html": [
       "<table class=\"dataframe\">\n",
       "<caption>A data.frame: 4 × 5</caption>\n",
       "<thead>\n",
       "\t<tr><th></th><th scope=col>name</th><th scope=col>type</th><th scope=col>diameter</th><th scope=col>rotation</th><th scope=col>rings</th></tr>\n",
       "\t<tr><th></th><th scope=col>&lt;chr&gt;</th><th scope=col>&lt;chr&gt;</th><th scope=col>&lt;dbl&gt;</th><th scope=col>&lt;dbl&gt;</th><th scope=col>&lt;lgl&gt;</th></tr>\n",
       "</thead>\n",
       "<tbody>\n",
       "\t<tr><th scope=row>5</th><td>Jupiter</td><td>Gas giant</td><td>11.209</td><td> 0.41</td><td>TRUE</td></tr>\n",
       "\t<tr><th scope=row>6</th><td>Saturn </td><td>Gas giant</td><td> 9.449</td><td> 0.43</td><td>TRUE</td></tr>\n",
       "\t<tr><th scope=row>7</th><td>Uranus </td><td>Gas giant</td><td> 4.007</td><td>-0.72</td><td>TRUE</td></tr>\n",
       "\t<tr><th scope=row>8</th><td>Neptune</td><td>Gas giant</td><td> 3.883</td><td> 0.67</td><td>TRUE</td></tr>\n",
       "</tbody>\n",
       "</table>\n"
      ],
      "text/latex": [
       "A data.frame: 4 × 5\n",
       "\\begin{tabular}{r|lllll}\n",
       "  & name & type & diameter & rotation & rings\\\\\n",
       "  & <chr> & <chr> & <dbl> & <dbl> & <lgl>\\\\\n",
       "\\hline\n",
       "\t5 & Jupiter & Gas giant & 11.209 &  0.41 & TRUE\\\\\n",
       "\t6 & Saturn  & Gas giant &  9.449 &  0.43 & TRUE\\\\\n",
       "\t7 & Uranus  & Gas giant &  4.007 & -0.72 & TRUE\\\\\n",
       "\t8 & Neptune & Gas giant &  3.883 &  0.67 & TRUE\\\\\n",
       "\\end{tabular}\n"
      ],
      "text/markdown": [
       "\n",
       "A data.frame: 4 × 5\n",
       "\n",
       "| <!--/--> | name &lt;chr&gt; | type &lt;chr&gt; | diameter &lt;dbl&gt; | rotation &lt;dbl&gt; | rings &lt;lgl&gt; |\n",
       "|---|---|---|---|---|---|\n",
       "| 5 | Jupiter | Gas giant | 11.209 |  0.41 | TRUE |\n",
       "| 6 | Saturn  | Gas giant |  9.449 |  0.43 | TRUE |\n",
       "| 7 | Uranus  | Gas giant |  4.007 | -0.72 | TRUE |\n",
       "| 8 | Neptune | Gas giant |  3.883 |  0.67 | TRUE |\n",
       "\n"
      ],
      "text/plain": [
       "  name    type      diameter rotation rings\n",
       "5 Jupiter Gas giant 11.209    0.41    TRUE \n",
       "6 Saturn  Gas giant  9.449    0.43    TRUE \n",
       "7 Uranus  Gas giant  4.007   -0.72    TRUE \n",
       "8 Neptune Gas giant  3.883    0.67    TRUE "
      ]
     },
     "metadata": {},
     "output_type": "display_data"
    }
   ],
   "source": [
    "# planets_df and rings_vector are pre-loaded in your workspace\n",
    "\n",
    "# Adapt the code to select all columns for planets with rings\n",
    "planets_df[rings_vector, ]\n"
   ]
  },
  {
   "cell_type": "markdown",
   "metadata": {},
   "source": [
    "## Only planets with rings but shorter\n",
    "\n",
    "So what exactly did you learn in the previous exercises? You selected a\n",
    "subset from a data frame (`planets_df`) based on whether or not a\n",
    "certain condition was true (rings or no rings), and you managed to pull\n",
    "out all relevant data. Pretty awesome! By now, NASA is probably already\n",
    "flirting with your CV ;-).\n",
    "\n",
    "Now, let us move up one level and use the function\n",
    "[`subset()`](http://www.rdocumentation.org/packages/base/functions/subset).\n",
    "You should see the\n",
    "[`subset()`](http://www.rdocumentation.org/packages/base/functions/subset)\n",
    "function as a short-cut to do exactly the same as what you did in the\n",
    "previous exercises.\n",
    "\n",
    "    subset(my_df, subset = some_condition)\n",
    "\n",
    "The first argument of\n",
    "[`subset()`](http://www.rdocumentation.org/packages/base/functions/subset)\n",
    "specifies the dataset for which you want a subset. By adding the second\n",
    "argument, you give R the necessary information and conditions to select\n",
    "the correct subset.\n",
    "\n",
    "The code below will give the exact same result as you got in the\n",
    "previous exercise, but this time, you didn't need the `rings_vector`!\n",
    "\n",
    "    subset(planets_df, subset = rings)\n",
    "\n",
    "Use `subset()` on `planets_df` to select planets that have a diameter\n",
    "smaller than Earth. Because the `diameter` variable is a relative\n",
    "measure of the planet's diameter w.r.t that of planet Earth, your\n",
    "condition is `diameter < 1`.\n"
   ]
  },
  {
   "cell_type": "code",
   "execution_count": 53,
   "metadata": {
    "vscode": {
     "languageId": "r"
    }
   },
   "outputs": [
    {
     "data": {
      "text/html": [
       "<table class=\"dataframe\">\n",
       "<caption>A data.frame: 3 × 5</caption>\n",
       "<thead>\n",
       "\t<tr><th></th><th scope=col>name</th><th scope=col>type</th><th scope=col>diameter</th><th scope=col>rotation</th><th scope=col>rings</th></tr>\n",
       "\t<tr><th></th><th scope=col>&lt;chr&gt;</th><th scope=col>&lt;chr&gt;</th><th scope=col>&lt;dbl&gt;</th><th scope=col>&lt;dbl&gt;</th><th scope=col>&lt;lgl&gt;</th></tr>\n",
       "</thead>\n",
       "<tbody>\n",
       "\t<tr><th scope=row>1</th><td>Mercury</td><td>Terrestrial planet</td><td>0.382</td><td>  58.64</td><td>FALSE</td></tr>\n",
       "\t<tr><th scope=row>2</th><td>Venus  </td><td>Terrestrial planet</td><td>0.949</td><td>-243.02</td><td>FALSE</td></tr>\n",
       "\t<tr><th scope=row>4</th><td>Mars   </td><td>Terrestrial planet</td><td>0.532</td><td>   1.03</td><td>FALSE</td></tr>\n",
       "</tbody>\n",
       "</table>\n"
      ],
      "text/latex": [
       "A data.frame: 3 × 5\n",
       "\\begin{tabular}{r|lllll}\n",
       "  & name & type & diameter & rotation & rings\\\\\n",
       "  & <chr> & <chr> & <dbl> & <dbl> & <lgl>\\\\\n",
       "\\hline\n",
       "\t1 & Mercury & Terrestrial planet & 0.382 &   58.64 & FALSE\\\\\n",
       "\t2 & Venus   & Terrestrial planet & 0.949 & -243.02 & FALSE\\\\\n",
       "\t4 & Mars    & Terrestrial planet & 0.532 &    1.03 & FALSE\\\\\n",
       "\\end{tabular}\n"
      ],
      "text/markdown": [
       "\n",
       "A data.frame: 3 × 5\n",
       "\n",
       "| <!--/--> | name &lt;chr&gt; | type &lt;chr&gt; | diameter &lt;dbl&gt; | rotation &lt;dbl&gt; | rings &lt;lgl&gt; |\n",
       "|---|---|---|---|---|---|\n",
       "| 1 | Mercury | Terrestrial planet | 0.382 |   58.64 | FALSE |\n",
       "| 2 | Venus   | Terrestrial planet | 0.949 | -243.02 | FALSE |\n",
       "| 4 | Mars    | Terrestrial planet | 0.532 |    1.03 | FALSE |\n",
       "\n"
      ],
      "text/plain": [
       "  name    type               diameter rotation rings\n",
       "1 Mercury Terrestrial planet 0.382      58.64  FALSE\n",
       "2 Venus   Terrestrial planet 0.949    -243.02  FALSE\n",
       "4 Mars    Terrestrial planet 0.532       1.03  FALSE"
      ]
     },
     "metadata": {},
     "output_type": "display_data"
    }
   ],
   "source": [
    "# planets_df is pre-loaded in your workspace\n",
    "\n",
    "# Select planets with diameter < 1\n",
    "subset(planets_df, subset = diameter < 1)\n"
   ]
  },
  {
   "cell_type": "markdown",
   "metadata": {},
   "source": [
    "## Sorting\n",
    "\n",
    "Making and creating rankings is one of mankind's favorite affairs. These\n",
    "rankings can be useful (best universities in the world), entertaining\n",
    "(most influential movie stars) or pointless (best 007 look-a-like).\n",
    "\n",
    "In data analysis you can sort your data according to a certain variable\n",
    "in the dataset. In R, this is done with the help of the function\n",
    "[`order()`](http://www.rdocumentation.org/packages/base/functions/order).\n",
    "\n",
    "[`order()`](http://www.rdocumentation.org/packages/base/functions/order)\n",
    "is a function that gives you the ranked position of each element when it\n",
    "is applied on a variable, such as a vector for example:\n",
    "\n",
    "    a <- c(100, 10, 1000)\n",
    "    order(a)\n",
    "    [1] 2 1 3\n",
    "\n",
    "10, which is the second element in `a`, is the smallest element, so 2\n",
    "comes first in the output of `order(a)`. 100, which is the first element\n",
    "in `a` is the second smallest element, so 1 comes second in the output\n",
    "of `order(a)`.\n",
    "\n",
    "This means we can use the output of `order(a)` to reshuffle `a`:\n",
    "\n",
    "    a[order(a)]\n",
    "    [1]   10  100 1000\n",
    "\n",
    "Experiment with the\n",
    "[`order()`](http://www.rdocumentation.org/packages/base/functions/order)\n",
    "function in the console. Submit the answer when you are ready to\n",
    "continue.\n"
   ]
  },
  {
   "cell_type": "code",
   "execution_count": 54,
   "metadata": {
    "vscode": {
     "languageId": "r"
    }
   },
   "outputs": [],
   "source": [
    "# Play around with the order function in the console\n",
    "\n"
   ]
  },
  {
   "cell_type": "markdown",
   "metadata": {},
   "source": [
    "## Sorting your data frame\n",
    "\n",
    "Alright, now that you understand the\n",
    "[`order()`](http://www.rdocumentation.org/packages/base/functions/order)\n",
    "function, let us do something useful with it. You would like to\n",
    "rearrange your data frame such that it starts with the smallest planet\n",
    "and ends with the largest one. A sort on the `diameter` column.\n",
    "\n",
    "-   Call `order()` on `planets_df$diameter` (the `diameter` column of\n",
    "    `planets_df`). Store the result as `positions`.\n",
    "-   Now reshuffle `planets_df` with the `positions` vector as row\n",
    "    indexes inside square brackets. Keep all columns. Simply print out\n",
    "    the result.\n"
   ]
  },
  {
   "cell_type": "code",
   "execution_count": 55,
   "metadata": {
    "vscode": {
     "languageId": "r"
    }
   },
   "outputs": [
    {
     "data": {
      "text/html": [
       "<table class=\"dataframe\">\n",
       "<caption>A data.frame: 8 × 5</caption>\n",
       "<thead>\n",
       "\t<tr><th></th><th scope=col>name</th><th scope=col>type</th><th scope=col>diameter</th><th scope=col>rotation</th><th scope=col>rings</th></tr>\n",
       "\t<tr><th></th><th scope=col>&lt;chr&gt;</th><th scope=col>&lt;chr&gt;</th><th scope=col>&lt;dbl&gt;</th><th scope=col>&lt;dbl&gt;</th><th scope=col>&lt;lgl&gt;</th></tr>\n",
       "</thead>\n",
       "<tbody>\n",
       "\t<tr><th scope=row>1</th><td>Mercury</td><td>Terrestrial planet</td><td> 0.382</td><td>  58.64</td><td>FALSE</td></tr>\n",
       "\t<tr><th scope=row>4</th><td>Mars   </td><td>Terrestrial planet</td><td> 0.532</td><td>   1.03</td><td>FALSE</td></tr>\n",
       "\t<tr><th scope=row>2</th><td>Venus  </td><td>Terrestrial planet</td><td> 0.949</td><td>-243.02</td><td>FALSE</td></tr>\n",
       "\t<tr><th scope=row>3</th><td>Earth  </td><td>Terrestrial planet</td><td> 1.000</td><td>   1.00</td><td>FALSE</td></tr>\n",
       "\t<tr><th scope=row>8</th><td>Neptune</td><td>Gas giant         </td><td> 3.883</td><td>   0.67</td><td> TRUE</td></tr>\n",
       "\t<tr><th scope=row>7</th><td>Uranus </td><td>Gas giant         </td><td> 4.007</td><td>  -0.72</td><td> TRUE</td></tr>\n",
       "\t<tr><th scope=row>6</th><td>Saturn </td><td>Gas giant         </td><td> 9.449</td><td>   0.43</td><td> TRUE</td></tr>\n",
       "\t<tr><th scope=row>5</th><td>Jupiter</td><td>Gas giant         </td><td>11.209</td><td>   0.41</td><td> TRUE</td></tr>\n",
       "</tbody>\n",
       "</table>\n"
      ],
      "text/latex": [
       "A data.frame: 8 × 5\n",
       "\\begin{tabular}{r|lllll}\n",
       "  & name & type & diameter & rotation & rings\\\\\n",
       "  & <chr> & <chr> & <dbl> & <dbl> & <lgl>\\\\\n",
       "\\hline\n",
       "\t1 & Mercury & Terrestrial planet &  0.382 &   58.64 & FALSE\\\\\n",
       "\t4 & Mars    & Terrestrial planet &  0.532 &    1.03 & FALSE\\\\\n",
       "\t2 & Venus   & Terrestrial planet &  0.949 & -243.02 & FALSE\\\\\n",
       "\t3 & Earth   & Terrestrial planet &  1.000 &    1.00 & FALSE\\\\\n",
       "\t8 & Neptune & Gas giant          &  3.883 &    0.67 &  TRUE\\\\\n",
       "\t7 & Uranus  & Gas giant          &  4.007 &   -0.72 &  TRUE\\\\\n",
       "\t6 & Saturn  & Gas giant          &  9.449 &    0.43 &  TRUE\\\\\n",
       "\t5 & Jupiter & Gas giant          & 11.209 &    0.41 &  TRUE\\\\\n",
       "\\end{tabular}\n"
      ],
      "text/markdown": [
       "\n",
       "A data.frame: 8 × 5\n",
       "\n",
       "| <!--/--> | name &lt;chr&gt; | type &lt;chr&gt; | diameter &lt;dbl&gt; | rotation &lt;dbl&gt; | rings &lt;lgl&gt; |\n",
       "|---|---|---|---|---|---|\n",
       "| 1 | Mercury | Terrestrial planet |  0.382 |   58.64 | FALSE |\n",
       "| 4 | Mars    | Terrestrial planet |  0.532 |    1.03 | FALSE |\n",
       "| 2 | Venus   | Terrestrial planet |  0.949 | -243.02 | FALSE |\n",
       "| 3 | Earth   | Terrestrial planet |  1.000 |    1.00 | FALSE |\n",
       "| 8 | Neptune | Gas giant          |  3.883 |    0.67 |  TRUE |\n",
       "| 7 | Uranus  | Gas giant          |  4.007 |   -0.72 |  TRUE |\n",
       "| 6 | Saturn  | Gas giant          |  9.449 |    0.43 |  TRUE |\n",
       "| 5 | Jupiter | Gas giant          | 11.209 |    0.41 |  TRUE |\n",
       "\n"
      ],
      "text/plain": [
       "  name    type               diameter rotation rings\n",
       "1 Mercury Terrestrial planet  0.382     58.64  FALSE\n",
       "4 Mars    Terrestrial planet  0.532      1.03  FALSE\n",
       "2 Venus   Terrestrial planet  0.949   -243.02  FALSE\n",
       "3 Earth   Terrestrial planet  1.000      1.00  FALSE\n",
       "8 Neptune Gas giant           3.883      0.67   TRUE\n",
       "7 Uranus  Gas giant           4.007     -0.72   TRUE\n",
       "6 Saturn  Gas giant           9.449      0.43   TRUE\n",
       "5 Jupiter Gas giant          11.209      0.41   TRUE"
      ]
     },
     "metadata": {},
     "output_type": "display_data"
    }
   ],
   "source": [
    "# planets_df is pre-loaded in your workspace\n",
    "\n",
    "# Use order() to create positions\n",
    "positions <- order(planets_df$diameter)\n",
    "\n",
    "# Use positions to sort planets_df\n",
    "planets_df[positions, ]\n"
   ]
  },
  {
   "cell_type": "markdown",
   "metadata": {},
   "source": [
    "# Lists\n",
    "\n",
    "As opposed to vectors, lists can hold components of different types, just as your to-do lists can contain different categories of tasks. This chapter will teach you how to create, name, and subset these lists.\n",
    "\n",
    "## Lists, why would you need them?\n",
    "\n",
    "Congratulations! At this point in the course you are already familiar\n",
    "with:\n",
    "\n",
    "-   **Vectors** (one dimensional array): can hold numeric, character or\n",
    "    logical values. The elements in a vector all have the same data\n",
    "    type.\n",
    "-   **Matrices** (two dimensional array): can hold numeric, character or\n",
    "    logical values. The elements in a matrix all have the same data\n",
    "    type.\n",
    "-   **Data frames** (two-dimensional objects): can hold numeric,\n",
    "    character or logical values. Within a column all elements have the\n",
    "    same data type, but different columns can be of different data type.\n",
    "\n",
    "Pretty sweet for an R newbie, right? ;-)\n",
    "\n",
    "Submit the answer to start learning everything about lists!\n"
   ]
  },
  {
   "cell_type": "code",
   "execution_count": 56,
   "metadata": {
    "vscode": {
     "languageId": "r"
    }
   },
   "outputs": [],
   "source": [
    "# Just submit the answer.\n",
    "\n"
   ]
  },
  {
   "cell_type": "markdown",
   "metadata": {},
   "source": [
    "## Lists, why would you need them? (2)\n",
    "\n",
    "A **list** in R is similar to your to-do list at work or school: the\n",
    "different items on that list most likely differ in length,\n",
    "characteristic, and type of activity that has to be done.\n",
    "\n",
    "A list in R allows you to gather a variety of objects under one name\n",
    "(that is, the name of the list) in an ordered way. These objects can be\n",
    "matrices, vectors, data frames, even other lists, etc. It is not even\n",
    "required that these objects are related to each other in any way.\n",
    "\n",
    "You could say that a list is some kind super data type: you can store\n",
    "practically any piece of information in it!\n",
    "\n",
    "Just submit the answer to start the first exercise on lists.\n"
   ]
  },
  {
   "cell_type": "code",
   "execution_count": 57,
   "metadata": {
    "vscode": {
     "languageId": "r"
    }
   },
   "outputs": [],
   "source": [
    "# Just submit the answer to start the first exercise on lists.\n",
    "\n"
   ]
  },
  {
   "cell_type": "markdown",
   "metadata": {},
   "source": [
    "## Creating a list\n",
    "\n",
    "Let us create our first list! To construct a list you use the function\n",
    "[`list()`](http://www.rdocumentation.org/packages/base/functions/list):\n",
    "\n",
    "    my_list <- list(comp1, comp2 ...)\n",
    "\n",
    "The arguments to the list function are the list components. Remember,\n",
    "these components can be matrices, vectors, other lists, …\n",
    "\n",
    "Construct a list, named `my_list`, that contains the variables\n",
    "`my_vector`, `my_matrix` and `my_df` as list components.\n"
   ]
  },
  {
   "cell_type": "code",
   "execution_count": 58,
   "metadata": {
    "vscode": {
     "languageId": "r"
    }
   },
   "outputs": [],
   "source": [
    "# Vector with numerics from 1 up to 10\n",
    "my_vector <- 1:10 \n",
    "\n",
    "# Matrix with numerics from 1 up to 9\n",
    "my_matrix <- matrix(1:9, ncol = 3)\n",
    "\n",
    "# First 10 elements of the built-in data frame mtcars\n",
    "my_df <- mtcars[1:10,]\n",
    "\n",
    "# Construct list with these different elements:\n",
    "my_list <- list(my_vector, my_matrix, my_df)\n"
   ]
  },
  {
   "cell_type": "markdown",
   "metadata": {},
   "source": [
    "## Creating a named list\n",
    "\n",
    "Well done, you're on a roll!\n",
    "\n",
    "Just like on your to-do list, you want to avoid not knowing or\n",
    "remembering what the components of your list stand for. That is why you\n",
    "should give names to them:\n",
    "\n",
    "    my_list <- list(name1 = your_comp1, \n",
    "                    name2 = your_comp2)\n",
    "\n",
    "This creates a list with components that are named `name1`, `name2`, and\n",
    "so on. If you want to name your lists after you've created them, you can\n",
    "use the `names()` function as you did with vectors. The following\n",
    "commands are fully equivalent to the assignment above:\n",
    "\n",
    "    my_list <- list(your_comp1, your_comp2)\n",
    "    names(my_list) <- c(\"name1\", \"name2\")\n",
    "\n",
    "-   Change the code of the previous exercise (see editor) by adding\n",
    "    names to the components. Use for `my_vector` the name `vec`, for\n",
    "    `my_matrix` the name `mat` and for `my_df` the name `df`.\n",
    "-   Print out `my_list` so you can inspect the output.\n"
   ]
  },
  {
   "cell_type": "code",
   "execution_count": 59,
   "metadata": {
    "vscode": {
     "languageId": "r"
    }
   },
   "outputs": [
    {
     "data": {
      "text/html": [
       "<dl>\n",
       "\t<dt>$vec</dt>\n",
       "\t\t<dd><style>\n",
       ".list-inline {list-style: none; margin:0; padding: 0}\n",
       ".list-inline>li {display: inline-block}\n",
       ".list-inline>li:not(:last-child)::after {content: \"\\00b7\"; padding: 0 .5ex}\n",
       "</style>\n",
       "<ol class=list-inline><li>1</li><li>2</li><li>3</li><li>4</li><li>5</li><li>6</li><li>7</li><li>8</li><li>9</li><li>10</li></ol>\n",
       "</dd>\n",
       "\t<dt>$mat</dt>\n",
       "\t\t<dd><table class=\"dataframe\">\n",
       "<caption>A matrix: 3 × 3 of type int</caption>\n",
       "<tbody>\n",
       "\t<tr><td>1</td><td>4</td><td>7</td></tr>\n",
       "\t<tr><td>2</td><td>5</td><td>8</td></tr>\n",
       "\t<tr><td>3</td><td>6</td><td>9</td></tr>\n",
       "</tbody>\n",
       "</table>\n",
       "</dd>\n",
       "\t<dt>$df</dt>\n",
       "\t\t<dd><table class=\"dataframe\">\n",
       "<caption>A data.frame: 10 × 11</caption>\n",
       "<thead>\n",
       "\t<tr><th></th><th scope=col>mpg</th><th scope=col>cyl</th><th scope=col>disp</th><th scope=col>hp</th><th scope=col>drat</th><th scope=col>wt</th><th scope=col>qsec</th><th scope=col>vs</th><th scope=col>am</th><th scope=col>gear</th><th scope=col>carb</th></tr>\n",
       "\t<tr><th></th><th scope=col>&lt;dbl&gt;</th><th scope=col>&lt;dbl&gt;</th><th scope=col>&lt;dbl&gt;</th><th scope=col>&lt;dbl&gt;</th><th scope=col>&lt;dbl&gt;</th><th scope=col>&lt;dbl&gt;</th><th scope=col>&lt;dbl&gt;</th><th scope=col>&lt;dbl&gt;</th><th scope=col>&lt;dbl&gt;</th><th scope=col>&lt;dbl&gt;</th><th scope=col>&lt;dbl&gt;</th></tr>\n",
       "</thead>\n",
       "<tbody>\n",
       "\t<tr><th scope=row>Mazda RX4</th><td>21.0</td><td>6</td><td>160.0</td><td>110</td><td>3.90</td><td>2.620</td><td>16.46</td><td>0</td><td>1</td><td>4</td><td>4</td></tr>\n",
       "\t<tr><th scope=row>Mazda RX4 Wag</th><td>21.0</td><td>6</td><td>160.0</td><td>110</td><td>3.90</td><td>2.875</td><td>17.02</td><td>0</td><td>1</td><td>4</td><td>4</td></tr>\n",
       "\t<tr><th scope=row>Datsun 710</th><td>22.8</td><td>4</td><td>108.0</td><td> 93</td><td>3.85</td><td>2.320</td><td>18.61</td><td>1</td><td>1</td><td>4</td><td>1</td></tr>\n",
       "\t<tr><th scope=row>Hornet 4 Drive</th><td>21.4</td><td>6</td><td>258.0</td><td>110</td><td>3.08</td><td>3.215</td><td>19.44</td><td>1</td><td>0</td><td>3</td><td>1</td></tr>\n",
       "\t<tr><th scope=row>Hornet Sportabout</th><td>18.7</td><td>8</td><td>360.0</td><td>175</td><td>3.15</td><td>3.440</td><td>17.02</td><td>0</td><td>0</td><td>3</td><td>2</td></tr>\n",
       "\t<tr><th scope=row>Valiant</th><td>18.1</td><td>6</td><td>225.0</td><td>105</td><td>2.76</td><td>3.460</td><td>20.22</td><td>1</td><td>0</td><td>3</td><td>1</td></tr>\n",
       "\t<tr><th scope=row>Duster 360</th><td>14.3</td><td>8</td><td>360.0</td><td>245</td><td>3.21</td><td>3.570</td><td>15.84</td><td>0</td><td>0</td><td>3</td><td>4</td></tr>\n",
       "\t<tr><th scope=row>Merc 240D</th><td>24.4</td><td>4</td><td>146.7</td><td> 62</td><td>3.69</td><td>3.190</td><td>20.00</td><td>1</td><td>0</td><td>4</td><td>2</td></tr>\n",
       "\t<tr><th scope=row>Merc 230</th><td>22.8</td><td>4</td><td>140.8</td><td> 95</td><td>3.92</td><td>3.150</td><td>22.90</td><td>1</td><td>0</td><td>4</td><td>2</td></tr>\n",
       "\t<tr><th scope=row>Merc 280</th><td>19.2</td><td>6</td><td>167.6</td><td>123</td><td>3.92</td><td>3.440</td><td>18.30</td><td>1</td><td>0</td><td>4</td><td>4</td></tr>\n",
       "</tbody>\n",
       "</table>\n",
       "</dd>\n",
       "</dl>\n"
      ],
      "text/latex": [
       "\\begin{description}\n",
       "\\item[\\$vec] \\begin{enumerate*}\n",
       "\\item 1\n",
       "\\item 2\n",
       "\\item 3\n",
       "\\item 4\n",
       "\\item 5\n",
       "\\item 6\n",
       "\\item 7\n",
       "\\item 8\n",
       "\\item 9\n",
       "\\item 10\n",
       "\\end{enumerate*}\n",
       "\n",
       "\\item[\\$mat] A matrix: 3 × 3 of type int\n",
       "\\begin{tabular}{lll}\n",
       "\t 1 & 4 & 7\\\\\n",
       "\t 2 & 5 & 8\\\\\n",
       "\t 3 & 6 & 9\\\\\n",
       "\\end{tabular}\n",
       "\n",
       "\\item[\\$df] A data.frame: 10 × 11\n",
       "\\begin{tabular}{r|lllllllllll}\n",
       "  & mpg & cyl & disp & hp & drat & wt & qsec & vs & am & gear & carb\\\\\n",
       "  & <dbl> & <dbl> & <dbl> & <dbl> & <dbl> & <dbl> & <dbl> & <dbl> & <dbl> & <dbl> & <dbl>\\\\\n",
       "\\hline\n",
       "\tMazda RX4 & 21.0 & 6 & 160.0 & 110 & 3.90 & 2.620 & 16.46 & 0 & 1 & 4 & 4\\\\\n",
       "\tMazda RX4 Wag & 21.0 & 6 & 160.0 & 110 & 3.90 & 2.875 & 17.02 & 0 & 1 & 4 & 4\\\\\n",
       "\tDatsun 710 & 22.8 & 4 & 108.0 &  93 & 3.85 & 2.320 & 18.61 & 1 & 1 & 4 & 1\\\\\n",
       "\tHornet 4 Drive & 21.4 & 6 & 258.0 & 110 & 3.08 & 3.215 & 19.44 & 1 & 0 & 3 & 1\\\\\n",
       "\tHornet Sportabout & 18.7 & 8 & 360.0 & 175 & 3.15 & 3.440 & 17.02 & 0 & 0 & 3 & 2\\\\\n",
       "\tValiant & 18.1 & 6 & 225.0 & 105 & 2.76 & 3.460 & 20.22 & 1 & 0 & 3 & 1\\\\\n",
       "\tDuster 360 & 14.3 & 8 & 360.0 & 245 & 3.21 & 3.570 & 15.84 & 0 & 0 & 3 & 4\\\\\n",
       "\tMerc 240D & 24.4 & 4 & 146.7 &  62 & 3.69 & 3.190 & 20.00 & 1 & 0 & 4 & 2\\\\\n",
       "\tMerc 230 & 22.8 & 4 & 140.8 &  95 & 3.92 & 3.150 & 22.90 & 1 & 0 & 4 & 2\\\\\n",
       "\tMerc 280 & 19.2 & 6 & 167.6 & 123 & 3.92 & 3.440 & 18.30 & 1 & 0 & 4 & 4\\\\\n",
       "\\end{tabular}\n",
       "\n",
       "\\end{description}\n"
      ],
      "text/markdown": [
       "$vec\n",
       ":   1. 1\n",
       "2. 2\n",
       "3. 3\n",
       "4. 4\n",
       "5. 5\n",
       "6. 6\n",
       "7. 7\n",
       "8. 8\n",
       "9. 9\n",
       "10. 10\n",
       "\n",
       "\n",
       "\n",
       "$mat\n",
       ":   \n",
       "A matrix: 3 × 3 of type int\n",
       "\n",
       "| 1 | 4 | 7 |\n",
       "| 2 | 5 | 8 |\n",
       "| 3 | 6 | 9 |\n",
       "\n",
       "\n",
       "$df\n",
       ":   \n",
       "A data.frame: 10 × 11\n",
       "\n",
       "| <!--/--> | mpg &lt;dbl&gt; | cyl &lt;dbl&gt; | disp &lt;dbl&gt; | hp &lt;dbl&gt; | drat &lt;dbl&gt; | wt &lt;dbl&gt; | qsec &lt;dbl&gt; | vs &lt;dbl&gt; | am &lt;dbl&gt; | gear &lt;dbl&gt; | carb &lt;dbl&gt; |\n",
       "|---|---|---|---|---|---|---|---|---|---|---|---|\n",
       "| Mazda RX4 | 21.0 | 6 | 160.0 | 110 | 3.90 | 2.620 | 16.46 | 0 | 1 | 4 | 4 |\n",
       "| Mazda RX4 Wag | 21.0 | 6 | 160.0 | 110 | 3.90 | 2.875 | 17.02 | 0 | 1 | 4 | 4 |\n",
       "| Datsun 710 | 22.8 | 4 | 108.0 |  93 | 3.85 | 2.320 | 18.61 | 1 | 1 | 4 | 1 |\n",
       "| Hornet 4 Drive | 21.4 | 6 | 258.0 | 110 | 3.08 | 3.215 | 19.44 | 1 | 0 | 3 | 1 |\n",
       "| Hornet Sportabout | 18.7 | 8 | 360.0 | 175 | 3.15 | 3.440 | 17.02 | 0 | 0 | 3 | 2 |\n",
       "| Valiant | 18.1 | 6 | 225.0 | 105 | 2.76 | 3.460 | 20.22 | 1 | 0 | 3 | 1 |\n",
       "| Duster 360 | 14.3 | 8 | 360.0 | 245 | 3.21 | 3.570 | 15.84 | 0 | 0 | 3 | 4 |\n",
       "| Merc 240D | 24.4 | 4 | 146.7 |  62 | 3.69 | 3.190 | 20.00 | 1 | 0 | 4 | 2 |\n",
       "| Merc 230 | 22.8 | 4 | 140.8 |  95 | 3.92 | 3.150 | 22.90 | 1 | 0 | 4 | 2 |\n",
       "| Merc 280 | 19.2 | 6 | 167.6 | 123 | 3.92 | 3.440 | 18.30 | 1 | 0 | 4 | 4 |\n",
       "\n",
       "\n",
       "\n",
       "\n"
      ],
      "text/plain": [
       "$vec\n",
       " [1]  1  2  3  4  5  6  7  8  9 10\n",
       "\n",
       "$mat\n",
       "     [,1] [,2] [,3]\n",
       "[1,]    1    4    7\n",
       "[2,]    2    5    8\n",
       "[3,]    3    6    9\n",
       "\n",
       "$df\n",
       "                   mpg cyl  disp  hp drat    wt  qsec vs am gear carb\n",
       "Mazda RX4         21.0   6 160.0 110 3.90 2.620 16.46  0  1    4    4\n",
       "Mazda RX4 Wag     21.0   6 160.0 110 3.90 2.875 17.02  0  1    4    4\n",
       "Datsun 710        22.8   4 108.0  93 3.85 2.320 18.61  1  1    4    1\n",
       "Hornet 4 Drive    21.4   6 258.0 110 3.08 3.215 19.44  1  0    3    1\n",
       "Hornet Sportabout 18.7   8 360.0 175 3.15 3.440 17.02  0  0    3    2\n",
       "Valiant           18.1   6 225.0 105 2.76 3.460 20.22  1  0    3    1\n",
       "Duster 360        14.3   8 360.0 245 3.21 3.570 15.84  0  0    3    4\n",
       "Merc 240D         24.4   4 146.7  62 3.69 3.190 20.00  1  0    4    2\n",
       "Merc 230          22.8   4 140.8  95 3.92 3.150 22.90  1  0    4    2\n",
       "Merc 280          19.2   6 167.6 123 3.92 3.440 18.30  1  0    4    4\n"
      ]
     },
     "metadata": {},
     "output_type": "display_data"
    }
   ],
   "source": [
    "# Vector with numerics from 1 up to 10\n",
    "my_vector <- 1:10 \n",
    "\n",
    "# Matrix with numerics from 1 up to 9\n",
    "my_matrix <- matrix(1:9, ncol = 3)\n",
    "\n",
    "# First 10 elements of the built-in data frame mtcars\n",
    "my_df <- mtcars[1:10,]\n",
    "\n",
    "# Adapt list() call to give the components names\n",
    "my_list <- list(vec = my_vector, mat = my_matrix, df = my_df)\n",
    "\n",
    "# Print out my_list\n",
    "my_list\n"
   ]
  },
  {
   "cell_type": "markdown",
   "metadata": {},
   "source": [
    "## Creating a named list (2)\n",
    "\n",
    "Being a huge movie fan (remember your job at LucasFilms), you decide to\n",
    "start storing information on good movies with the help of lists.\n",
    "\n",
    "Start by creating a list for the movie \"The Shining\". We have already\n",
    "created the variables `mov`, `act` and `rev` in your R workspace. Feel\n",
    "free to check them out in the console.\n",
    "\n",
    "Complete the code in the editor to create `shining_list`; it contains\n",
    "three elements:\n",
    "\n",
    "-   `moviename`: a character string with the movie title (stored in\n",
    "    `mov`)\n",
    "-   `actors`: a vector with the main actors' names (stored in `act`)\n",
    "-   `reviews`: a data frame that contains some reviews (stored in `rev`)\n",
    "\n",
    "Do not forget to name the list components accordingly (names are\n",
    "`moviename`, `actors` and `reviews`).\n"
   ]
  },
  {
   "cell_type": "code",
   "execution_count": 60,
   "metadata": {
    "vscode": {
     "languageId": "r"
    }
   },
   "outputs": [],
   "source": [
    "# edited/added\n",
    "mov=\"The Shining\"\n",
    "act=c(\"Jack Nicholson\",\"Shelley Duvall\",\"Danny Lloyd\",\"Scatman Crothers\",\"Barry Nelson\")\n",
    "rev=data.frame(scores=c(4.5,4,5),sources=c(\"IMDb1\",\"IMDb2\",\"IMDb3\"),comments=c(\"Best Horror Film I Have Ever Seen\",\"A truly brilliant and scary film from Stanley Kubrick\",\"A masterpiece of psychological horror\"))\n",
    "\n",
    "# The variables mov, act and rev are available\n",
    "\n",
    "# Finish the code to build shining_list\n",
    "shining_list <- list(moviename = mov, actors = act, reviews = rev)\n"
   ]
  },
  {
   "cell_type": "markdown",
   "metadata": {},
   "source": [
    "## Selecting elements from a list\n",
    "\n",
    "Your list will often be built out of numerous elements and components.\n",
    "Therefore, getting a single element, multiple elements, or a component\n",
    "out of it is not always straightforward.\n",
    "\n",
    "One way to select a component is using the numbered position of that\n",
    "component. For example, to \"grab\" the first component of `shining_list`\n",
    "you type\n",
    "\n",
    "    shining_list[[1]]\n",
    "\n",
    "A quick way to check this out is typing it in the console. Important to\n",
    "remember: to select elements from vectors, you use single square\n",
    "brackets: `[ ]`. Don't mix them up!\n",
    "\n",
    "You can also refer to the names of the components, with `[[ ]]` or with\n",
    "the `$` sign. Both will select the data frame representing the reviews:\n",
    "\n",
    "    shining_list[[\"reviews\"]]\n",
    "    shining_list$reviews\n",
    "\n",
    "Besides selecting components, you often need to select specific elements\n",
    "out of these components. For example, with `shining_list[[2]][1]` you\n",
    "select from the second component, `actors` (`shining_list[[2]]`), the\n",
    "first element (`[1]`). When you type this in the console, you will see\n",
    "the answer is Jack Nicholson.\n",
    "\n",
    "-   Select from `shining_list` the vector representing the actors.\n",
    "    Simply print out this vector.\n",
    "-   Select from `shining_list` the second element in the vector\n",
    "    representing the actors. Do a printout like before.\n"
   ]
  },
  {
   "cell_type": "code",
   "execution_count": 61,
   "metadata": {
    "vscode": {
     "languageId": "r"
    }
   },
   "outputs": [
    {
     "data": {
      "text/html": [
       "<style>\n",
       ".list-inline {list-style: none; margin:0; padding: 0}\n",
       ".list-inline>li {display: inline-block}\n",
       ".list-inline>li:not(:last-child)::after {content: \"\\00b7\"; padding: 0 .5ex}\n",
       "</style>\n",
       "<ol class=list-inline><li>'Jack Nicholson'</li><li>'Shelley Duvall'</li><li>'Danny Lloyd'</li><li>'Scatman Crothers'</li><li>'Barry Nelson'</li></ol>\n"
      ],
      "text/latex": [
       "\\begin{enumerate*}\n",
       "\\item 'Jack Nicholson'\n",
       "\\item 'Shelley Duvall'\n",
       "\\item 'Danny Lloyd'\n",
       "\\item 'Scatman Crothers'\n",
       "\\item 'Barry Nelson'\n",
       "\\end{enumerate*}\n"
      ],
      "text/markdown": [
       "1. 'Jack Nicholson'\n",
       "2. 'Shelley Duvall'\n",
       "3. 'Danny Lloyd'\n",
       "4. 'Scatman Crothers'\n",
       "5. 'Barry Nelson'\n",
       "\n",
       "\n"
      ],
      "text/plain": [
       "[1] \"Jack Nicholson\"   \"Shelley Duvall\"   \"Danny Lloyd\"      \"Scatman Crothers\"\n",
       "[5] \"Barry Nelson\"    "
      ]
     },
     "metadata": {},
     "output_type": "display_data"
    },
    {
     "data": {
      "text/html": [
       "'Shelley Duvall'"
      ],
      "text/latex": [
       "'Shelley Duvall'"
      ],
      "text/markdown": [
       "'Shelley Duvall'"
      ],
      "text/plain": [
       "[1] \"Shelley Duvall\""
      ]
     },
     "metadata": {},
     "output_type": "display_data"
    }
   ],
   "source": [
    "# shining_list is already pre-loaded in the workspace\n",
    "\n",
    "# Print out the vector representing the actors\n",
    "shining_list$actors\n",
    "\n",
    "# Print the second element of the vector representing the actors\n",
    "shining_list$actors[2]\n"
   ]
  },
  {
   "cell_type": "markdown",
   "metadata": {},
   "source": [
    "## Creating a new list for another movie\n",
    "\n",
    "You found reviews of another, more recent, Jack Nicholson movie: The\n",
    "Departed!\n",
    "\n",
    "| Scores | Comments               |\n",
    "|--------|------------------------|\n",
    "| 4.6    | I would watch it again |\n",
    "| 5      | Amazing!               |\n",
    "| 4.8    | I liked it             |\n",
    "| 5      | One of the best movies |\n",
    "| 4.2    | Fascinating plot       |\n",
    "\n",
    "It would be useful to collect together all the pieces of information\n",
    "about the movie, like the title, actors, and reviews into a single\n",
    "variable. Since these pieces of data are different shapes, it is natural\n",
    "to combine them in a list variable.\n",
    "\n",
    "`movie_title`, containing the title of the movie, and `movie_actors`,\n",
    "containing the names of some of the actors in the movie, are available\n",
    "in your workspace.\n",
    "\n",
    "-   Create two vectors, called `scores` and `comments`, that contain the\n",
    "    information from the reviews shown in the table.\n",
    "-   Find the average of the `scores` vector and save it as `avg_review`.\n",
    "-   Combine the `scores` and `comments` vectors into a data frame called\n",
    "    `reviews_df`.\n",
    "-   Create a list, called `departed_list`, that contains the\n",
    "    `movie_title`, `movie_actors`, reviews data frame as `reviews_df`,\n",
    "    and the average review score as `avg_review`, and print it out.\n"
   ]
  },
  {
   "cell_type": "code",
   "execution_count": 62,
   "metadata": {
    "vscode": {
     "languageId": "r"
    }
   },
   "outputs": [
    {
     "data": {
      "text/html": [
       "<ol>\n",
       "\t<li>'The Departed'</li>\n",
       "\t<li><style>\n",
       ".list-inline {list-style: none; margin:0; padding: 0}\n",
       ".list-inline>li {display: inline-block}\n",
       ".list-inline>li:not(:last-child)::after {content: \"\\00b7\"; padding: 0 .5ex}\n",
       "</style>\n",
       "<ol class=list-inline><li>'Leonardo DiCaprio'</li><li>'Matt Damon'</li><li>'Jack Nicholson'</li><li>'Mark Wahlberg'</li><li>'Vera Farmiga'</li><li>'Martin Sheen'</li></ol>\n",
       "</li>\n",
       "\t<li><table class=\"dataframe\">\n",
       "<caption>A data.frame: 5 × 2</caption>\n",
       "<thead>\n",
       "\t<tr><th scope=col>scores</th><th scope=col>comments</th></tr>\n",
       "\t<tr><th scope=col>&lt;dbl&gt;</th><th scope=col>&lt;chr&gt;</th></tr>\n",
       "</thead>\n",
       "<tbody>\n",
       "\t<tr><td>4.6</td><td>I would watch it again</td></tr>\n",
       "\t<tr><td>5.0</td><td>Amazing!              </td></tr>\n",
       "\t<tr><td>4.8</td><td>I liked it            </td></tr>\n",
       "\t<tr><td>5.0</td><td>One of the best movies</td></tr>\n",
       "\t<tr><td>4.2</td><td>Fascinating plot      </td></tr>\n",
       "</tbody>\n",
       "</table>\n",
       "</li>\n",
       "\t<li>4.72</li>\n",
       "</ol>\n"
      ],
      "text/latex": [
       "\\begin{enumerate}\n",
       "\\item 'The Departed'\n",
       "\\item \\begin{enumerate*}\n",
       "\\item 'Leonardo DiCaprio'\n",
       "\\item 'Matt Damon'\n",
       "\\item 'Jack Nicholson'\n",
       "\\item 'Mark Wahlberg'\n",
       "\\item 'Vera Farmiga'\n",
       "\\item 'Martin Sheen'\n",
       "\\end{enumerate*}\n",
       "\n",
       "\\item A data.frame: 5 × 2\n",
       "\\begin{tabular}{ll}\n",
       " scores & comments\\\\\n",
       " <dbl> & <chr>\\\\\n",
       "\\hline\n",
       "\t 4.6 & I would watch it again\\\\\n",
       "\t 5.0 & Amazing!              \\\\\n",
       "\t 4.8 & I liked it            \\\\\n",
       "\t 5.0 & One of the best movies\\\\\n",
       "\t 4.2 & Fascinating plot      \\\\\n",
       "\\end{tabular}\n",
       "\n",
       "\\item 4.72\n",
       "\\end{enumerate}\n"
      ],
      "text/markdown": [
       "1. 'The Departed'\n",
       "2. 1. 'Leonardo DiCaprio'\n",
       "2. 'Matt Damon'\n",
       "3. 'Jack Nicholson'\n",
       "4. 'Mark Wahlberg'\n",
       "5. 'Vera Farmiga'\n",
       "6. 'Martin Sheen'\n",
       "\n",
       "\n",
       "\n",
       "3. \n",
       "A data.frame: 5 × 2\n",
       "\n",
       "| scores &lt;dbl&gt; | comments &lt;chr&gt; |\n",
       "|---|---|\n",
       "| 4.6 | I would watch it again |\n",
       "| 5.0 | Amazing!               |\n",
       "| 4.8 | I liked it             |\n",
       "| 5.0 | One of the best movies |\n",
       "| 4.2 | Fascinating plot       |\n",
       "\n",
       "\n",
       "4. 4.72\n",
       "\n",
       "\n"
      ],
      "text/plain": [
       "[[1]]\n",
       "[1] \"The Departed\"\n",
       "\n",
       "[[2]]\n",
       "[1] \"Leonardo DiCaprio\" \"Matt Damon\"        \"Jack Nicholson\"   \n",
       "[4] \"Mark Wahlberg\"     \"Vera Farmiga\"      \"Martin Sheen\"     \n",
       "\n",
       "[[3]]\n",
       "  scores               comments\n",
       "1    4.6 I would watch it again\n",
       "2    5.0               Amazing!\n",
       "3    4.8             I liked it\n",
       "4    5.0 One of the best movies\n",
       "5    4.2       Fascinating plot\n",
       "\n",
       "[[4]]\n",
       "[1] 4.72\n"
      ]
     },
     "metadata": {},
     "output_type": "display_data"
    }
   ],
   "source": [
    "# edited/added\n",
    "movie_title=\"The Departed\"\n",
    "movie_actors= c(\"Leonardo DiCaprio\",\"Matt Damon\",\"Jack Nicholson\",\"Mark Wahlberg\",\"Vera Farmiga\",\"Martin Sheen\")\n",
    "\n",
    "# Use the table from the exercise to define the comments and scores vectors\n",
    "scores <- c(4.6, 5, 4.8, 5, 4.2)\n",
    "comments <- c(\"I would watch it again\", \"Amazing!\", \"I liked it\", \"One of the best movies\", \"Fascinating plot\")\n",
    "\n",
    "# Save the average of the scores vector as avg_review\n",
    "avg_review <- mean(scores)\n",
    "\n",
    "# Combine scores and comments into the reviews_df data frame\n",
    "reviews_df <- data.frame(scores, comments)\n",
    "\n",
    "# Create and print out a list, called departed_list\n",
    "departed_list <- list(movie_title, movie_actors, reviews_df, avg_review)\n",
    "departed_list\n"
   ]
  }
 ],
 "metadata": {
  "anaconda-cloud": "",
  "kernelspec": {
   "display_name": "R",
   "language": "R",
   "name": "ir"
  },
  "language_info": {
   "codemirror_mode": "r",
   "file_extension": ".r",
   "mimetype": "text/x-r-source",
   "name": "R",
   "pygments_lexer": "r",
   "version": "4.2.2"
  }
 },
 "nbformat": 4,
 "nbformat_minor": 4
}
