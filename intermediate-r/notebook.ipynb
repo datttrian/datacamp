{
 "cells": [
  {
   "cell_type": "markdown",
   "metadata": {},
   "source": [
    "**Course Description**\n",
    "\n",
    "Intermediate R is the next stop on your journey in mastering the R programming language. In this R training, you will learn about conditional statements, loops, and functions to power your own R scripts. Next, make your R code more efficient and readable using the apply functions. Finally, the utilities chapter gets you up to speed with regular expressions in R, data structure manipulations, and times and dates. This course will allow you to take the next step in advancing your overall knowledge and capabilities while programming in R.\n",
    "\n",
    "# Conditionals and Control Flow\n",
    "\n",
    "In this chapter, you'll learn about relational operators for comparing R objects, and logical operators like \"and\" and \"or\" for combining TRUE and FALSE values. Then, you'll use this knowledge to build conditional statements.\n",
    "\n",
    "## Relational Operators\n",
    "\n",
    "### Equality\n",
    "\n",
    "The most basic form of comparison is equality. Let's briefly recap its\n",
    "syntax. The following statements all evaluate to `TRUE` (feel free to\n",
    "try them out in the console).\n",
    "\n",
    "    3 == (2 + 1)\n",
    "    \"intermediate\" != \"r\"\n",
    "    TRUE != FALSE\n",
    "    \"Rchitect\" != \"rchitect\"\n",
    "\n",
    "Notice from the last expression that R is case sensitive: \"R\" is not\n",
    "equal to \"r\". Keep this in mind when solving the exercises in this\n",
    "chapter!\n",
    "\n",
    "-   In the editor on the right, write R code to see if `TRUE` equals\n",
    "    `FALSE`.\n",
    "-   Likewise, check if `-6 * 14` is *not* equal to `17 - 101`.\n",
    "-   Next up: comparison of character strings. Ask R whether the strings\n",
    "    \"useR\" and \"user\" are equal.\n",
    "-   Finally, find out what happens if you compare logicals to numerics:\n",
    "    are `TRUE` and 1 equal?\n"
   ]
  },
  {
   "cell_type": "code",
   "execution_count": 1,
   "metadata": {},
   "outputs": [
    {
     "data": {
      "text/html": [
       "FALSE"
      ],
      "text/latex": [
       "FALSE"
      ],
      "text/markdown": [
       "FALSE"
      ],
      "text/plain": [
       "[1] FALSE"
      ]
     },
     "metadata": {},
     "output_type": "display_data"
    },
    {
     "data": {
      "text/html": [
       "FALSE"
      ],
      "text/latex": [
       "FALSE"
      ],
      "text/markdown": [
       "FALSE"
      ],
      "text/plain": [
       "[1] FALSE"
      ]
     },
     "metadata": {},
     "output_type": "display_data"
    },
    {
     "data": {
      "text/html": [
       "FALSE"
      ],
      "text/latex": [
       "FALSE"
      ],
      "text/markdown": [
       "FALSE"
      ],
      "text/plain": [
       "[1] FALSE"
      ]
     },
     "metadata": {},
     "output_type": "display_data"
    },
    {
     "data": {
      "text/html": [
       "TRUE"
      ],
      "text/latex": [
       "TRUE"
      ],
      "text/markdown": [
       "TRUE"
      ],
      "text/plain": [
       "[1] TRUE"
      ]
     },
     "metadata": {},
     "output_type": "display_data"
    }
   ],
   "source": [
    "# Comparison of logicals\n",
    "TRUE == FALSE\n",
    "\n",
    "# Comparison of numerics\n",
    "-6 * 14 != 17 - 101\n",
    "\n",
    "# Comparison of character strings\n",
    "\"useR\" == \"user\"\n",
    "\n",
    "# Compare a logical with a numeric\n",
    "TRUE == 1\n"
   ]
  },
  {
   "cell_type": "markdown",
   "metadata": {},
   "source": [
    "### Greater and less than\n",
    "\n",
    "Apart from equality operators, Filip also introduced the *less than* and\n",
    "*greater than* operators: `<` and `>`. You can also add an equal sign to\n",
    "express *less than or equal to* or *greater than or equal to*,\n",
    "respectively. Have a look at the following R expressions, that all\n",
    "evaluate to `FALSE`:\n",
    "\n",
    "    (1 + 2) > 4\n",
    "    \"dog\" < \"Cats\"\n",
    "    TRUE <= FALSE\n",
    "\n",
    "Remember that for string comparison, R determines the *greater than*\n",
    "relationship based on alphabetical order. Also, keep in mind that `TRUE`\n",
    "is treated as `1` for arithmetic, and `FALSE` is treated as `0`.\n",
    "Therefore, `FALSE < TRUE` is `TRUE`.\n",
    "\n",
    "Write R expressions to check whether:\n",
    "\n",
    "-   `-6 * 5 + 2` is greater than or equal to `-10 + 1`.\n",
    "-   \"raining\" is less than or equal to \"raining dogs\".\n",
    "-   TRUE is greater than FALSE.\n"
   ]
  },
  {
   "cell_type": "code",
   "execution_count": 2,
   "metadata": {},
   "outputs": [
    {
     "data": {
      "text/html": [
       "FALSE"
      ],
      "text/latex": [
       "FALSE"
      ],
      "text/markdown": [
       "FALSE"
      ],
      "text/plain": [
       "[1] FALSE"
      ]
     },
     "metadata": {},
     "output_type": "display_data"
    },
    {
     "data": {
      "text/html": [
       "TRUE"
      ],
      "text/latex": [
       "TRUE"
      ],
      "text/markdown": [
       "TRUE"
      ],
      "text/plain": [
       "[1] TRUE"
      ]
     },
     "metadata": {},
     "output_type": "display_data"
    },
    {
     "data": {
      "text/html": [
       "TRUE"
      ],
      "text/latex": [
       "TRUE"
      ],
      "text/markdown": [
       "TRUE"
      ],
      "text/plain": [
       "[1] TRUE"
      ]
     },
     "metadata": {},
     "output_type": "display_data"
    }
   ],
   "source": [
    "# Comparison of numerics\n",
    "-6 * 5 + 2 >= -10 + 1\n",
    "\n",
    "# Comparison of character strings\n",
    "\"raining\" <= \"raining dogs\"\n",
    "\n",
    "# Comparison of logicals\n",
    "TRUE > FALSE\n"
   ]
  },
  {
   "cell_type": "markdown",
   "metadata": {},
   "source": [
    "### Compare vectors\n",
    "\n",
    "You are already aware that R is very good with vectors. Without having\n",
    "to change anything about the syntax, R's relational operators also work\n",
    "on vectors.\n",
    "\n",
    "Let's go back to the example that was started in the video. You want to\n",
    "figure out whether your activity on social media platforms have paid off\n",
    "and decide to look at your results for LinkedIn and Facebook. The sample\n",
    "code in the editor initializes the vectors `linkedin` and `facebook`.\n",
    "Each of the vectors contains the number of profile views your LinkedIn\n",
    "and Facebook profiles had over the last seven days.\n",
    "\n",
    "Using relational operators, find a logical answer, i.e. `TRUE` or\n",
    "`FALSE`, for the following questions:\n",
    "\n",
    "-   On which days did the number of LinkedIn profile views exceed 15?\n",
    "-   When was your LinkedIn profile viewed only 5 times or fewer?\n",
    "-   When was your LinkedIn profile visited more often than your Facebook\n",
    "    profile?\n"
   ]
  },
  {
   "cell_type": "code",
   "execution_count": 3,
   "metadata": {},
   "outputs": [
    {
     "data": {
      "text/html": [
       "<style>\n",
       ".list-inline {list-style: none; margin:0; padding: 0}\n",
       ".list-inline>li {display: inline-block}\n",
       ".list-inline>li:not(:last-child)::after {content: \"\\00b7\"; padding: 0 .5ex}\n",
       "</style>\n",
       "<ol class=list-inline><li>TRUE</li><li>FALSE</li><li>FALSE</li><li>FALSE</li><li>FALSE</li><li>TRUE</li><li>FALSE</li></ol>\n"
      ],
      "text/latex": [
       "\\begin{enumerate*}\n",
       "\\item TRUE\n",
       "\\item FALSE\n",
       "\\item FALSE\n",
       "\\item FALSE\n",
       "\\item FALSE\n",
       "\\item TRUE\n",
       "\\item FALSE\n",
       "\\end{enumerate*}\n"
      ],
      "text/markdown": [
       "1. TRUE\n",
       "2. FALSE\n",
       "3. FALSE\n",
       "4. FALSE\n",
       "5. FALSE\n",
       "6. TRUE\n",
       "7. FALSE\n",
       "\n",
       "\n"
      ],
      "text/plain": [
       "[1]  TRUE FALSE FALSE FALSE FALSE  TRUE FALSE"
      ]
     },
     "metadata": {},
     "output_type": "display_data"
    },
    {
     "data": {
      "text/html": [
       "<style>\n",
       ".list-inline {list-style: none; margin:0; padding: 0}\n",
       ".list-inline>li {display: inline-block}\n",
       ".list-inline>li:not(:last-child)::after {content: \"\\00b7\"; padding: 0 .5ex}\n",
       "</style>\n",
       "<ol class=list-inline><li>FALSE</li><li>FALSE</li><li>FALSE</li><li>TRUE</li><li>TRUE</li><li>FALSE</li><li>FALSE</li></ol>\n"
      ],
      "text/latex": [
       "\\begin{enumerate*}\n",
       "\\item FALSE\n",
       "\\item FALSE\n",
       "\\item FALSE\n",
       "\\item TRUE\n",
       "\\item TRUE\n",
       "\\item FALSE\n",
       "\\item FALSE\n",
       "\\end{enumerate*}\n"
      ],
      "text/markdown": [
       "1. FALSE\n",
       "2. FALSE\n",
       "3. FALSE\n",
       "4. TRUE\n",
       "5. TRUE\n",
       "6. FALSE\n",
       "7. FALSE\n",
       "\n",
       "\n"
      ],
      "text/plain": [
       "[1] FALSE FALSE FALSE  TRUE  TRUE FALSE FALSE"
      ]
     },
     "metadata": {},
     "output_type": "display_data"
    },
    {
     "data": {
      "text/html": [
       "<style>\n",
       ".list-inline {list-style: none; margin:0; padding: 0}\n",
       ".list-inline>li {display: inline-block}\n",
       ".list-inline>li:not(:last-child)::after {content: \"\\00b7\"; padding: 0 .5ex}\n",
       "</style>\n",
       "<ol class=list-inline><li>FALSE</li><li>TRUE</li><li>TRUE</li><li>FALSE</li><li>FALSE</li><li>TRUE</li><li>FALSE</li></ol>\n"
      ],
      "text/latex": [
       "\\begin{enumerate*}\n",
       "\\item FALSE\n",
       "\\item TRUE\n",
       "\\item TRUE\n",
       "\\item FALSE\n",
       "\\item FALSE\n",
       "\\item TRUE\n",
       "\\item FALSE\n",
       "\\end{enumerate*}\n"
      ],
      "text/markdown": [
       "1. FALSE\n",
       "2. TRUE\n",
       "3. TRUE\n",
       "4. FALSE\n",
       "5. FALSE\n",
       "6. TRUE\n",
       "7. FALSE\n",
       "\n",
       "\n"
      ],
      "text/plain": [
       "[1] FALSE  TRUE  TRUE FALSE FALSE  TRUE FALSE"
      ]
     },
     "metadata": {},
     "output_type": "display_data"
    }
   ],
   "source": [
    "# The linkedin and facebook vectors have already been created for you\n",
    "linkedin <- c(16, 9, 13, 5, 2, 17, 14)\n",
    "facebook <- c(17, 7, 5, 16, 8, 13, 14)\n",
    "\n",
    "# Popular days\n",
    "linkedin > 15\n",
    "\n",
    "# Quiet days\n",
    "linkedin <= 5\n",
    "\n",
    "# LinkedIn more popular than Facebook\n",
    "linkedin > facebook\n"
   ]
  },
  {
   "cell_type": "markdown",
   "metadata": {},
   "source": [
    "### Compare matrices\n",
    "\n",
    "R's ability to deal with different data structures for comparisons does\n",
    "not stop at vectors. Matrices and relational operators also work\n",
    "together seamlessly!\n",
    "\n",
    "Instead of in vectors (as in the previous exercise), the LinkedIn and\n",
    "Facebook data is now stored in a matrix called `views`. The first row\n",
    "contains the LinkedIn information; the second row the Facebook\n",
    "information. The original vectors `facebook` and `linkedin` are still\n",
    "available as well.\n",
    "\n",
    "Using the relational operators you've learned so far, try to discover\n",
    "the following:\n",
    "\n",
    "-   When were the views exactly equal to 13? Use the `views` matrix to\n",
    "    return a logical matrix.\n",
    "-   For which days were the number of views less than or equal to 14?\n",
    "    Again, have R return a logical matrix.\n"
   ]
  },
  {
   "cell_type": "code",
   "execution_count": 4,
   "metadata": {},
   "outputs": [
    {
     "data": {
      "text/html": [
       "<table class=\"dataframe\">\n",
       "<caption>A matrix: 2 × 7 of type lgl</caption>\n",
       "<tbody>\n",
       "\t<tr><td>FALSE</td><td>FALSE</td><td> TRUE</td><td>FALSE</td><td>FALSE</td><td>FALSE</td><td>FALSE</td></tr>\n",
       "\t<tr><td>FALSE</td><td>FALSE</td><td>FALSE</td><td>FALSE</td><td>FALSE</td><td> TRUE</td><td>FALSE</td></tr>\n",
       "</tbody>\n",
       "</table>\n"
      ],
      "text/latex": [
       "A matrix: 2 × 7 of type lgl\n",
       "\\begin{tabular}{lllllll}\n",
       "\t FALSE & FALSE &  TRUE & FALSE & FALSE & FALSE & FALSE\\\\\n",
       "\t FALSE & FALSE & FALSE & FALSE & FALSE &  TRUE & FALSE\\\\\n",
       "\\end{tabular}\n"
      ],
      "text/markdown": [
       "\n",
       "A matrix: 2 × 7 of type lgl\n",
       "\n",
       "| FALSE | FALSE |  TRUE | FALSE | FALSE | FALSE | FALSE |\n",
       "| FALSE | FALSE | FALSE | FALSE | FALSE |  TRUE | FALSE |\n",
       "\n"
      ],
      "text/plain": [
       "     [,1]  [,2]  [,3]  [,4]  [,5]  [,6]  [,7] \n",
       "[1,] FALSE FALSE  TRUE FALSE FALSE FALSE FALSE\n",
       "[2,] FALSE FALSE FALSE FALSE FALSE  TRUE FALSE"
      ]
     },
     "metadata": {},
     "output_type": "display_data"
    },
    {
     "data": {
      "text/html": [
       "<table class=\"dataframe\">\n",
       "<caption>A matrix: 2 × 7 of type lgl</caption>\n",
       "<tbody>\n",
       "\t<tr><td>FALSE</td><td>TRUE</td><td>TRUE</td><td> TRUE</td><td>TRUE</td><td>FALSE</td><td>TRUE</td></tr>\n",
       "\t<tr><td>FALSE</td><td>TRUE</td><td>TRUE</td><td>FALSE</td><td>TRUE</td><td> TRUE</td><td>TRUE</td></tr>\n",
       "</tbody>\n",
       "</table>\n"
      ],
      "text/latex": [
       "A matrix: 2 × 7 of type lgl\n",
       "\\begin{tabular}{lllllll}\n",
       "\t FALSE & TRUE & TRUE &  TRUE & TRUE & FALSE & TRUE\\\\\n",
       "\t FALSE & TRUE & TRUE & FALSE & TRUE &  TRUE & TRUE\\\\\n",
       "\\end{tabular}\n"
      ],
      "text/markdown": [
       "\n",
       "A matrix: 2 × 7 of type lgl\n",
       "\n",
       "| FALSE | TRUE | TRUE |  TRUE | TRUE | FALSE | TRUE |\n",
       "| FALSE | TRUE | TRUE | FALSE | TRUE |  TRUE | TRUE |\n",
       "\n"
      ],
      "text/plain": [
       "     [,1]  [,2] [,3] [,4]  [,5] [,6]  [,7]\n",
       "[1,] FALSE TRUE TRUE  TRUE TRUE FALSE TRUE\n",
       "[2,] FALSE TRUE TRUE FALSE TRUE  TRUE TRUE"
      ]
     },
     "metadata": {},
     "output_type": "display_data"
    }
   ],
   "source": [
    "# The social data has been created for you\n",
    "linkedin <- c(16, 9, 13, 5, 2, 17, 14)\n",
    "facebook <- c(17, 7, 5, 16, 8, 13, 14)\n",
    "views <- matrix(c(linkedin, facebook), nrow = 2, byrow = TRUE)\n",
    "\n",
    "# When does views equal 13?\n",
    "views == 13\n",
    "\n",
    "# When is views less than or equal to 14?\n",
    "views <= 14\n"
   ]
  },
  {
   "cell_type": "markdown",
   "metadata": {},
   "source": [
    "## Logical Operators\n",
    "\n",
    "### & and \\|\n",
    "\n",
    "Before you work your way through the next exercises, have a look at the\n",
    "following R expressions. All of them will evaluate to `TRUE`:\n",
    "\n",
    "    TRUE & TRUE\n",
    "    FALSE | TRUE\n",
    "    5 <= 5 & 2 < 3\n",
    "    3 < 4 | 7 < 6\n",
    "\n",
    "Watch out: `3 < x < 7` to check if `x` is between 3 and 7 will not work;\n",
    "you'll need `3 < x & x < 7` for that.\n",
    "\n",
    "In this exercise, you'll be working with the `last` variable. This\n",
    "variable equals the last value of the `linkedin` vector that you've\n",
    "worked with previously. The `linkedin` vector represents the number of\n",
    "LinkedIn views your profile had in the last seven days, remember? Both\n",
    "the variables `linkedin` and `last` have been pre-defined for you.\n",
    "\n",
    "Write R expressions to solve the following questions concerning the\n",
    "variable `last`:\n",
    "\n",
    "-   Is `last` under 5 or above 10?\n",
    "-   Is `last` between 15 and 20, excluding 15 but including 20?\n"
   ]
  },
  {
   "cell_type": "code",
   "execution_count": 5,
   "metadata": {},
   "outputs": [
    {
     "data": {
      "text/html": [
       "TRUE"
      ],
      "text/latex": [
       "TRUE"
      ],
      "text/markdown": [
       "TRUE"
      ],
      "text/plain": [
       "[1] TRUE"
      ]
     },
     "metadata": {},
     "output_type": "display_data"
    },
    {
     "data": {
      "text/html": [
       "FALSE"
      ],
      "text/latex": [
       "FALSE"
      ],
      "text/markdown": [
       "FALSE"
      ],
      "text/plain": [
       "[1] FALSE"
      ]
     },
     "metadata": {},
     "output_type": "display_data"
    }
   ],
   "source": [
    "# The linkedin and last variable are already defined for you\n",
    "linkedin <- c(16, 9, 13, 5, 2, 17, 14)\n",
    "last <- tail(linkedin, 1)\n",
    "\n",
    "# Is last under 5 or above 10?\n",
    "last < 5 | last > 10\n",
    "\n",
    "# Is last between 15 (exclusive) and 20 (inclusive)?\n",
    "last > 15 & last <= 20\n"
   ]
  },
  {
   "cell_type": "markdown",
   "metadata": {},
   "source": [
    "### & and \\| (2)\n",
    "\n",
    "Like relational operators, logical operators work perfectly fine with\n",
    "vectors and matrices.\n",
    "\n",
    "Both the vectors `linkedin` and `facebook` are available again. Also a\n",
    "matrix - `views` - has been defined; its first and second row correspond\n",
    "to the `linkedin` and `facebook` vectors, respectively. Ready for some\n",
    "advanced queries to gain more insights into your social outreach?\n",
    "\n",
    "-   When did LinkedIn views exceed 10 *and* did Facebook views fail to\n",
    "    reach 10 for a particular day? Use the `linkedin` and `facebook`\n",
    "    vectors.\n",
    "-   When were one or both of your LinkedIn and Facebook profiles visited\n",
    "    at least 12 times?\n",
    "-   When is the `views` matrix equal to a number between 11 and 14,\n",
    "    excluding 11 and including 14?\n"
   ]
  },
  {
   "cell_type": "code",
   "execution_count": 6,
   "metadata": {},
   "outputs": [
    {
     "data": {
      "text/html": [
       "<style>\n",
       ".list-inline {list-style: none; margin:0; padding: 0}\n",
       ".list-inline>li {display: inline-block}\n",
       ".list-inline>li:not(:last-child)::after {content: \"\\00b7\"; padding: 0 .5ex}\n",
       "</style>\n",
       "<ol class=list-inline><li>FALSE</li><li>FALSE</li><li>TRUE</li><li>FALSE</li><li>FALSE</li><li>FALSE</li><li>FALSE</li></ol>\n"
      ],
      "text/latex": [
       "\\begin{enumerate*}\n",
       "\\item FALSE\n",
       "\\item FALSE\n",
       "\\item TRUE\n",
       "\\item FALSE\n",
       "\\item FALSE\n",
       "\\item FALSE\n",
       "\\item FALSE\n",
       "\\end{enumerate*}\n"
      ],
      "text/markdown": [
       "1. FALSE\n",
       "2. FALSE\n",
       "3. TRUE\n",
       "4. FALSE\n",
       "5. FALSE\n",
       "6. FALSE\n",
       "7. FALSE\n",
       "\n",
       "\n"
      ],
      "text/plain": [
       "[1] FALSE FALSE  TRUE FALSE FALSE FALSE FALSE"
      ]
     },
     "metadata": {},
     "output_type": "display_data"
    },
    {
     "data": {
      "text/html": [
       "<style>\n",
       ".list-inline {list-style: none; margin:0; padding: 0}\n",
       ".list-inline>li {display: inline-block}\n",
       ".list-inline>li:not(:last-child)::after {content: \"\\00b7\"; padding: 0 .5ex}\n",
       "</style>\n",
       "<ol class=list-inline><li>TRUE</li><li>FALSE</li><li>TRUE</li><li>TRUE</li><li>FALSE</li><li>TRUE</li><li>TRUE</li></ol>\n"
      ],
      "text/latex": [
       "\\begin{enumerate*}\n",
       "\\item TRUE\n",
       "\\item FALSE\n",
       "\\item TRUE\n",
       "\\item TRUE\n",
       "\\item FALSE\n",
       "\\item TRUE\n",
       "\\item TRUE\n",
       "\\end{enumerate*}\n"
      ],
      "text/markdown": [
       "1. TRUE\n",
       "2. FALSE\n",
       "3. TRUE\n",
       "4. TRUE\n",
       "5. FALSE\n",
       "6. TRUE\n",
       "7. TRUE\n",
       "\n",
       "\n"
      ],
      "text/plain": [
       "[1]  TRUE FALSE  TRUE  TRUE FALSE  TRUE  TRUE"
      ]
     },
     "metadata": {},
     "output_type": "display_data"
    },
    {
     "data": {
      "text/html": [
       "<table class=\"dataframe\">\n",
       "<caption>A matrix: 2 × 7 of type lgl</caption>\n",
       "<tbody>\n",
       "\t<tr><td>FALSE</td><td>FALSE</td><td> TRUE</td><td>FALSE</td><td>FALSE</td><td>FALSE</td><td>TRUE</td></tr>\n",
       "\t<tr><td>FALSE</td><td>FALSE</td><td>FALSE</td><td>FALSE</td><td>FALSE</td><td> TRUE</td><td>TRUE</td></tr>\n",
       "</tbody>\n",
       "</table>\n"
      ],
      "text/latex": [
       "A matrix: 2 × 7 of type lgl\n",
       "\\begin{tabular}{lllllll}\n",
       "\t FALSE & FALSE &  TRUE & FALSE & FALSE & FALSE & TRUE\\\\\n",
       "\t FALSE & FALSE & FALSE & FALSE & FALSE &  TRUE & TRUE\\\\\n",
       "\\end{tabular}\n"
      ],
      "text/markdown": [
       "\n",
       "A matrix: 2 × 7 of type lgl\n",
       "\n",
       "| FALSE | FALSE |  TRUE | FALSE | FALSE | FALSE | TRUE |\n",
       "| FALSE | FALSE | FALSE | FALSE | FALSE |  TRUE | TRUE |\n",
       "\n"
      ],
      "text/plain": [
       "     [,1]  [,2]  [,3]  [,4]  [,5]  [,6]  [,7]\n",
       "[1,] FALSE FALSE  TRUE FALSE FALSE FALSE TRUE\n",
       "[2,] FALSE FALSE FALSE FALSE FALSE  TRUE TRUE"
      ]
     },
     "metadata": {},
     "output_type": "display_data"
    }
   ],
   "source": [
    "# The social data (linkedin, facebook, views) has been created for you\n",
    "\n",
    "# linkedin exceeds 10 but facebook below 10\n",
    "linkedin > 10 & facebook < 10\n",
    "\n",
    "# When were one or both visited at least 12 times?\n",
    "linkedin >= 12 | facebook >= 12\n",
    "\n",
    "# When is views between 11 (exclusive) and 14 (inclusive)?\n",
    "views > 11 & views <= 14\n"
   ]
  },
  {
   "cell_type": "markdown",
   "metadata": {},
   "source": [
    "### Reverse the result: !\n",
    "\n",
    "On top of the `&` and `|` operators, you also learned about the `!`\n",
    "operator, which negates a logical value. To refresh your memory, here\n",
    "are some R expressions that use `!`. They all evaluate to `FALSE`:\n",
    "\n",
    "    !TRUE\n",
    "    !(5 > 3)\n",
    "    !!FALSE\n",
    "\n",
    "What would the following set of R expressions return?\n",
    "\n",
    "    x <- 5\n",
    "    y <- 7\n",
    "    !(!(x < 4) & !!!(y > 12))\n",
    "\n",
    "- [ ] `TRUE`\n",
    "- [x] `FALSE`\n",
    "- [ ] Running this piece of code would throw an error.\n",
    "\n",
    "### Blend it all together\n",
    "\n",
    "With the things you've learned by now, you're able to solve pretty cool\n",
    "problems.\n",
    "\n",
    "Instead of recording the number of views for your own LinkedIn profile,\n",
    "suppose you conducted a survey inside the company you're working for.\n",
    "You've asked every employee with a LinkedIn profile how many visits\n",
    "their profile has had over the past seven days. You stored the results\n",
    "in a data frame called `li_df`. This data frame is available in the\n",
    "workspace; type `li_df` in the console to check it out.\n",
    "\n",
    "-   Select the entire second column, named `day2`, from the `li_df` data\n",
    "    frame as a vector and assign it to `second`.\n",
    "-   Use `second` to create a logical vector, that contains `TRUE` if the\n",
    "    corresponding number of views is strictly greater than 25 or\n",
    "    strictly lower than 5 and `FALSE` otherwise. Store this logical\n",
    "    vector as `extremes`.\n",
    "-   Use `sum()` on the `extremes` vector to calculate the number of\n",
    "    `TRUE`s in `extremes` (i.e. to calculate the number of employees\n",
    "    that are either very popular or very low-profile). Simply print this\n",
    "    number to the console.\n"
   ]
  },
  {
   "cell_type": "code",
   "execution_count": 7,
   "metadata": {},
   "outputs": [
    {
     "data": {
      "text/html": [
       "16"
      ],
      "text/latex": [
       "16"
      ],
      "text/markdown": [
       "16"
      ],
      "text/plain": [
       "[1] 16"
      ]
     },
     "metadata": {},
     "output_type": "display_data"
    }
   ],
   "source": [
    "# edited/added\n",
    "li_df=read.csv(\"li_df.csv\")\n",
    "\n",
    "# li_df is pre-loaded in your workspace\n",
    "\n",
    "# Select the second column, named day2, from li_df: second\n",
    "second <- li_df$day2\n",
    "\n",
    "# Build a logical vector, TRUE if value in second is extreme: extremes\n",
    "extremes <- second > 25 | second < 5\n",
    "\n",
    "# Count the number of TRUEs in extremes\n",
    "sum(extremes)\n"
   ]
  },
  {
   "cell_type": "markdown",
   "metadata": {},
   "source": [
    "## Conditional Statements\n",
    "\n",
    "### The if statement\n",
    "\n",
    "Before diving into some exercises on the `if` statement, have another\n",
    "look at its syntax:\n",
    "\n",
    "    if (condition) {\n",
    "      expr\n",
    "    }\n",
    "\n",
    "Remember your vectors with social profile views? Let's look at it from\n",
    "another angle. The `medium` variable gives information about the social\n",
    "website; the `num_views` variable denotes the actual number of views\n",
    "that particular `medium` had on the last day of your recordings. Both\n",
    "variables have been pre-defined for you.\n",
    "\n",
    "-   Examine the `if` statement that prints out\n",
    "    `\"Showing LinkedIn information\"` if the `medium` variable equals\n",
    "    `\"LinkedIn\"`.\n",
    "-   Code an `if` statement that prints `\"You are popular!\"` to the\n",
    "    console if the `num_views` variable exceeds 15.\n"
   ]
  },
  {
   "cell_type": "code",
   "execution_count": 8,
   "metadata": {},
   "outputs": [
    {
     "name": "stdout",
     "output_type": "stream",
     "text": [
      "[1] \"Showing LinkedIn information\"\n"
     ]
    }
   ],
   "source": [
    "# Variables related to your last day of recordings\n",
    "medium <- \"LinkedIn\"\n",
    "num_views <- 14\n",
    "\n",
    "# Examine the if statement for medium\n",
    "if (medium == \"LinkedIn\") {\n",
    "  print(\"Showing LinkedIn information\")\n",
    "}\n",
    "\n",
    "# Write the if statement for num_views\n",
    "if (num_views > 15) {\n",
    "  print(\"You are popular!\")\n",
    "}\n"
   ]
  },
  {
   "cell_type": "markdown",
   "metadata": {},
   "source": [
    "### Add an else\n",
    "\n",
    "You can only use an `else` statement in combination with an `if`\n",
    "statement. The `else` statement does not require a condition; its\n",
    "corresponding code is simply run if all of the preceding conditions in\n",
    "the control structure are `FALSE`. Here's a recipe for its usage:\n",
    "\n",
    "    if (condition) {\n",
    "      expr1\n",
    "    } else {\n",
    "      expr2\n",
    "    }\n",
    "\n",
    "*It's important that the `else` keyword comes on the same line as the\n",
    "closing bracket of the `if` part!*\n",
    "\n",
    "Both `if` statements that you coded in the previous exercises are\n",
    "already available to use. It's now up to you to extend them with the\n",
    "appropriate `else` statements!\n",
    "\n",
    "Add an `else` statement to both control structures, such that\n",
    "\n",
    "-   \"Unknown medium\" gets printed out to the console when the\n",
    "    if-condition on `medium` does not hold.\n",
    "-   R prints out \"Try to be more visible!\" when the if-condition on\n",
    "    `num_views` is not met.\n"
   ]
  },
  {
   "cell_type": "code",
   "execution_count": 9,
   "metadata": {},
   "outputs": [
    {
     "name": "stdout",
     "output_type": "stream",
     "text": [
      "[1] \"Showing LinkedIn information\"\n",
      "[1] \"Try to be more visible!\"\n"
     ]
    }
   ],
   "source": [
    "# Variables related to your last day of recordings\n",
    "medium <- \"LinkedIn\"\n",
    "num_views <- 14\n",
    "\n",
    "# Control structure for medium\n",
    "if (medium == \"LinkedIn\") {\n",
    "  print(\"Showing LinkedIn information\")\n",
    "} else {\n",
    "  print(\"Unknown medium\")\n",
    "}\n",
    "\n",
    "# Control structure for num_views\n",
    "if (num_views > 15) {\n",
    "  print(\"You're popular!\")\n",
    "} else {\n",
    "  print(\"Try to be more visible!\")\n",
    "}\n"
   ]
  },
  {
   "cell_type": "markdown",
   "metadata": {},
   "source": [
    "### Customize further: else if\n",
    "\n",
    "The `else if` statement allows you to further customize your control\n",
    "structure. You can add as many `else if` statements as you like. Keep in\n",
    "mind that R ignores the remainder of the control structure once a\n",
    "condition has been found that is `TRUE` and the corresponding\n",
    "expressions have been executed. Here's an overview of the syntax to\n",
    "freshen your memory:\n",
    "\n",
    "    if (condition1) {\n",
    "      expr1\n",
    "    } else if (condition2) {\n",
    "      expr2\n",
    "    } else if (condition3) {\n",
    "      expr3\n",
    "    } else {\n",
    "      expr4\n",
    "    }\n",
    "\n",
    "*Again, It's important that the `else if` keywords comes on the same\n",
    "line as the closing bracket of the previous part of the control\n",
    "construct!*\n",
    "\n",
    "Add code to both control structures such that:\n",
    "\n",
    "-   R prints out \"Showing Facebook information\" if `medium` is equal to\n",
    "    \"Facebook\". Remember that R is case sensitive!\n",
    "-   \"Your number of views is average\" is printed if `num_views` is\n",
    "    between 15 (inclusive) and 10 (exclusive). Feel free to change the\n",
    "    variables `medium` and `num_views` to see how the control structure\n",
    "    respond. In both cases, the existing code should be extended in the\n",
    "    `else if` statement. No existing code should be modified.\n"
   ]
  },
  {
   "cell_type": "code",
   "execution_count": 10,
   "metadata": {},
   "outputs": [
    {
     "name": "stdout",
     "output_type": "stream",
     "text": [
      "[1] \"Showing LinkedIn information\"\n",
      "[1] \"Your number of views is average\"\n"
     ]
    }
   ],
   "source": [
    "# Variables related to your last day of recordings\n",
    "medium <- \"LinkedIn\"\n",
    "num_views <- 14\n",
    "\n",
    "# Control structure for medium\n",
    "if (medium == \"LinkedIn\") {\n",
    "  print(\"Showing LinkedIn information\")\n",
    "} else if (medium == \"Facebook\") {\n",
    "  # Add code to print correct string when condition is TRUE\n",
    "  print(\"Showing Facebook information\")\n",
    "} else {\n",
    "  print(\"Unknown medium\")\n",
    "}\n",
    "\n",
    "# Control structure for num_views\n",
    "if (num_views > 15) {\n",
    "  print(\"You're popular!\")\n",
    "} else if (num_views <= 15 & num_views > 10) {\n",
    "  # Add code to print correct string when condition is TRUE\n",
    "  print(\"Your number of views is average\")\n",
    "} else {\n",
    "  print(\"Try to be more visible!\")\n",
    "}\n"
   ]
  },
  {
   "cell_type": "markdown",
   "metadata": {},
   "source": [
    "### Else if 2.0\n",
    "\n",
    "You can do anything you want inside if-else constructs. You can even put\n",
    "in another set of conditional statements. Examine the following code\n",
    "chunk:\n",
    "\n",
    "    if (number < 10) {\n",
    "      if (number < 5) {\n",
    "        result <- \"extra small\"\n",
    "      } else {\n",
    "        result <- \"small\"\n",
    "      }\n",
    "    } else if (number < 100) {\n",
    "      result <- \"medium\"\n",
    "    } else {\n",
    "      result <- \"large\"\n",
    "    }\n",
    "    print(result)\n",
    "\n",
    "Have a look at the following statements:\n",
    "\n",
    "1.  If `number` is set to 6, \"small\" gets printed to the console.\n",
    "2.  If `number` is set to 100, R prints out \"medium\".\n",
    "3.  If `number` is set to 4, \"extra small\" gets printed out to the\n",
    "    console.\n",
    "4.  If `number` is set to 2500, R will generate an error, as `result`\n",
    "    will not be defined.\n",
    "\n",
    "Select the option that lists <u>all</u> the true statements.\n",
    "\n",
    "- [ ] 2 and 4\n",
    "- [ ] 1 and 4\n",
    "- [x] 1 and 3\n",
    "- [ ] 2 and 3\n",
    "\n",
    "### Take control!\n",
    "\n",
    "In this exercise, you will combine everything that you've learned so\n",
    "far: relational operators, logical operators and control constructs.\n",
    "You'll need it all!\n",
    "\n",
    "We've pre-defined two values for you: `li` and `fb`, denoting the number\n",
    "of profile views your LinkedIn and Facebook profile had on the last day\n",
    "of recordings. Go through the instructions to create R code that\n",
    "generates a 'social media score', `sms`, based on the values of `li` and\n",
    "`fb`.\n",
    "\n",
    "Finish the control-flow construct with the following behavior:\n",
    "\n",
    "-   If both `li` and `fb` are 15 or higher, set `sms` equal to double\n",
    "    the sum of `li` and `fb`.\n",
    "-   If both `li` and `fb` are strictly below 10, set `sms` equal to half\n",
    "    the sum of `li` and `fb`.\n",
    "-   In all other cases, set `sms` equal to `li + fb`.\n",
    "-   Finally, print the resulting `sms` variable.\n"
   ]
  },
  {
   "cell_type": "code",
   "execution_count": 11,
   "metadata": {},
   "outputs": [
    {
     "data": {
      "text/html": [
       "24"
      ],
      "text/latex": [
       "24"
      ],
      "text/markdown": [
       "24"
      ],
      "text/plain": [
       "[1] 24"
      ]
     },
     "metadata": {},
     "output_type": "display_data"
    }
   ],
   "source": [
    "# Variables related to your last day of recordings\n",
    "li <- 15\n",
    "fb <- 9\n",
    "\n",
    "# Code the control-flow construct\n",
    "if (li >= 15 & fb >= 15) {\n",
    "  sms <- 2 * (li + fb)\n",
    "} else if (li < 10 & fb < 10) {\n",
    "  sms <- 0.5 * (li + fb)\n",
    "} else {\n",
    "  sms <- li + fb\n",
    "}\n",
    "\n",
    "# Print the resulting sms to the console\n",
    "sms\n"
   ]
  },
  {
   "cell_type": "markdown",
   "metadata": {},
   "source": [
    "# Loops\n",
    "\n",
    "Loops can come in handy on numerous occasions. While loops are like repeated if statements, the for loop is designed to iterate over all elements in a sequence. Learn about them in this chapter.\n",
    "\n",
    "## While loop\n",
    "\n",
    "### Write a while loop\n",
    "\n",
    "Let's get you started with building a `while` loop from the ground up.\n",
    "Have another look at its recipe:\n",
    "\n",
    "    while (condition) {\n",
    "      expr\n",
    "    }\n",
    "\n",
    "Remember that the `condition` part of this recipe should become `FALSE`\n",
    "at some point during the execution. Otherwise, the `while` loop will go\n",
    "on indefinitely.\n",
    "\n",
    "*If your session expires when you run your code, check the body of your\n",
    "`while` loop carefully.*\n",
    "\n",
    "Have a look at the sample code provided; it initializes the `speed`\n",
    "variables and already provides a `while` loop template to get you\n",
    "started.\n",
    "\n",
    "Code a `while` loop with the following characteristics:\n",
    "\n",
    "-   The condition of the `while` loop should check if `speed` is higher\n",
    "    than 30.\n",
    "-   Inside the body of the `while` loop, print out `\"Slow down!\"`.\n",
    "-   Inside the body of the `while` loop, decrease the `speed` by 7 units\n",
    "    and assign this new value to `speed` again. This step is crucial;\n",
    "    otherwise your `while` loop will never stop and *your session will\n",
    "    expire*.\n",
    "\n",
    "***If your session expires when you run your code, check the body of\n",
    "your `while` loop carefully: it's likely that you made a mistake.***\n"
   ]
  },
  {
   "cell_type": "code",
   "execution_count": 12,
   "metadata": {},
   "outputs": [
    {
     "name": "stdout",
     "output_type": "stream",
     "text": [
      "[1] \"Slow down!\"\n",
      "[1] \"Slow down!\"\n",
      "[1] \"Slow down!\"\n",
      "[1] \"Slow down!\"\n",
      "[1] \"Slow down!\"\n"
     ]
    },
    {
     "data": {
      "text/html": [
       "29"
      ],
      "text/latex": [
       "29"
      ],
      "text/markdown": [
       "29"
      ],
      "text/plain": [
       "[1] 29"
      ]
     },
     "metadata": {},
     "output_type": "display_data"
    }
   ],
   "source": [
    "# Initialize the speed variable\n",
    "speed <- 64\n",
    "\n",
    "# Code the while loop\n",
    "while (speed > 30) {\n",
    "  print(\"Slow down!\")\n",
    "  speed <- speed - 7\n",
    "}\n",
    "\n",
    "# Print out the speed variable\n",
    "speed\n"
   ]
  },
  {
   "cell_type": "markdown",
   "metadata": {},
   "source": [
    "### Throw in more conditionals\n",
    "\n",
    "In the previous exercise, you simulated the interaction between a driver\n",
    "and a driver's assistant: When the speed was too high, \"Slow down!\" got\n",
    "printed out to the console, resulting in a decrease of your speed by 7\n",
    "units.\n",
    "\n",
    "There are several ways in which you could make your driver's assistant\n",
    "more advanced. For example, the assistant could give you different\n",
    "messages based on your speed or provide you with a current speed at a\n",
    "given moment.\n",
    "\n",
    "A `while` loop similar to the one you've coded in the previous exercise\n",
    "is already available for you to use. It prints out your current speed,\n",
    "but there's no code that decreases the `speed` variable yet, which is\n",
    "pretty dangerous. Can you make the appropriate changes?\n",
    "\n",
    "-   If the speed is greater than 48, have R print out \"Slow down big\n",
    "    time!\", and decrease the speed by `11`.\n",
    "-   Otherwise, have R simply print out \"Slow down!\", and decrease the\n",
    "    speed by `6`.\n",
    "\n",
    "If the session keeps timing out and throwing an error, you are probably\n",
    "stuck in an infinite loop! Check the body of your `while` loop and make\n",
    "sure you are assigning new values to `speed`.\n"
   ]
  },
  {
   "cell_type": "code",
   "execution_count": 13,
   "metadata": {},
   "outputs": [
    {
     "name": "stdout",
     "output_type": "stream",
     "text": [
      "[1] \"Your speed is 64\"\n",
      "[1] \"Slow down big time!\"\n",
      "[1] \"Your speed is 53\"\n",
      "[1] \"Slow down big time!\"\n",
      "[1] \"Your speed is 42\"\n",
      "[1] \"Slow down!\"\n",
      "[1] \"Your speed is 36\"\n",
      "[1] \"Slow down!\"\n"
     ]
    }
   ],
   "source": [
    "# Initialize the speed variable\n",
    "speed <- 64\n",
    "\n",
    "# Extend/adapt the while loop\n",
    "while (speed > 30) {\n",
    "  print(paste(\"Your speed is\", speed))\n",
    "  if (speed > 48) {\n",
    "    print(\"Slow down big time!\")\n",
    "    speed <- speed - 11\n",
    "  } else {\n",
    "    print(\"Slow down!\")\n",
    "    speed <- speed - 6\n",
    "  }\n",
    "}\n"
   ]
  },
  {
   "cell_type": "markdown",
   "metadata": {},
   "source": [
    "### Stop the while loop: break\n",
    "\n",
    "There are some very rare situations in which severe speeding is\n",
    "necessary: what if a hurricane is approaching and you have to get away\n",
    "as quickly as possible? You don't want the driver's assistant sending\n",
    "you speeding notifications in that scenario, right?\n",
    "\n",
    "This seems like a great opportunity to include the `break` statement in\n",
    "the `while` loop you've been working on. Remember that the `break`\n",
    "statement is a control statement. When R encounters it, the `while` loop\n",
    "is abandoned completely.\n",
    "\n",
    "Adapt the `while` loop such that it is abandoned when the `speed` of the\n",
    "vehicle is greater than 80. This time, the `speed` variable has been\n",
    "initialized to 88; keep it that way.\n"
   ]
  },
  {
   "cell_type": "code",
   "execution_count": 14,
   "metadata": {},
   "outputs": [
    {
     "name": "stdout",
     "output_type": "stream",
     "text": [
      "[1] \"Your speed is 88\"\n"
     ]
    }
   ],
   "source": [
    "# Initialize the speed variable\n",
    "speed <- 88\n",
    "\n",
    "while (speed > 30) {\n",
    "  print(paste(\"Your speed is\", speed))\n",
    "  \n",
    "  # Break the while loop when speed exceeds 80\n",
    "  if (speed > 80) {\n",
    "    break\n",
    "  }\n",
    "  \n",
    "  if (speed > 48) {\n",
    "    print(\"Slow down big time!\")\n",
    "    speed <- speed - 11\n",
    "  } else {\n",
    "    print(\"Slow down!\")\n",
    "    speed <- speed - 6\n",
    "  }\n",
    "}\n"
   ]
  },
  {
   "cell_type": "markdown",
   "metadata": {},
   "source": [
    "### Build a while loop from scratch\n",
    "\n",
    "The previous exercises guided you through developing a pretty advanced\n",
    "`while` loop, containing a `break` statement and different messages and\n",
    "updates as determined by control flow constructs. If you manage to solve\n",
    "this comprehensive exercise using a `while` loop, you're totally ready\n",
    "for the next topic: the `for` loop.\n",
    "\n",
    "Finish the `while` loop so that it:\n",
    "\n",
    "-   prints out the triple of `i`, so `3 * i`, at each run.\n",
    "-   is abandoned with a `break` if the triple of `i` is divisible by 8,\n",
    "    but still prints out this triple before breaking.\n"
   ]
  },
  {
   "cell_type": "code",
   "execution_count": 15,
   "metadata": {},
   "outputs": [
    {
     "name": "stdout",
     "output_type": "stream",
     "text": [
      "[1] 3\n",
      "[1] 6\n",
      "[1] 9\n",
      "[1] 12\n",
      "[1] 15\n",
      "[1] 18\n",
      "[1] 21\n",
      "[1] 24\n"
     ]
    }
   ],
   "source": [
    "# Initialize i as 1 \n",
    "i <- 1\n",
    "\n",
    "# Code the while loop\n",
    "while (i <= 10) {\n",
    "  print(3 * i)\n",
    "  if ( (3 * i) %% 8 == 0) {\n",
    "    break\n",
    "  }\n",
    "  i <- i + 1\n",
    "}\n"
   ]
  },
  {
   "cell_type": "markdown",
   "metadata": {},
   "source": [
    "## For loop\n",
    "\n",
    "### Loop over a vector\n",
    "\n",
    "In the previous video, Filip told you about two different strategies for\n",
    "using the `for` loop. To refresh your memory, consider the following\n",
    "loops that are equivalent in R:\n",
    "\n",
    "    primes <- c(2, 3, 5, 7, 11, 13)\n",
    "\n",
    "    # loop version 1\n",
    "    for (p in primes) {\n",
    "      print(p)\n",
    "    }\n",
    "\n",
    "    # loop version 2\n",
    "    for (i in 1:length(primes)) {\n",
    "      print(primes[i])\n",
    "    }\n",
    "\n",
    "Remember our `linkedin` vector? It's a vector that contains the number\n",
    "of views your LinkedIn profile had in the last seven days. The\n",
    "`linkedin` vector has been pre-defined so that you can fully focus on\n",
    "the instructions!\n",
    "\n",
    "Write a `for` loop that iterates over all the elements of `linkedin` and\n",
    "prints out every element separately. Do this in two ways: using the\n",
    "*loop version 1* and the *loop version 2* in the example code above.\n"
   ]
  },
  {
   "cell_type": "code",
   "execution_count": 16,
   "metadata": {},
   "outputs": [
    {
     "name": "stdout",
     "output_type": "stream",
     "text": [
      "[1] 16\n",
      "[1] 9\n",
      "[1] 13\n",
      "[1] 5\n",
      "[1] 2\n",
      "[1] 17\n",
      "[1] 14\n",
      "[1] 16\n",
      "[1] 9\n",
      "[1] 13\n",
      "[1] 5\n",
      "[1] 2\n",
      "[1] 17\n",
      "[1] 14\n"
     ]
    }
   ],
   "source": [
    "# The linkedin vector has already been defined for you\n",
    "linkedin <- c(16, 9, 13, 5, 2, 17, 14)\n",
    "\n",
    "# Loop version 1\n",
    "for (li in linkedin) {\n",
    "  print(li)\n",
    "}\n",
    "\n",
    "# Loop version 2\n",
    "for (i in 1:length(linkedin)) {\n",
    "  print(linkedin[i])\n",
    "}\n"
   ]
  },
  {
   "cell_type": "markdown",
   "metadata": {},
   "source": [
    "### Loop over a list\n",
    "\n",
    "Looping over a list is just as easy and convenient as looping over a\n",
    "vector. There are again two different approaches here:\n",
    "\n",
    "    primes_list <- list(2, 3, 5, 7, 11, 13)\n",
    "\n",
    "    # loop version 1\n",
    "    for (p in primes_list) {\n",
    "      print(p)\n",
    "    }\n",
    "\n",
    "    # loop version 2\n",
    "    for (i in 1:length(primes_list)) {\n",
    "      print(primes_list[[i]])\n",
    "    }\n",
    "\n",
    "Notice that you need double square brackets - `[[ ]]` - to select the\n",
    "list elements in loop version 2.\n",
    "\n",
    "Suppose you have a list of all sorts of information on New York City:\n",
    "its population size, the names of the boroughs, and whether it is the\n",
    "capital of the United States. We've already defined a list `nyc`\n",
    "containing this information (source: Wikipedia).\n",
    "\n",
    "As in the previous exercise, loop over the `nyc` list in two different\n",
    "ways to print its elements:\n",
    "\n",
    "-   Loop directly over the `nyc` list (loop version 1).\n",
    "-   Define a looping index and do subsetting using double brackets (loop\n",
    "    version 2).\n"
   ]
  },
  {
   "cell_type": "code",
   "execution_count": 17,
   "metadata": {},
   "outputs": [
    {
     "name": "stdout",
     "output_type": "stream",
     "text": [
      "[1] 8405837\n",
      "[1] \"Manhattan\"     \"Bronx\"         \"Brooklyn\"      \"Queens\"       \n",
      "[5] \"Staten Island\"\n",
      "[1] FALSE\n",
      "[1] 8405837\n",
      "[1] \"Manhattan\"     \"Bronx\"         \"Brooklyn\"      \"Queens\"       \n",
      "[5] \"Staten Island\"\n",
      "[1] FALSE\n"
     ]
    }
   ],
   "source": [
    "# The nyc list is already specified\n",
    "nyc <- list(pop = 8405837, \n",
    "            boroughs = c(\"Manhattan\", \"Bronx\", \"Brooklyn\", \"Queens\", \"Staten Island\"), \n",
    "            capital = FALSE)\n",
    "\n",
    "# Loop version 1\n",
    "for (info in nyc) {\n",
    "  print(info)\n",
    "}\n",
    "\n",
    "# Loop version 2\n",
    "for (i in 1:length(nyc)) {\n",
    "  print(nyc[[i]])\n",
    "}\n"
   ]
  },
  {
   "cell_type": "markdown",
   "metadata": {},
   "source": [
    "### Loop over a matrix\n",
    "\n",
    "In your workspace, there's a matrix `ttt`, that represents the status of\n",
    "a [tic-tac-toe](https://en.wikipedia.org/wiki/Tic-tac-toe) game. It\n",
    "contains the values \"X\", \"O\" and \"NA\". Print out `ttt` to get a closer\n",
    "look. On row 1 and column 1, there's \"O\", while on row 3 and column 2\n",
    "there's \"NA\".\n",
    "\n",
    "To solve this exercise, you'll need a `for` loop inside a `for` loop,\n",
    "often called a nested loop. Doing this in R is a breeze! Simply use the\n",
    "following recipe:\n",
    "\n",
    "    for (var1 in seq1) {\n",
    "      for (var2 in seq2) {\n",
    "        expr\n",
    "      }\n",
    "    }\n",
    "\n",
    "Finish the nested `for` loops to go over the elements in `ttt`:\n",
    "\n",
    "-   The outer loop should loop over the rows, with loop index `i` (use\n",
    "    `1:nrow(ttt)`).\n",
    "-   The inner loop should loop over the columns, with loop index `j`\n",
    "    (use `1:ncol(ttt)`).\n",
    "-   Inside the inner loop, make use of `print()` and `paste()` to print\n",
    "    out information in the following format: \"On row i and column j the\n",
    "    board contains x\", where `x` is the value on that position.\n"
   ]
  },
  {
   "cell_type": "code",
   "execution_count": 18,
   "metadata": {},
   "outputs": [
    {
     "name": "stdout",
     "output_type": "stream",
     "text": [
      "[1] \"On row 1 and column 1 the board contains O\"\n",
      "[1] \"On row 1 and column 2 the board contains NA\"\n",
      "[1] \"On row 1 and column 3 the board contains X\"\n",
      "[1] \"On row 2 and column 1 the board contains NA\"\n",
      "[1] \"On row 2 and column 2 the board contains O\"\n",
      "[1] \"On row 2 and column 3 the board contains NA\"\n",
      "[1] \"On row 3 and column 1 the board contains X\"\n",
      "[1] \"On row 3 and column 2 the board contains O\"\n",
      "[1] \"On row 3 and column 3 the board contains X\"\n"
     ]
    }
   ],
   "source": [
    "# edited/added\n",
    "ttt=matrix(c(\"O\",NA,\"X\",NA,\"O\",\"O\",\"X\",NA,\"X\"),3,3)\n",
    "\n",
    "# The tic-tac-toe matrix ttt has already been defined for you\n",
    "\n",
    "# define the double for loop\n",
    "for (i in 1:nrow(ttt)) {\n",
    "  for (j in 1:ncol(ttt)) {\n",
    "    print(paste(\"On row\", i, \"and column\", j, \"the board contains\", ttt[i,j]))\n",
    "  }\n",
    "}\n"
   ]
  },
  {
   "cell_type": "markdown",
   "metadata": {},
   "source": [
    "### Mix it up with control flow\n",
    "\n",
    "Let's return to the *LinkedIn* profile views data, stored in a vector\n",
    "`linkedin`. In the first exercise on `for` loops you already did a\n",
    "simple printout of each element in this vector. A little more in-depth\n",
    "interpretation of this data wouldn't hurt, right? Time to throw in some\n",
    "conditionals! As with the `while` loop, you can use the `if` and `else`\n",
    "statements inside the `for` loop.\n",
    "\n",
    "Add code to the `for` loop that loops over the elements of the\n",
    "`linkedin` vector:\n",
    "\n",
    "-   If the vector element's value exceeds 10, print out \"You're\n",
    "    popular!\".\n",
    "-   If the vector element's value does not exceed 10, print out \"Be more\n",
    "    visible!\"\n"
   ]
  },
  {
   "cell_type": "code",
   "execution_count": 19,
   "metadata": {},
   "outputs": [
    {
     "name": "stdout",
     "output_type": "stream",
     "text": [
      "[1] \"You're popular!\"\n",
      "[1] 16\n",
      "[1] \"Be more visible!\"\n",
      "[1] 9\n",
      "[1] \"You're popular!\"\n",
      "[1] 13\n",
      "[1] \"Be more visible!\"\n",
      "[1] 5\n",
      "[1] \"Be more visible!\"\n",
      "[1] 2\n",
      "[1] \"You're popular!\"\n",
      "[1] 17\n",
      "[1] \"You're popular!\"\n",
      "[1] 14\n"
     ]
    }
   ],
   "source": [
    "# The linkedin vector has already been defined for you\n",
    "linkedin <- c(16, 9, 13, 5, 2, 17, 14)\n",
    "\n",
    "# Code the for loop with conditionals\n",
    "for (li in linkedin) {\n",
    "  if (li > 10) {\n",
    "    print(\"You're popular!\")\n",
    "  } else {\n",
    "    print(\"Be more visible!\")\n",
    "  }\n",
    "  print(li)\n",
    "}\n"
   ]
  },
  {
   "cell_type": "markdown",
   "metadata": {},
   "source": [
    "### Next, you break it\n",
    "\n",
    "A possible solution to the previous exercise has been provided for you.\n",
    "The code loops over the `linkedin` vector and prints out different\n",
    "messages depending on the values of `li`.\n",
    "\n",
    "In this exercise, you will use the `break` and `next` statements:\n",
    "\n",
    "-   The `break` statement abandons the active loop: the remaining code\n",
    "    in the loop is skipped and the loop is not iterated over anymore.\n",
    "-   The `next` statement skips the remainder of the code in the loop,\n",
    "    but continues the iteration.\n",
    "\n",
    "Extend the `for` loop with two new, separate `if` tests as follows:\n",
    "\n",
    "-   If the vector element's value exceeds 16, print out \"This is\n",
    "    ridiculous, I'm outta here!\" and have R abandon the `for` loop\n",
    "    (`break`).\n",
    "-   If the value is lower than 5, print out \"This is too embarrassing!\"\n",
    "    and fast-forward to the next iteration (`next`).\n"
   ]
  },
  {
   "cell_type": "code",
   "execution_count": 20,
   "metadata": {},
   "outputs": [
    {
     "name": "stdout",
     "output_type": "stream",
     "text": [
      "[1] \"You're popular!\"\n",
      "[1] 16\n",
      "[1] \"Be more visible!\"\n",
      "[1] 9\n",
      "[1] \"You're popular!\"\n",
      "[1] 13\n",
      "[1] \"Be more visible!\"\n",
      "[1] 5\n",
      "[1] \"Be more visible!\"\n",
      "[1] \"This is too embarrassing!\"\n",
      "[1] \"You're popular!\"\n",
      "[1] \"This is ridiculous, I'm outta here!\"\n"
     ]
    }
   ],
   "source": [
    "# The linkedin vector has already been defined for you\n",
    "linkedin <- c(16, 9, 13, 5, 2, 17, 14)\n",
    "\n",
    "# Adapt/extend the for loop\n",
    "for (li in linkedin) {\n",
    "  if (li > 10) {\n",
    "    print(\"You're popular!\")\n",
    "  } else {\n",
    "    print(\"Be more visible!\")\n",
    "  }\n",
    "  \n",
    "  # Add if statement with break\n",
    "  if (li > 16) {\n",
    "    print(\"This is ridiculous, I'm outta here!\")\n",
    "    break\n",
    "  }\n",
    "  \n",
    "  # Add if statement with next\n",
    "  if (li < 5) {\n",
    "    print(\"This is too embarrassing!\")\n",
    "    next\n",
    "  }\n",
    "  \n",
    "  print(li)\n",
    "}\n"
   ]
  },
  {
   "cell_type": "markdown",
   "metadata": {},
   "source": [
    "### Build a for loop from scratch\n",
    "\n",
    "This exercise will not introduce any new concepts on `for` loops.\n",
    "\n",
    "We already went ahead and defined a variable `rquote`. This variable has\n",
    "been split up into a vector that contains separate letters and has been\n",
    "stored in a vector `chars` with the\n",
    "[`strsplit()`](https://www.rdocumentation.org/packages/base/functions/strsplit)\n",
    "function.\n",
    "\n",
    "Can you write code that counts the number of r's that come before the\n",
    "first u in `rquote`?\n",
    "\n",
    "-   Initialize the variable `rcount`, as 0.\n",
    "-   Finish the `for` loop:\n",
    "-   if `char` equals `\"r\"`, increase the value of `rcount` by 1.\n",
    "-   if `char` equals `\"u\"`, leave the `for` loop entirely with a\n",
    "    `break`.\n",
    "-   Finally, print out the variable `rcount` to the console to see if\n",
    "    your code is correct.\n"
   ]
  },
  {
   "cell_type": "code",
   "execution_count": 21,
   "metadata": {},
   "outputs": [
    {
     "data": {
      "text/html": [
       "5"
      ],
      "text/latex": [
       "5"
      ],
      "text/markdown": [
       "5"
      ],
      "text/plain": [
       "[1] 5"
      ]
     },
     "metadata": {},
     "output_type": "display_data"
    }
   ],
   "source": [
    "# Pre-defined variables\n",
    "rquote <- \"r's internals are irrefutably intriguing\"\n",
    "chars <- strsplit(rquote, split = \"\")[[1]]\n",
    "\n",
    "# Initialize rcount\n",
    "rcount <- 0\n",
    "\n",
    "# Finish the for loop\n",
    "for (char in chars) {\n",
    "  if (char == \"r\") {\n",
    "    rcount <- rcount + 1\n",
    "  }\n",
    "  if (char == \"u\") {\n",
    "    break\n",
    "  }\n",
    "}\n",
    "\n",
    "# Print out rcount\n",
    "rcount\n"
   ]
  },
  {
   "cell_type": "markdown",
   "metadata": {},
   "source": [
    "# Functions\n",
    "\n",
    "Functions are an extremely important concept in almost every programming language, and R is no different. Learn what functions are and how to use them—then take charge by writing your own functions.\n",
    "\n",
    "## Introduction to Functions\n",
    "\n",
    "### Function documentation\n",
    "\n",
    "Before even thinking of using an R function, you should clarify which\n",
    "arguments it expects. All the relevant details such as a description,\n",
    "usage, and arguments can be found in the documentation. To consult the\n",
    "documentation on the\n",
    "[`sample()`](https://www.rdocumentation.org/packages/base/functions/sample)\n",
    "function, for example, you can use one of following R commands:\n",
    "\n",
    "    help(sample)\n",
    "    ?sample\n",
    "\n",
    "If you execute these commands, you'll be redirected to\n",
    "www.rdocumentation.org.\n",
    "\n",
    "A quick hack to see the arguments of the\n",
    "[`sample()`](https://www.rdocumentation.org/packages/base/functions/sample)\n",
    "function is the\n",
    "[`args()`](https://www.rdocumentation.org/packages/base/functions/args)\n",
    "function. Try it out in the console:\n",
    "\n",
    "    args(sample)\n",
    "\n",
    "In the next exercises, you'll be learning how to use the\n",
    "[`mean()`](https://www.rdocumentation.org/packages/base/functions/mean)\n",
    "function with increasing complexity. The first thing you'll have to do\n",
    "is get acquainted with the\n",
    "[`mean()`](https://www.rdocumentation.org/packages/base/functions/mean)\n",
    "function.\n",
    "\n",
    "-   Consult the documentation on the\n",
    "    [`mean()`](https://www.rdocumentation.org/packages/base/functions/mean)\n",
    "    function: `?mean` or `help(mean)`.\n",
    "-   Inspect the arguments of the\n",
    "    [`mean()`](https://www.rdocumentation.org/packages/base/functions/mean)\n",
    "    function using the\n",
    "    [`args()`](https://www.rdocumentation.org/packages/base/functions/args)\n",
    "    function.\n"
   ]
  },
  {
   "cell_type": "code",
   "execution_count": 22,
   "metadata": {},
   "outputs": [
    {
     "data": {
      "text/html": [
       "<pre class=language-r><code>function (x, ...) \n",
       "NULL</code></pre>"
      ],
      "text/latex": [
       "\\begin{minted}{r}\n",
       "function (x, ...) \n",
       "NULL\n",
       "\\end{minted}"
      ],
      "text/markdown": [
       "```r\n",
       "function (x, ...) \n",
       "NULL\n",
       "```"
      ],
      "text/plain": [
       "function (x, ...) \n",
       "NULL"
      ]
     },
     "metadata": {},
     "output_type": "display_data"
    },
    {
     "data": {
      "text/html": [
       "\n",
       "<table style=\"width: 100%;\"><tr><td>mean {base}</td><td style=\"text-align: right;\">R Documentation</td></tr></table>\n",
       "\n",
       "<h2>Arithmetic Mean</h2>\n",
       "\n",
       "<h3>Description</h3>\n",
       "\n",
       "<p>Generic function for the (trimmed) arithmetic mean.\n",
       "</p>\n",
       "\n",
       "\n",
       "<h3>Usage</h3>\n",
       "\n",
       "<pre><code class='language-R'>mean(x, ...)\n",
       "\n",
       "## Default S3 method:\n",
       "mean(x, trim = 0, na.rm = FALSE, ...)\n",
       "</code></pre>\n",
       "\n",
       "\n",
       "<h3>Arguments</h3>\n",
       "\n",
       "<table>\n",
       "<tr style=\"vertical-align: top;\"><td><code>x</code></td>\n",
       "<td>\n",
       "<p>An <span style=\"font-family: Courier New, Courier; color: #666666;\"><b>R</b></span> object.  Currently there are methods for\n",
       "numeric/logical vectors and date,\n",
       "date-time and time interval objects.  Complex vectors\n",
       "are allowed for <code>trim = 0</code>, only.</p>\n",
       "</td></tr>\n",
       "<tr style=\"vertical-align: top;\"><td><code>trim</code></td>\n",
       "<td>\n",
       "<p>the fraction (0 to 0.5) of observations to be\n",
       "trimmed from each end of <code>x</code> before the mean is computed.\n",
       "Values of trim outside that range are taken as the nearest endpoint.\n",
       "</p>\n",
       "</td></tr>\n",
       "<tr style=\"vertical-align: top;\"><td><code>na.rm</code></td>\n",
       "<td>\n",
       "<p>a logical evaluating to <code>TRUE</code> or <code>FALSE</code>\n",
       "indicating whether <code>NA</code> values should be stripped before the\n",
       "computation proceeds.</p>\n",
       "</td></tr> \n",
       "<tr style=\"vertical-align: top;\"><td><code>...</code></td>\n",
       "<td>\n",
       "<p>further arguments passed to or from other methods.</p>\n",
       "</td></tr>\n",
       "</table>\n",
       "\n",
       "\n",
       "<h3>Value</h3>\n",
       "\n",
       "<p>If <code>trim</code> is zero (the default), the arithmetic mean of the\n",
       "values in <code>x</code> is computed, as a numeric or complex vector of\n",
       "length one.  If <code>x</code> is not logical (coerced to numeric), numeric\n",
       "(including integer) or complex, <code>NA_real_</code> is returned, with a warning.\n",
       "</p>\n",
       "<p>If <code>trim</code> is non-zero, a symmetrically trimmed mean is computed\n",
       "with a fraction of <code>trim</code> observations deleted from each end\n",
       "before the mean is computed.\n",
       "</p>\n",
       "\n",
       "\n",
       "<h3>References</h3>\n",
       "\n",
       "<p>Becker, R. A., Chambers, J. M. and Wilks, A. R. (1988)\n",
       "<em>The New S Language</em>.\n",
       "Wadsworth &amp; Brooks/Cole.\n",
       "</p>\n",
       "\n",
       "\n",
       "<h3>See Also</h3>\n",
       "\n",
       "<p><code>weighted.mean</code>, <code>mean.POSIXct</code>,\n",
       "<code>colMeans</code> for row and column means.\n",
       "</p>\n",
       "\n",
       "\n",
       "<h3>Examples</h3>\n",
       "\n",
       "<pre><code class='language-R'>x &lt;- c(0:10, 50)\n",
       "xm &lt;- mean(x)\n",
       "c(xm, mean(x, trim = 0.10))\n",
       "</code></pre>\n",
       "\n",
       "<hr /><div style=\"text-align: center;\">[Package <em>base</em> version 4.2.2 ]</div>\n",
       "</div>"
      ],
      "text/latex": [
       "\\inputencoding{utf8}\n",
       "\\HeaderA{mean}{Arithmetic Mean}{mean}\n",
       "\\methaliasA{mean.default}{mean}{mean.default}\n",
       "\\keyword{univar}{mean}\n",
       "%\n",
       "\\begin{Description}\\relax\n",
       "Generic function for the (trimmed) arithmetic mean.\n",
       "\\end{Description}\n",
       "%\n",
       "\\begin{Usage}\n",
       "\\begin{verbatim}\n",
       "mean(x, ...)\n",
       "\n",
       "## Default S3 method:\n",
       "mean(x, trim = 0, na.rm = FALSE, ...)\n",
       "\\end{verbatim}\n",
       "\\end{Usage}\n",
       "%\n",
       "\\begin{Arguments}\n",
       "\\begin{ldescription}\n",
       "\\item[\\code{x}] An \\R{} object.  Currently there are methods for\n",
       "numeric/logical vectors and \\LinkA{date}{Dates},\n",
       "\\LinkA{date-time}{date.Rdash.time} and \\LinkA{time interval}{time interval} objects.  Complex vectors\n",
       "are allowed for \\code{trim = 0}, only.\n",
       "\\item[\\code{trim}] the fraction (0 to 0.5) of observations to be\n",
       "trimmed from each end of \\code{x} before the mean is computed.\n",
       "Values of trim outside that range are taken as the nearest endpoint.\n",
       "\n",
       "\\item[\\code{na.rm}] a logical evaluating to \\code{TRUE} or \\code{FALSE}\n",
       "indicating whether \\code{NA} values should be stripped before the\n",
       "computation proceeds.\n",
       "\\item[\\code{...}] further arguments passed to or from other methods.\n",
       "\\end{ldescription}\n",
       "\\end{Arguments}\n",
       "%\n",
       "\\begin{Value}\n",
       "If \\code{trim} is zero (the default), the arithmetic mean of the\n",
       "values in \\code{x} is computed, as a numeric or complex vector of\n",
       "length one.  If \\code{x} is not logical (coerced to numeric), numeric\n",
       "(including integer) or complex, \\code{NA\\_real\\_} is returned, with a warning.\n",
       "\n",
       "If \\code{trim} is non-zero, a symmetrically trimmed mean is computed\n",
       "with a fraction of \\code{trim} observations deleted from each end\n",
       "before the mean is computed.\n",
       "\\end{Value}\n",
       "%\n",
       "\\begin{References}\\relax\n",
       "Becker, R. A., Chambers, J. M. and Wilks, A. R. (1988)\n",
       "\\emph{The New S Language}.\n",
       "Wadsworth \\& Brooks/Cole.\n",
       "\\end{References}\n",
       "%\n",
       "\\begin{SeeAlso}\\relax\n",
       "\\code{\\LinkA{weighted.mean}{weighted.mean}}, \\code{\\LinkA{mean.POSIXct}{mean.POSIXct}},\n",
       "\\code{\\LinkA{colMeans}{colMeans}} for row and column means.\n",
       "\\end{SeeAlso}\n",
       "%\n",
       "\\begin{Examples}\n",
       "\\begin{ExampleCode}\n",
       "x <- c(0:10, 50)\n",
       "xm <- mean(x)\n",
       "c(xm, mean(x, trim = 0.10))\n",
       "\\end{ExampleCode}\n",
       "\\end{Examples}"
      ],
      "text/plain": [
       "mean                   package:base                    R Documentation\n",
       "\n",
       "_\bA_\br_\bi_\bt_\bh_\bm_\be_\bt_\bi_\bc _\bM_\be_\ba_\bn\n",
       "\n",
       "_\bD_\be_\bs_\bc_\br_\bi_\bp_\bt_\bi_\bo_\bn:\n",
       "\n",
       "     Generic function for the (trimmed) arithmetic mean.\n",
       "\n",
       "_\bU_\bs_\ba_\bg_\be:\n",
       "\n",
       "     mean(x, ...)\n",
       "     \n",
       "     ## Default S3 method:\n",
       "     mean(x, trim = 0, na.rm = FALSE, ...)\n",
       "     \n",
       "_\bA_\br_\bg_\bu_\bm_\be_\bn_\bt_\bs:\n",
       "\n",
       "       x: An R object.  Currently there are methods for numeric/logical\n",
       "          vectors and date, date-time and time interval objects.\n",
       "          Complex vectors are allowed for ‘trim = 0’, only.\n",
       "\n",
       "    trim: the fraction (0 to 0.5) of observations to be trimmed from\n",
       "          each end of ‘x’ before the mean is computed.  Values of trim\n",
       "          outside that range are taken as the nearest endpoint.\n",
       "\n",
       "   na.rm: a logical evaluating to ‘TRUE’ or ‘FALSE’ indicating whether\n",
       "          ‘NA’ values should be stripped before the computation\n",
       "          proceeds.\n",
       "\n",
       "     ...: further arguments passed to or from other methods.\n",
       "\n",
       "_\bV_\ba_\bl_\bu_\be:\n",
       "\n",
       "     If ‘trim’ is zero (the default), the arithmetic mean of the values\n",
       "     in ‘x’ is computed, as a numeric or complex vector of length one.\n",
       "     If ‘x’ is not logical (coerced to numeric), numeric (including\n",
       "     integer) or complex, ‘NA_real_’ is returned, with a warning.\n",
       "\n",
       "     If ‘trim’ is non-zero, a symmetrically trimmed mean is computed\n",
       "     with a fraction of ‘trim’ observations deleted from each end\n",
       "     before the mean is computed.\n",
       "\n",
       "_\bR_\be_\bf_\be_\br_\be_\bn_\bc_\be_\bs:\n",
       "\n",
       "     Becker, R. A., Chambers, J. M. and Wilks, A. R. (1988) _The New S\n",
       "     Language_.  Wadsworth & Brooks/Cole.\n",
       "\n",
       "_\bS_\be_\be _\bA_\bl_\bs_\bo:\n",
       "\n",
       "     ‘weighted.mean’, ‘mean.POSIXct’, ‘colMeans’ for row and column\n",
       "     means.\n",
       "\n",
       "_\bE_\bx_\ba_\bm_\bp_\bl_\be_\bs:\n",
       "\n",
       "     x <- c(0:10, 50)\n",
       "     xm <- mean(x)\n",
       "     c(xm, mean(x, trim = 0.10))\n",
       "     "
      ]
     },
     "metadata": {},
     "output_type": "display_data"
    }
   ],
   "source": [
    "# Consult the documentation on the mean() function\n",
    "?mean\n",
    "help(mean)\n",
    "\n",
    "# Inspect the arguments of the mean() function\n",
    "args(mean)\n"
   ]
  },
  {
   "cell_type": "markdown",
   "metadata": {},
   "source": [
    "### Use a function\n",
    "\n",
    "The documentation on the\n",
    "[`mean()`](https://www.rdocumentation.org/packages/base/functions/mean)\n",
    "function gives us quite some information:\n",
    "\n",
    "-   The\n",
    "    [`mean()`](https://www.rdocumentation.org/packages/base/functions/mean)\n",
    "    function computes the arithmetic mean.\n",
    "-   The most general method takes multiple arguments: `x` and `...`.\n",
    "-   The `x` argument should be a vector containing numeric, logical or\n",
    "    time-related information.\n",
    "\n",
    "Remember that R can match arguments both by position and by name. Can\n",
    "you still remember the difference? You'll find out in this exercise!\n",
    "\n",
    "Once more, you'll be working with the view counts of your social network\n",
    "profiles for the past 7 days. These are stored in the `linkedin` and\n",
    "`facebook` vectors and have already been created for you.\n",
    "\n",
    "-   Calculate the average number of views for both `linkedin` and\n",
    "    `facebook` and assign the result to `avg_li` and `avg_fb`,\n",
    "    respectively. Experiment with different types of argument matching!\n",
    "-   Print out both `avg_li` and `avg_fb`.\n"
   ]
  },
  {
   "cell_type": "code",
   "execution_count": 23,
   "metadata": {},
   "outputs": [
    {
     "data": {
      "text/html": [
       "10.8571428571429"
      ],
      "text/latex": [
       "10.8571428571429"
      ],
      "text/markdown": [
       "10.8571428571429"
      ],
      "text/plain": [
       "[1] 10.85714"
      ]
     },
     "metadata": {},
     "output_type": "display_data"
    },
    {
     "data": {
      "text/html": [
       "11.4285714285714"
      ],
      "text/latex": [
       "11.4285714285714"
      ],
      "text/markdown": [
       "11.4285714285714"
      ],
      "text/plain": [
       "[1] 11.42857"
      ]
     },
     "metadata": {},
     "output_type": "display_data"
    }
   ],
   "source": [
    "# The linkedin and facebook vectors have already been created for you\n",
    "linkedin <- c(16, 9, 13, 5, 2, 17, 14)\n",
    "facebook <- c(17, 7, 5, 16, 8, 13, 14)\n",
    "\n",
    "# Calculate average number of views\n",
    "avg_li <- mean(x = linkedin)\n",
    "avg_fb <- mean(facebook)\n",
    "\n",
    "# Inspect avg_li and avg_fb\n",
    "avg_li\n",
    "avg_fb\n"
   ]
  },
  {
   "cell_type": "markdown",
   "metadata": {},
   "source": [
    "### Use a function (2)\n",
    "\n",
    "Check the documentation on the\n",
    "[`mean()`](https://www.rdocumentation.org/packages/base/functions/mean)\n",
    "function again:\n",
    "\n",
    "    ?mean\n",
    "\n",
    "The Usage section of the documentation includes two versions of the\n",
    "[`mean()`](https://www.rdocumentation.org/packages/base/functions/mean)\n",
    "function. The first usage,\n",
    "\n",
    "    mean(x, ...)\n",
    "\n",
    "is the most general usage of the mean function. The 'Default S3 method',\n",
    "however, is:\n",
    "\n",
    "    mean(x, trim = 0, na.rm = FALSE, ...)\n",
    "\n",
    "The `...` is called the ellipsis. It is a way for R to pass arguments\n",
    "along without the function having to name them explicitly. The ellipsis\n",
    "will be treated in more detail in future courses.\n",
    "\n",
    "For the remainder of this exercise, just work with the second usage of\n",
    "the mean function. Notice that both `trim` and `na.rm` have default\n",
    "values. This makes them **optional arguments**.\n",
    "\n",
    "-   Calculate the mean of the element-wise sum of `linkedin` and\n",
    "    `facebook` and store the result in a variable `avg_sum`.\n",
    "-   Calculate the mean once more, but this time set the `trim` argument\n",
    "    equal to 0.2 and assign the result to `avg_sum_trimmed`.\n",
    "-   Print out both `avg_sum` and `avg_sum_trimmed`; can you spot the\n",
    "    difference?\n"
   ]
  },
  {
   "cell_type": "code",
   "execution_count": 24,
   "metadata": {},
   "outputs": [
    {
     "data": {
      "text/html": [
       "22.2857142857143"
      ],
      "text/latex": [
       "22.2857142857143"
      ],
      "text/markdown": [
       "22.2857142857143"
      ],
      "text/plain": [
       "[1] 22.28571"
      ]
     },
     "metadata": {},
     "output_type": "display_data"
    },
    {
     "data": {
      "text/html": [
       "22.6"
      ],
      "text/latex": [
       "22.6"
      ],
      "text/markdown": [
       "22.6"
      ],
      "text/plain": [
       "[1] 22.6"
      ]
     },
     "metadata": {},
     "output_type": "display_data"
    }
   ],
   "source": [
    "# The linkedin and facebook vectors have already been created for you\n",
    "linkedin <- c(16, 9, 13, 5, 2, 17, 14)\n",
    "facebook <- c(17, 7, 5, 16, 8, 13, 14)\n",
    "\n",
    "# Calculate the mean of the sum\n",
    "avg_sum <- mean(linkedin + facebook)\n",
    "\n",
    "# Calculate the trimmed mean of the sum\n",
    "avg_sum_trimmed <- mean(linkedin + facebook, trim = 0.2)\n",
    "\n",
    "# Inspect both new variables\n",
    "avg_sum\n",
    "avg_sum_trimmed\n"
   ]
  },
  {
   "cell_type": "markdown",
   "metadata": {},
   "source": [
    "### Use a function (3)\n",
    "\n",
    "In the video, Filip guided you through the example of specifying\n",
    "arguments of the\n",
    "[`sd()`](https://www.rdocumentation.org/packages/stats/functions/sd)\n",
    "function. The\n",
    "[`sd()`](https://www.rdocumentation.org/packages/stats/functions/sd)\n",
    "function has an optional argument, `na.rm` that specified whether or not\n",
    "to remove missing values from the input vector before calculating the\n",
    "standard deviation.\n",
    "\n",
    "If you've had a good look at the documentation, you'll know by now that\n",
    "the\n",
    "[`mean()`](https://www.rdocumentation.org/packages/base/functions/mean)\n",
    "function also has this argument, `na.rm`, and it does the exact same\n",
    "thing. By default, it is set to `FALSE`, as the Usage of the default S3\n",
    "method shows:\n",
    "\n",
    "    mean(x, trim = 0, na.rm = FALSE, ...)\n",
    "\n",
    "Let's see what happens if your vectors `linkedin` and `facebook` contain\n",
    "missing values (`NA`).\n",
    "\n",
    "-   Calculate the average number of LinkedIn profile views, without\n",
    "    specifying any optional arguments. Simply print the result to the\n",
    "    console.\n",
    "-   Calculate the average number of LinkedIn profile views, but this\n",
    "    time tell R to strip missing values from the input vector.\n"
   ]
  },
  {
   "cell_type": "code",
   "execution_count": 25,
   "metadata": {},
   "outputs": [
    {
     "data": {
      "text/html": [
       "&lt;NA&gt;"
      ],
      "text/latex": [
       "<NA>"
      ],
      "text/markdown": [
       "&lt;NA&gt;"
      ],
      "text/plain": [
       "[1] NA"
      ]
     },
     "metadata": {},
     "output_type": "display_data"
    },
    {
     "data": {
      "text/html": [
       "12.3333333333333"
      ],
      "text/latex": [
       "12.3333333333333"
      ],
      "text/markdown": [
       "12.3333333333333"
      ],
      "text/plain": [
       "[1] 12.33333"
      ]
     },
     "metadata": {},
     "output_type": "display_data"
    }
   ],
   "source": [
    "# The linkedin and facebook vectors have already been created for you\n",
    "linkedin <- c(16, 9, 13, 5, NA, 17, 14)\n",
    "facebook <- c(17, NA, 5, 16, 8, 13, 14)\n",
    "\n",
    "# Basic average of linkedin\n",
    "mean(linkedin)\n",
    "\n",
    "# Advanced average of linkedin\n",
    "mean(linkedin, na.rm = TRUE)\n"
   ]
  },
  {
   "cell_type": "markdown",
   "metadata": {},
   "source": [
    "### Functions inside functions\n",
    "\n",
    "You already know that R functions return objects that you can then use\n",
    "somewhere else. This makes it easy to use functions inside functions, as\n",
    "you've seen before:\n",
    "\n",
    "    speed <- 31\n",
    "    print(paste(\"Your speed is\", speed))\n",
    "\n",
    "Notice that both the\n",
    "[`print()`](https://www.rdocumentation.org/packages/base/functions/print)\n",
    "and\n",
    "[`paste()`](https://www.rdocumentation.org/packages/base/functions/paste)\n",
    "functions use the ellipsis - `...` - as an argument. Can you figure out\n",
    "how they're used?\n",
    "\n",
    "Use `abs()` on `linkedin - facebook` to get the absolute differences\n",
    "between the daily LinkedIn and Facebook profile views. Place the call to\n",
    "`abs()` *inside* `mean()` to calculate the Mean Absolute Deviation. In\n",
    "the `mean()` call, make sure to specify `na.rm` to treat missing values\n",
    "correctly!\n"
   ]
  },
  {
   "cell_type": "code",
   "execution_count": 26,
   "metadata": {},
   "outputs": [
    {
     "data": {
      "text/html": [
       "4.8"
      ],
      "text/latex": [
       "4.8"
      ],
      "text/markdown": [
       "4.8"
      ],
      "text/plain": [
       "[1] 4.8"
      ]
     },
     "metadata": {},
     "output_type": "display_data"
    }
   ],
   "source": [
    "# The linkedin and facebook vectors have already been created for you\n",
    "linkedin <- c(16, 9, 13, 5, NA, 17, 14)\n",
    "facebook <- c(17, NA, 5, 16, 8, 13, 14)\n",
    "\n",
    "# Calculate the mean absolute deviation\n",
    "mean(abs(linkedin - facebook), na.rm = TRUE)\n"
   ]
  },
  {
   "cell_type": "markdown",
   "metadata": {},
   "source": [
    "### Required, or optional?\n",
    "\n",
    "By now, you will probably have a good understanding of the difference\n",
    "between required and optional arguments. Let's refresh this difference\n",
    "by having one last look at the\n",
    "[`mean()`](https://www.rdocumentation.org/packages/base/functions/mean)\n",
    "function:\n",
    "\n",
    "    mean(x, trim = 0, na.rm = FALSE, ...)\n",
    "\n",
    "`x` is required; if you do not specify it, R will throw an error. `trim`\n",
    "and `na.rm` are optional arguments: they have a default value which is\n",
    "used if the arguments are not explicitly specified.\n",
    "\n",
    "Which of the following statements about the\n",
    "[`read.table()`](https://www.rdocumentation.org/packages/utils/functions/read.table)\n",
    "function are true?\n",
    "\n",
    "1.  `header`, `sep` and `quote` are all optional arguments.\n",
    "2.  `row.names` and `fileEncoding` don't have default values.\n",
    "3.  `read.table(\"myfile.txt\", \"-\", TRUE)` will throw an error.\n",
    "4.  `read.table(\"myfile.txt\", sep = \"-\", header = TRUE)` will throw an\n",
    "    error.\n",
    "\n",
    "- [x] (1) and (3)\n",
    "- [ ] (2) and (4)\n",
    "- [ ] (1), (2), and (3)\n",
    "- [ ] (1), (2), and (4)\n",
    "\n",
    "## Writing Functions\n",
    "\n",
    "### Write your own function\n",
    "\n",
    "Wow, things are getting serious… you're about to write your own\n",
    "function! Before you have a go at it, have a look at the following\n",
    "function template:\n",
    "\n",
    "    my_fun <- function(arg1, arg2) {\n",
    "      body\n",
    "    }\n",
    "\n",
    "Notice that this recipe uses the assignment operator (`<-`) just as if\n",
    "you were assigning a vector to a variable for example. This is not a\n",
    "coincidence. Creating a function in R basically is the assignment of a\n",
    "function object to a variable! In the recipe above, you're creating a\n",
    "new R variable `my_fun`, that becomes available in the workspace as soon\n",
    "as you execute the definition. From then on, you can use the `my_fun` as\n",
    "a function.\n",
    "\n",
    "-   Create a function `pow_two()`: it takes one argument and returns\n",
    "    that number squared (that number times itself).\n",
    "-   Call this newly defined function with `12` as input.\n",
    "-   Next, create a function `sum_abs()`, that takes two arguments and\n",
    "    returns the sum of the absolute values of both arguments.\n",
    "-   Finally, call the function `sum_abs()` with arguments `-2` and `3`\n",
    "    afterwards.\n"
   ]
  },
  {
   "cell_type": "code",
   "execution_count": 27,
   "metadata": {},
   "outputs": [
    {
     "data": {
      "text/html": [
       "144"
      ],
      "text/latex": [
       "144"
      ],
      "text/markdown": [
       "144"
      ],
      "text/plain": [
       "[1] 144"
      ]
     },
     "metadata": {},
     "output_type": "display_data"
    },
    {
     "data": {
      "text/html": [
       "5"
      ],
      "text/latex": [
       "5"
      ],
      "text/markdown": [
       "5"
      ],
      "text/plain": [
       "[1] 5"
      ]
     },
     "metadata": {},
     "output_type": "display_data"
    }
   ],
   "source": [
    "# Create a function pow_two()\n",
    "pow_two <- function(x) {\n",
    "  x ^ 2\n",
    "}\n",
    "\n",
    "# Use the function\n",
    "pow_two(12)\n",
    "\n",
    "# Create a function sum_abs()\n",
    "sum_abs <- function(x, y) {\n",
    "  abs(x) + abs(y)\n",
    "}\n",
    "\n",
    "# Use the function\n",
    "sum_abs(-2, 3)\n"
   ]
  },
  {
   "cell_type": "markdown",
   "metadata": {},
   "source": [
    "### Write your own function (2)\n",
    "\n",
    "There are situations in which your function does not require an input.\n",
    "Let's say you want to write a function that gives us the random outcome\n",
    "of throwing a fair die:\n",
    "\n",
    "    throw_die <- function() {\n",
    "      number <- sample(1:6, size = 1)\n",
    "      number\n",
    "    }\n",
    "\n",
    "    throw_die()\n",
    "\n",
    "Up to you to code a function that doesn't take any arguments!\n",
    "\n",
    "-   Define a function, `hello()`. It prints out \"Hi there!\" and returns\n",
    "    `TRUE`. It has no arguments.\n",
    "-   Call the function `hello()`, without specifying arguments of course.\n"
   ]
  },
  {
   "cell_type": "code",
   "execution_count": 28,
   "metadata": {},
   "outputs": [
    {
     "name": "stdout",
     "output_type": "stream",
     "text": [
      "[1] \"Hi there!\"\n"
     ]
    },
    {
     "data": {
      "text/html": [
       "TRUE"
      ],
      "text/latex": [
       "TRUE"
      ],
      "text/markdown": [
       "TRUE"
      ],
      "text/plain": [
       "[1] TRUE"
      ]
     },
     "metadata": {},
     "output_type": "display_data"
    }
   ],
   "source": [
    "# Define the function hello()\n",
    "hello <- function() {\n",
    "  print(\"Hi there!\")\n",
    "  TRUE\n",
    "}\n",
    "\n",
    "# Call the function hello()\n",
    "hello()\n"
   ]
  },
  {
   "cell_type": "markdown",
   "metadata": {},
   "source": [
    "### Write your own function (3)\n",
    "\n",
    "Do you still remember the difference between an argument with and\n",
    "without default values? The usage section in the `sd()` documentation\n",
    "shows the following information:\n",
    "\n",
    "    sd(x, na.rm = FALSE)\n",
    "\n",
    "This tells us that `x` has to be defined for the `sd()` function to be\n",
    "called correctly, however, `na.rm` already has a default value. Not\n",
    "specifying this argument won't cause an error.\n",
    "\n",
    "You can define default argument values in your own R functions as well.\n",
    "You can use the following recipe to do so:\n",
    "\n",
    "    my_fun <- function(arg1, arg2 = val2) {\n",
    "      body\n",
    "    }\n",
    "\n",
    "The editor on the right already includes an extended version of the\n",
    "`pow_two()` function from before. Can you finish it?\n",
    "\n",
    "-   Add an optional argument, named `print_info`, that is `TRUE` by\n",
    "    default.\n",
    "-   Wrap an `if` construct around the `print()` function: this function\n",
    "    should only be executed if `print_info` is `TRUE`.\n",
    "-   Feel free to experiment with the `pow_two()` function you've just\n",
    "    coded.\n"
   ]
  },
  {
   "cell_type": "code",
   "execution_count": 29,
   "metadata": {},
   "outputs": [
    {
     "name": "stdout",
     "output_type": "stream",
     "text": [
      "[1] \"5 to the power two equals 25\"\n"
     ]
    },
    {
     "data": {
      "text/html": [
       "25"
      ],
      "text/latex": [
       "25"
      ],
      "text/markdown": [
       "25"
      ],
      "text/plain": [
       "[1] 25"
      ]
     },
     "metadata": {},
     "output_type": "display_data"
    },
    {
     "data": {
      "text/html": [
       "25"
      ],
      "text/latex": [
       "25"
      ],
      "text/markdown": [
       "25"
      ],
      "text/plain": [
       "[1] 25"
      ]
     },
     "metadata": {},
     "output_type": "display_data"
    },
    {
     "name": "stdout",
     "output_type": "stream",
     "text": [
      "[1] \"5 to the power two equals 25\"\n"
     ]
    },
    {
     "data": {
      "text/html": [
       "25"
      ],
      "text/latex": [
       "25"
      ],
      "text/markdown": [
       "25"
      ],
      "text/plain": [
       "[1] 25"
      ]
     },
     "metadata": {},
     "output_type": "display_data"
    }
   ],
   "source": [
    "# Finish the pow_two() function\n",
    "pow_two <- function(x, print_info = TRUE) {\n",
    "  y <- x ^ 2\n",
    "  if (print_info) {\n",
    "    print(paste(x, \"to the power two equals\", y))\n",
    "  }\n",
    "  return(y)\n",
    "}\n",
    "\n",
    "# Some calls of the pow_two() function\n",
    "pow_two(5)\n",
    "pow_two(5, FALSE)\n",
    "pow_two(5, TRUE)\n"
   ]
  },
  {
   "cell_type": "markdown",
   "metadata": {},
   "source": [
    "### Function scoping\n",
    "\n",
    "An issue that Filip did not discuss in the video is function scoping. It\n",
    "implies that variables that are defined inside a function are not\n",
    "accessible outside that function. Try running the following code and see\n",
    "if you understand the results:\n",
    "\n",
    "    pow_two <- function(x) {\n",
    "      y <- x ^ 2\n",
    "      return(y)\n",
    "    }\n",
    "    pow_two(4)\n",
    "    y\n",
    "    x\n",
    "\n",
    "`y` was defined inside the `pow_two()` function and therefore it is not\n",
    "accessible outside of that function. This is also true for the\n",
    "function's arguments of course - `x` in this case.\n",
    "\n",
    "Which statement is correct about the following chunk of code? The\n",
    "function `two_dice()` is already available in the workspace.\n",
    "\n",
    "    two_dice <- function() {\n",
    "      possibilities <- 1:6\n",
    "      dice1 <- sample(possibilities, size = 1)\n",
    "      dice2 <- sample(possibilities, size = 1)\n",
    "      dice1 + dice2\n",
    "    }\n",
    "\n",
    "- [ ] Executing `two_dice()` causes an error.\n",
    "- [ ] Executing `res <- two_dice()` makes the contents of `dice1` and `dice2` available outside the function.\n",
    "- [x] Whatever the way of calling the `two_dice()` function, R won't have access to `dice1` and `dice2` outside the function.\n",
    "\n",
    "### R passes arguments by value\n",
    "\n",
    "The title gives it away already: R passes arguments by value. What does\n",
    "this mean? Simply put, it means that an R function cannot change the\n",
    "variable that you input to that function. Let's look at a simple example\n",
    "(try it in the console):\n",
    "\n",
    "    triple <- function(x) {\n",
    "      x <- 3*x\n",
    "      x\n",
    "    }\n",
    "    a <- 5\n",
    "    triple(a)\n",
    "    a\n",
    "\n",
    "Inside the `triple()` function, the argument `x` gets overwritten with\n",
    "its value times three. Afterwards this new `x` is returned. If you call\n",
    "this function with a variable `a` set equal to 5, you obtain 15. But did\n",
    "the value of `a` change? If R were to pass `a` to `triple()` *by\n",
    "reference*, the override of the `x` *inside* the function would ripple\n",
    "through to the variable `a`, outside the function. However, R passes *by\n",
    "value*, so the R objects you pass to a function can never change unless\n",
    "you do an explicit assignment. `a` remains equal to 5, even after\n",
    "calling `triple(a)`.\n",
    "\n",
    "Can you tell which one of the following statements is <u>false</u> about\n",
    "the following piece of code?\n",
    "\n",
    "    increment <- function(x, inc = 1) {\n",
    "      x <- x + inc\n",
    "      x\n",
    "    }\n",
    "    count <- 5\n",
    "    a <- increment(count, 2)\n",
    "    b <- increment(count)\n",
    "    count <- increment(count, 2)\n",
    "\n",
    "- [ ] `a` and `b` equal 7 and 6 respectively after executing this code block.\n",
    "- [ ] After the first call of `increment()`, where `a` is defined, `a` equals 7 and `count` equals 5.\n",
    "- [x] In the end, `count` will equal 10.\n",
    "- [ ] In the last expression, the value of `count` was actually changed because of the explicit assignment.\n",
    "\n",
    "### R you functional?\n",
    "\n",
    "Now that you've acquired some skills in defining functions with\n",
    "different types of arguments and return values, you should try to create\n",
    "more advanced functions. As you've noticed in the previous exercises,\n",
    "it's perfectly possible to add control-flow constructs, loops and even\n",
    "other functions to your function body.\n",
    "\n",
    "Remember our social media example? The vectors `linkedin` and `facebook`\n",
    "are already defined in the workspace so you can get your hands dirty\n",
    "straight away. As a first step, you will be writing a function that can\n",
    "interpret a single value of this vector. In the next exercise, you will\n",
    "write another function that can handle an entire vector at once.\n",
    "\n",
    "-   Finish the function definition for `interpret()`, that interprets\n",
    "    the number of profile views on a single day:\n",
    "-   The function takes one argument, `num_views`.\n",
    "-   If `num_views` is greater than 15, the function prints out \"You're\n",
    "    popular!\" to the console and returns `num_views`.\n",
    "-   Else, the function prints out \"Try to be more visible!\" and returns\n",
    "    0.\n",
    "-   Finally, call the `interpret()` function twice: on the first value\n",
    "    of the `linkedin` vector and on the second element of the `facebook`\n",
    "    vector.\n"
   ]
  },
  {
   "cell_type": "code",
   "execution_count": 30,
   "metadata": {},
   "outputs": [
    {
     "name": "stdout",
     "output_type": "stream",
     "text": [
      "[1] \"You're popular!\"\n"
     ]
    },
    {
     "data": {
      "text/html": [
       "16"
      ],
      "text/latex": [
       "16"
      ],
      "text/markdown": [
       "16"
      ],
      "text/plain": [
       "[1] 16"
      ]
     },
     "metadata": {},
     "output_type": "display_data"
    },
    {
     "name": "stdout",
     "output_type": "stream",
     "text": [
      "[1] \"Try to be more visible!\"\n"
     ]
    },
    {
     "data": {
      "text/html": [
       "0"
      ],
      "text/latex": [
       "0"
      ],
      "text/markdown": [
       "0"
      ],
      "text/plain": [
       "[1] 0"
      ]
     },
     "metadata": {},
     "output_type": "display_data"
    }
   ],
   "source": [
    "# edited/added\n",
    "linkedin <- c(16, 9, 13, 5, 2, 17, 14)\n",
    "facebook <- c(17, 7, 5, 16, 8, 13, 14)\n",
    "\n",
    "# The linkedin and facebook vectors have already been created for you\n",
    "\n",
    "# Define the interpret function\n",
    "interpret <- function(num_views) {\n",
    "  if (num_views > 15) {\n",
    "    print(\"You're popular!\")\n",
    "    return(num_views)\n",
    "  } else {\n",
    "    print(\"Try to be more visible!\")\n",
    "    return(0)\n",
    "  }\n",
    "}\n",
    "\n",
    "# Call the interpret function twice\n",
    "interpret(linkedin[1])\n",
    "interpret(facebook[2])\n"
   ]
  },
  {
   "cell_type": "markdown",
   "metadata": {},
   "source": [
    "### R you functional? (2)\n",
    "\n",
    "A possible implementation of the `interpret()` function has been\n",
    "provided for you. In this exercise you'll be writing another function\n",
    "that will use the `interpret()` function to interpret *all* the data\n",
    "from your daily profile views inside a vector. Furthermore, your\n",
    "function will return the sum of views on popular days, if asked for. A\n",
    "`for` loop is ideal for iterating over all the vector elements. The\n",
    "ability to return the sum of views on popular days is something you can\n",
    "code through a function argument with a default value.\n",
    "\n",
    "Finish the template for the `interpret_all()` function:\n",
    "\n",
    "-   Make `return_sum` an optional argument, that is `TRUE` by default.\n",
    "-   Inside the `for` loop, iterate over all `views`: on every iteration,\n",
    "    add the result of `interpret(v)` to `count`. Remember that\n",
    "    `interpret(v)` returns `v` for popular days, and `0` otherwise. At\n",
    "    the same time, `interpret(v)` will also do some printouts.\n",
    "-   Finish the `if` construct:\n",
    "-   If `return_sum` is `TRUE`, return `count`.\n",
    "-   Else, return `NULL`.\n",
    "\n",
    "Call this newly defined function on both `linkedin` and `facebook`.\n"
   ]
  },
  {
   "cell_type": "code",
   "execution_count": 31,
   "metadata": {},
   "outputs": [
    {
     "name": "stdout",
     "output_type": "stream",
     "text": [
      "[1] \"You're popular!\"\n",
      "[1] \"Try to be more visible!\"\n",
      "[1] \"Try to be more visible!\"\n",
      "[1] \"Try to be more visible!\"\n",
      "[1] \"Try to be more visible!\"\n",
      "[1] \"You're popular!\"\n",
      "[1] \"Try to be more visible!\"\n"
     ]
    },
    {
     "data": {
      "text/html": [
       "33"
      ],
      "text/latex": [
       "33"
      ],
      "text/markdown": [
       "33"
      ],
      "text/plain": [
       "[1] 33"
      ]
     },
     "metadata": {},
     "output_type": "display_data"
    },
    {
     "name": "stdout",
     "output_type": "stream",
     "text": [
      "[1] \"You're popular!\"\n",
      "[1] \"Try to be more visible!\"\n",
      "[1] \"Try to be more visible!\"\n",
      "[1] \"You're popular!\"\n",
      "[1] \"Try to be more visible!\"\n",
      "[1] \"Try to be more visible!\"\n",
      "[1] \"Try to be more visible!\"\n"
     ]
    },
    {
     "data": {
      "text/html": [
       "33"
      ],
      "text/latex": [
       "33"
      ],
      "text/markdown": [
       "33"
      ],
      "text/plain": [
       "[1] 33"
      ]
     },
     "metadata": {},
     "output_type": "display_data"
    }
   ],
   "source": [
    "# The linkedin and facebook vectors have already been created for you\n",
    "linkedin <- c(16, 9, 13, 5, 2, 17, 14)\n",
    "facebook <- c(17, 7, 5, 16, 8, 13, 14)\n",
    "\n",
    "# The interpret() can be used inside interpret_all()\n",
    "interpret <- function(num_views) {\n",
    "  if (num_views > 15) {\n",
    "    print(\"You're popular!\")\n",
    "    return(num_views)\n",
    "  } else {\n",
    "    print(\"Try to be more visible!\")\n",
    "    return(0)\n",
    "  }\n",
    "}\n",
    "\n",
    "# Define the interpret_all() function\n",
    "# views: vector with data to interpret\n",
    "# return_sum: return total number of views on popular days?\n",
    "interpret_all <- function(views, return_sum = TRUE) {\n",
    "  count <- 0\n",
    "\n",
    "  for (v in views) {\n",
    "    count <- count + interpret(v)\n",
    "  }\n",
    "\n",
    "  if (return_sum) {\n",
    "    return(count)\n",
    "  } else {\n",
    "    return(NULL)\n",
    "  }\n",
    "}\n",
    "\n",
    "# Call the interpret_all() function on both linkedin and facebook\n",
    "interpret_all(linkedin)\n",
    "interpret_all(facebook)\n"
   ]
  },
  {
   "cell_type": "markdown",
   "metadata": {},
   "source": [
    "## R Packages\n",
    "\n",
    "### Load an R Package\n",
    "\n",
    "There are basically two extremely important functions when it comes down\n",
    "to R packages:\n",
    "\n",
    "-   [`install.packages()`](https://www.rdocumentation.org/packages/utils/functions/install.packages),\n",
    "    which as you can expect, installs a given package.\n",
    "-   [`library()`](https://www.rdocumentation.org/packages/base/functions/library)\n",
    "    which loads packages, i.e. attaches them to the search list on your\n",
    "    R workspace.\n",
    "\n",
    "To install packages, you need administrator privileges. This means that\n",
    "[`install.packages()`](https://www.rdocumentation.org/packages/utils/functions/install.packages)\n",
    "will thus not work in the DataCamp interface. However, almost all CRAN\n",
    "packages are installed on our servers. You can load them with\n",
    "[`library()`](https://www.rdocumentation.org/packages/base/functions/library).\n",
    "\n",
    "In this exercise, you'll be learning how to load the `ggplot2` package,\n",
    "a powerful package for data visualization. You'll use it to create a\n",
    "plot of two variables of the `mtcars` data frame. The data has already\n",
    "been prepared for you in the workspace.\n",
    "\n",
    "Before starting, execute the following commands in the console:\n",
    "\n",
    "-   `search()`, to look at the currently attached packages and\n",
    "-   `qplot(mtcars$wt, mtcars$hp)`, to build a plot of two variables of\n",
    "    the `mtcars` data frame.\n",
    "\n",
    "An error should occur, because you haven't loaded the `ggplot2` package\n",
    "yet!\n",
    "\n",
    "-   To fix the error you saw in the console, **load** the\n",
    "    [`ggplot2`](https://www.rdocumentation.org/packages/ggplot2)\n",
    "    package. Make sure you are *loading* (and not *installing*) the\n",
    "    package!\n",
    "-   Now, retry calling the\n",
    "    [`qplot()`](https://www.rdocumentation.org/packages/ggplot2/functions/qplot)\n",
    "    function with the same arguments.\n",
    "-   Finally, check out the currently attached packages again.\n"
   ]
  },
  {
   "cell_type": "code",
   "execution_count": 32,
   "metadata": {},
   "outputs": [
    {
     "name": "stderr",
     "output_type": "stream",
     "text": [
      "Warning message:\n",
      "“\u001b[1m\u001b[22m`qplot()` was deprecated in ggplot2 3.4.0.”\n"
     ]
    },
    {
     "data": {
      "text/html": [
       "<style>\n",
       ".list-inline {list-style: none; margin:0; padding: 0}\n",
       ".list-inline>li {display: inline-block}\n",
       ".list-inline>li:not(:last-child)::after {content: \"\\00b7\"; padding: 0 .5ex}\n",
       "</style>\n",
       "<ol class=list-inline><li>'.GlobalEnv'</li><li>'package:ggplot2'</li><li>'jupyter:irkernel'</li><li>'jupyter:irkernel'</li><li>'package:stats'</li><li>'package:graphics'</li><li>'package:grDevices'</li><li>'package:utils'</li><li>'package:datasets'</li><li>'package:methods'</li><li>'Autoloads'</li><li>'package:base'</li></ol>\n"
      ],
      "text/latex": [
       "\\begin{enumerate*}\n",
       "\\item '.GlobalEnv'\n",
       "\\item 'package:ggplot2'\n",
       "\\item 'jupyter:irkernel'\n",
       "\\item 'jupyter:irkernel'\n",
       "\\item 'package:stats'\n",
       "\\item 'package:graphics'\n",
       "\\item 'package:grDevices'\n",
       "\\item 'package:utils'\n",
       "\\item 'package:datasets'\n",
       "\\item 'package:methods'\n",
       "\\item 'Autoloads'\n",
       "\\item 'package:base'\n",
       "\\end{enumerate*}\n"
      ],
      "text/markdown": [
       "1. '.GlobalEnv'\n",
       "2. 'package:ggplot2'\n",
       "3. 'jupyter:irkernel'\n",
       "4. 'jupyter:irkernel'\n",
       "5. 'package:stats'\n",
       "6. 'package:graphics'\n",
       "7. 'package:grDevices'\n",
       "8. 'package:utils'\n",
       "9. 'package:datasets'\n",
       "10. 'package:methods'\n",
       "11. 'Autoloads'\n",
       "12. 'package:base'\n",
       "\n",
       "\n"
      ],
      "text/plain": [
       " [1] \".GlobalEnv\"        \"package:ggplot2\"   \"jupyter:irkernel\" \n",
       " [4] \"jupyter:irkernel\"  \"package:stats\"     \"package:graphics\" \n",
       " [7] \"package:grDevices\" \"package:utils\"     \"package:datasets\" \n",
       "[10] \"package:methods\"   \"Autoloads\"         \"package:base\"     "
      ]
     },
     "metadata": {},
     "output_type": "display_data"
    },
    {
     "data": {
      "image/png": "[encoded data removed]",
      "text/plain": [
       "plot without title"
      ]
     },
     "metadata": {
      "image/png": {
       "height": 420,
       "width": 420
      }
     },
     "output_type": "display_data"
    }
   ],
   "source": [
    "# Load the ggplot2 package\n",
    "library(\"ggplot2\")\n",
    "\n",
    "# Retry the qplot() function\n",
    "qplot(mtcars$wt, mtcars$hp)\n",
    "\n",
    "# Check out the currently attached packages again\n",
    "search()\n"
   ]
  },
  {
   "cell_type": "markdown",
   "metadata": {},
   "source": [
    "### Different ways to load a package\n",
    "\n",
    "The\n",
    "[`library()`](https://www.rdocumentation.org/packages/base/functions/library)\n",
    "and\n",
    "[`require()`](https://www.rdocumentation.org/packages/base/functions/library)\n",
    "functions are not very picky when it comes down to argument types: both\n",
    "`library(rjson)` and `library(\"rjson\")` work perfectly fine for loading\n",
    "a package.\n",
    "\n",
    "Have a look at some more code chunks that (attempt to) load one or more\n",
    "packages:\n",
    "\n",
    "    # Chunk 1\n",
    "    library(data.table)\n",
    "    require(rjson)\n",
    "\n",
    "    # Chunk 2\n",
    "    library(\"data.table\")\n",
    "    require(rjson)\n",
    "\n",
    "    # Chunk 3\n",
    "    library(data.table)\n",
    "    require(rjson, character.only = TRUE)\n",
    "\n",
    "    # Chunk 4\n",
    "    library(c(\"data.table\", \"rjson\"))\n",
    "\n",
    "Select the option that lists <u>all</u> of the chunks that do not\n",
    "generate an error. The console is yours to experiment in.\n",
    "\n",
    "- [ ] Only (1)\n",
    "- [x] (1) and (2)\n",
    "- [ ] (1), (2) and (3)\n",
    "- [ ] All of them are valid\n",
    "\n",
    "# The apply family\n",
    "\n",
    "Whenever you're using a for loop, you may want to revise your code to see whether you can use the lapply function instead. Learn all about this intuitive way of applying a function over a list or a vector, and how to use its variants, sapply and vapply.\n",
    "\n",
    "## lapply\n",
    "\n",
    "### Use lapply with a built-in R function\n",
    "\n",
    "Before you go about solving the exercises below, have a look at the\n",
    "documentation of the\n",
    "[`lapply()`](https://www.rdocumentation.org/packages/base/functions/lapply)\n",
    "function. The Usage section shows the following expression:\n",
    "\n",
    "    lapply(X, FUN, ...)\n",
    "\n",
    "To put it generally, `lapply` takes a vector or list `X`, and applies\n",
    "the function `FUN` to each of its members. If `FUN` requires additional\n",
    "arguments, you pass them after you've specified `X` and `FUN` (`...`).\n",
    "The output of `lapply()` is a list, the same length as `X`, where each\n",
    "element is the result of applying `FUN` on the corresponding element of\n",
    "`X`.\n",
    "\n",
    "Now that you are truly brushing up on your data science skills, let's\n",
    "revisit some of the most relevant figures in data science history. We've\n",
    "compiled a vector of famous mathematicians/statisticians and the year\n",
    "they were born. Up to you to extract some information!\n",
    "\n",
    "-   Have a look at the\n",
    "    [`strsplit()`](https://www.rdocumentation.org/packages/base/functions/strsplit)\n",
    "    calls, that splits the strings in `pioneers` on the `:` sign. The\n",
    "    result, `split_math` is a list of 4 character vectors: the first\n",
    "    vector element represents the name, the second element the birth\n",
    "    year.\n",
    "-   Use\n",
    "    [`lapply()`](https://www.rdocumentation.org/packages/base/functions/lapply)\n",
    "    to convert the character vectors in `split_math` to lowercase\n",
    "    letters: apply\n",
    "    [`tolower()`](https://www.rdocumentation.org/packages/base/functions/chartr)\n",
    "    on each of the elements in `split_math`. Assign the result, which is\n",
    "    a list, to a new variable `split_low`.\n",
    "-   Finally, inspect the contents of `split_low` with\n",
    "    [`str()`](https://www.rdocumentation.org/packages/utils/functions/str).\n"
   ]
  },
  {
   "cell_type": "code",
   "execution_count": 33,
   "metadata": {},
   "outputs": [
    {
     "name": "stdout",
     "output_type": "stream",
     "text": [
      "List of 4\n",
      " $ : chr [1:2] \"gauss\" \"1777\"\n",
      " $ : chr [1:2] \"bayes\" \"1702\"\n",
      " $ : chr [1:2] \"pascal\" \"1623\"\n",
      " $ : chr [1:2] \"pearson\" \"1857\"\n"
     ]
    }
   ],
   "source": [
    "# The vector pioneers has already been created for you\n",
    "pioneers <- c(\"GAUSS:1777\", \"BAYES:1702\", \"PASCAL:1623\", \"PEARSON:1857\")\n",
    "\n",
    "# Split names from birth year\n",
    "split_math <- strsplit(pioneers, split = \":\")\n",
    "\n",
    "# Convert to lowercase strings: split_low\n",
    "split_low <- lapply(split_math, tolower)\n",
    "\n",
    "# Take a look at the structure of split_low\n",
    "str(split_low)\n"
   ]
  },
  {
   "cell_type": "markdown",
   "metadata": {},
   "source": [
    "### Use lapply with your own function\n",
    "\n",
    "As Filip explained in the instructional video, you can use\n",
    "[`lapply()`](https://www.rdocumentation.org/packages/base/functions/lapply)\n",
    "on your own functions as well. You just need to code a new function and\n",
    "make sure it is available in the workspace. After that, you can use the\n",
    "function inside\n",
    "[`lapply()`](https://www.rdocumentation.org/packages/base/functions/lapply)\n",
    "just as you did with base R functions.\n",
    "\n",
    "In the previous exercise you already used\n",
    "[`lapply()`](https://www.rdocumentation.org/packages/base/functions/lapply)\n",
    "once to convert the information about your favorite pioneering\n",
    "statisticians to a list of vectors composed of two character strings.\n",
    "Let's write some code to select the names and the birth years\n",
    "separately.\n",
    "\n",
    "The sample code already includes code that defined `select_first()`,\n",
    "that takes a vector as input and returns the first element of this\n",
    "vector.\n",
    "\n",
    "-   Apply `select_first()` over the elements of `split_low` with\n",
    "    [`lapply()`](https://www.rdocumentation.org/packages/base/functions/lapply)\n",
    "    and assign the result to a new variable `names`.\n",
    "-   Next, write a function `select_second()` that does the exact same\n",
    "    thing for the second element of an inputted vector.\n",
    "-   Finally, apply the `select_second()` function over `split_low` and\n",
    "    assign the output to the variable `years`.\n"
   ]
  },
  {
   "cell_type": "code",
   "execution_count": 34,
   "metadata": {},
   "outputs": [],
   "source": [
    "# Code from previous exercise:\n",
    "pioneers <- c(\"GAUSS:1777\", \"BAYES:1702\", \"PASCAL:1623\", \"PEARSON:1857\")\n",
    "split <- strsplit(pioneers, split = \":\")\n",
    "split_low <- lapply(split, tolower)\n",
    "\n",
    "# Write function select_first()\n",
    "select_first <- function(x) {\n",
    "  x[1]\n",
    "}\n",
    "\n",
    "# Apply select_first() over split_low: names\n",
    "names <- lapply(split_low, select_first)\n",
    "\n",
    "# Write function select_second()\n",
    "select_second <- function(x) {\n",
    "  x[2]\n",
    "}\n",
    "\n",
    "# Apply select_second() over split_low: years\n",
    "years <- lapply(split_low, select_second)\n"
   ]
  },
  {
   "cell_type": "markdown",
   "metadata": {},
   "source": [
    "### lapply and anonymous functions\n",
    "\n",
    "Writing your own functions and then using them inside\n",
    "[`lapply()`](https://www.rdocumentation.org/packages/base/functions/lapply)\n",
    "is quite an accomplishment! But defining functions to use them only once\n",
    "is kind of overkill, isn't it? That's why you can use so-called\n",
    "**anonymous functions** in R.\n",
    "\n",
    "Previously, you learned that functions in R are objects in their own\n",
    "right. This means that they aren't automatically bound to a name. When\n",
    "you create a function, you can use the assignment operator to give the\n",
    "function a name. It's perfectly possible, however, to not give the\n",
    "function a name. This is called an anonymous function:\n",
    "\n",
    "    # Named function\n",
    "    triple <- function(x) { 3 * x }\n",
    "\n",
    "    # Anonymous function with same implementation\n",
    "    function(x) { 3 * x }\n",
    "\n",
    "    # Use anonymous function inside lapply()\n",
    "    lapply(list(1,2,3), function(x) { 3 * x })\n",
    "\n",
    "`split_low` is defined for you.\n",
    "\n",
    "-   Transform the first call of\n",
    "    [`lapply()`](https://www.rdocumentation.org/packages/base/functions/lapply)\n",
    "    such that it uses an anonymous function that does the same thing.\n",
    "-   In a similar fashion, convert the second call of `lapply` to use an\n",
    "    anonymous version of the `select_second()` function.\n",
    "-   Remove both the definitions of `select_first()` and\n",
    "    `select_second()`, as they are no longer useful.\n"
   ]
  },
  {
   "cell_type": "code",
   "execution_count": 35,
   "metadata": {},
   "outputs": [
    {
     "data": {
      "text/html": [
       "<ol>\n",
       "\t<li><style>\n",
       ".list-inline {list-style: none; margin:0; padding: 0}\n",
       ".list-inline>li {display: inline-block}\n",
       ".list-inline>li:not(:last-child)::after {content: \"\\00b7\"; padding: 0 .5ex}\n",
       "</style>\n",
       "<ol class=list-inline><li>'gauss'</li><li>'1777'</li></ol>\n",
       "</li>\n",
       "\t<li><style>\n",
       ".list-inline {list-style: none; margin:0; padding: 0}\n",
       ".list-inline>li {display: inline-block}\n",
       ".list-inline>li:not(:last-child)::after {content: \"\\00b7\"; padding: 0 .5ex}\n",
       "</style>\n",
       "<ol class=list-inline><li>'bayes'</li><li>'1702'</li></ol>\n",
       "</li>\n",
       "\t<li><style>\n",
       ".list-inline {list-style: none; margin:0; padding: 0}\n",
       ".list-inline>li {display: inline-block}\n",
       ".list-inline>li:not(:last-child)::after {content: \"\\00b7\"; padding: 0 .5ex}\n",
       "</style>\n",
       "<ol class=list-inline><li>'pascal'</li><li>'1623'</li></ol>\n",
       "</li>\n",
       "\t<li><style>\n",
       ".list-inline {list-style: none; margin:0; padding: 0}\n",
       ".list-inline>li {display: inline-block}\n",
       ".list-inline>li:not(:last-child)::after {content: \"\\00b7\"; padding: 0 .5ex}\n",
       "</style>\n",
       "<ol class=list-inline><li>'pearson'</li><li>'1857'</li></ol>\n",
       "</li>\n",
       "</ol>\n"
      ],
      "text/latex": [
       "\\begin{enumerate}\n",
       "\\item \\begin{enumerate*}\n",
       "\\item 'gauss'\n",
       "\\item '1777'\n",
       "\\end{enumerate*}\n",
       "\n",
       "\\item \\begin{enumerate*}\n",
       "\\item 'bayes'\n",
       "\\item '1702'\n",
       "\\end{enumerate*}\n",
       "\n",
       "\\item \\begin{enumerate*}\n",
       "\\item 'pascal'\n",
       "\\item '1623'\n",
       "\\end{enumerate*}\n",
       "\n",
       "\\item \\begin{enumerate*}\n",
       "\\item 'pearson'\n",
       "\\item '1857'\n",
       "\\end{enumerate*}\n",
       "\n",
       "\\end{enumerate}\n"
      ],
      "text/markdown": [
       "1. 1. 'gauss'\n",
       "2. '1777'\n",
       "\n",
       "\n",
       "\n",
       "2. 1. 'bayes'\n",
       "2. '1702'\n",
       "\n",
       "\n",
       "\n",
       "3. 1. 'pascal'\n",
       "2. '1623'\n",
       "\n",
       "\n",
       "\n",
       "4. 1. 'pearson'\n",
       "2. '1857'\n",
       "\n",
       "\n",
       "\n",
       "\n",
       "\n"
      ],
      "text/plain": [
       "[[1]]\n",
       "[1] \"gauss\" \"1777\" \n",
       "\n",
       "[[2]]\n",
       "[1] \"bayes\" \"1702\" \n",
       "\n",
       "[[3]]\n",
       "[1] \"pascal\" \"1623\"  \n",
       "\n",
       "[[4]]\n",
       "[1] \"pearson\" \"1857\"   \n"
      ]
     },
     "metadata": {},
     "output_type": "display_data"
    }
   ],
   "source": [
    "# split_low has been created for you\n",
    "split_low\n",
    "\n",
    "# Transform: use anonymous function inside lapply\n",
    "names <- lapply(split_low, function(x) { x[1] })\n",
    "\n",
    "\n",
    "\n",
    "\n",
    "# Transform: use anonymous function inside lapply\n",
    "years <- lapply(split_low, function(x) { x[2] })\n"
   ]
  },
  {
   "cell_type": "markdown",
   "metadata": {},
   "source": [
    "### Use lapply with additional arguments\n",
    "\n",
    "In the video, the `triple()` function was transformed to the\n",
    "`multiply()` function to allow for a more generic approach.\n",
    "[`lapply()`](https://www.rdocumentation.org/packages/base/functions/lapply)\n",
    "provides a way to handle functions that require more than one argument,\n",
    "such as the `multiply()` function:\n",
    "\n",
    "    multiply <- function(x, factor) {\n",
    "      x * factor\n",
    "    }\n",
    "    lapply(list(1,2,3), multiply, factor = 3)\n",
    "\n",
    "On the right we've included a generic version of the select functions\n",
    "that you've coded earlier: `select_el()`. It takes a vector as its first\n",
    "argument, and an index as its second argument. It returns the vector's\n",
    "element at the specified index.\n",
    "\n",
    "Use `lapply()` twice to call `select_el()` over all elements in\n",
    "`split_low`: once with the `index` equal to 1 and a second time with the\n",
    "index equal to 2. Assign the result to `names` and `years`,\n",
    "respectively.\n"
   ]
  },
  {
   "cell_type": "code",
   "execution_count": 36,
   "metadata": {},
   "outputs": [],
   "source": [
    "# Definition of split_low\n",
    "pioneers <- c(\"GAUSS:1777\", \"BAYES:1702\", \"PASCAL:1623\", \"PEARSON:1857\")\n",
    "split <- strsplit(pioneers, split = \":\")\n",
    "split_low <- lapply(split, tolower)\n",
    "\n",
    "# Generic select function\n",
    "select_el <- function(x, index) {\n",
    "  x[index]\n",
    "}\n",
    "\n",
    "# Use lapply() twice on split_low: names and years\n",
    "names <- lapply(split_low, select_el, index = 1)\n",
    "years <- lapply(split_low, select_el, index = 2)\n"
   ]
  },
  {
   "cell_type": "markdown",
   "metadata": {},
   "source": [
    "### Apply functions that return NULL\n",
    "\n",
    "In all of the previous exercises, it was assumed that the functions that\n",
    "were applied over vectors and lists actually returned a meaningful\n",
    "result. For example, the\n",
    "[`tolower()`](https://www.rdocumentation.org/packages/base/functions/chartr)\n",
    "function simply returns the strings with the characters in lowercase.\n",
    "This won't always be the case. Suppose you want to display the structure\n",
    "of every element of a list. You could use the\n",
    "[`str()`](https://www.rdocumentation.org/packages/utils/functions/str)\n",
    "function for this, which returns `NULL`:\n",
    "\n",
    "    lapply(list(1, \"a\", TRUE), str)\n",
    "\n",
    "This call actually returns a list, the same size as the input list,\n",
    "containing all `NULL` values. On the other hand calling\n",
    "\n",
    "    str(TRUE)\n",
    "\n",
    "on its own prints only the structure of the logical to the console, not\n",
    "`NULL`. That's because\n",
    "[`str()`](https://www.rdocumentation.org/packages/utils/functions/str)\n",
    "uses\n",
    "[`invisible()`](https://www.rdocumentation.org/packages/base/functions/invisible)\n",
    "behind the scenes, which returns an *invisible copy* of the return\n",
    "value, `NULL` in this case. This prevents it from being printed when the\n",
    "result of\n",
    "[`str()`](https://www.rdocumentation.org/packages/utils/functions/str)\n",
    "is not assigned.\n",
    "\n",
    "What will the following code chunk return (`split_low` is already\n",
    "available in the workspace)? Try to reason about the result before\n",
    "simply executing it in the console!\n",
    "\n",
    "    lapply(split_low, function(x) {\n",
    "      if (nchar(x[1]) > 5) {\n",
    "        return(NULL)\n",
    "      } else {\n",
    "        return(x[2])\n",
    "      }\n",
    "    })\n",
    "\n",
    "- [ ] `list(NULL, NULL, \"1623\", \"1857\")`\n",
    "- [ ] `list(\"gauss\", \"bayes\", NULL, NULL)`\n",
    "- [x] `list(\"1777\", \"1702\", NULL, NULL)`\n",
    "- [ ] `list(\"1777\", \"1702\")`\n",
    "\n",
    "## sapply\n",
    "\n",
    "### How to use sapply\n",
    "\n",
    "You can use\n",
    "[`sapply()`](https://www.rdocumentation.org/packages/base/functions/lapply)\n",
    "similar to how you used\n",
    "[`lapply()`](https://www.rdocumentation.org/packages/base/functions/lapply).\n",
    "The first argument of\n",
    "[`sapply()`](https://www.rdocumentation.org/packages/base/functions/lapply)\n",
    "is the list or vector `X` over which you want to apply a function,\n",
    "`FUN`. Potential additional arguments to this function are specified\n",
    "afterwards (`...`):\n",
    "\n",
    "    sapply(X, FUN, ...)\n",
    "\n",
    "In the next couple of exercises, you'll be working with the variable\n",
    "`temp`, that contains temperature measurements for 7 days. `temp` is a\n",
    "list of length 7, where each element is a vector of length 5,\n",
    "representing 5 measurements on a given day. This variable has already\n",
    "been defined in the workspace: type `str(temp)` to see its structure.\n",
    "\n",
    "-   Use\n",
    "    [`lapply()`](https://www.rdocumentation.org/packages/base/functions/lapply)\n",
    "    to calculate the minimum (built-in function\n",
    "    [`min()`](https://www.rdocumentation.org/packages/base/functions/Extremes))\n",
    "    of the temperature measurements for every day.\n",
    "-   Do the same thing but this time with\n",
    "    [`sapply()`](https://www.rdocumentation.org/packages/base/functions/lapply).\n",
    "    See how the output differs.\n",
    "-   Use\n",
    "    [`lapply()`](https://www.rdocumentation.org/packages/base/functions/lapply)\n",
    "    to compute the the maximum\n",
    "    ([`max()`](https://www.rdocumentation.org/packages/base/functions/Extremes))\n",
    "    temperature for each day.\n",
    "-   Again, use\n",
    "    [`sapply()`](https://www.rdocumentation.org/packages/base/functions/lapply)\n",
    "    to solve the same question and see how\n",
    "    [`lapply()`](https://www.rdocumentation.org/packages/base/functions/lapply)\n",
    "    and\n",
    "    [`sapply()`](https://www.rdocumentation.org/packages/base/functions/lapply)\n",
    "    differ.\n"
   ]
  },
  {
   "cell_type": "code",
   "execution_count": 37,
   "metadata": {},
   "outputs": [
    {
     "data": {
      "text/html": [
       "<ol>\n",
       "\t<li>-1</li>\n",
       "\t<li>5</li>\n",
       "\t<li>-3</li>\n",
       "\t<li>-2</li>\n",
       "\t<li>2</li>\n",
       "\t<li>-3</li>\n",
       "\t<li>1</li>\n",
       "</ol>\n"
      ],
      "text/latex": [
       "\\begin{enumerate}\n",
       "\\item -1\n",
       "\\item 5\n",
       "\\item -3\n",
       "\\item -2\n",
       "\\item 2\n",
       "\\item -3\n",
       "\\item 1\n",
       "\\end{enumerate}\n"
      ],
      "text/markdown": [
       "1. -1\n",
       "2. 5\n",
       "3. -3\n",
       "4. -2\n",
       "5. 2\n",
       "6. -3\n",
       "7. 1\n",
       "\n",
       "\n"
      ],
      "text/plain": [
       "[[1]]\n",
       "[1] -1\n",
       "\n",
       "[[2]]\n",
       "[1] 5\n",
       "\n",
       "[[3]]\n",
       "[1] -3\n",
       "\n",
       "[[4]]\n",
       "[1] -2\n",
       "\n",
       "[[5]]\n",
       "[1] 2\n",
       "\n",
       "[[6]]\n",
       "[1] -3\n",
       "\n",
       "[[7]]\n",
       "[1] 1\n"
      ]
     },
     "metadata": {},
     "output_type": "display_data"
    },
    {
     "data": {
      "text/html": [
       "<style>\n",
       ".list-inline {list-style: none; margin:0; padding: 0}\n",
       ".list-inline>li {display: inline-block}\n",
       ".list-inline>li:not(:last-child)::after {content: \"\\00b7\"; padding: 0 .5ex}\n",
       "</style>\n",
       "<ol class=list-inline><li>-1</li><li>5</li><li>-3</li><li>-2</li><li>2</li><li>-3</li><li>1</li></ol>\n"
      ],
      "text/latex": [
       "\\begin{enumerate*}\n",
       "\\item -1\n",
       "\\item 5\n",
       "\\item -3\n",
       "\\item -2\n",
       "\\item 2\n",
       "\\item -3\n",
       "\\item 1\n",
       "\\end{enumerate*}\n"
      ],
      "text/markdown": [
       "1. -1\n",
       "2. 5\n",
       "3. -3\n",
       "4. -2\n",
       "5. 2\n",
       "6. -3\n",
       "7. 1\n",
       "\n",
       "\n"
      ],
      "text/plain": [
       "[1] -1  5 -3 -2  2 -3  1"
      ]
     },
     "metadata": {},
     "output_type": "display_data"
    },
    {
     "data": {
      "text/html": [
       "<ol>\n",
       "\t<li>9</li>\n",
       "\t<li>13</li>\n",
       "\t<li>8</li>\n",
       "\t<li>7</li>\n",
       "\t<li>9</li>\n",
       "\t<li>9</li>\n",
       "\t<li>9</li>\n",
       "</ol>\n"
      ],
      "text/latex": [
       "\\begin{enumerate}\n",
       "\\item 9\n",
       "\\item 13\n",
       "\\item 8\n",
       "\\item 7\n",
       "\\item 9\n",
       "\\item 9\n",
       "\\item 9\n",
       "\\end{enumerate}\n"
      ],
      "text/markdown": [
       "1. 9\n",
       "2. 13\n",
       "3. 8\n",
       "4. 7\n",
       "5. 9\n",
       "6. 9\n",
       "7. 9\n",
       "\n",
       "\n"
      ],
      "text/plain": [
       "[[1]]\n",
       "[1] 9\n",
       "\n",
       "[[2]]\n",
       "[1] 13\n",
       "\n",
       "[[3]]\n",
       "[1] 8\n",
       "\n",
       "[[4]]\n",
       "[1] 7\n",
       "\n",
       "[[5]]\n",
       "[1] 9\n",
       "\n",
       "[[6]]\n",
       "[1] 9\n",
       "\n",
       "[[7]]\n",
       "[1] 9\n"
      ]
     },
     "metadata": {},
     "output_type": "display_data"
    },
    {
     "data": {
      "text/html": [
       "<style>\n",
       ".list-inline {list-style: none; margin:0; padding: 0}\n",
       ".list-inline>li {display: inline-block}\n",
       ".list-inline>li:not(:last-child)::after {content: \"\\00b7\"; padding: 0 .5ex}\n",
       "</style>\n",
       "<ol class=list-inline><li>9</li><li>13</li><li>8</li><li>7</li><li>9</li><li>9</li><li>9</li></ol>\n"
      ],
      "text/latex": [
       "\\begin{enumerate*}\n",
       "\\item 9\n",
       "\\item 13\n",
       "\\item 8\n",
       "\\item 7\n",
       "\\item 9\n",
       "\\item 9\n",
       "\\item 9\n",
       "\\end{enumerate*}\n"
      ],
      "text/markdown": [
       "1. 9\n",
       "2. 13\n",
       "3. 8\n",
       "4. 7\n",
       "5. 9\n",
       "6. 9\n",
       "7. 9\n",
       "\n",
       "\n"
      ],
      "text/plain": [
       "[1]  9 13  8  7  9  9  9"
      ]
     },
     "metadata": {},
     "output_type": "display_data"
    }
   ],
   "source": [
    "# edited/added\n",
    "temp=list(c(3,7,9,6,-1), c(6,9,12,13,5), c(4,8,3,-1,-3), c(1,4,7,2,-2), c(5,7,9,4,2), c(-3,5,8,9,4), c(3,6,9,4,1))\n",
    "# temp has already been defined in the workspace\n",
    "\n",
    "\n",
    "# Use lapply() to find each day's minimum temperature\n",
    "lapply(temp, min)\n",
    "\n",
    "# Use sapply() to find each day's minimum temperature\n",
    "sapply(temp, min)\n",
    "\n",
    "# Use lapply() to find each day's maximum temperature\n",
    "lapply(temp, max)\n",
    "\n",
    "# Use sapply() to find each day's maximum temperature\n",
    "sapply(temp, max)\n"
   ]
  },
  {
   "cell_type": "markdown",
   "metadata": {},
   "source": [
    "### sapply with your own function\n",
    "\n",
    "Like\n",
    "[`lapply()`](https://www.rdocumentation.org/packages/base/functions/lapply),\n",
    "[`sapply()`](https://www.rdocumentation.org/packages/base/functions/lapply)\n",
    "allows you to use self-defined functions and apply them over a vector or\n",
    "a list:\n",
    "\n",
    "    sapply(X, FUN, ...)\n",
    "\n",
    "Here, `FUN` can be one of R's built-in functions, but it can also be a\n",
    "function you wrote. This self-written function can be defined before\n",
    "hand, or can be inserted directly as an anonymous function.\n",
    "\n",
    "-   Finish the definition of `extremes_avg()`: it takes a vector of\n",
    "    temperatures and calculates the average of the minimum and maximum\n",
    "    temperatures of the vector.\n",
    "-   Next, use this function inside\n",
    "    [`sapply()`](https://www.rdocumentation.org/packages/base/functions/lapply)\n",
    "    to apply it over the vectors inside `temp`.\n",
    "-   Use the same function over `temp` with\n",
    "    [`lapply()`](https://www.rdocumentation.org/packages/base/functions/lapply)\n",
    "    and see how the outputs differ.\n"
   ]
  },
  {
   "cell_type": "code",
   "execution_count": 38,
   "metadata": {},
   "outputs": [
    {
     "data": {
      "text/html": [
       "<style>\n",
       ".list-inline {list-style: none; margin:0; padding: 0}\n",
       ".list-inline>li {display: inline-block}\n",
       ".list-inline>li:not(:last-child)::after {content: \"\\00b7\"; padding: 0 .5ex}\n",
       "</style>\n",
       "<ol class=list-inline><li>4</li><li>9</li><li>2.5</li><li>2.5</li><li>5.5</li><li>3</li><li>5</li></ol>\n"
      ],
      "text/latex": [
       "\\begin{enumerate*}\n",
       "\\item 4\n",
       "\\item 9\n",
       "\\item 2.5\n",
       "\\item 2.5\n",
       "\\item 5.5\n",
       "\\item 3\n",
       "\\item 5\n",
       "\\end{enumerate*}\n"
      ],
      "text/markdown": [
       "1. 4\n",
       "2. 9\n",
       "3. 2.5\n",
       "4. 2.5\n",
       "5. 5.5\n",
       "6. 3\n",
       "7. 5\n",
       "\n",
       "\n"
      ],
      "text/plain": [
       "[1] 4.0 9.0 2.5 2.5 5.5 3.0 5.0"
      ]
     },
     "metadata": {},
     "output_type": "display_data"
    },
    {
     "data": {
      "text/html": [
       "<ol>\n",
       "\t<li>4</li>\n",
       "\t<li>9</li>\n",
       "\t<li>2.5</li>\n",
       "\t<li>2.5</li>\n",
       "\t<li>5.5</li>\n",
       "\t<li>3</li>\n",
       "\t<li>5</li>\n",
       "</ol>\n"
      ],
      "text/latex": [
       "\\begin{enumerate}\n",
       "\\item 4\n",
       "\\item 9\n",
       "\\item 2.5\n",
       "\\item 2.5\n",
       "\\item 5.5\n",
       "\\item 3\n",
       "\\item 5\n",
       "\\end{enumerate}\n"
      ],
      "text/markdown": [
       "1. 4\n",
       "2. 9\n",
       "3. 2.5\n",
       "4. 2.5\n",
       "5. 5.5\n",
       "6. 3\n",
       "7. 5\n",
       "\n",
       "\n"
      ],
      "text/plain": [
       "[[1]]\n",
       "[1] 4\n",
       "\n",
       "[[2]]\n",
       "[1] 9\n",
       "\n",
       "[[3]]\n",
       "[1] 2.5\n",
       "\n",
       "[[4]]\n",
       "[1] 2.5\n",
       "\n",
       "[[5]]\n",
       "[1] 5.5\n",
       "\n",
       "[[6]]\n",
       "[1] 3\n",
       "\n",
       "[[7]]\n",
       "[1] 5\n"
      ]
     },
     "metadata": {},
     "output_type": "display_data"
    }
   ],
   "source": [
    "# temp is already defined in the workspace\n",
    "\n",
    "# Finish function definition of extremes_avg\n",
    "extremes_avg <- function(x) {\n",
    "  ( min(x) + max(x) ) / 2\n",
    "}\n",
    "\n",
    "# Apply extremes_avg() over temp using sapply()\n",
    "sapply(temp, extremes_avg)\n",
    "\n",
    "# Apply extremes_avg() over temp using lapply()\n",
    "lapply(temp, extremes_avg)\n"
   ]
  },
  {
   "cell_type": "markdown",
   "metadata": {},
   "source": [
    "### sapply with function returning vector\n",
    "\n",
    "In the previous exercises, you've seen how\n",
    "[`sapply()`](https://www.rdocumentation.org/packages/base/functions/lapply)\n",
    "simplifies the list that\n",
    "[`lapply()`](https://www.rdocumentation.org/packages/base/functions/lapply)\n",
    "would return by turning it into a vector. But what if the function\n",
    "you're applying over a list or a vector returns a vector of length\n",
    "greater than 1? If you don't remember from the video, don't waste more\n",
    "time in the valley of ignorance and head over to the instructions!\n",
    "\n",
    "-   Finish the definition of the `extremes()` function. It takes a\n",
    "    vector of numerical values and returns a vector containing the\n",
    "    minimum and maximum values of a given vector, with the names \"min\"\n",
    "    and \"max\", respectively.\n",
    "-   Apply this function over the vector `temp` using\n",
    "    [`sapply()`](https://www.rdocumentation.org/packages/base/functions/lapply).\n",
    "-   Finally, apply this function over the vector `temp` using\n",
    "    [`lapply()`](https://www.rdocumentation.org/packages/base/functions/lapply)\n",
    "    as well.\n"
   ]
  },
  {
   "cell_type": "code",
   "execution_count": 39,
   "metadata": {},
   "outputs": [
    {
     "data": {
      "text/html": [
       "<table class=\"dataframe\">\n",
       "<caption>A matrix: 2 × 7 of type dbl</caption>\n",
       "<tbody>\n",
       "\t<tr><th scope=row>min</th><td>-1</td><td> 5</td><td>-3</td><td>-2</td><td>2</td><td>-3</td><td>1</td></tr>\n",
       "\t<tr><th scope=row>max</th><td> 9</td><td>13</td><td> 8</td><td> 7</td><td>9</td><td> 9</td><td>9</td></tr>\n",
       "</tbody>\n",
       "</table>\n"
      ],
      "text/latex": [
       "A matrix: 2 × 7 of type dbl\n",
       "\\begin{tabular}{r|lllllll}\n",
       "\tmin & -1 &  5 & -3 & -2 & 2 & -3 & 1\\\\\n",
       "\tmax &  9 & 13 &  8 &  7 & 9 &  9 & 9\\\\\n",
       "\\end{tabular}\n"
      ],
      "text/markdown": [
       "\n",
       "A matrix: 2 × 7 of type dbl\n",
       "\n",
       "| min | -1 |  5 | -3 | -2 | 2 | -3 | 1 |\n",
       "| max |  9 | 13 |  8 |  7 | 9 |  9 | 9 |\n",
       "\n"
      ],
      "text/plain": [
       "    [,1] [,2] [,3] [,4] [,5] [,6] [,7]\n",
       "min -1    5   -3   -2   2    -3   1   \n",
       "max  9   13    8    7   9     9   9   "
      ]
     },
     "metadata": {},
     "output_type": "display_data"
    },
    {
     "data": {
      "text/html": [
       "<ol>\n",
       "\t<li><style>\n",
       ".dl-inline {width: auto; margin:0; padding: 0}\n",
       ".dl-inline>dt, .dl-inline>dd {float: none; width: auto; display: inline-block}\n",
       ".dl-inline>dt::after {content: \":\\0020\"; padding-right: .5ex}\n",
       ".dl-inline>dt:not(:first-of-type) {padding-left: .5ex}\n",
       "</style><dl class=dl-inline><dt>min</dt><dd>-1</dd><dt>max</dt><dd>9</dd></dl>\n",
       "</li>\n",
       "\t<li><style>\n",
       ".dl-inline {width: auto; margin:0; padding: 0}\n",
       ".dl-inline>dt, .dl-inline>dd {float: none; width: auto; display: inline-block}\n",
       ".dl-inline>dt::after {content: \":\\0020\"; padding-right: .5ex}\n",
       ".dl-inline>dt:not(:first-of-type) {padding-left: .5ex}\n",
       "</style><dl class=dl-inline><dt>min</dt><dd>5</dd><dt>max</dt><dd>13</dd></dl>\n",
       "</li>\n",
       "\t<li><style>\n",
       ".dl-inline {width: auto; margin:0; padding: 0}\n",
       ".dl-inline>dt, .dl-inline>dd {float: none; width: auto; display: inline-block}\n",
       ".dl-inline>dt::after {content: \":\\0020\"; padding-right: .5ex}\n",
       ".dl-inline>dt:not(:first-of-type) {padding-left: .5ex}\n",
       "</style><dl class=dl-inline><dt>min</dt><dd>-3</dd><dt>max</dt><dd>8</dd></dl>\n",
       "</li>\n",
       "\t<li><style>\n",
       ".dl-inline {width: auto; margin:0; padding: 0}\n",
       ".dl-inline>dt, .dl-inline>dd {float: none; width: auto; display: inline-block}\n",
       ".dl-inline>dt::after {content: \":\\0020\"; padding-right: .5ex}\n",
       ".dl-inline>dt:not(:first-of-type) {padding-left: .5ex}\n",
       "</style><dl class=dl-inline><dt>min</dt><dd>-2</dd><dt>max</dt><dd>7</dd></dl>\n",
       "</li>\n",
       "\t<li><style>\n",
       ".dl-inline {width: auto; margin:0; padding: 0}\n",
       ".dl-inline>dt, .dl-inline>dd {float: none; width: auto; display: inline-block}\n",
       ".dl-inline>dt::after {content: \":\\0020\"; padding-right: .5ex}\n",
       ".dl-inline>dt:not(:first-of-type) {padding-left: .5ex}\n",
       "</style><dl class=dl-inline><dt>min</dt><dd>2</dd><dt>max</dt><dd>9</dd></dl>\n",
       "</li>\n",
       "\t<li><style>\n",
       ".dl-inline {width: auto; margin:0; padding: 0}\n",
       ".dl-inline>dt, .dl-inline>dd {float: none; width: auto; display: inline-block}\n",
       ".dl-inline>dt::after {content: \":\\0020\"; padding-right: .5ex}\n",
       ".dl-inline>dt:not(:first-of-type) {padding-left: .5ex}\n",
       "</style><dl class=dl-inline><dt>min</dt><dd>-3</dd><dt>max</dt><dd>9</dd></dl>\n",
       "</li>\n",
       "\t<li><style>\n",
       ".dl-inline {width: auto; margin:0; padding: 0}\n",
       ".dl-inline>dt, .dl-inline>dd {float: none; width: auto; display: inline-block}\n",
       ".dl-inline>dt::after {content: \":\\0020\"; padding-right: .5ex}\n",
       ".dl-inline>dt:not(:first-of-type) {padding-left: .5ex}\n",
       "</style><dl class=dl-inline><dt>min</dt><dd>1</dd><dt>max</dt><dd>9</dd></dl>\n",
       "</li>\n",
       "</ol>\n"
      ],
      "text/latex": [
       "\\begin{enumerate}\n",
       "\\item \\begin{description*}\n",
       "\\item[min] -1\n",
       "\\item[max] 9\n",
       "\\end{description*}\n",
       "\n",
       "\\item \\begin{description*}\n",
       "\\item[min] 5\n",
       "\\item[max] 13\n",
       "\\end{description*}\n",
       "\n",
       "\\item \\begin{description*}\n",
       "\\item[min] -3\n",
       "\\item[max] 8\n",
       "\\end{description*}\n",
       "\n",
       "\\item \\begin{description*}\n",
       "\\item[min] -2\n",
       "\\item[max] 7\n",
       "\\end{description*}\n",
       "\n",
       "\\item \\begin{description*}\n",
       "\\item[min] 2\n",
       "\\item[max] 9\n",
       "\\end{description*}\n",
       "\n",
       "\\item \\begin{description*}\n",
       "\\item[min] -3\n",
       "\\item[max] 9\n",
       "\\end{description*}\n",
       "\n",
       "\\item \\begin{description*}\n",
       "\\item[min] 1\n",
       "\\item[max] 9\n",
       "\\end{description*}\n",
       "\n",
       "\\end{enumerate}\n"
      ],
      "text/markdown": [
       "1. min\n",
       ":   -1max\n",
       ":   9\n",
       "\n",
       "\n",
       "2. min\n",
       ":   5max\n",
       ":   13\n",
       "\n",
       "\n",
       "3. min\n",
       ":   -3max\n",
       ":   8\n",
       "\n",
       "\n",
       "4. min\n",
       ":   -2max\n",
       ":   7\n",
       "\n",
       "\n",
       "5. min\n",
       ":   2max\n",
       ":   9\n",
       "\n",
       "\n",
       "6. min\n",
       ":   -3max\n",
       ":   9\n",
       "\n",
       "\n",
       "7. min\n",
       ":   1max\n",
       ":   9\n",
       "\n",
       "\n",
       "\n",
       "\n"
      ],
      "text/plain": [
       "[[1]]\n",
       "min max \n",
       " -1   9 \n",
       "\n",
       "[[2]]\n",
       "min max \n",
       "  5  13 \n",
       "\n",
       "[[3]]\n",
       "min max \n",
       " -3   8 \n",
       "\n",
       "[[4]]\n",
       "min max \n",
       " -2   7 \n",
       "\n",
       "[[5]]\n",
       "min max \n",
       "  2   9 \n",
       "\n",
       "[[6]]\n",
       "min max \n",
       " -3   9 \n",
       "\n",
       "[[7]]\n",
       "min max \n",
       "  1   9 \n"
      ]
     },
     "metadata": {},
     "output_type": "display_data"
    }
   ],
   "source": [
    "# temp is already available in the workspace\n",
    "\n",
    "# Create a function that returns min and max of a vector: extremes\n",
    "extremes <- function(x) {\n",
    "  c(min = min(x), max = max(x))\n",
    "}\n",
    "\n",
    "# Apply extremes() over temp with sapply()\n",
    "sapply(temp, extremes)\n",
    "\n",
    "# Apply extremes() over temp with lapply()\n",
    "lapply(temp, extremes)\n"
   ]
  },
  {
   "cell_type": "markdown",
   "metadata": {},
   "source": [
    "### sapply can't simplify, now what?\n",
    "\n",
    "It seems like we've hit the jackpot with\n",
    "[`sapply()`](https://www.rdocumentation.org/packages/base/functions/lapply).\n",
    "On all of the examples so far,\n",
    "[`sapply()`](https://www.rdocumentation.org/packages/base/functions/lapply)\n",
    "was able to nicely simplify the rather bulky output of\n",
    "[`lapply()`](https://www.rdocumentation.org/packages/base/functions/lapply).\n",
    "But, as with life, there are things you can't simplify. How does\n",
    "[`sapply()`](https://www.rdocumentation.org/packages/base/functions/lapply)\n",
    "react?\n",
    "\n",
    "We already created a function, `below_zero()`, that takes a vector of\n",
    "numerical values and returns a vector that only contains the values that\n",
    "are strictly below zero.\n",
    "\n",
    "-   Apply `below_zero()` over `temp` using\n",
    "    [`sapply()`](https://www.rdocumentation.org/packages/base/functions/lapply)\n",
    "    and store the result in `freezing_s`.\n",
    "-   Apply `below_zero()` over `temp` using\n",
    "    [`lapply()`](https://www.rdocumentation.org/packages/base/functions/lapply).\n",
    "    Save the resulting list in a variable `freezing_l`.\n",
    "-   Compare `freezing_s` to `freezing_l` using the\n",
    "    [`identical()`](https://www.rdocumentation.org/packages/base/functions/identical)\n",
    "    function.\n"
   ]
  },
  {
   "cell_type": "code",
   "execution_count": 40,
   "metadata": {},
   "outputs": [
    {
     "data": {
      "text/html": [
       "TRUE"
      ],
      "text/latex": [
       "TRUE"
      ],
      "text/markdown": [
       "TRUE"
      ],
      "text/plain": [
       "[1] TRUE"
      ]
     },
     "metadata": {},
     "output_type": "display_data"
    }
   ],
   "source": [
    "# temp is already prepared for you in the workspace\n",
    "\n",
    "# Definition of below_zero()\n",
    "below_zero <- function(x) {\n",
    "  return(x[x < 0])\n",
    "}\n",
    "\n",
    "# Apply below_zero over temp using sapply(): freezing_s\n",
    "freezing_s <- sapply(temp, below_zero)\n",
    "\n",
    "# Apply below_zero over temp using lapply(): freezing_l\n",
    "freezing_l <- lapply(temp, below_zero)\n",
    "\n",
    "# Are freezing_s and freezing_l identical?\n",
    "identical(freezing_s, freezing_l)\n"
   ]
  },
  {
   "cell_type": "markdown",
   "metadata": {},
   "source": [
    "### sapply with functions that return NULL\n",
    "\n",
    "You already have some apply tricks under your sleeve, but you're surely\n",
    "hungry for some more, aren't you? In this exercise, you'll see how\n",
    "[`sapply()`](https://www.rdocumentation.org/packages/base/functions/lapply)\n",
    "reacts when it is used to apply a function that returns `NULL` over a\n",
    "vector or a list.\n",
    "\n",
    "A function `print_info()`, that takes a vector and prints the average of\n",
    "this vector, has already been created for you. It uses the\n",
    "[`cat()`](https://www.rdocumentation.org/packages/base/functions/cat)\n",
    "function.\n",
    "\n",
    "-   Apply `print_info()` over the contents of `temp` with\n",
    "    [`sapply()`](https://www.rdocumentation.org/packages/base/functions/lapply).\n",
    "-   Repeat this process with\n",
    "    [`lapply()`](https://www.rdocumentation.org/packages/base/functions/lapply).\n",
    "    Do you notice the difference?\n"
   ]
  },
  {
   "cell_type": "code",
   "execution_count": 41,
   "metadata": {},
   "outputs": [
    {
     "name": "stdout",
     "output_type": "stream",
     "text": [
      "The average temperature is 4.8 \n",
      "The average temperature is 9 \n",
      "The average temperature is 2.2 \n",
      "The average temperature is 2.4 \n",
      "The average temperature is 5.4 \n",
      "The average temperature is 4.6 \n",
      "The average temperature is 4.6 \n"
     ]
    },
    {
     "data": {
      "text/html": [
       "<ol>\n",
       "\t<li>NULL</li>\n",
       "\t<li>NULL</li>\n",
       "\t<li>NULL</li>\n",
       "\t<li>NULL</li>\n",
       "\t<li>NULL</li>\n",
       "\t<li>NULL</li>\n",
       "\t<li>NULL</li>\n",
       "</ol>\n"
      ],
      "text/latex": [
       "\\begin{enumerate}\n",
       "\\item NULL\n",
       "\\item NULL\n",
       "\\item NULL\n",
       "\\item NULL\n",
       "\\item NULL\n",
       "\\item NULL\n",
       "\\item NULL\n",
       "\\end{enumerate}\n"
      ],
      "text/markdown": [
       "1. NULL\n",
       "2. NULL\n",
       "3. NULL\n",
       "4. NULL\n",
       "5. NULL\n",
       "6. NULL\n",
       "7. NULL\n",
       "\n",
       "\n"
      ],
      "text/plain": [
       "[[1]]\n",
       "NULL\n",
       "\n",
       "[[2]]\n",
       "NULL\n",
       "\n",
       "[[3]]\n",
       "NULL\n",
       "\n",
       "[[4]]\n",
       "NULL\n",
       "\n",
       "[[5]]\n",
       "NULL\n",
       "\n",
       "[[6]]\n",
       "NULL\n",
       "\n",
       "[[7]]\n",
       "NULL\n"
      ]
     },
     "metadata": {},
     "output_type": "display_data"
    },
    {
     "name": "stdout",
     "output_type": "stream",
     "text": [
      "The average temperature is 4.8 \n",
      "The average temperature is 9 \n",
      "The average temperature is 2.2 \n",
      "The average temperature is 2.4 \n",
      "The average temperature is 5.4 \n",
      "The average temperature is 4.6 \n",
      "The average temperature is 4.6 \n"
     ]
    },
    {
     "data": {
      "text/html": [
       "<ol>\n",
       "\t<li>NULL</li>\n",
       "\t<li>NULL</li>\n",
       "\t<li>NULL</li>\n",
       "\t<li>NULL</li>\n",
       "\t<li>NULL</li>\n",
       "\t<li>NULL</li>\n",
       "\t<li>NULL</li>\n",
       "</ol>\n"
      ],
      "text/latex": [
       "\\begin{enumerate}\n",
       "\\item NULL\n",
       "\\item NULL\n",
       "\\item NULL\n",
       "\\item NULL\n",
       "\\item NULL\n",
       "\\item NULL\n",
       "\\item NULL\n",
       "\\end{enumerate}\n"
      ],
      "text/markdown": [
       "1. NULL\n",
       "2. NULL\n",
       "3. NULL\n",
       "4. NULL\n",
       "5. NULL\n",
       "6. NULL\n",
       "7. NULL\n",
       "\n",
       "\n"
      ],
      "text/plain": [
       "[[1]]\n",
       "NULL\n",
       "\n",
       "[[2]]\n",
       "NULL\n",
       "\n",
       "[[3]]\n",
       "NULL\n",
       "\n",
       "[[4]]\n",
       "NULL\n",
       "\n",
       "[[5]]\n",
       "NULL\n",
       "\n",
       "[[6]]\n",
       "NULL\n",
       "\n",
       "[[7]]\n",
       "NULL\n"
      ]
     },
     "metadata": {},
     "output_type": "display_data"
    }
   ],
   "source": [
    "# temp is already available in the workspace\n",
    "\n",
    "# Definition of print_info()\n",
    "print_info <- function(x) {\n",
    "  cat(\"The average temperature is\", mean(x), \"\\n\")\n",
    "}\n",
    "\n",
    "# Apply print_info() over temp using sapply()\n",
    "sapply(temp, print_info)\n",
    "\n",
    "# Apply print_info() over temp using lapply()\n",
    "lapply(temp, print_info)\n"
   ]
  },
  {
   "cell_type": "markdown",
   "metadata": {},
   "source": [
    "### Reverse engineering sapply\n",
    "\n",
    "    sapply(list(runif (10), runif (10)), \n",
    "           function(x) c(min = min(x), mean = mean(x), max = max(x)))\n",
    "\n",
    "Without going straight to the console to run the code, try to reason\n",
    "through which of the following statements are correct and why.\n",
    "\n",
    "\\(1\\)\n",
    "[`sapply()`](https://www.rdocumentation.org/packages/base/functions/lapply)\n",
    "can't simplify the result that\n",
    "[`lapply()`](https://www.rdocumentation.org/packages/base/functions/lapply)\n",
    "would return, and thus returns a list of vectors.  \n",
    "(2) This code generates a matrix with 3 rows and 2 columns.  \n",
    "(3) The function that is used inside\n",
    "[`sapply()`](https://www.rdocumentation.org/packages/base/functions/lapply)\n",
    "is anonymous.  \n",
    "(4) The resulting data structure does not contain any names.\n",
    "\n",
    "Select the option that lists <u>all</u> correct statements.\n",
    "\n",
    "- [ ] (1) and (3)\n",
    "- [x] (2) and (3)\n",
    "- [ ] (1) and (4)\n",
    "- [ ] (2), (3) and (4)\n",
    "\n",
    "## vapply\n",
    "\n",
    "### Use vapply\n",
    "\n",
    "Before you get your hands dirty with the third and last apply function\n",
    "that you'll learn about in this intermediate R course, let's take a look\n",
    "at its syntax. The function is called\n",
    "[`vapply()`](https://www.rdocumentation.org/packages/base/functions/lapply),\n",
    "and it has the following syntax:\n",
    "\n",
    "    vapply(X, FUN, FUN.VALUE, ..., USE.NAMES = TRUE)\n",
    "\n",
    "Over the elements inside `X`, the function `FUN` is applied. The\n",
    "`FUN.VALUE` argument expects a template for the return argument of this\n",
    "function `FUN`. `USE.NAMES` is `TRUE` by default; in this case\n",
    "[`vapply()`](https://www.rdocumentation.org/packages/base/functions/lapply)\n",
    "tries to generate a named array, if possible.\n",
    "\n",
    "For the next set of exercises, you'll be working on the `temp` list\n",
    "again, that contains 7 numerical vectors of length 5. We also coded a\n",
    "function `basics()` that takes a vector, and returns a named vector of\n",
    "length 3, containing the minimum, mean and maximum value of the vector\n",
    "respectively.\n",
    "\n",
    "-   Apply the function `basics()` over the list of temperatures, `temp`,\n",
    "    using\n",
    "    [`vapply()`](https://www.rdocumentation.org/packages/base/functions/lapply).\n",
    "    This time, you can use `numeric(3)` to specify the `FUN.VALUE`\n",
    "    argument.\n"
   ]
  },
  {
   "cell_type": "code",
   "execution_count": 42,
   "metadata": {},
   "outputs": [
    {
     "data": {
      "text/html": [
       "<table class=\"dataframe\">\n",
       "<caption>A matrix: 3 × 7 of type dbl</caption>\n",
       "<tbody>\n",
       "\t<tr><th scope=row>min</th><td>-1.0</td><td> 5</td><td>-3.0</td><td>-2.0</td><td>2.0</td><td>-3.0</td><td>1.0</td></tr>\n",
       "\t<tr><th scope=row>mean</th><td> 4.8</td><td> 9</td><td> 2.2</td><td> 2.4</td><td>5.4</td><td> 4.6</td><td>4.6</td></tr>\n",
       "\t<tr><th scope=row>max</th><td> 9.0</td><td>13</td><td> 8.0</td><td> 7.0</td><td>9.0</td><td> 9.0</td><td>9.0</td></tr>\n",
       "</tbody>\n",
       "</table>\n"
      ],
      "text/latex": [
       "A matrix: 3 × 7 of type dbl\n",
       "\\begin{tabular}{r|lllllll}\n",
       "\tmin & -1.0 &  5 & -3.0 & -2.0 & 2.0 & -3.0 & 1.0\\\\\n",
       "\tmean &  4.8 &  9 &  2.2 &  2.4 & 5.4 &  4.6 & 4.6\\\\\n",
       "\tmax &  9.0 & 13 &  8.0 &  7.0 & 9.0 &  9.0 & 9.0\\\\\n",
       "\\end{tabular}\n"
      ],
      "text/markdown": [
       "\n",
       "A matrix: 3 × 7 of type dbl\n",
       "\n",
       "| min | -1.0 |  5 | -3.0 | -2.0 | 2.0 | -3.0 | 1.0 |\n",
       "| mean |  4.8 |  9 |  2.2 |  2.4 | 5.4 |  4.6 | 4.6 |\n",
       "| max |  9.0 | 13 |  8.0 |  7.0 | 9.0 |  9.0 | 9.0 |\n",
       "\n"
      ],
      "text/plain": [
       "     [,1] [,2] [,3] [,4] [,5] [,6] [,7]\n",
       "min  -1.0  5   -3.0 -2.0 2.0  -3.0 1.0 \n",
       "mean  4.8  9    2.2  2.4 5.4   4.6 4.6 \n",
       "max   9.0 13    8.0  7.0 9.0   9.0 9.0 "
      ]
     },
     "metadata": {},
     "output_type": "display_data"
    }
   ],
   "source": [
    "# temp is already available in the workspace\n",
    "\n",
    "# Definition of basics()\n",
    "basics <- function(x) {\n",
    "  c(min = min(x), mean = mean(x), max = max(x))\n",
    "}\n",
    "\n",
    "# Apply basics() over temp using vapply()\n",
    "vapply(temp, basics, numeric(3))\n"
   ]
  },
  {
   "cell_type": "markdown",
   "metadata": {},
   "source": [
    "### Use vapply (2)\n",
    "\n",
    "So far you've seen that\n",
    "[`vapply()`](https://www.rdocumentation.org/packages/base/functions/lapply)\n",
    "mimics the behavior of\n",
    "[`sapply()`](https://www.rdocumentation.org/packages/base/functions/lapply)\n",
    "if everything goes according to plan. But what if it doesn't?\n",
    "\n",
    "In the video, Filip showed you that there are cases where the structure\n",
    "of the output of the function you want to apply, `FUN`, does not\n",
    "correspond to the template you specify in `FUN.VALUE`. In that case,\n",
    "[`vapply()`](https://www.rdocumentation.org/packages/base/functions/lapply)\n",
    "will throw an error that informs you about the misalignment between\n",
    "expected and actual output.\n",
    "\n",
    "-   Inspect the pre-loaded code and try to run it. If you haven't\n",
    "    changed anything, an error should pop up. That's because\n",
    "    [`vapply()`](https://www.rdocumentation.org/packages/base/functions/lapply)\n",
    "    still expects `basics()` to return a vector of length 3. The error\n",
    "    message gives you an indication of what's wrong.\n",
    "-   Try to fix the error by editing the\n",
    "    [`vapply()`](https://www.rdocumentation.org/packages/base/functions/lapply)\n",
    "    command.\n"
   ]
  },
  {
   "cell_type": "code",
   "execution_count": 43,
   "metadata": {},
   "outputs": [
    {
     "data": {
      "text/html": [
       "<table class=\"dataframe\">\n",
       "<caption>A matrix: 4 × 7 of type dbl</caption>\n",
       "<tbody>\n",
       "\t<tr><th scope=row>min</th><td>-1.0</td><td> 5</td><td>-3.0</td><td>-2.0</td><td>2.0</td><td>-3.0</td><td>1.0</td></tr>\n",
       "\t<tr><th scope=row>mean</th><td> 4.8</td><td> 9</td><td> 2.2</td><td> 2.4</td><td>5.4</td><td> 4.6</td><td>4.6</td></tr>\n",
       "\t<tr><th scope=row>median</th><td> 6.0</td><td> 9</td><td> 3.0</td><td> 2.0</td><td>5.0</td><td> 5.0</td><td>4.0</td></tr>\n",
       "\t<tr><th scope=row>max</th><td> 9.0</td><td>13</td><td> 8.0</td><td> 7.0</td><td>9.0</td><td> 9.0</td><td>9.0</td></tr>\n",
       "</tbody>\n",
       "</table>\n"
      ],
      "text/latex": [
       "A matrix: 4 × 7 of type dbl\n",
       "\\begin{tabular}{r|lllllll}\n",
       "\tmin & -1.0 &  5 & -3.0 & -2.0 & 2.0 & -3.0 & 1.0\\\\\n",
       "\tmean &  4.8 &  9 &  2.2 &  2.4 & 5.4 &  4.6 & 4.6\\\\\n",
       "\tmedian &  6.0 &  9 &  3.0 &  2.0 & 5.0 &  5.0 & 4.0\\\\\n",
       "\tmax &  9.0 & 13 &  8.0 &  7.0 & 9.0 &  9.0 & 9.0\\\\\n",
       "\\end{tabular}\n"
      ],
      "text/markdown": [
       "\n",
       "A matrix: 4 × 7 of type dbl\n",
       "\n",
       "| min | -1.0 |  5 | -3.0 | -2.0 | 2.0 | -3.0 | 1.0 |\n",
       "| mean |  4.8 |  9 |  2.2 |  2.4 | 5.4 |  4.6 | 4.6 |\n",
       "| median |  6.0 |  9 |  3.0 |  2.0 | 5.0 |  5.0 | 4.0 |\n",
       "| max |  9.0 | 13 |  8.0 |  7.0 | 9.0 |  9.0 | 9.0 |\n",
       "\n"
      ],
      "text/plain": [
       "       [,1] [,2] [,3] [,4] [,5] [,6] [,7]\n",
       "min    -1.0  5   -3.0 -2.0 2.0  -3.0 1.0 \n",
       "mean    4.8  9    2.2  2.4 5.4   4.6 4.6 \n",
       "median  6.0  9    3.0  2.0 5.0   5.0 4.0 \n",
       "max     9.0 13    8.0  7.0 9.0   9.0 9.0 "
      ]
     },
     "metadata": {},
     "output_type": "display_data"
    }
   ],
   "source": [
    "# temp is already available in the workspace\n",
    "\n",
    "# Definition of the basics() function\n",
    "basics <- function(x) {\n",
    "  c(min = min(x), mean = mean(x), median = median(x), max = max(x))\n",
    "}\n",
    "\n",
    "# Fix the error:\n",
    "vapply(temp, basics, numeric(4))\n"
   ]
  },
  {
   "cell_type": "markdown",
   "metadata": {},
   "source": [
    "### From sapply to vapply\n",
    "\n",
    "As highlighted before,\n",
    "[`vapply()`](https://www.rdocumentation.org/packages/base/functions/lapply)\n",
    "can be considered a more robust version of\n",
    "[`sapply()`](https://www.rdocumentation.org/packages/base/functions/lapply),\n",
    "because you explicitly restrict the output of the function you want to\n",
    "apply. Converting your\n",
    "[`sapply()`](https://www.rdocumentation.org/packages/base/functions/lapply)\n",
    "expressions in your own R scripts to\n",
    "[`vapply()`](https://www.rdocumentation.org/packages/base/functions/lapply)\n",
    "expressions is therefore a good practice (and also a breeze!).\n",
    "\n",
    "Convert all the\n",
    "[`sapply()`](https://www.rdocumentation.org/packages/base/functions/lapply)\n",
    "expressions on the right to their\n",
    "[`vapply()`](https://www.rdocumentation.org/packages/base/functions/lapply)\n",
    "counterparts. Their results should be exactly the same; you're only\n",
    "adding robustness. You'll need the templates `numeric(1)` and\n",
    "`logical(1)`.\n"
   ]
  },
  {
   "cell_type": "code",
   "execution_count": 44,
   "metadata": {},
   "outputs": [
    {
     "data": {
      "text/html": [
       "<style>\n",
       ".list-inline {list-style: none; margin:0; padding: 0}\n",
       ".list-inline>li {display: inline-block}\n",
       ".list-inline>li:not(:last-child)::after {content: \"\\00b7\"; padding: 0 .5ex}\n",
       "</style>\n",
       "<ol class=list-inline><li>9</li><li>13</li><li>8</li><li>7</li><li>9</li><li>9</li><li>9</li></ol>\n"
      ],
      "text/latex": [
       "\\begin{enumerate*}\n",
       "\\item 9\n",
       "\\item 13\n",
       "\\item 8\n",
       "\\item 7\n",
       "\\item 9\n",
       "\\item 9\n",
       "\\item 9\n",
       "\\end{enumerate*}\n"
      ],
      "text/markdown": [
       "1. 9\n",
       "2. 13\n",
       "3. 8\n",
       "4. 7\n",
       "5. 9\n",
       "6. 9\n",
       "7. 9\n",
       "\n",
       "\n"
      ],
      "text/plain": [
       "[1]  9 13  8  7  9  9  9"
      ]
     },
     "metadata": {},
     "output_type": "display_data"
    },
    {
     "data": {
      "text/html": [
       "<style>\n",
       ".list-inline {list-style: none; margin:0; padding: 0}\n",
       ".list-inline>li {display: inline-block}\n",
       ".list-inline>li:not(:last-child)::after {content: \"\\00b7\"; padding: 0 .5ex}\n",
       "</style>\n",
       "<ol class=list-inline><li>FALSE</li><li>TRUE</li><li>FALSE</li><li>FALSE</li><li>TRUE</li><li>FALSE</li><li>FALSE</li></ol>\n"
      ],
      "text/latex": [
       "\\begin{enumerate*}\n",
       "\\item FALSE\n",
       "\\item TRUE\n",
       "\\item FALSE\n",
       "\\item FALSE\n",
       "\\item TRUE\n",
       "\\item FALSE\n",
       "\\item FALSE\n",
       "\\end{enumerate*}\n"
      ],
      "text/markdown": [
       "1. FALSE\n",
       "2. TRUE\n",
       "3. FALSE\n",
       "4. FALSE\n",
       "5. TRUE\n",
       "6. FALSE\n",
       "7. FALSE\n",
       "\n",
       "\n"
      ],
      "text/plain": [
       "[1] FALSE  TRUE FALSE FALSE  TRUE FALSE FALSE"
      ]
     },
     "metadata": {},
     "output_type": "display_data"
    }
   ],
   "source": [
    "# temp is already defined in the workspace\n",
    "\n",
    "# Convert to vapply() expression\n",
    "vapply(temp, max, numeric(1))\n",
    "\n",
    "# Convert to vapply() expression\n",
    "vapply(temp, function(x, y) { mean(x) > y }, logical(1), y = 5)\n"
   ]
  },
  {
   "cell_type": "markdown",
   "metadata": {},
   "source": [
    "# Utilities\n",
    "\n",
    "Mastering R programming is not only about understanding its programming concepts. Having a solid understanding of a wide range of R functions is also important. This chapter introduces you to many useful functions for data structure manipulation, regular expressions, and working with times and dates.\n",
    "\n",
    "## Useful Functions\n",
    "\n",
    "### Mathematical utilities\n",
    "\n",
    "Have another look at some useful math functions that R features:\n",
    "\n",
    "-   [`abs()`](https://www.rdocumentation.org/packages/base/functions/MathFun):\n",
    "    Calculate the absolute value.\n",
    "-   [`sum()`](https://www.rdocumentation.org/packages/base/functions/sum):\n",
    "    Calculate the sum of all the values in a data structure.\n",
    "-   [`mean()`](https://www.rdocumentation.org/packages/base/functions/mean):\n",
    "    Calculate the arithmetic mean.\n",
    "-   [`round()`](https://www.rdocumentation.org/packages/base/functions/round):\n",
    "    Round the values to 0 decimal places by default. Try out `?round` in\n",
    "    the console for variations of\n",
    "    [`round()`](https://www.rdocumentation.org/packages/base/functions/round)\n",
    "    and ways to change the number of digits to round to.\n",
    "\n",
    "As a data scientist in training, you've estimated a regression model on\n",
    "the sales data for the past six months. After evaluating your model, you\n",
    "see that the training error of your model is quite regular, showing both\n",
    "positive and negative values. A vector `errors` containing the error\n",
    "values has been pre-defined for you.\n",
    "\n",
    "Calculate the sum of the absolute rounded values of the training errors.\n",
    "You can work in parts, or with a single one-liner. There's no need to\n",
    "store the result in a variable, just have R print it.\n"
   ]
  },
  {
   "cell_type": "code",
   "execution_count": 45,
   "metadata": {},
   "outputs": [
    {
     "data": {
      "text/html": [
       "29"
      ],
      "text/latex": [
       "29"
      ],
      "text/markdown": [
       "29"
      ],
      "text/plain": [
       "[1] 29"
      ]
     },
     "metadata": {},
     "output_type": "display_data"
    }
   ],
   "source": [
    "# The errors vector has already been defined for you\n",
    "errors <- c(1.9, -2.6, 4.0, -9.5, -3.4, 7.3)\n",
    "\n",
    "# Sum of absolute rounded values of errors\n",
    "sum(abs(round(errors)))\n"
   ]
  },
  {
   "cell_type": "markdown",
   "metadata": {},
   "source": [
    "### Find the error\n",
    "\n",
    "We went ahead and pre-loaded some code for you, but there's still an\n",
    "error. Can you trace it and fix it?\n",
    "\n",
    "In times of despair, help with functions such as\n",
    "[`sum()`](https://www.rdocumentation.org/packages/base/functions/sum)\n",
    "and\n",
    "[`rev()`](https://www.rdocumentation.org/packages/base/functions/rev)\n",
    "are a single command away; simply execute the code `?sum` and `?rev`.\n",
    "\n",
    "Fix the error by *including* code on the last line. Remember: you want\n",
    "to call\n",
    "[`mean()`](https://www.rdocumentation.org/packages/base/functions/mean)\n",
    "only once!\n"
   ]
  },
  {
   "cell_type": "code",
   "execution_count": 46,
   "metadata": {},
   "outputs": [
    {
     "data": {
      "text/html": [
       "4.48"
      ],
      "text/latex": [
       "4.48"
      ],
      "text/markdown": [
       "4.48"
      ],
      "text/plain": [
       "[1] 4.48"
      ]
     },
     "metadata": {},
     "output_type": "display_data"
    }
   ],
   "source": [
    "# Don't edit these two lines\n",
    "vec1 <- c(1.5, 2.5, 8.4, 3.7, 6.3)\n",
    "vec2 <- rev(vec1)\n",
    "\n",
    "# Fix the error\n",
    "mean(c(abs(vec1), abs(vec2)))\n"
   ]
  },
  {
   "cell_type": "markdown",
   "metadata": {},
   "source": [
    "### Data Utilities\n",
    "\n",
    "R features a bunch of functions to juggle around with data structures::\n",
    "\n",
    "-   [`seq()`](https://www.rdocumentation.org/packages/base/functions/seq):\n",
    "    Generate sequences, by specifying the `from`, `to`, and `by`\n",
    "    arguments.\n",
    "-   [`rep()`](https://www.rdocumentation.org/packages/base/functions/rep):\n",
    "    Replicate elements of vectors and lists.\n",
    "-   [`sort()`](https://www.rdocumentation.org/packages/base/functions/sort):\n",
    "    Sort a vector in ascending order. Works on numerics, but also on\n",
    "    character strings and logicals.\n",
    "-   [`rev()`](https://www.rdocumentation.org/packages/base/functions/rev):\n",
    "    Reverse the elements in a data structures for which reversal is\n",
    "    defined.\n",
    "-   [`str()`](https://www.rdocumentation.org/packages/utils/functions/str):\n",
    "    Display the structure of any R object.\n",
    "-   [`append()`](https://www.rdocumentation.org/packages/base/functions/append):\n",
    "    Merge vectors or lists.\n",
    "-   `is.*()`: Check for the class of an R object.\n",
    "-   `as.*()`: Convert an R object from one class to another.\n",
    "-   [`unlist()`](https://www.rdocumentation.org/packages/base/functions/unlist):\n",
    "    Flatten (possibly embedded) lists to produce a vector.\n",
    "\n",
    "Remember the social media profile views data? Your LinkedIn and Facebook\n",
    "view counts for the last seven days have been pre-defined as lists.\n",
    "\n",
    "-   Convert both `linkedin` and `facebook` lists to a vector, and store\n",
    "    them as `li_vec` and `fb_vec` respectively.\n",
    "-   Next, append `fb_vec` to the `li_vec` (Facebook data comes last).\n",
    "    Save the result as `social_vec`.\n",
    "-   Finally, sort `social_vec` *from high to low*. Print the resulting\n",
    "    vector.\n"
   ]
  },
  {
   "cell_type": "code",
   "execution_count": 47,
   "metadata": {},
   "outputs": [
    {
     "data": {
      "text/html": [
       "<style>\n",
       ".list-inline {list-style: none; margin:0; padding: 0}\n",
       ".list-inline>li {display: inline-block}\n",
       ".list-inline>li:not(:last-child)::after {content: \"\\00b7\"; padding: 0 .5ex}\n",
       "</style>\n",
       "<ol class=list-inline><li>17</li><li>17</li><li>16</li><li>16</li><li>14</li><li>14</li><li>13</li><li>13</li><li>9</li><li>8</li><li>7</li><li>5</li><li>5</li><li>2</li></ol>\n"
      ],
      "text/latex": [
       "\\begin{enumerate*}\n",
       "\\item 17\n",
       "\\item 17\n",
       "\\item 16\n",
       "\\item 16\n",
       "\\item 14\n",
       "\\item 14\n",
       "\\item 13\n",
       "\\item 13\n",
       "\\item 9\n",
       "\\item 8\n",
       "\\item 7\n",
       "\\item 5\n",
       "\\item 5\n",
       "\\item 2\n",
       "\\end{enumerate*}\n"
      ],
      "text/markdown": [
       "1. 17\n",
       "2. 17\n",
       "3. 16\n",
       "4. 16\n",
       "5. 14\n",
       "6. 14\n",
       "7. 13\n",
       "8. 13\n",
       "9. 9\n",
       "10. 8\n",
       "11. 7\n",
       "12. 5\n",
       "13. 5\n",
       "14. 2\n",
       "\n",
       "\n"
      ],
      "text/plain": [
       " [1] 17 17 16 16 14 14 13 13  9  8  7  5  5  2"
      ]
     },
     "metadata": {},
     "output_type": "display_data"
    }
   ],
   "source": [
    "# The linkedin and facebook lists have already been created for you\n",
    "linkedin <- list(16, 9, 13, 5, 2, 17, 14)\n",
    "facebook <- list(17, 7, 5, 16, 8, 13, 14)\n",
    "\n",
    "# Convert linkedin and facebook to a vector: li_vec and fb_vec\n",
    "li_vec <- unlist(linkedin)\n",
    "fb_vec <- unlist(facebook)\n",
    "\n",
    "# Append fb_vec to li_vec: social_vec\n",
    "social_vec <- append(li_vec, fb_vec)\n",
    "\n",
    "# Sort social_vec\n",
    "sort(social_vec, decreasing = TRUE)\n"
   ]
  },
  {
   "cell_type": "markdown",
   "metadata": {},
   "source": [
    "### Find the error (2)\n",
    "\n",
    "Just as before, let's switch roles. It's up to you to see what\n",
    "unforgivable mistakes we've made. Go fix them!\n",
    "\n",
    "Correct the expression. Make sure that your fix still uses the functions\n",
    "[`rep()`](https://www.rdocumentation.org/packages/base/functions/rep)\n",
    "and\n",
    "[`seq()`](https://www.rdocumentation.org/packages/base/functions/seq).\n"
   ]
  },
  {
   "cell_type": "code",
   "execution_count": 48,
   "metadata": {},
   "outputs": [
    {
     "data": {
      "text/html": [
       "<style>\n",
       ".list-inline {list-style: none; margin:0; padding: 0}\n",
       ".list-inline>li {display: inline-block}\n",
       ".list-inline>li:not(:last-child)::after {content: \"\\00b7\"; padding: 0 .5ex}\n",
       "</style>\n",
       "<ol class=list-inline><li>1</li><li>3</li><li>5</li><li>7</li><li>1</li><li>3</li><li>5</li><li>7</li><li>1</li><li>3</li><li>5</li><li>7</li><li>1</li><li>3</li><li>5</li><li>7</li><li>1</li><li>3</li><li>5</li><li>7</li><li>1</li><li>3</li><li>5</li><li>7</li><li>1</li><li>3</li><li>5</li><li>7</li></ol>\n"
      ],
      "text/latex": [
       "\\begin{enumerate*}\n",
       "\\item 1\n",
       "\\item 3\n",
       "\\item 5\n",
       "\\item 7\n",
       "\\item 1\n",
       "\\item 3\n",
       "\\item 5\n",
       "\\item 7\n",
       "\\item 1\n",
       "\\item 3\n",
       "\\item 5\n",
       "\\item 7\n",
       "\\item 1\n",
       "\\item 3\n",
       "\\item 5\n",
       "\\item 7\n",
       "\\item 1\n",
       "\\item 3\n",
       "\\item 5\n",
       "\\item 7\n",
       "\\item 1\n",
       "\\item 3\n",
       "\\item 5\n",
       "\\item 7\n",
       "\\item 1\n",
       "\\item 3\n",
       "\\item 5\n",
       "\\item 7\n",
       "\\end{enumerate*}\n"
      ],
      "text/markdown": [
       "1. 1\n",
       "2. 3\n",
       "3. 5\n",
       "4. 7\n",
       "5. 1\n",
       "6. 3\n",
       "7. 5\n",
       "8. 7\n",
       "9. 1\n",
       "10. 3\n",
       "11. 5\n",
       "12. 7\n",
       "13. 1\n",
       "14. 3\n",
       "15. 5\n",
       "16. 7\n",
       "17. 1\n",
       "18. 3\n",
       "19. 5\n",
       "20. 7\n",
       "21. 1\n",
       "22. 3\n",
       "23. 5\n",
       "24. 7\n",
       "25. 1\n",
       "26. 3\n",
       "27. 5\n",
       "28. 7\n",
       "\n",
       "\n"
      ],
      "text/plain": [
       " [1] 1 3 5 7 1 3 5 7 1 3 5 7 1 3 5 7 1 3 5 7 1 3 5 7 1 3 5 7"
      ]
     },
     "metadata": {},
     "output_type": "display_data"
    }
   ],
   "source": [
    "# Fix me\n",
    "rep(seq(1, 7, by = 2), times = 7)\n"
   ]
  },
  {
   "cell_type": "markdown",
   "metadata": {},
   "source": [
    "### Beat Gauss using R\n",
    "\n",
    "There is a popular story about young Gauss. As a pupil, he had a lazy\n",
    "teacher who wanted to keep the classroom busy by having them add up the\n",
    "numbers 1 to 100. Gauss came up with an answer almost instantaneously,\n",
    "5050. On the spot, he had developed a formula for calculating the sum of\n",
    "an arithmetic series. There are more general formulas for calculating\n",
    "the sum of an arithmetic series with different starting values and\n",
    "increments. Instead of deriving such a formula, why not use R to\n",
    "calculate the sum of a sequence?\n",
    "\n",
    "-   Using the function\n",
    "    [`seq()`](https://www.rdocumentation.org/packages/base/functions/seq),\n",
    "    create a sequence that ranges from 1 to 500 in increments of 3.\n",
    "    Assign the resulting vector to a variable `seq1`.\n",
    "-   Again with the function\n",
    "    [`seq()`](https://www.rdocumentation.org/packages/base/functions/seq),\n",
    "    create a sequence that ranges from 1200 to 900 in increments of -7.\n",
    "    Assign it to a variable `seq2`.\n",
    "-   Calculate the total sum of the sequences, either by using the\n",
    "    [`sum()`](https://www.rdocumentation.org/packages/base/functions/sum)\n",
    "    function twice and adding the two results, or by first concatenating\n",
    "    the sequences and then using the\n",
    "    [`sum()`](https://www.rdocumentation.org/packages/base/functions/sum)\n",
    "    function once. Print the result to the console.\n"
   ]
  },
  {
   "cell_type": "code",
   "execution_count": 49,
   "metadata": {},
   "outputs": [
    {
     "data": {
      "text/html": [
       "87029"
      ],
      "text/latex": [
       "87029"
      ],
      "text/markdown": [
       "87029"
      ],
      "text/plain": [
       "[1] 87029"
      ]
     },
     "metadata": {},
     "output_type": "display_data"
    }
   ],
   "source": [
    "# Create first sequence: seq1\n",
    "seq1 <- seq(1, 500, by = 3)\n",
    "\n",
    "# Create second sequence: seq2\n",
    "seq2 <- seq(1200, 900, by = -7)\n",
    "\n",
    "# Calculate total sum of the sequences\n",
    "sum(seq1) + sum(seq2)\n"
   ]
  },
  {
   "cell_type": "markdown",
   "metadata": {},
   "source": [
    "## Regular Expressions\n",
    "\n",
    "### grepl & grep\n",
    "\n",
    "In their most basic form, regular expressions can be used to see whether\n",
    "a pattern exists inside a character string or a vector of character\n",
    "strings. For this purpose, you can use:\n",
    "\n",
    "-   [`grepl()`](https://www.rdocumentation.org/packages/base/functions/grep),\n",
    "    which returns `TRUE` when a pattern is found in the corresponding\n",
    "    character string.\n",
    "-   [`grep()`](https://www.rdocumentation.org/packages/base/functions/grep),\n",
    "    which returns a vector of indices of the character strings that\n",
    "    contains the pattern.\n",
    "\n",
    "Both functions need a `pattern` and an `x` argument, where `pattern` is\n",
    "the regular expression you want to match for, and the `x` argument is\n",
    "the character vector from which matches should be sought.\n",
    "\n",
    "In this and the following exercises, you'll be querying and manipulating\n",
    "a character vector of email addresses! The vector `emails` has been\n",
    "pre-defined so you can begin with the instructions straight away!\n",
    "\n",
    "-   Use\n",
    "    [`grepl()`](https://www.rdocumentation.org/packages/base/functions/grep)\n",
    "    to generate a vector of logicals that indicates whether these email\n",
    "    addresses contain `\"edu\"`. Print the result to the output.\n",
    "-   Do the same thing with\n",
    "    [`grep()`](https://www.rdocumentation.org/packages/base/functions/grep),\n",
    "    but this time save the resulting indexes in a variable `hits`.\n",
    "-   Use the variable `hits` to select from the `emails` vector only the\n",
    "    emails that contain `\"edu\"`.\n"
   ]
  },
  {
   "cell_type": "code",
   "execution_count": 50,
   "metadata": {},
   "outputs": [
    {
     "data": {
      "text/html": [
       "<style>\n",
       ".list-inline {list-style: none; margin:0; padding: 0}\n",
       ".list-inline>li {display: inline-block}\n",
       ".list-inline>li:not(:last-child)::after {content: \"\\00b7\"; padding: 0 .5ex}\n",
       "</style>\n",
       "<ol class=list-inline><li>TRUE</li><li>TRUE</li><li>FALSE</li><li>TRUE</li><li>TRUE</li><li>FALSE</li></ol>\n"
      ],
      "text/latex": [
       "\\begin{enumerate*}\n",
       "\\item TRUE\n",
       "\\item TRUE\n",
       "\\item FALSE\n",
       "\\item TRUE\n",
       "\\item TRUE\n",
       "\\item FALSE\n",
       "\\end{enumerate*}\n"
      ],
      "text/markdown": [
       "1. TRUE\n",
       "2. TRUE\n",
       "3. FALSE\n",
       "4. TRUE\n",
       "5. TRUE\n",
       "6. FALSE\n",
       "\n",
       "\n"
      ],
      "text/plain": [
       "[1]  TRUE  TRUE FALSE  TRUE  TRUE FALSE"
      ]
     },
     "metadata": {},
     "output_type": "display_data"
    },
    {
     "data": {
      "text/html": [
       "<style>\n",
       ".list-inline {list-style: none; margin:0; padding: 0}\n",
       ".list-inline>li {display: inline-block}\n",
       ".list-inline>li:not(:last-child)::after {content: \"\\00b7\"; padding: 0 .5ex}\n",
       "</style>\n",
       "<ol class=list-inline><li>'john.doe@ivyleague.edu'</li><li>'education@world.gov'</li><li>'invalid.edu'</li><li>'quant@bigdatacollege.edu'</li></ol>\n"
      ],
      "text/latex": [
       "\\begin{enumerate*}\n",
       "\\item 'john.doe@ivyleague.edu'\n",
       "\\item 'education@world.gov'\n",
       "\\item 'invalid.edu'\n",
       "\\item 'quant@bigdatacollege.edu'\n",
       "\\end{enumerate*}\n"
      ],
      "text/markdown": [
       "1. 'john.doe@ivyleague.edu'\n",
       "2. 'education@world.gov'\n",
       "3. 'invalid.edu'\n",
       "4. 'quant@bigdatacollege.edu'\n",
       "\n",
       "\n"
      ],
      "text/plain": [
       "[1] \"john.doe@ivyleague.edu\"   \"education@world.gov\"     \n",
       "[3] \"invalid.edu\"              \"quant@bigdatacollege.edu\""
      ]
     },
     "metadata": {},
     "output_type": "display_data"
    }
   ],
   "source": [
    "# The emails vector has already been defined for you\n",
    "emails <- c(\"john.doe@ivyleague.edu\", \"education@world.gov\", \"dalai.lama@peace.org\",\n",
    "            \"invalid.edu\", \"quant@bigdatacollege.edu\", \"cookie.monster@sesame.tv\")\n",
    "\n",
    "# Use grepl() to match for \"edu\"\n",
    "grepl(\"edu\", emails)\n",
    "\n",
    "# Use grep() to match for \"edu\", save result to hits\n",
    "hits <- grep(\"edu\", emails)\n",
    "\n",
    "# Subset emails using hits\n",
    "emails[hits]\n"
   ]
  },
  {
   "cell_type": "markdown",
   "metadata": {},
   "source": [
    "### grepl & grep (2)\n",
    "\n",
    "You can use the caret, `^`, and the dollar sign, `$` to match the\n",
    "content located in the start and end of a string, respectively. This\n",
    "could take us one step closer to a correct pattern for matching only the\n",
    "\".edu\" email addresses from our list of emails. But there's more that\n",
    "can be added to make the pattern more robust:\n",
    "\n",
    "-   `@`, because a valid email must contain an at-sign.\n",
    "-   `.*`, which matches any character (.) zero or more times (\\*). Both\n",
    "    the dot and the asterisk are metacharacters. You can use them to\n",
    "    match any character between the at-sign and the \".edu\" portion of an\n",
    "    email address.\n",
    "-   `\\\\.edu$`, to match the \".edu\" part of the email at the end of the\n",
    "    string. The `\\\\` part *escapes* the dot: it tells R that you want to\n",
    "    use the `.` as an actual character.\n",
    "\n",
    "<!-- -->\n",
    "\n",
    "-   Use\n",
    "    [`grepl()`](https://www.rdocumentation.org/packages/base/functions/grep)\n",
    "    with the more advanced regular expression to return a logical\n",
    "    vector. Simply print the result.\n",
    "-   Do a similar thing with\n",
    "    [`grep()`](https://www.rdocumentation.org/packages/base/functions/grep)\n",
    "    to create a vector of indices. Store the result in the variable\n",
    "    `hits`.\n",
    "-   Use `emails[hits]` again to subset the `emails` vector.\n"
   ]
  },
  {
   "cell_type": "code",
   "execution_count": 51,
   "metadata": {},
   "outputs": [
    {
     "data": {
      "text/html": [
       "<style>\n",
       ".list-inline {list-style: none; margin:0; padding: 0}\n",
       ".list-inline>li {display: inline-block}\n",
       ".list-inline>li:not(:last-child)::after {content: \"\\00b7\"; padding: 0 .5ex}\n",
       "</style>\n",
       "<ol class=list-inline><li>TRUE</li><li>FALSE</li><li>FALSE</li><li>FALSE</li><li>TRUE</li><li>FALSE</li></ol>\n"
      ],
      "text/latex": [
       "\\begin{enumerate*}\n",
       "\\item TRUE\n",
       "\\item FALSE\n",
       "\\item FALSE\n",
       "\\item FALSE\n",
       "\\item TRUE\n",
       "\\item FALSE\n",
       "\\end{enumerate*}\n"
      ],
      "text/markdown": [
       "1. TRUE\n",
       "2. FALSE\n",
       "3. FALSE\n",
       "4. FALSE\n",
       "5. TRUE\n",
       "6. FALSE\n",
       "\n",
       "\n"
      ],
      "text/plain": [
       "[1]  TRUE FALSE FALSE FALSE  TRUE FALSE"
      ]
     },
     "metadata": {},
     "output_type": "display_data"
    },
    {
     "data": {
      "text/html": [
       "<style>\n",
       ".list-inline {list-style: none; margin:0; padding: 0}\n",
       ".list-inline>li {display: inline-block}\n",
       ".list-inline>li:not(:last-child)::after {content: \"\\00b7\"; padding: 0 .5ex}\n",
       "</style>\n",
       "<ol class=list-inline><li>'john.doe@ivyleague.edu'</li><li>'quant@bigdatacollege.edu'</li></ol>\n"
      ],
      "text/latex": [
       "\\begin{enumerate*}\n",
       "\\item 'john.doe@ivyleague.edu'\n",
       "\\item 'quant@bigdatacollege.edu'\n",
       "\\end{enumerate*}\n"
      ],
      "text/markdown": [
       "1. 'john.doe@ivyleague.edu'\n",
       "2. 'quant@bigdatacollege.edu'\n",
       "\n",
       "\n"
      ],
      "text/plain": [
       "[1] \"john.doe@ivyleague.edu\"   \"quant@bigdatacollege.edu\""
      ]
     },
     "metadata": {},
     "output_type": "display_data"
    }
   ],
   "source": [
    "# The emails vector has already been defined for you\n",
    "emails <- c(\"john.doe@ivyleague.edu\", \"education@world.gov\", \"dalai.lama@peace.org\",\n",
    "            \"invalid.edu\", \"quant@bigdatacollege.edu\", \"cookie.monster@sesame.tv\")\n",
    "\n",
    "# Use grepl() to match for .edu addresses more robustly\n",
    "grepl(\"@.*\\\\.edu$\", emails)\n",
    "\n",
    "# Use grep() to match for .edu addresses more robustly, save result to hits\n",
    "hits <- grep(\"@.*\\\\.edu$\", emails)\n",
    "\n",
    "# Subset emails using hits\n",
    "emails[hits]\n"
   ]
  },
  {
   "cell_type": "markdown",
   "metadata": {},
   "source": [
    "### sub & gsub\n",
    "\n",
    "While\n",
    "[`grep()`](https://www.rdocumentation.org/packages/base/functions/grep)\n",
    "and\n",
    "[`grepl()`](https://www.rdocumentation.org/packages/base/functions/grep)\n",
    "were used to simply check whether a regular expression could be matched\n",
    "with a character vector,\n",
    "[`sub()`](https://www.rdocumentation.org/packages/base/functions/grep)\n",
    "and\n",
    "[`gsub()`](https://www.rdocumentation.org/packages/base/functions/grep)\n",
    "take it one step further: you can specify a `replacement` argument. If\n",
    "inside the character vector `x`, the regular expression `pattern` is\n",
    "found, the matching element(s) will be replaced with `replacement`.\n",
    "[`sub()`](https://www.rdocumentation.org/packages/base/functions/grep)\n",
    "only replaces the first match, whereas\n",
    "[`gsub()`](https://www.rdocumentation.org/packages/base/functions/grep)\n",
    "replaces all matches.\n",
    "\n",
    "Suppose that `emails` vector you've been working with is an excerpt of\n",
    "DataCamp's email database. Why not offer the owners of the .edu email\n",
    "addresses a new email address on the datacamp.edu domain? This could be\n",
    "quite a powerful marketing stunt: Online education is taking over\n",
    "traditional learning institutions! Convert your email and be a part of\n",
    "the new generation!\n",
    "\n",
    "With the advanced regular expression `\"@.*\\\\.edu$\"`, use `sub()` to\n",
    "replace the match with `\"@datacamp.edu\"`. Since there will only be one\n",
    "match per character string, `gsub()` is not necessary here. Inspect the\n",
    "resulting output.\n"
   ]
  },
  {
   "cell_type": "code",
   "execution_count": 52,
   "metadata": {},
   "outputs": [
    {
     "data": {
      "text/html": [
       "<style>\n",
       ".list-inline {list-style: none; margin:0; padding: 0}\n",
       ".list-inline>li {display: inline-block}\n",
       ".list-inline>li:not(:last-child)::after {content: \"\\00b7\"; padding: 0 .5ex}\n",
       "</style>\n",
       "<ol class=list-inline><li>'john.doe@datacamp.edu'</li><li>'education@world.gov'</li><li>'global@peace.org'</li><li>'invalid.edu'</li><li>'quant@datacamp.edu'</li><li>'cookie.monster@sesame.tv'</li></ol>\n"
      ],
      "text/latex": [
       "\\begin{enumerate*}\n",
       "\\item 'john.doe@datacamp.edu'\n",
       "\\item 'education@world.gov'\n",
       "\\item 'global@peace.org'\n",
       "\\item 'invalid.edu'\n",
       "\\item 'quant@datacamp.edu'\n",
       "\\item 'cookie.monster@sesame.tv'\n",
       "\\end{enumerate*}\n"
      ],
      "text/markdown": [
       "1. 'john.doe@datacamp.edu'\n",
       "2. 'education@world.gov'\n",
       "3. 'global@peace.org'\n",
       "4. 'invalid.edu'\n",
       "5. 'quant@datacamp.edu'\n",
       "6. 'cookie.monster@sesame.tv'\n",
       "\n",
       "\n"
      ],
      "text/plain": [
       "[1] \"john.doe@datacamp.edu\"    \"education@world.gov\"     \n",
       "[3] \"global@peace.org\"         \"invalid.edu\"             \n",
       "[5] \"quant@datacamp.edu\"       \"cookie.monster@sesame.tv\""
      ]
     },
     "metadata": {},
     "output_type": "display_data"
    }
   ],
   "source": [
    "# The emails vector has already been defined for you\n",
    "emails <- c(\"john.doe@ivyleague.edu\", \"education@world.gov\", \"global@peace.org\",\n",
    "            \"invalid.edu\", \"quant@bigdatacollege.edu\", \"cookie.monster@sesame.tv\")\n",
    "\n",
    "# Use sub() to convert the email domains to datacamp.edu\n",
    "sub(\"@.*\\\\.edu$\", \"@datacamp.edu\", emails)\n"
   ]
  },
  {
   "cell_type": "markdown",
   "metadata": {},
   "source": [
    "### sub & gsub (2)\n",
    "\n",
    "Regular expressions are a typical concept that you'll learn by doing and\n",
    "by seeing other examples. Before you rack your brains over the regular\n",
    "expression in this exercise, have a look at the new things that will be\n",
    "used:\n",
    "\n",
    "-   `.*`: A usual suspect! It can be read as \"any character that is\n",
    "    matched zero or more times\".\n",
    "-   `\\\\s`: Match a space. The \"s\" is normally a character, escaping it\n",
    "    (`\\\\`) makes it a metacharacter.\n",
    "-   `[0-9]+`: Match the numbers 0 to 9, at least once (+).\n",
    "-   `([0-9]+)`: The parentheses are used to make parts of the matching\n",
    "    string available to define the replacement. The `\\\\1` in the\n",
    "    `replacement` argument of\n",
    "    [`sub()`](https://www.rdocumentation.org/packages/base/functions/grep)\n",
    "    gets set to the string that is captured by the regular expression\n",
    "    `[0-9]+`.\n",
    "\n",
    "<!-- -->\n",
    "\n",
    "    awards <- c(\"Won 1 Oscar.\",\n",
    "      \"Won 1 Oscar. Another 9 wins & 24 nominations.\",\n",
    "      \"1 win and 2 nominations.\",\n",
    "      \"2 wins & 3 nominations.\",\n",
    "      \"Nominated for 2 Golden Globes. 1 more win & 2 nominations.\",\n",
    "      \"4 wins & 1 nomination.\")\n",
    "\n",
    "    sub(\".*\\\\s([0-9]+)\\\\snomination.*$\", \"\\\\1\", awards)\n",
    "\n",
    "What does this code chunk return? `awards` is already defined in the\n",
    "workspace so you can start playing in the console straight away.\n",
    "\n",
    "- [ ] A vector of integers containing: 1, 24, 2, 3, 2, 1.\n",
    "- [ ] The vector `awards` gets returned as there isn't a single element in `awards` that matches the regular expression.\n",
    "- [ ] A vector of character strings containing \"1\", \"24\", \"2\", \"3\", \"2\", \"1\".\n",
    "- [x] A vector of character strings containing \"Won 1 Oscar.\", \"24\", \"2\", \"3\", \"2\", \"1\".\n",
    "\n",
    "## Times &amp; Dates\n",
    "\n",
    "### Right here, right now\n",
    "\n",
    "In R, dates are represented by `Date` objects, while times are\n",
    "represented by `POSIXct` objects. Under the hood, however, these dates\n",
    "and times are simple numerical values. `Date` objects store the number\n",
    "of days since the 1st of January in 1970. `POSIXct` objects on the other\n",
    "hand, store the number of seconds since the 1st of January in 1970.\n",
    "\n",
    "The 1st of January in 1970 is the common origin for representing times\n",
    "and dates in a wide range of programming languages. There is no\n",
    "particular reason for this; it is a simple convention. Of course, it's\n",
    "also possible to create dates and times before 1970; the corresponding\n",
    "numerical values are simply negative in this case.\n",
    "\n",
    "-   Ask R for the current date, and store the result in a variable\n",
    "    `today`.\n",
    "-   To see what `today` looks like under the hood, call\n",
    "    [`unclass()`](https://www.rdocumentation.org/packages/base/functions/class)\n",
    "    on it.\n",
    "-   Ask R for the current time, and store the result in a variable,\n",
    "    `now`.\n",
    "-   To see the numerical value that corresponds to `now`, call\n",
    "    [`unclass()`](https://www.rdocumentation.org/packages/base/functions/class)\n",
    "    on it.\n"
   ]
  },
  {
   "cell_type": "code",
   "execution_count": 53,
   "metadata": {},
   "outputs": [
    {
     "data": {
      "text/html": [
       "19443"
      ],
      "text/latex": [
       "19443"
      ],
      "text/markdown": [
       "19443"
      ],
      "text/plain": [
       "[1] 19443"
      ]
     },
     "metadata": {},
     "output_type": "display_data"
    },
    {
     "data": {
      "text/html": [
       "1679981360.61283"
      ],
      "text/latex": [
       "1679981360.61283"
      ],
      "text/markdown": [
       "1679981360.61283"
      ],
      "text/plain": [
       "[1] 1679981361"
      ]
     },
     "metadata": {},
     "output_type": "display_data"
    }
   ],
   "source": [
    "# Get the current date: today\n",
    "today <- Sys.Date()\n",
    "\n",
    "# See what today looks like under the hood\n",
    "unclass(today)\n",
    "\n",
    "# Get the current time: now\n",
    "now <- Sys.time()\n",
    "\n",
    "# See what now looks like under the hood\n",
    "unclass(now)\n"
   ]
  },
  {
   "cell_type": "markdown",
   "metadata": {},
   "source": [
    "### Create and format dates\n",
    "\n",
    "To create a `Date` object from a simple character string in R, you can\n",
    "use the\n",
    "[`as.Date()`](https://www.rdocumentation.org/packages/base/functions/as.Date)\n",
    "function. The character string has to obey a format that can be defined\n",
    "using a set of symbols (the examples correspond to 13 January, 1982):\n",
    "\n",
    "-   `%Y`: 4-digit year (1982)\n",
    "-   `%y`: 2-digit year (82)\n",
    "-   `%m`: 2-digit month (01)\n",
    "-   `%d`: 2-digit day of the month (13)\n",
    "-   `%A`: weekday (Wednesday)\n",
    "-   `%a`: abbreviated weekday (Wed)\n",
    "-   `%B`: month (January)\n",
    "-   `%b`: abbreviated month (Jan)\n",
    "\n",
    "The following R commands will all create the same `Date` object for the\n",
    "13th day in January of 1982:\n",
    "\n",
    "    as.Date(\"1982-01-13\")\n",
    "    as.Date(\"Jan-13-82\", format = \"%b-%d-%y\")\n",
    "    as.Date(\"13 January, 1982\", format = \"%d %B, %Y\")\n",
    "\n",
    "Notice that the first line here did not need a format argument, because\n",
    "by default R matches your character string to the formats `\"%Y-%m-%d\"`\n",
    "or `\"%Y/%m/%d\"`.\n",
    "\n",
    "In addition to creating dates, you can also convert dates to character\n",
    "strings that use a different date notation. For this, you use the\n",
    "[`format()`](https://www.rdocumentation.org/packages/base/functions/format)\n",
    "function. Try the following lines of code:\n",
    "\n",
    "    today <- Sys.Date()\n",
    "    format(Sys.Date(), format = \"%d %B, %Y\")\n",
    "    format(Sys.Date(), format = \"Today is a %A!\")\n",
    "\n",
    "-   Three character strings representing dates have been created for\n",
    "    you. Convert them to dates using\n",
    "    [`as.Date()`](https://www.rdocumentation.org/packages/base/functions/as.Date),\n",
    "    and assign them to `date1`, `date2`, and `date3` respectively. The\n",
    "    code for `date1` is already included.\n",
    "-   Extract useful information from the dates as character strings using\n",
    "    [`format()`](https://www.rdocumentation.org/packages/base/functions/format).\n",
    "    From the first date, select the weekday. From the second date,\n",
    "    select the day of the month. From the third date, you should select\n",
    "    the abbreviated month and the 4-digit year, separated by a space.\n"
   ]
  },
  {
   "cell_type": "code",
   "execution_count": 54,
   "metadata": {},
   "outputs": [
    {
     "data": {
      "text/html": [
       "'Thursday'"
      ],
      "text/latex": [
       "'Thursday'"
      ],
      "text/markdown": [
       "'Thursday'"
      ],
      "text/plain": [
       "[1] \"Thursday\""
      ]
     },
     "metadata": {},
     "output_type": "display_data"
    },
    {
     "data": {
      "text/html": [
       "'15'"
      ],
      "text/latex": [
       "'15'"
      ],
      "text/markdown": [
       "'15'"
      ],
      "text/plain": [
       "[1] \"15\""
      ]
     },
     "metadata": {},
     "output_type": "display_data"
    },
    {
     "data": {
      "text/html": [
       "'Jan 2006'"
      ],
      "text/latex": [
       "'Jan 2006'"
      ],
      "text/markdown": [
       "'Jan 2006'"
      ],
      "text/plain": [
       "[1] \"Jan 2006\""
      ]
     },
     "metadata": {},
     "output_type": "display_data"
    }
   ],
   "source": [
    "# Definition of character strings representing dates\n",
    "str1 <- \"May 23, '96\"\n",
    "str2 <- \"2012-03-15\"\n",
    "str3 <- \"30/January/2006\"\n",
    "\n",
    "# Convert the strings to dates: date1, date2, date3\n",
    "date1 <- as.Date(str1, format = \"%b %d, '%y\")\n",
    "date2 <- as.Date(str2)\n",
    "date3 <- as.Date(str3, format = \"%d/%B/%Y\")\n",
    "\n",
    "# Convert dates to formatted strings\n",
    "format(date1, \"%A\")\n",
    "format(date2, \"%d\")\n",
    "format(date3, \"%b %Y\")\n"
   ]
  },
  {
   "cell_type": "markdown",
   "metadata": {},
   "source": [
    "### Create and format times\n",
    "\n",
    "Similar to working with dates, you can use\n",
    "[`as.POSIXct()`](https://www.rdocumentation.org/packages/base/functions/as.POSIXlt)\n",
    "to convert from a character string to a `POSIXct` object, and\n",
    "[`format()`](https://www.rdocumentation.org/packages/base/functions/format)\n",
    "to convert from a `POSIXct` object to a character string. Again, you\n",
    "have a wide variety of symbols:\n",
    "\n",
    "-   `%H`: hours as a decimal number (00-23)\n",
    "-   `%I`: hours as a decimal number (01-12)\n",
    "-   `%M`: minutes as a decimal number\n",
    "-   `%S`: seconds as a decimal number\n",
    "-   `%T`: shorthand notation for the typical format `%H:%M:%S`\n",
    "-   `%p`: AM/PM indicator\n",
    "\n",
    "For a full list of conversion symbols, consult the `strptime`\n",
    "documentation in the console:\n",
    "\n",
    "    ?strptime\n",
    "\n",
    "Again,[`as.POSIXct()`](https://www.rdocumentation.org/packages/base/functions/as.POSIXlt)\n",
    "uses a default format to match character strings. In this case, it's\n",
    "`%Y-%m-%d %H:%M:%S`. In this exercise, abstraction is made of different\n",
    "time zones.\n",
    "\n",
    "-   Convert two strings that represent timestamps, `str1` and `str2`, to\n",
    "    `POSIXct` objects called `time1` and `time2`.\n",
    "-   Using\n",
    "    [`format()`](https://www.rdocumentation.org/packages/base/functions/format),\n",
    "    create a string from `time1` containing only the minutes.\n",
    "-   From `time2`, extract the hours and minutes as \"hours:minutes\n",
    "    AM/PM\". Refer to the assignment text above to find the correct\n",
    "    conversion symbols!\n"
   ]
  },
  {
   "cell_type": "code",
   "execution_count": 55,
   "metadata": {},
   "outputs": [
    {
     "data": {
      "text/html": [
       "'01'"
      ],
      "text/latex": [
       "'01'"
      ],
      "text/markdown": [
       "'01'"
      ],
      "text/plain": [
       "[1] \"01\""
      ]
     },
     "metadata": {},
     "output_type": "display_data"
    },
    {
     "data": {
      "text/html": [
       "'02:23 PM'"
      ],
      "text/latex": [
       "'02:23 PM'"
      ],
      "text/markdown": [
       "'02:23 PM'"
      ],
      "text/plain": [
       "[1] \"02:23 PM\""
      ]
     },
     "metadata": {},
     "output_type": "display_data"
    }
   ],
   "source": [
    "# Definition of character strings representing times\n",
    "str1 <- \"May 23, '96 hours:23 minutes:01 seconds:45\"\n",
    "str2 <- \"2012-3-12 14:23:08\"\n",
    "\n",
    "# Convert the strings to POSIXct objects: time1, time2\n",
    "time1 <- as.POSIXct(str1, format = \"%B %d, '%y hours:%H minutes:%M seconds:%S\")\n",
    "time2 <- as.POSIXct(str2)\n",
    "\n",
    "# Convert times to formatted strings\n",
    "format(time1, \"%M\")\n",
    "format(time2, \"%I:%M %p\")\n"
   ]
  },
  {
   "cell_type": "markdown",
   "metadata": {},
   "source": [
    "### Calculations with Dates\n",
    "\n",
    "Both `Date` and `POSIXct` R objects are represented by simple numerical\n",
    "values under the hood. This makes calculation with time and date objects\n",
    "very straightforward: R performs the calculations using the underlying\n",
    "numerical values, and then converts the result back to human-readable\n",
    "time information again.\n",
    "\n",
    "You can increment and decrement `Date` objects, or do actual\n",
    "calculations with them:\n",
    "\n",
    "    today <- Sys.Date()\n",
    "    today + 1\n",
    "    today - 1\n",
    "\n",
    "    as.Date(\"2015-03-12\") - as.Date(\"2015-02-27\")\n",
    "\n",
    "To control your eating habits, you decided to write down the dates of\n",
    "the last five days that you ate pizza. In the workspace, these dates are\n",
    "defined as five `Date` objects, `day1` to `day5`. A vector `pizza`\n",
    "containing these 5 `Date` objects has been pre-defined for you.\n",
    "\n",
    "-   Calculate the number of days that passed between the last and the\n",
    "    first day you ate pizza. Print the result.\n",
    "-   Use the function\n",
    "    [`diff()`](https://www.rdocumentation.org/packages/base/functions/diff)\n",
    "    on `pizza` to calculate the differences between consecutive pizza\n",
    "    days. Store the result in a new variable `day_diff`.\n",
    "-   Calculate the average period between two consecutive pizza days.\n",
    "    Print the result.\n"
   ]
  },
  {
   "cell_type": "code",
   "execution_count": 56,
   "metadata": {},
   "outputs": [
    {
     "data": {
      "text/plain": [
       "Time difference of 18 days"
      ]
     },
     "metadata": {},
     "output_type": "display_data"
    },
    {
     "data": {
      "text/plain": [
       "Time difference of 4.5 days"
      ]
     },
     "metadata": {},
     "output_type": "display_data"
    }
   ],
   "source": [
    "# edited/added\n",
    "day1=as.Date(\"2022-02-11\")\n",
    "day2=as.Date(\"2022-02-13\")\n",
    "day3=as.Date(\"2022-02-18\")\n",
    "day4=as.Date(\"2022-02-24\")\n",
    "day5=as.Date(\"2022-03-01\")\n",
    "\n",
    "# day1, day2, day3, day4 and day5 are already available in the workspace\n",
    "\n",
    "# Difference between last and first pizza day\n",
    "day5 - day1\n",
    "\n",
    "# Create vector pizza\n",
    "pizza <- c(day1, day2, day3, day4, day5)\n",
    "\n",
    "# Create differences between consecutive pizza days: day_diff\n",
    "day_diff <- diff(pizza)\n",
    "\n",
    "# Average period between two consecutive pizza days\n",
    "mean(day_diff)\n"
   ]
  },
  {
   "cell_type": "markdown",
   "metadata": {},
   "source": [
    "### Calculations with Times\n",
    "\n",
    "Calculations using `POSIXct` objects are completely analogous to those\n",
    "using `Date` objects. Try to experiment with this code to increase or\n",
    "decrease `POSIXct` objects:\n",
    "\n",
    "    now <- Sys.time()\n",
    "    now + 3600          # add an hour\n",
    "    now - 3600 * 24     # subtract a day\n",
    "\n",
    "Adding or subtracting time objects is also straightforward:\n",
    "\n",
    "    birth <- as.POSIXct(\"1879-03-14 14:37:23\")\n",
    "    death <- as.POSIXct(\"1955-04-18 03:47:12\")\n",
    "    einstein <- death - birth\n",
    "    einstein\n",
    "\n",
    "You're developing a website that requires users to log in and out. You\n",
    "want to know what is the total and average amount of time a particular\n",
    "user spends on your website. This user has logged in 5 times and logged\n",
    "out 5 times as well. These times are gathered in the vectors `login` and\n",
    "`logout`, which are already defined in the workspace.\n",
    "\n",
    "-   Calculate the difference between the two vectors `logout` and\n",
    "    `login`, i.e. the time the user was online in each independent\n",
    "    session. Store the result in a variable `time_online`.\n",
    "-   Inspect the variable `time_online` by printing it.\n",
    "-   Calculate the total time that the user was online. Print the result.\n",
    "-   Calculate the average time the user was online. Print the result.\n"
   ]
  },
  {
   "cell_type": "code",
   "execution_count": 57,
   "metadata": {},
   "outputs": [
    {
     "data": {
      "text/plain": [
       "Time differences in secs\n",
       "[1] 2305   34  837 2398 1852"
      ]
     },
     "metadata": {},
     "output_type": "display_data"
    },
    {
     "data": {
      "text/plain": [
       "Time difference of 7426 secs"
      ]
     },
     "metadata": {},
     "output_type": "display_data"
    },
    {
     "data": {
      "text/plain": [
       "Time difference of 1485.2 secs"
      ]
     },
     "metadata": {},
     "output_type": "display_data"
    }
   ],
   "source": [
    "# edited/added\n",
    "login <- c(as.POSIXct(\"2017-03-16 10:18:04 UTC\"), \n",
    "            as.POSIXct(\"2017-03-21 09:14:18 UTC\"),\n",
    "            as.POSIXct(\"2017-03-21 12:21:51 UTC\"), \n",
    "            as.POSIXct(\"2017-03-21 12:37:24 UTC\"),\n",
    "            as.POSIXct(\"2017-03-23 21:37:55 UTC\"))\n",
    "logout <- c(as.POSIXct(\"2017-03-16 10:56:29 UTC\"),\n",
    "            as.POSIXct(\"2017-03-21 09:14:52 UTC\"),\n",
    "            as.POSIXct(\"2017-03-21 12:35:48 UTC\"), \n",
    "            as.POSIXct(\"2017-03-21 13:17:22 UTC\"),\n",
    "            as.POSIXct(\"2017-03-23 22:08:47 UTC\"))\n",
    "\n",
    "# login and logout are already defined in the workspace\n",
    "# Calculate the difference between login and logout: time_online\n",
    "time_online <- logout - login\n",
    "\n",
    "# Inspect the variable time_online\n",
    "time_online\n",
    "\n",
    "# Calculate the total time online\n",
    "sum(time_online)\n",
    "\n",
    "# Calculate the average time online\n",
    "mean(time_online)\n"
   ]
  },
  {
   "cell_type": "markdown",
   "metadata": {},
   "source": [
    "### Time is of the essence\n",
    "\n",
    "The dates when a season begins and ends can vary depending on who you\n",
    "ask. People in Australia will tell you that spring starts on September\n",
    "1st. The Irish people in the Northern hemisphere will swear that spring\n",
    "starts on February 1st, with the celebration of St. Brigid's Day. Then\n",
    "there's also the difference between astronomical and meteorological\n",
    "seasons: while astronomers are used to equinoxes and solstices,\n",
    "meteorologists divide the year into 4 fixed seasons that are each three\n",
    "months long. (source: www.timeanddate.com)\n",
    "\n",
    "A vector `astro`, which contains character strings representing the\n",
    "dates on which the 4 astronomical seasons start, has been defined on\n",
    "your workspace. Similarly, a vector `meteo` has already been created for\n",
    "you, with the meteorological beginnings of a season.\n",
    "\n",
    "-   Use `as.Date()` to convert the `astro` vector to a vector containing\n",
    "    `Date` objects. You will need the `%d`, `%b` and `%Y` symbols to\n",
    "    specify the `format`. Store the resulting vector as `astro_dates`.\n",
    "-   Use `as.Date()` to convert the `meteo` vector to a vector with\n",
    "    `Date` objects. This time, you will need the `%B`, `%d` and `%y`\n",
    "    symbols for the `format` argument. Store the resulting vector as\n",
    "    `meteo_dates`.\n",
    "-   With a combination of `max()`, `abs()` and `-`, calculate the\n",
    "    maximum absolute difference between the astronomical and the\n",
    "    meteorological beginnings of a season, i.e. `astro_dates` and\n",
    "    `meteo_dates`. Simply print this maximum difference to the console\n",
    "    output.\n"
   ]
  },
  {
   "cell_type": "code",
   "execution_count": 58,
   "metadata": {
    "tags": []
   },
   "outputs": [
    {
     "data": {
      "text/plain": [
       "Time difference of 24 days"
      ]
     },
     "metadata": {},
     "output_type": "display_data"
    }
   ],
   "source": [
    "# edited/added\n",
    "astro <- c(\"20-Mar-2015\", \"25-Jun-2015\", \"23-Sep-2015\", \"22-Dec-2015\")\n",
    "names(astro) <- c(\"spring\", \"summer\",\"fall\",\"winter\") \n",
    "meteo <- c(\"March 1, 15\", \"June 1, 15\", \"September 1, 15\", \"December 1, 15\")\n",
    "names(meteo) <- c(\"spring\", \"summer\", \"fall\", \"winter\")\n",
    "\n",
    "# Convert astro to vector of Date objects: astro_dates\n",
    "astro_dates <- as.Date(astro, format = \"%d-%b-%Y\")\n",
    "\n",
    "# Convert meteo to vector of Date objects: meteo_dates\n",
    "meteo_dates <- as.Date(meteo, format = \"%B %d, %y\")\n",
    "\n",
    "# Calculate the maximum absolute difference between astro_dates and meteo_dates\n",
    "max(abs(meteo_dates - astro_dates))\n"
   ]
  }
 ],
 "metadata": {
  "anaconda-cloud": "",
  "kernelspec": {
   "display_name": "R",
   "language": "R",
   "name": "ir"
  },
  "language_info": {
   "codemirror_mode": "r",
   "file_extension": ".r",
   "mimetype": "text/x-r-source",
   "name": "R",
   "pygments_lexer": "r",
   "version": "4.2.2"
  }
 },
 "nbformat": 4,
 "nbformat_minor": 4
}
